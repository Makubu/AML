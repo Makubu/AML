{
 "cells": [
  {
   "cell_type": "markdown",
   "metadata": {},
   "source": [
    "---\n",
    "# House Pricing Prediction\n",
    "---"
   ]
  },
  {
   "cell_type": "markdown",
   "metadata": {},
   "source": [
    "This challenge is adapted from the well-known '<i>Zillow's Home Value Prediction</i>' competition on Kaggle.\n",
    "In particular, given a dataset containing descriptions of homes on the US property market, your task is to make predictions on the selling price of as-yet unlisted properties. \n",
    "Developing a model which accurately fits the available training data while also generalising to unseen data-points is a multi-faceted challenge that involves a mixture of data exploration, pre-processing, model selection, and performance evaluation.\n",
    "\n",
    "**IMPORTANT**: please refer to the AML course guidelines concerning grading rules. Pay especially attention to the **presentation quality** item, which boils down to: don't dump a zillion of lines of code and plots in this notebook. Produce a concise summary of your findings: this notebook can exist in two versions, a \"scratch\" version that you will use to work and debug, a \"presentation\" version that you will submit. The \"presentation\" notebook should go to the point, and convay the main findings of your work."
   ]
  },
  {
   "cell_type": "markdown",
   "metadata": {},
   "source": [
    "---\n",
    "## Overview\n",
    "Beyond simply producing a well-performing model for making predictions, in this challenge we would like you to start developing your skills as a machine learning scientist.\n",
    "In this regard, your notebook should be structured in such a way as to explore the following tasks that are expected to be carried out whenever undertaking such a project.\n",
    "The description below each aspect should serve as a guide for your work, but you are strongly encouraged to also explore alternative options and directions. \n",
    "Thinking outside the box will always be rewarded in these challenges.\n",
    "\n",
    "\n",
    "### 1. Data preparation:\n",
    "   \n",
    "_Data exploration_: The first broad component of your work should enable you to familiarise yourselves with the given data, an outline of which is given at the end of this challenge specification. Among others, you can work on:\n",
    "   \n",
    "* Data cleaning, e.g. treatment of categorial variables;\n",
    "* Data visualisation; Computing descriptive statistics, e.g. correlation.\n",
    "\n",
    "_Data Pre-processing_: The previous step should give you a better understanding of which pre-processing is required for the data. This may include:\n",
    "\n",
    "* Normalising and standardising the given data;\n",
    "* Removing outliers;\n",
    "* Carrying out feature selection, possibly using metrics derived from information theory;\n",
    "* Handling missing information in the dataset;\n",
    "* Augmenting the dataset with external information;\n",
    "* Combining existing features.\n",
    "\n",
    "### 2. Model selection\n",
    "An important part of the work involves the selection of a model that can successfully handle the given data and yield sensible predictions. Instead of focusing exclusively on your final chosen model, it is also important to share your thought process in this notebook by additionally describing alternative candidate models. There is a wealth of models to choose from, such as decision trees, random forests, (Bayesian) neural networks, Gaussian processes, LASSO regression, and so on. \n",
    "\n",
    "Irrespective of your choice, it is highly likely that your model will have one or more parameters that require tuning. There are several techniques for carrying out such a procedure, such as cross-validation.\n",
    "\n",
    "### 3. Performance Evaluation\n",
    "The evaluation method for this challenge is the root mean squared error between the logarithm of the predicted value and the logarithm of the observed sales price. Taking logs ensures that errors in predicting expensive houses and cheap houses will have a similar impact on the overall result."
   ]
  },
  {
   "cell_type": "markdown",
   "metadata": {},
   "source": [
    "---\n",
    "## Dataset Description"
   ]
  },
  {
   "cell_type": "markdown",
   "metadata": {},
   "source": [
    "#### Files\n",
    "You will be working on two data files, which will be available in ```/mnt/datasets/house/```:\n",
    "\n",
    "* train.csv - The training dataset;\n",
    "* test.csv - The test dataset;\n",
    "* data_description.txt - Full description of each column.\n",
    "\n",
    "#### Attributes\n",
    "\n",
    "A brief outline of the available attributes is given below:\n",
    "\n",
    "* <i>SalePrice</i>: The property's sale price in dollars. This is the target variable that your model is intended to predict;\n",
    "\n",
    "* <i>MSSubClass</i>: The building class;\n",
    "* <i>MSZoning</i>: The general zoning classification;\n",
    "* <i>LotFrontage</i>: Linear feet of street connected to property;\n",
    "* <i>LotArea</i>: Lot size in square feet;\n",
    "* <i>Street</i>: Type of road access;\n",
    "* <i>Alley</i>: Type of alley access;\n",
    "* <i>LotShape</i>: General shape of property;\n",
    "* <i>LandContour</i>: Flatness of the property;\n",
    "* <i>Utilities</i>: Type of utilities available;\n",
    "* <i>LotConfig</i>: Lot configuration;\n",
    "* <i>LandSlope</i>: Slope of property;\n",
    "* <i>Neighborhood</i>: Physical locations within Ames city limits;\n",
    "* <i>Condition1</i>: Proximity to main road or railroad;\n",
    "* <i>Condition2</i>: Proximity to main road or railroad (if a second is present);\n",
    "* <i>BldgType</i>: Type of dwelling;\n",
    "* <i>HouseStyle</i>: Style of dwelling;\n",
    "* <i>OverallQual</i>: Overall material and finish quality;\n",
    "* <i>OverallCond</i>: Overall condition rating;\n",
    "* <i>YearBuilt</i>: Original construction date;\n",
    "* <i>YearRemodAdd</i>: Remodel date;\n",
    "* <i>RoofStyle</i>: Type of roof;\n",
    "* <i>RoofMatl</i>: Roof material;\n",
    "* <i>Exterior1st</i>: Exterior covering on house;\n",
    "* <i>Exterior2nd</i>: Exterior covering on house (if more than one material);\n",
    "* <i>MasVnrType</i>: Masonry veneer type;\n",
    "* <i>MasVnrArea</i>: Masonry veneer area in square feet;\n",
    "* <i>ExterQualv</i>: Exterior material quality;\n",
    "* <i>ExterCond</i>: Present condition of the material on the exterior;\n",
    "* <i>Foundation</i>: Type of foundation;\n",
    "* <i>BsmtQual</i>: Height of the basement;\n",
    "* <i>BsmtCond</i>: General condition of the basement;\n",
    "* <i>BsmtExposure</i>: Walkout or garden level basement walls;\n",
    "* <i>BsmtFinType1</i>: Quality of basement finished area;\n",
    "* <i>BsmtFinSF1</i>: Type 1 finished square feet;\n",
    "* <i>BsmtFinType2</i>: Quality of second finished area (if present);\n",
    "* <i>BsmtFinSF2</i>: Type 2 finished square feet;\n",
    "* <i>BsmtUnfSF</i>: Unfinished square feet of basement area;\n",
    "* <i>TotalBsmtSF</i>: Total square feet of basement area;\n",
    "* <i>Heating</i>: Type of heating;\n",
    "* <i>HeatingQC</i>: Heating quality and condition;\n",
    "* <i>CentralAir</i>: Central air conditioning;\n",
    "* <i>Electrical</i>: Electrical system;\n",
    "* <i>1stFlrSF</i>: First Floor square feet;\n",
    "* <i>2ndFlrSF</i>: Second floor square feet;\n",
    "* <i>LowQualFinSF</i>: Low quality finished square feet (all floors);\n",
    "* <i>GrLivArea</i>: Above grade (ground) living area square feet;\n",
    "* <i>BsmtFullBath</i>: Basement full bathrooms;\n",
    "* <i>BsmtHalfBath</i>: Basement half bathrooms;\n",
    "* <i>FullBath</i>: Full bathrooms above grade;\n",
    "* <i>HalfBath</i>: Half baths above grade;\n",
    "* <i>Bedroom</i>: Number of bedrooms above basement level;\n",
    "* <i>Kitchen</i>: Number of kitchens;\n",
    "* <i>KitchenQual</i>: Kitchen quality;\n",
    "* <i>TotRmsAbvGrd</i>: Total rooms above grade (does not include bathrooms);\n",
    "* <i>Functional</i>: Home functionality rating;\n",
    "* <i>Fireplaces</i>: Number of fireplaces;\n",
    "* <i>FireplaceQu</i>: Fireplace quality;\n",
    "* <i>GarageType</i>: Garage location;\n",
    "* <i>GarageYrBlt</i>: Year garage was built;\n",
    "* <i>GarageFinish</i>: Interior finish of the garage;\n",
    "* <i>GarageCars</i>: Size of garage in car capacity;\n",
    "* <i>GarageArea</i>: Size of garage in square feet;\n",
    "* <i>GarageQual</i>: Garage quality;\n",
    "* <i>GarageCond</i>: Garage condition;\n",
    "* <i>PavedDrive</i>: Paved driveway;\n",
    "* <i>WoodDeckSF</i>: Wood deck area in square feet;\n",
    "* <i>OpenPorchSF</i>: Open porch area in square feet;\n",
    "* <i>EnclosedPorch</i>: Enclosed porch area in square feet;\n",
    "* <i>3SsnPorch</i>: Three season porch area in square feet;\n",
    "* <i>ScreenPorch</i>: Screen porch area in square feet;\n",
    "* <i>PoolArea</i>: Pool area in square feet;\n",
    "* <i>PoolQC</i>: Pool quality;\n",
    "* <i>Fence</i>: Fence quality;\n",
    "* <i>MiscFeature</i>: Miscellaneous feature not covered in other categories;\n",
    "* <i>MiscVal</i>: Value (in dollars) of miscellaneous feature;\n",
    "* <i>MoSold</i>: Month sold;\n",
    "* <i>YrSold</i>: Year sold;\n",
    "* <i>SaleType</i>: Type of sale;\n",
    "* <i>SaleCondition</i>: Condition of sale.\n"
   ]
  },
  {
   "cell_type": "markdown",
   "metadata": {},
   "source": [
    "# Group 20 : Solution\n",
    "## by Clément Bernard,Brugeres Maxence and Guyard Martin \n"
   ]
  },
  {
   "cell_type": "code",
   "execution_count": 643,
   "metadata": {},
   "outputs": [],
   "source": [
    "# Importations \n",
    "%matplotlib inline\n",
    "import numpy as np\n",
    "import matplotlib.pyplot as plt\n",
    "import pandas as pd\n",
    "import seaborn as sn\n",
    "from sklearn.preprocessing import StandardScaler\n",
    "from sklearn.model_selection import train_test_split\n",
    "from sklearn.model_selection import cross_validate, GridSearchCV\n",
    "from sklearn.metrics import mean_squared_error\n",
    "from sklearn.feature_selection import mutual_info_regression, mutual_info_classif\n",
    "from sklearn.feature_selection import SelectKBest\n",
    "from sklearn.preprocessing import LabelEncoder\n",
    "from sklearn.preprocessing import OrdinalEncoder\n",
    "\n",
    "\n",
    "SEED = 77\n"
   ]
  },
  {
   "cell_type": "markdown",
   "metadata": {},
   "source": [
    "### 1. Data preparation"
   ]
  },
  {
   "cell_type": "code",
   "execution_count": 644,
   "metadata": {},
   "outputs": [],
   "source": [
    "dataset = pd.read_csv('train.csv')\n",
    "test = pd.read_csv('test.csv')\n",
    "kaggle = pd.read_csv('test1.csv')"
   ]
  },
  {
   "cell_type": "code",
   "execution_count": 645,
   "metadata": {},
   "outputs": [
    {
     "data": {
      "text/plain": [
       "Index(['Id', 'MSSubClass', 'MSZoning', 'LotFrontage', 'LotArea', 'Street',\n",
       "       'Alley', 'LotShape', 'LandContour', 'Utilities', 'LotConfig',\n",
       "       'LandSlope', 'Neighborhood', 'Condition1', 'Condition2', 'BldgType',\n",
       "       'HouseStyle', 'OverallQual', 'OverallCond', 'YearBuilt', 'YearRemodAdd',\n",
       "       'RoofStyle', 'RoofMatl', 'Exterior1st', 'Exterior2nd', 'MasVnrType',\n",
       "       'MasVnrArea', 'ExterQual', 'ExterCond', 'Foundation', 'BsmtQual',\n",
       "       'BsmtCond', 'BsmtExposure', 'BsmtFinType1', 'BsmtFinSF1',\n",
       "       'BsmtFinType2', 'BsmtFinSF2', 'BsmtUnfSF', 'TotalBsmtSF', 'Heating',\n",
       "       'HeatingQC', 'CentralAir', 'Electrical', '1stFlrSF', '2ndFlrSF',\n",
       "       'LowQualFinSF', 'GrLivArea', 'BsmtFullBath', 'BsmtHalfBath', 'FullBath',\n",
       "       'HalfBath', 'BedroomAbvGr', 'KitchenAbvGr', 'KitchenQual',\n",
       "       'TotRmsAbvGrd', 'Functional', 'Fireplaces', 'FireplaceQu', 'GarageType',\n",
       "       'GarageYrBlt', 'GarageFinish', 'GarageCars', 'GarageArea', 'GarageQual',\n",
       "       'GarageCond', 'PavedDrive', 'WoodDeckSF', 'OpenPorchSF',\n",
       "       'EnclosedPorch', '3SsnPorch', 'ScreenPorch', 'PoolArea', 'PoolQC',\n",
       "       'Fence', 'MiscFeature', 'MiscVal', 'MoSold', 'YrSold', 'SaleType',\n",
       "       'SaleCondition', 'SalePrice'],\n",
       "      dtype='object')"
      ]
     },
     "execution_count": 645,
     "metadata": {},
     "output_type": "execute_result"
    }
   ],
   "source": [
    "dataset.columns"
   ]
  },
  {
   "cell_type": "code",
   "execution_count": 646,
   "metadata": {},
   "outputs": [
    {
     "data": {
      "text/plain": [
       "(1200, 81)"
      ]
     },
     "execution_count": 646,
     "metadata": {},
     "output_type": "execute_result"
    }
   ],
   "source": [
    "dataset.shape"
   ]
  },
  {
   "cell_type": "code",
   "execution_count": 647,
   "metadata": {},
   "outputs": [
    {
     "data": {
      "text/plain": [
       "(260, 81)"
      ]
     },
     "execution_count": 647,
     "metadata": {},
     "output_type": "execute_result"
    }
   ],
   "source": [
    "test.shape"
   ]
  },
  {
   "cell_type": "markdown",
   "metadata": {},
   "source": [
    "#### 1.1 Data cleaning"
   ]
  },
  {
   "cell_type": "markdown",
   "metadata": {},
   "source": [
    "<div class='alert alert-block alert-info'>\n",
    "\n",
    "First see the <b> missing values </b> for each feature\n",
    "    \n",
    "</div>"
   ]
  },
  {
   "cell_type": "code",
   "execution_count": 648,
   "metadata": {},
   "outputs": [
    {
     "data": {
      "text/plain": [
       "PoolQC          99.666667\n",
       "MiscFeature     96.083333\n",
       "Alley           93.750000\n",
       "Fence           81.083333\n",
       "FireplaceQu     47.000000\n",
       "LotFrontage     17.500000\n",
       "GarageType       5.583333\n",
       "GarageCond       5.583333\n",
       "GarageYrBlt      5.583333\n",
       "GarageFinish     5.583333\n",
       "GarageQual       5.583333\n",
       "BsmtExposure     2.750000\n",
       "BsmtFinType2     2.750000\n",
       "BsmtFinType1     2.666667\n",
       "BsmtCond         2.666667\n",
       "BsmtQual         2.666667\n",
       "MasVnrArea       0.500000\n",
       "MasVnrType       0.500000\n",
       "Exterior2nd      0.000000\n",
       "Exterior1st      0.000000\n",
       "dtype: float64"
      ]
     },
     "execution_count": 648,
     "metadata": {},
     "output_type": "execute_result"
    }
   ],
   "source": [
    "# Print the features that have high ratio of NaN values\n",
    "(dataset.isnull().sum()/dataset.shape[0]*100).sort_values(ascending = False).head(20)"
   ]
  },
  {
   "cell_type": "markdown",
   "metadata": {},
   "source": [
    "\n",
    "<div class='alert alert-block alert-info'>\n",
    "\n",
    "We decide to remove the features that have more than 30 % missing values. Indeed, this choice is arbitrary and aims to have data that is correct and not fulfilled by false ones.\n",
    "</div>\n"
   ]
  },
  {
   "cell_type": "code",
   "execution_count": 649,
   "metadata": {},
   "outputs": [
    {
     "name": "stdout",
     "output_type": "stream",
     "text": [
      "Column dropped : Alley\n",
      "Column dropped : FireplaceQu\n",
      "Column dropped : PoolQC\n",
      "Column dropped : Fence\n",
      "Column dropped : MiscFeature\n"
     ]
    }
   ],
   "source": [
    "# Finds the columns that have more than 30% NaN values\n",
    "drop_columns = np.where(dataset.isnull().sum() / dataset.shape[0]*100 > 30)[0]\n",
    "\n",
    "# Prints these columns \n",
    "for x in drop_columns :\n",
    "    print('Column dropped : {}'.format(dataset.columns.values[x]))"
   ]
  },
  {
   "cell_type": "code",
   "execution_count": 650,
   "metadata": {},
   "outputs": [
    {
     "name": "stdout",
     "output_type": "stream",
     "text": [
      "Size of dataset without those features : (1200, 76)\n"
     ]
    }
   ],
   "source": [
    "# Drops these features\n",
    "dataset.drop(dataset.columns[drop_columns], axis = 1, inplace= True)\n",
    "test.drop(test.columns[drop_columns], axis = 1, inplace= True)\n",
    "print('Size of dataset without those features : {}'.format(dataset.shape))"
   ]
  },
  {
   "cell_type": "markdown",
   "metadata": {},
   "source": [
    "\n",
    "<div class='alert alert-block alert-info'>\n",
    "\n",
    "The next step is to remove the less important features\n",
    "\n",
    "</div>\n"
   ]
  },
  {
   "cell_type": "markdown",
   "metadata": {},
   "source": [
    "#### 1.2 First feature selection\n",
    "##### 1.2.1 Categorical variables"
   ]
  },
  {
   "cell_type": "code",
   "execution_count": 651,
   "metadata": {},
   "outputs": [],
   "source": [
    "# Let's try to see which categorical features (non numeric) are relevant\n",
    "# first get the features and their mutual information with the price\n",
    "\n",
    "mir = lambda x,y :  mutual_info_regression(x,y, random_state = SEED)\n",
    "\n",
    "non_Categorical_features = dataset.corr().drop('SalePrice').SalePrice.index\n",
    "non_Categorical_features_index = [dataset.columns.get_loc(non_Categorical_features[i]) for i in range(non_Categorical_features.size)]\n",
    "categorical_dataset = dataset.drop(dataset.columns[non_Categorical_features_index], axis = 1, inplace= False)\n",
    "categorical_dataset_noNull = categorical_dataset.dropna()\n",
    "\n",
    "oe = OrdinalEncoder()\n",
    "oe.fit(categorical_dataset_noNull.drop('SalePrice', axis = 1))\n",
    "X_train_enc = oe.transform(categorical_dataset_noNull.drop('SalePrice', axis = 1))\n",
    "categorical_Features = categorical_dataset_noNull.drop('SalePrice', axis = 1).columns\n",
    "\n",
    "fs = SelectKBest(score_func=mir, k='all')\n",
    "fs.fit(X_train_enc, categorical_dataset_noNull.SalePrice)\n",
    "\n",
    "mutual_Info_Non_Cat_Features = pd.Series(fs.scores_,index=categorical_Features).sort_values(ascending = False)"
   ]
  },
  {
   "cell_type": "code",
   "execution_count": 652,
   "metadata": {},
   "outputs": [
    {
     "data": {
      "image/png": "[encoded data removed]",
      "text/plain": [
       "<Figure size 936x288 with 1 Axes>"
      ]
     },
     "metadata": {},
     "output_type": "display_data"
    }
   ],
   "source": [
    "# Then plot the result with respect to a threshold\n",
    "\n",
    "categorical_threshold=0.015\n",
    "\n",
    "n_drop_columns = len(mutual_Info_Non_Cat_Features[mutual_Info_Non_Cat_Features<categorical_threshold].index)\n",
    "plt.axhline(categorical_threshold, color='r', linewidth= 0.5)\n",
    "mutual_Info_Non_Cat_Features.plot(kind='bar', figsize= (13,4), fontsize=15,color='b')\n",
    "for label in plt.gca().get_xticklabels()[-n_drop_columns:]:\n",
    "    label.set_color('red')"
   ]
  },
  {
   "cell_type": "markdown",
   "metadata": {},
   "source": [
    "We simplify the data by dropping the features with a mutual information less than 0.015.\n",
    "Indeed, this is an arbitrary choice."
   ]
  },
  {
   "cell_type": "code",
   "execution_count": 653,
   "metadata": {},
   "outputs": [],
   "source": [
    "## We simplify the model dropping the features with a mutual information less than 0.015\n",
    "drop_columns = mutual_Info_Non_Cat_Features[mutual_Info_Non_Cat_Features<categorical_threshold].index"
   ]
  },
  {
   "cell_type": "code",
   "execution_count": 654,
   "metadata": {},
   "outputs": [],
   "source": [
    "dataset.drop(drop_columns, axis= 1 , inplace= True)\n",
    "test.drop(drop_columns, axis= 1 , inplace= True)\n",
    "kaggle.drop(drop_columns, axis= 1 , inplace= True)"
   ]
  },
  {
   "cell_type": "code",
   "execution_count": 655,
   "metadata": {},
   "outputs": [
    {
     "name": "stdout",
     "output_type": "stream",
     "text": [
      "13 columns dropped:\n",
      "Functional\n",
      "PavedDrive\n",
      "BsmtCond\n",
      "Condition1\n",
      "Condition2\n",
      "Street\n",
      "LotConfig\n",
      "BsmtFinType2\n",
      "ExterCond\n",
      "Utilities\n",
      "LandSlope\n",
      "RoofMatl\n",
      "Heating\n"
     ]
    }
   ],
   "source": [
    "print(len(drop_columns), 'columns dropped:')\n",
    "print('\\n'.join(list(drop_columns)))"
   ]
  },
  {
   "cell_type": "markdown",
   "metadata": {},
   "source": [
    "##### 1.2.2 Continuous variables"
   ]
  },
  {
   "cell_type": "code",
   "execution_count": 656,
   "metadata": {},
   "outputs": [
    {
     "data": {
      "image/png": "[encoded data removed]",
      "text/plain": [
       "<Figure size 936x288 with 1 Axes>"
      ]
     },
     "metadata": {},
     "output_type": "display_data"
    }
   ],
   "source": [
    "# For the numerical features, let's check the correlation with the price\n",
    "correlation = dataset.corr().SalePrice.abs().sort_values(ascending = False).drop('SalePrice')\n",
    "\n",
    "# Get useless features with respect to a threshold\n",
    "\n",
    "numerical_threshold = 0.06\n",
    "\n",
    "def get_features_useless(correlation , threshold) :\n",
    "    # Get the features that are less correlated than the threshold\n",
    "    high_features = correlation.abs()\n",
    "    indexes = ((high_features<threshold)*1)[((high_features<threshold)*1) >=1 ].index\n",
    "    return indexes\n",
    "\n",
    "n_features_useless = len(get_features_useless(correlation, numerical_threshold))\n",
    "\n",
    "correlation.plot(kind='bar', figsize= (13,4), fontsize=15,color='b')\n",
    "plt.axhline(numerical_threshold, color='r', linewidth= 0.5)\n",
    "for label in plt.gca().get_xticklabels()[-n_features_useless:]:\n",
    "    label.set_color('red')"
   ]
  },
  {
   "cell_type": "markdown",
   "metadata": {},
   "source": [
    "We simplify the data by dropping the features with a mutual information less than 0.06."
   ]
  },
  {
   "cell_type": "code",
   "execution_count": 657,
   "metadata": {},
   "outputs": [],
   "source": [
    "# We simplify the model dropping the features with a correlation less than 0.06\n",
    "features_useless = get_features_useless(correlation, numerical_threshold)"
   ]
  },
  {
   "cell_type": "code",
   "execution_count": 658,
   "metadata": {},
   "outputs": [],
   "source": [
    "# Drop these features \n",
    "dataset.drop(features_useless, axis= 1 , inplace= True)\n",
    "test.drop(features_useless, axis= 1 , inplace= True)\n",
    "kaggle.drop(features_useless, axis= 1 , inplace= True)"
   ]
  },
  {
   "cell_type": "code",
   "execution_count": 659,
   "metadata": {},
   "outputs": [
    {
     "name": "stdout",
     "output_type": "stream",
     "text": [
      "8 columns dropped:\n",
      "MoSold\n",
      "YrSold\n",
      "MiscVal\n",
      "LowQualFinSF\n",
      "3SsnPorch\n",
      "Id\n",
      "BsmtHalfBath\n",
      "BsmtFinSF2\n"
     ]
    }
   ],
   "source": [
    "print(len(features_useless), 'columns dropped:')\n",
    "print('\\n'.join(list(features_useless)))"
   ]
  },
  {
   "cell_type": "markdown",
   "metadata": {},
   "source": [
    "<div class='alert alert-block alert-info'>\n",
    "\n",
    "Let's plot the correlation between features. Highly correlated features should be dropped.\n",
    "\n",
    "</div>"
   ]
  },
  {
   "cell_type": "code",
   "execution_count": 660,
   "metadata": {},
   "outputs": [
    {
     "name": "stdout",
     "output_type": "stream",
     "text": [
      "YearBuilt                 GarageYrBlt               0.839                    \n",
      "TotalBsmtSF               1stFlrSF                  0.807                    \n",
      "GrLivArea                 TotRmsAbvGrd              0.83                     \n",
      "GarageCars                GarageArea                0.885                    \n"
     ]
    }
   ],
   "source": [
    "corr = dataset.corr()\n",
    "\n",
    "# We filter for correlation > 0.8 (considered highly correlated)\n",
    "corr = corr[corr>0.8]\n",
    "coordinates = np.argwhere(corr.notnull().values).tolist()\n",
    "l = []\n",
    "for x in coordinates:\n",
    "    if (x[0] != x[1]) and ((x[1], x[0]) not in l):\n",
    "        l.append((x[0], x[1]))\n",
    "for i, c in l:\n",
    "    print('{:<25} {:<25} {:<25}'.format(corr.index[i], corr.columns[c], round(corr.iloc[i][c],3)))"
   ]
  },
  {
   "cell_type": "markdown",
   "metadata": {},
   "source": [
    "<div class='alert alert-block alert-info'>\n",
    "\n",
    "We drop one set of features to avoid too much correlation between features. For instance YearBuilt and GarageYearBuilt are not both necessary, only one should be kept. It tells the same information.\n",
    "\n",
    "</div>"
   ]
  },
  {
   "cell_type": "code",
   "execution_count": 661,
   "metadata": {},
   "outputs": [],
   "source": [
    "features_redondant = ['GarageYrBlt','1stFlrSF','TotRmsAbvGrd','GarageArea']\n",
    "dataset.drop(features_redondant, axis=1, inplace=True)\n",
    "test.drop(features_redondant, axis=1, inplace=True)\n",
    "kaggle.drop(features_redondant, axis=1, inplace=True)\n"
   ]
  },
  {
   "cell_type": "markdown",
   "metadata": {},
   "source": [
    "#### 1.3 NaN values"
   ]
  },
  {
   "cell_type": "markdown",
   "metadata": {},
   "source": [
    "\n",
    "<div class='alert alert-block alert-info'>\n",
    "\n",
    "Now we'll handle <b> NaN </b>  values and standardize the values\n",
    "\n",
    "</div>\n"
   ]
  },
  {
   "cell_type": "markdown",
   "metadata": {},
   "source": [
    "\n",
    "<div class='alert alert-block alert-info'>\n",
    "\n",
    "First, let's check what are they \n",
    "\n",
    "</div>\n"
   ]
  },
  {
   "cell_type": "code",
   "execution_count": 662,
   "metadata": {},
   "outputs": [],
   "source": [
    "# Get the columns that have NaN values\n",
    "indexes_nan = np.where(dataset.isnull().sum().values !=0 )[0]\n",
    "indexes_nan_test = np.where(test.isnull().sum().values !=0 )[0]\n",
    "indexes_nan_kaggle = np.where(kaggle.isnull().sum().values !=0 )[0]\n"
   ]
  },
  {
   "cell_type": "code",
   "execution_count": 663,
   "metadata": {},
   "outputs": [
    {
     "name": "stdout",
     "output_type": "stream",
     "text": [
      "Feature : LotFrontage and got values : [ 65.  80.  68.  60.  84.  85.  75.  nan  51.  50.  70.  91.  72.  66.\n",
      " 101.  57.  44. 110.  98.  47. 108. 112.  74. 115.  61.  48.  33.  52.\n",
      " 100.  24.  89.  63.  76.  81.  95.  69.  21.  32.  78. 121. 122.  40.\n",
      " 105.  73.  77.  64.  94.  34.  90.  55.  88.  82.  71. 120. 107.  92.\n",
      " 134.  62.  86. 141.  97.  54.  41.  79. 174.  99.  67.  83.  43. 103.\n",
      "  93.  30. 129. 140.  35.  37. 118.  87. 116. 150. 111.  49.  96.  59.\n",
      "  36.  56. 102.  58.  38. 109. 130.  53. 137.  45. 106. 104.  42.  39.\n",
      " 144. 114. 128. 149. 313. 168. 182. 138. 160.]\n",
      "\n",
      "Feature : MasVnrType and got values : ['BrkFace' 'None' 'Stone' 'BrkCmn' nan]\n",
      "\n",
      "Feature : MasVnrArea and got values : [1.960e+02 0.000e+00 1.620e+02 3.500e+02 1.860e+02 2.400e+02 2.860e+02\n",
      " 3.060e+02 2.120e+02 1.800e+02 3.800e+02 2.810e+02 6.400e+02 2.000e+02\n",
      " 2.460e+02 1.320e+02 6.500e+02 1.010e+02 4.120e+02 2.720e+02 4.560e+02\n",
      " 1.031e+03 1.780e+02 5.730e+02 3.440e+02 2.870e+02 1.670e+02 1.115e+03\n",
      " 4.000e+01 1.040e+02 5.760e+02 4.430e+02 4.680e+02 6.600e+01 2.200e+01\n",
      " 2.840e+02 7.600e+01 2.030e+02 6.800e+01 1.830e+02 4.800e+01 2.800e+01\n",
      " 3.360e+02 6.000e+02 7.680e+02 4.800e+02 2.200e+02 1.840e+02 1.129e+03\n",
      " 1.160e+02 1.350e+02 2.660e+02 8.500e+01 3.090e+02 1.360e+02 2.880e+02\n",
      " 7.000e+01 3.200e+02 5.000e+01 1.200e+02 4.360e+02 2.520e+02 8.400e+01\n",
      " 6.640e+02 2.260e+02 3.000e+02 6.530e+02 1.120e+02 4.910e+02 2.680e+02\n",
      " 7.480e+02 9.800e+01 2.750e+02 1.380e+02 2.050e+02 2.620e+02 1.280e+02\n",
      " 2.600e+02 1.530e+02 6.400e+01 3.120e+02 1.600e+01 9.220e+02 1.420e+02\n",
      " 2.900e+02 1.270e+02 5.060e+02 2.970e+02       nan 6.040e+02 2.540e+02\n",
      " 3.600e+01 1.020e+02 4.720e+02 4.810e+02 1.080e+02 3.020e+02 1.720e+02\n",
      " 3.990e+02 2.700e+02 4.600e+01 2.100e+02 1.740e+02 3.480e+02 3.150e+02\n",
      " 2.990e+02 3.400e+02 1.660e+02 7.200e+01 3.100e+01 3.400e+01 2.380e+02\n",
      " 1.600e+03 3.650e+02 5.600e+01 1.500e+02 2.780e+02 2.560e+02 2.250e+02\n",
      " 3.700e+02 3.880e+02 1.750e+02 2.960e+02 1.460e+02 1.130e+02 1.760e+02\n",
      " 6.160e+02 3.000e+01 1.060e+02 8.700e+02 3.620e+02 5.300e+02 5.000e+02\n",
      " 5.100e+02 2.470e+02 3.050e+02 2.550e+02 1.250e+02 1.000e+02 4.320e+02\n",
      " 1.260e+02 4.730e+02 7.400e+01 1.450e+02 2.320e+02 3.760e+02 4.200e+01\n",
      " 1.610e+02 1.100e+02 1.800e+01 2.240e+02 2.480e+02 8.000e+01 3.040e+02\n",
      " 2.150e+02 7.720e+02 4.350e+02 3.780e+02 5.620e+02 1.680e+02 8.900e+01\n",
      " 2.850e+02 3.600e+02 9.400e+01 3.330e+02 9.210e+02 7.620e+02 5.940e+02\n",
      " 2.190e+02 1.880e+02 4.790e+02 5.840e+02 1.820e+02 2.500e+02 2.920e+02\n",
      " 2.450e+02 2.070e+02 8.200e+01 9.700e+01 3.350e+02 2.080e+02 4.200e+02\n",
      " 1.700e+02 4.590e+02 2.800e+02 9.900e+01 1.920e+02 2.040e+02 2.330e+02\n",
      " 1.560e+02 4.520e+02 5.130e+02 2.610e+02 1.640e+02 2.590e+02 2.090e+02\n",
      " 2.630e+02 2.160e+02 3.510e+02 6.600e+02 3.810e+02 5.400e+01 5.280e+02\n",
      " 2.580e+02 4.640e+02 5.700e+01 1.470e+02 1.170e+03 2.930e+02 6.300e+02\n",
      " 4.660e+02 1.090e+02 4.100e+01 1.600e+02 2.890e+02 6.510e+02 1.690e+02\n",
      " 9.500e+01 4.420e+02 2.020e+02 3.380e+02 8.940e+02 3.280e+02 6.730e+02\n",
      " 6.030e+02 1.000e+00 3.750e+02 9.000e+01 3.800e+01 1.570e+02 1.100e+01\n",
      " 1.400e+02 1.300e+02 1.480e+02 8.600e+02 4.240e+02 1.047e+03 2.430e+02\n",
      " 8.160e+02 3.870e+02 2.230e+02 1.580e+02 1.370e+02 1.150e+02 1.890e+02\n",
      " 2.740e+02 1.170e+02 6.000e+01 1.220e+02 9.200e+01 4.150e+02 7.600e+02\n",
      " 2.700e+01 7.500e+01 3.610e+02 1.050e+02 3.420e+02 2.980e+02 5.410e+02\n",
      " 2.360e+02 1.440e+02 4.230e+02 4.400e+01 1.510e+02 9.750e+02 4.500e+02\n",
      " 2.300e+02 5.710e+02 2.400e+01 5.300e+01 2.060e+02 1.400e+01 3.240e+02\n",
      " 2.950e+02 3.960e+02 6.700e+01 1.540e+02 4.250e+02 4.500e+01 1.378e+03\n",
      " 3.370e+02 1.490e+02 1.430e+02 5.100e+01]\n",
      "\n",
      "Feature : BsmtQual and got values : ['Gd' 'TA' 'Ex' nan 'Fa']\n",
      "\n",
      "Feature : BsmtExposure and got values : ['No' 'Gd' 'Mn' 'Av' nan]\n",
      "\n",
      "Feature : BsmtFinType1 and got values : ['GLQ' 'ALQ' 'Unf' 'Rec' 'BLQ' nan 'LwQ']\n",
      "\n",
      "Feature : GarageType and got values : ['Attchd' 'Detchd' 'BuiltIn' 'CarPort' nan 'Basment' '2Types']\n",
      "\n",
      "Feature : GarageFinish and got values : ['RFn' 'Unf' 'Fin' nan]\n",
      "\n",
      "Feature : GarageQual and got values : ['TA' 'Fa' 'Gd' nan 'Ex' 'Po']\n",
      "\n",
      "Feature : GarageCond and got values : ['TA' 'Fa' nan 'Gd' 'Po' 'Ex']\n",
      "\n"
     ]
    }
   ],
   "source": [
    "# Print the feature with NaN values and the values it have \n",
    "for column in indexes_nan :\n",
    "    print('Feature : {} and got values : {}'.format(dataset.columns[column],\\\n",
    "                                                   dataset[dataset.columns[column]].unique()))\n",
    "    \n",
    "    print('')"
   ]
  },
  {
   "cell_type": "markdown",
   "metadata": {},
   "source": [
    "<hr>\n",
    "For the features that have numerical values, we can fulfill the NaN values by the mean for instance. This is an arbitrary decision. We could have replaced by the previous value or by doing regression knowing the other features. Here we took the average.\n",
    "<br>\n",
    "\n",
    "\n",
    "<hr>"
   ]
  },
  {
   "cell_type": "code",
   "execution_count": 664,
   "metadata": {},
   "outputs": [
    {
     "name": "stdout",
     "output_type": "stream",
     "text": [
      "Column for training : LotFrontage has been filled\n",
      "Column for training : MasVnrArea has been filled\n",
      "Column for testing : LotFrontage has been filled\n",
      "Column for testing : MasVnrArea has been filled\n",
      "Column for kaggle : LotFrontage has been filled\n",
      "Column for kaggle : Fireplaces has been filled\n",
      "Column for kaggle : GarageCars has been filled\n"
     ]
    }
   ],
   "source": [
    "# Fill the features with numerical values by the mean. \n",
    "num_features_nan_types = dataset[dataset.columns[indexes_nan]].dtypes!=object\n",
    "num_features_nan = dataset[dataset.columns[indexes_nan]].columns[num_features_nan_types].tolist()\n",
    "\n",
    "num_features_nan_types_test = test[test.columns[indexes_nan_test]].dtypes!=object\n",
    "num_features_nan_test = test[test.columns[indexes_nan_test]].columns[num_features_nan_types_test].tolist()\n",
    "\n",
    "num_features_nan_types_kaggle = kaggle[kaggle.columns[indexes_nan_test]].dtypes!=object\n",
    "num_features_nan_kaggle = kaggle[kaggle.columns[indexes_nan_test]].columns[num_features_nan_types_kaggle].tolist()\n",
    "\n",
    "\n",
    "\n",
    "for column in num_features_nan :\n",
    "    # Compute the mean\n",
    "    feature_mean = dataset[column].mean()\n",
    "    \n",
    "    # Fulfill the NaN values by the mean\n",
    "    dataset[column].fillna(feature_mean , inplace=True)\n",
    "    print('Column for training : {} has been filled'.format(column))\n",
    "    \n",
    "    \n",
    "for column in num_features_nan_test :\n",
    "    feature_mean_test = test[column].mean()\n",
    "    test[column].fillna(feature_mean_test , inplace=True)\n",
    "    print('Column for testing : {} has been filled'.format(column))\n",
    "\n",
    "for column in num_features_nan_kaggle :\n",
    "    feature_mean_kaggle = kaggle[column].mean()\n",
    "    kaggle[column].fillna(feature_mean_kaggle , inplace=True)\n",
    "    print('Column for kaggle : {} has been filled'.format(column))\n",
    "\n",
    "    \n",
    "    "
   ]
  },
  {
   "cell_type": "markdown",
   "metadata": {},
   "source": [
    "Let's drop the outliers before standartize the numerical values\n"
   ]
  },
  {
   "cell_type": "code",
   "execution_count": 665,
   "metadata": {},
   "outputs": [
    {
     "name": "stdout",
     "output_type": "stream",
     "text": [
      "Feature : MSSubClass\n"
     ]
    },
    {
     "data": {
      "image/png": "[encoded data removed]",
      "text/plain": [
       "<Figure size 432x288 with 1 Axes>"
      ]
     },
     "metadata": {},
     "output_type": "display_data"
    },
    {
     "name": "stdout",
     "output_type": "stream",
     "text": [
      "Feature : LotFrontage\n"
     ]
    },
    {
     "data": {
      "image/png": "[encoded data removed]",
      "text/plain": [
       "<Figure size 432x288 with 1 Axes>"
      ]
     },
     "metadata": {},
     "output_type": "display_data"
    },
    {
     "name": "stdout",
     "output_type": "stream",
     "text": [
      "Feature : LotArea\n"
     ]
    },
    {
     "data": {
      "image/png": "[encoded data removed]",
      "text/plain": [
       "<Figure size 432x288 with 1 Axes>"
      ]
     },
     "metadata": {},
     "output_type": "display_data"
    },
    {
     "name": "stdout",
     "output_type": "stream",
     "text": [
      "Feature : YearBuilt\n"
     ]
    },
    {
     "data": {
      "image/png": "[encoded data removed]",
      "text/plain": [
       "<Figure size 432x288 with 1 Axes>"
      ]
     },
     "metadata": {},
     "output_type": "display_data"
    },
    {
     "name": "stdout",
     "output_type": "stream",
     "text": [
      "Feature : YearRemodAdd\n"
     ]
    },
    {
     "data": {
      "image/png": "[encoded data removed]",
      "text/plain": [
       "<Figure size 432x288 with 1 Axes>"
      ]
     },
     "metadata": {},
     "output_type": "display_data"
    },
    {
     "name": "stdout",
     "output_type": "stream",
     "text": [
      "Feature : MasVnrArea\n"
     ]
    },
    {
     "data": {
      "image/png": "[encoded data removed]",
      "text/plain": [
       "<Figure size 432x288 with 1 Axes>"
      ]
     },
     "metadata": {},
     "output_type": "display_data"
    },
    {
     "name": "stdout",
     "output_type": "stream",
     "text": [
      "Feature : BsmtFinSF1\n"
     ]
    },
    {
     "data": {
      "image/png": "[encoded data removed]",
      "text/plain": [
       "<Figure size 432x288 with 1 Axes>"
      ]
     },
     "metadata": {},
     "output_type": "display_data"
    },
    {
     "name": "stdout",
     "output_type": "stream",
     "text": [
      "Feature : BsmtUnfSF\n"
     ]
    },
    {
     "data": {
      "image/png": "[encoded data removed]",
      "text/plain": [
       "<Figure size 432x288 with 1 Axes>"
      ]
     },
     "metadata": {},
     "output_type": "display_data"
    },
    {
     "name": "stdout",
     "output_type": "stream",
     "text": [
      "Feature : TotalBsmtSF\n"
     ]
    },
    {
     "data": {
      "image/png": "[encoded data removed]",
      "text/plain": [
       "<Figure size 432x288 with 1 Axes>"
      ]
     },
     "metadata": {},
     "output_type": "display_data"
    },
    {
     "name": "stdout",
     "output_type": "stream",
     "text": [
      "Feature : 2ndFlrSF\n"
     ]
    },
    {
     "data": {
      "image/png": "[encoded data removed]",
      "text/plain": [
       "<Figure size 432x288 with 1 Axes>"
      ]
     },
     "metadata": {},
     "output_type": "display_data"
    },
    {
     "name": "stdout",
     "output_type": "stream",
     "text": [
      "Feature : GrLivArea\n"
     ]
    },
    {
     "data": {
      "image/png": "[encoded data removed]",
      "text/plain": [
       "<Figure size 432x288 with 1 Axes>"
      ]
     },
     "metadata": {},
     "output_type": "display_data"
    },
    {
     "name": "stdout",
     "output_type": "stream",
     "text": [
      "Feature : WoodDeckSF\n"
     ]
    },
    {
     "data": {
      "image/png": "[encoded data removed]",
      "text/plain": [
       "<Figure size 432x288 with 1 Axes>"
      ]
     },
     "metadata": {},
     "output_type": "display_data"
    },
    {
     "name": "stdout",
     "output_type": "stream",
     "text": [
      "Feature : OpenPorchSF\n"
     ]
    },
    {
     "data": {
      "image/png": "[encoded data removed]",
      "text/plain": [
       "<Figure size 432x288 with 1 Axes>"
      ]
     },
     "metadata": {},
     "output_type": "display_data"
    },
    {
     "name": "stdout",
     "output_type": "stream",
     "text": [
      "Feature : EnclosedPorch\n"
     ]
    },
    {
     "data": {
      "image/png": "[encoded data removed]",
      "text/plain": [
       "<Figure size 432x288 with 1 Axes>"
      ]
     },
     "metadata": {},
     "output_type": "display_data"
    },
    {
     "name": "stdout",
     "output_type": "stream",
     "text": [
      "Feature : ScreenPorch\n"
     ]
    },
    {
     "data": {
      "image/png": "[encoded data removed]",
      "text/plain": [
       "<Figure size 432x288 with 1 Axes>"
      ]
     },
     "metadata": {},
     "output_type": "display_data"
    }
   ],
   "source": [
    "# Plot the Saleprice depending on the float features\n",
    "numerical_features_types = dataset.dtypes!=object\n",
    "numerical_features = dataset.columns[numerical_features_types].tolist()\n",
    "for feature in numerical_features : \n",
    "    # Plot the numerical features with more than 10 different values (not the K encoded ones)\n",
    "    if (len(dataset[feature].unique()) > 10 and feature != 'SalePrice') :\n",
    "        print('Feature : {}'.format(feature))\n",
    "    \n",
    "        dataset.plot(kind = 'scatter', x=feature,y='SalePrice' , color = 'r')\n",
    "        plt.show()"
   ]
  },
  {
   "cell_type": "code",
   "execution_count": 666,
   "metadata": {},
   "outputs": [],
   "source": [
    "# Drop the outliers by hand\n",
    "\n",
    "def drop_outliers(dic) :\n",
    "    for value in dic :        \n",
    "        \n",
    "        dataset.loc[dataset[value]> dic[value], value] = dataset[value].mean()\n",
    "        test.loc[test[value]> dic[value], value] = test[value].mean()\n",
    "        kaggle.loc[kaggle[value]> dic[value], value] = kaggle[value].mean()\n",
    "        \n",
    "        \n",
    "                "
   ]
  },
  {
   "cell_type": "code",
   "execution_count": 667,
   "metadata": {},
   "outputs": [],
   "source": [
    "features_outliers = {'LotFrontage':200,'LotArea':60000,'MasVnrArea':1200,\\\n",
    "                    'GrLivArea':4000,'EnclosedPorch':400,'WoodDeckSF':600}\n",
    "drop_outliers(features_outliers)"
   ]
  },
  {
   "cell_type": "code",
   "execution_count": 597,
   "metadata": {},
   "outputs": [],
   "source": [
    "num_features_poly_types = dataset.drop('SalePrice', axis=1).dtypes!=object\n",
    "num_features_poly = dataset.drop('SalePrice', axis=1).columns[num_features_poly_types]"
   ]
  },
  {
   "cell_type": "code",
   "execution_count": 598,
   "metadata": {},
   "outputs": [],
   "source": [
    "\n",
    "for col in num_features_poly[:-1]:\n",
    "    string = 'SQUARE ' + col\n",
    "    dataset[string] = dataset[col]**2\n",
    "    test[string] = test[col]**2\n",
    "    kaggle[string] = kaggle[col]**2\n",
    "    \n",
    "    \n",
    "dataset['bias'] = 1\n",
    "test['bias']=1\n",
    "kaggle['bias']=1\n"
   ]
  },
  {
   "cell_type": "code",
   "execution_count": 599,
   "metadata": {},
   "outputs": [
    {
     "data": {
      "text/plain": [
       "<matplotlib.lines.Line2D at 0x7fe926d5a240>"
      ]
     },
     "execution_count": 599,
     "metadata": {},
     "output_type": "execute_result"
    },
    {
     "data": {
      "image/png": "[encoded data removed]",
      "text/plain": [
       "<Figure size 936x288 with 1 Axes>"
      ]
     },
     "metadata": {},
     "output_type": "display_data"
    }
   ],
   "source": [
    "#Check the new correlation\n",
    "correlation = dataset.corr().SalePrice.abs().sort_values(ascending = False).drop('SalePrice')\n",
    "\n",
    "def get_features_useless(correlation , threshold) :\n",
    "    # Get the features that are less correlated than the threshold\n",
    "    high_features = correlation.abs()\n",
    "    indexes = ((high_features<threshold)*1)[((high_features<threshold)*1) >=1 ].index\n",
    "    return indexes\n",
    "\n",
    "correlation.plot(kind='bar', figsize= (13,4), fontsize=15,color='b')\n",
    "plt.axhline(numerical_threshold, color='r', linewidth= 0.5)"
   ]
  },
  {
   "cell_type": "markdown",
   "metadata": {},
   "source": [
    "\n",
    "<div class='alert alert-block alert-info'>\n",
    "\n",
    "Then let's standardize the numerical values since they are now complete\n",
    "\n",
    "</div>\n"
   ]
  },
  {
   "cell_type": "code",
   "execution_count": 668,
   "metadata": {},
   "outputs": [],
   "source": [
    "# Then standardize before touching to categorical feature\n",
    "from sklearn.preprocessing import StandardScaler\n",
    "\n",
    "\n",
    "# Get in memory the features that have non-string values\n",
    "numerical_features_types = dataset.drop('SalePrice', axis=1).dtypes!=object\n",
    "numerical_features = dataset.drop('SalePrice', axis=1).columns[numerical_features_types].tolist()\n",
    "\n",
    "# Then fit the scaler\n",
    "scaled_data = dataset[numerical_features]\n",
    "scaled_data_test = test[numerical_features]\n",
    "scaled_data_kaggle = kaggle[numerical_features]\n",
    "scaler = StandardScaler().fit(scaled_data)\n",
    "\n",
    "# Finally change the values in the dataset\n",
    "scaled_data = scaler.transform(scaled_data)\n",
    "scaled_data_test = scaler.transform(scaled_data_test)\n",
    "scaled_data_kaggle = scaler.transform(scaled_data_kaggle)\n",
    "\n",
    "dataset[numerical_features] = scaler.transform(scaled_data)\n",
    "test[numerical_features] = scaler.transform(scaled_data_test)\n",
    "kaggle[numerical_features] = scaler.transform(scaled_data_kaggle)"
   ]
  },
  {
   "cell_type": "markdown",
   "metadata": {},
   "source": [
    "\n",
    "<div class='alert alert-block alert-info'>\n",
    "\n",
    "Now, handle NaN in categorical features\n",
    "\n",
    "</div>\n",
    "\n",
    "\n",
    "<div class='alert alert-block alert-info'>\n",
    "\n",
    "To deal with NaN values, there are different methods. We can either fill with random values or with mean. Another method would be to just delete the row (but we'll miss too much data here). Then, we can also replace it with an 'unknown' value. And finally we can predict the NaN values thanks to the other data we have. <br>\n",
    "We'll try here with <b> replacing by a None value </b>, which will basically add a feature when we'll do K-encoding.\n",
    "\n",
    "</div>\n",
    "\n"
   ]
  },
  {
   "cell_type": "code",
   "execution_count": 669,
   "metadata": {},
   "outputs": [],
   "source": [
    "string_features_nan_types = dataset.dtypes==object\n",
    "string_features_nan = dataset.columns[string_features_nan_types].tolist()\n",
    "\n",
    "string_features_nan_types_test = test.dtypes==object\n",
    "string_features_nan_test = test.columns[string_features_nan_types_test].tolist()\n",
    "\n",
    "string_features_nan_types_kaggle = kaggle.dtypes==object\n",
    "string_features_nan_kaggle = kaggle.columns[string_features_nan_types_kaggle].tolist()\n",
    "\n",
    "\n",
    "\n"
   ]
  },
  {
   "cell_type": "code",
   "execution_count": 670,
   "metadata": {},
   "outputs": [],
   "source": [
    "# Replace NaN values by a None category\n",
    "for feature in string_features_nan :\n",
    "    dataset[feature].fillna('None', inplace = True)\n",
    "for feature in string_features_nan_test : \n",
    "    test[feature].fillna('None', inplace = True)\n",
    "for feature in string_features_nan_kaggle : \n",
    "    kaggle[feature].fillna('None', inplace = True)\n",
    "    \n",
    "    "
   ]
  },
  {
   "cell_type": "markdown",
   "metadata": {},
   "source": [
    "<div class='alert alert-block alert-info'>\n",
    "We then want to vectorize our data. We need to convert all the strings into numerical values. <br>\n",
    "We have two choices : either <b> convert strings to integers </b> (like 'bad' becomes 0, 'good' becomes 1, etc) <b > this is ordinal encoding (and it is relevant if the feature represent a hierarchy)</b> or to do <b> K-encoding </b> by creating a new binary feature for each value of a given feature. <br>\n",
    "Let's see which feature is a string.\n",
    "</div>"
   ]
  },
  {
   "cell_type": "code",
   "execution_count": 671,
   "metadata": {},
   "outputs": [
    {
     "name": "stdout",
     "output_type": "stream",
     "text": [
      "Categorical features:\n",
      " MSZoning\n",
      " LotShape\n",
      " LandContour\n",
      " Neighborhood\n",
      " BldgType\n",
      " HouseStyle\n",
      " RoofStyle\n",
      " Exterior1st\n",
      " Exterior2nd\n",
      " MasVnrType\n",
      " ExterQual\n",
      " Foundation\n",
      " BsmtQual\n",
      " BsmtExposure\n",
      " BsmtFinType1\n",
      " HeatingQC\n",
      " CentralAir\n",
      " Electrical\n",
      " KitchenQual\n",
      " GarageType\n",
      " GarageFinish\n",
      " GarageQual\n",
      " GarageCond\n",
      " SaleType\n",
      " SaleCondition\n",
      "Number of features : 25\n"
     ]
    }
   ],
   "source": [
    "# Get the boolean list of contents that are object and not integers\n",
    "categorical_features_types = dataset.dtypes==object\n",
    "\n",
    "# Get the features that are strings\n",
    "categorical_columns = dataset.columns[categorical_features_types].tolist()\n",
    "print('Categorical features:\\n {}'.format('\\n '.join(list(categorical_columns))))  \n",
    "print('Number of features : {}'.format(len(categorical_columns)))"
   ]
  },
  {
   "cell_type": "markdown",
   "metadata": {},
   "source": [
    "<div class='alert alert-block alert-info'>\n",
    "We then need to know which feature has a natural order or not (and then it will lead to use K encoding). <br>\n",
    "After an analysis on the data, whenever there is a quality that comes, there is an order and therefore convert it into integers makes sense. Otherwise, we'll use K encoding. <br>\n",
    "\n",
    "Here is the list of features that need <b> conversion: ordinal encoding </b> (where there is an order) : \n",
    "<ul>\n",
    "    <li> <b> ExterQual </b> </li>\n",
    "    <li> <b> BsmtQual </b> </li>\n",
    "    <li> <b> BsmtExposure </b> </li>\n",
    "    <li> <b> BsmtFinType1 </b> </li>\n",
    "    <li> <b> HeatingQC </b> </li>\n",
    "    <li> <b> CentralAir </b> </li>\n",
    "    <li> <b> KitchenQual </b> </li>    \n",
    "    <li> <b> GarageFinish </b> </li>\n",
    "    <li> <b> GarageQual </b> </li>\n",
    "    <li> <b> GarageCond </b> </li>\n",
    "    \n",
    "   \n",
    "</ul>\n",
    "<br>\n",
    "Here is the list of contents that require K encoding : \n",
    "<ul>\n",
    "     <li> <b> MSZoning </b> </li>\n",
    "    <li> <b> LotShape </b> </li>\n",
    "    <li> <b> LandContour </b> </li>\n",
    "    <li> <b> Neighborhood </b> </li>\n",
    "    <li> <b> BldgType </b> </li>\n",
    "    <li> <b> HouseStyle </b> </li>\n",
    "    <li> <b> RoofStyle </b> </li>\n",
    "    <li> <b> Exterior1st </b> </li>\n",
    "    <li> <b> Exterior2nd </b> </li>\n",
    "    <li> <b> MasVnrType </b> </li>\n",
    "    <li> <b> Foundation </b> </li>\n",
    "    <li> <b> Electrical </b> </li>\n",
    "    <li> <b> GarageType </b> </li>\n",
    "    <li> <b> SaleCondition </b> </li>\n",
    "    <li> <b> SaleType </b> </li>\n",
    "   \n",
    "</ul>\n",
    "\n",
    "\n",
    "\n",
    "</div>"
   ]
  },
  {
   "cell_type": "code",
   "execution_count": 672,
   "metadata": {},
   "outputs": [],
   "source": [
    "features_to_convert = ['ExterQual','BsmtQual',\\\n",
    "                  'BsmtExposure', 'BsmtFinType1','HeatingQC','CentralAir',\\\n",
    "                       'KitchenQual','GarageFinish','GarageQual','GarageCond']"
   ]
  },
  {
   "cell_type": "code",
   "execution_count": 673,
   "metadata": {},
   "outputs": [],
   "source": [
    "features_to_encode = ['MSZoning','LotShape','LandContour','Neighborhood',\\\n",
    "                     'BldgType','HouseStyle','RoofStyle','Exterior1st','Exterior2nd',\\\n",
    "                      'MasVnrType','Foundation','Electrical','GarageType',\\\n",
    "                      'SaleCondition','SaleType']"
   ]
  },
  {
   "cell_type": "markdown",
   "metadata": {},
   "source": [
    "<div class='alert alert-block alert-info'>\n",
    "Let's do the conversion. We'll use a dictionnary to convert the features. Nevertheless, as we added somehow a 'None' value, we will replace it as the mean of the number of different values.\n",
    "</div"
   ]
  },
  {
   "cell_type": "code",
   "execution_count": 674,
   "metadata": {},
   "outputs": [
    {
     "name": "stdout",
     "output_type": "stream",
     "text": [
      "ExterQual : ['Ex' 'Fa' 'Gd' 'TA']\n",
      "BsmtQual : ['Ex' 'Fa' 'Gd' 'None' 'TA']\n",
      "BsmtExposure : ['Av' 'Gd' 'Mn' 'No' 'None']\n",
      "BsmtFinType1 : ['ALQ' 'BLQ' 'GLQ' 'LwQ' 'None' 'Rec' 'Unf']\n",
      "HeatingQC : ['Ex' 'Fa' 'Gd' 'Po' 'TA']\n",
      "CentralAir : ['N' 'Y']\n",
      "KitchenQual : ['Ex' 'Fa' 'Gd' 'TA']\n",
      "GarageFinish : ['Fin' 'None' 'RFn' 'Unf']\n",
      "GarageQual : ['Ex' 'Fa' 'Gd' 'None' 'Po' 'TA']\n",
      "GarageCond : ['Ex' 'Fa' 'Gd' 'None' 'Po' 'TA']\n"
     ]
    }
   ],
   "source": [
    "# Print the disctinct values and create the list of dictionnaries\n",
    "dic = []\n",
    "for feature in features_to_convert :\n",
    "    \n",
    "    unique_values = np.unique( np.concatenate( (dataset[feature].unique() , test[feature].unique()))) \n",
    "    print(str(feature) + ' : {}'.format(unique_values) )\n",
    "    \n",
    "    \n",
    "    "
   ]
  },
  {
   "cell_type": "code",
   "execution_count": 675,
   "metadata": {},
   "outputs": [],
   "source": [
    "# We'll use a dictionary to preserve the order\n",
    "dic_ex = {'Po':0, 'Fa':1, 'None':2,'TA':3,'Gd':4,'Ex':5}\n",
    "dic_rate = {'GLQ' : 6,'ALQ':5,'BLQ': 4, 'None': 3, 'Rec': 2, 'LwQ': 1,'Unf' :0 }\n",
    "dic_exposure = {'No':0,'Mn':1,'None':2,'Av':3, 'Gd':5}\n",
    "dic_garage = {'Unf':0, 'None':1,'RFn':2, 'Fin':3}\n",
    "dic_bin = {'N':0,'Y':1}\n",
    "\n",
    "# Reference dictionary\n",
    "total_dic = [dic_ex,dic_rate,dic_exposure,dic_garage,dic_bin]"
   ]
  },
  {
   "cell_type": "code",
   "execution_count": 676,
   "metadata": {},
   "outputs": [],
   "source": [
    "# Then replace it in the dataset \n",
    "\n",
    "def replace_dic(df, dic) :\n",
    "        \n",
    "    df[features_to_convert[0]].replace(total_dic[0], inplace=True)\n",
    "    df[features_to_convert[1]].replace(total_dic[0], inplace=True)\n",
    "    df[features_to_convert[2]].replace(total_dic[2], inplace=True)\n",
    "    df[features_to_convert[3]].replace(total_dic[1], inplace=True)\n",
    "    df[features_to_convert[4]].replace(total_dic[0], inplace=True)\n",
    "    df[features_to_convert[5]].replace(total_dic[-1], inplace=True)\n",
    "    df[features_to_convert[6]].replace(total_dic[0], inplace=True)\n",
    "    df[features_to_convert[7]].replace(total_dic[-2], inplace=True)\n",
    "    df[features_to_convert[8]].replace(total_dic[0], inplace=True)\n",
    "    df[features_to_convert[9]].replace(total_dic[0], inplace=True)\n",
    "\n",
    "\n",
    "\n"
   ]
  },
  {
   "cell_type": "code",
   "execution_count": 677,
   "metadata": {},
   "outputs": [],
   "source": [
    "replace_dic(dataset,total_dic)\n",
    "replace_dic(test,total_dic)\n",
    "replace_dic(kaggle,total_dic)\n"
   ]
  },
  {
   "cell_type": "code",
   "execution_count": 678,
   "metadata": {},
   "outputs": [
    {
     "data": {
      "text/html": [
       "<div>\n",
       "<style scoped>\n",
       "    .dataframe tbody tr th:only-of-type {\n",
       "        vertical-align: middle;\n",
       "    }\n",
       "\n",
       "    .dataframe tbody tr th {\n",
       "        vertical-align: top;\n",
       "    }\n",
       "\n",
       "    .dataframe thead th {\n",
       "        text-align: right;\n",
       "    }\n",
       "</style>\n",
       "<table border=\"1\" class=\"dataframe\">\n",
       "  <thead>\n",
       "    <tr style=\"text-align: right;\">\n",
       "      <th></th>\n",
       "      <th>ExterQual</th>\n",
       "      <th>BsmtQual</th>\n",
       "      <th>BsmtExposure</th>\n",
       "      <th>BsmtFinType1</th>\n",
       "      <th>HeatingQC</th>\n",
       "      <th>CentralAir</th>\n",
       "      <th>KitchenQual</th>\n",
       "      <th>GarageFinish</th>\n",
       "      <th>GarageQual</th>\n",
       "      <th>GarageCond</th>\n",
       "    </tr>\n",
       "  </thead>\n",
       "  <tbody>\n",
       "    <tr>\n",
       "      <th>0</th>\n",
       "      <td>4</td>\n",
       "      <td>4</td>\n",
       "      <td>0</td>\n",
       "      <td>6</td>\n",
       "      <td>5</td>\n",
       "      <td>1</td>\n",
       "      <td>4</td>\n",
       "      <td>2</td>\n",
       "      <td>3</td>\n",
       "      <td>3</td>\n",
       "    </tr>\n",
       "    <tr>\n",
       "      <th>1</th>\n",
       "      <td>3</td>\n",
       "      <td>4</td>\n",
       "      <td>5</td>\n",
       "      <td>5</td>\n",
       "      <td>5</td>\n",
       "      <td>1</td>\n",
       "      <td>3</td>\n",
       "      <td>2</td>\n",
       "      <td>3</td>\n",
       "      <td>3</td>\n",
       "    </tr>\n",
       "    <tr>\n",
       "      <th>2</th>\n",
       "      <td>4</td>\n",
       "      <td>4</td>\n",
       "      <td>1</td>\n",
       "      <td>6</td>\n",
       "      <td>5</td>\n",
       "      <td>1</td>\n",
       "      <td>4</td>\n",
       "      <td>2</td>\n",
       "      <td>3</td>\n",
       "      <td>3</td>\n",
       "    </tr>\n",
       "    <tr>\n",
       "      <th>3</th>\n",
       "      <td>3</td>\n",
       "      <td>3</td>\n",
       "      <td>0</td>\n",
       "      <td>5</td>\n",
       "      <td>4</td>\n",
       "      <td>1</td>\n",
       "      <td>4</td>\n",
       "      <td>0</td>\n",
       "      <td>3</td>\n",
       "      <td>3</td>\n",
       "    </tr>\n",
       "    <tr>\n",
       "      <th>4</th>\n",
       "      <td>4</td>\n",
       "      <td>4</td>\n",
       "      <td>3</td>\n",
       "      <td>6</td>\n",
       "      <td>5</td>\n",
       "      <td>1</td>\n",
       "      <td>4</td>\n",
       "      <td>2</td>\n",
       "      <td>3</td>\n",
       "      <td>3</td>\n",
       "    </tr>\n",
       "  </tbody>\n",
       "</table>\n",
       "</div>"
      ],
      "text/plain": [
       "   ExterQual  BsmtQual  BsmtExposure  BsmtFinType1  HeatingQC  CentralAir  \\\n",
       "0          4         4             0             6          5           1   \n",
       "1          3         4             5             5          5           1   \n",
       "2          4         4             1             6          5           1   \n",
       "3          3         3             0             5          4           1   \n",
       "4          4         4             3             6          5           1   \n",
       "\n",
       "   KitchenQual  GarageFinish  GarageQual  GarageCond  \n",
       "0            4             2           3           3  \n",
       "1            3             2           3           3  \n",
       "2            4             2           3           3  \n",
       "3            4             0           3           3  \n",
       "4            4             2           3           3  "
      ]
     },
     "execution_count": 678,
     "metadata": {},
     "output_type": "execute_result"
    }
   ],
   "source": [
    "# Verify that it worked \n",
    "dataset[features_to_convert].head(5)"
   ]
  },
  {
   "cell_type": "markdown",
   "metadata": {},
   "source": [
    "<hr>\n",
    "Now let's do the K encoding. We first of all convert the values into integers before creating a new feature for each value that a feature has.\n",
    "<hr>"
   ]
  },
  {
   "cell_type": "code",
   "execution_count": 679,
   "metadata": {},
   "outputs": [],
   "source": [
    "# Loop over the features and K encode it\n",
    "new_dataset = pd.DataFrame()\n",
    "new_test = pd.DataFrame()\n",
    "new_kaggle = pd.DataFrame()\n",
    "# Encode the features\n",
    "for feature in features_to_encode :\n",
    "    \n",
    "    # The new columns K encoded\n",
    "    new_columns = pd.get_dummies(dataset[feature], prefix_sep='_', drop_first=False, prefix = feature)\n",
    "    \n",
    "    new_columns_test = pd.get_dummies(test[feature], prefix_sep='_', drop_first=False, prefix = feature)\n",
    "   \n",
    "    # Make sure there is a good alignment between test and training sets\n",
    "    new_columns, new_columns_test = new_columns.align(new_columns_test,join = 'left',\\\n",
    "                                                      axis=1, fill_value=0) \n",
    "    \n",
    "    # Concatenation and drop the original feature\n",
    "    new_dataset = pd.concat([new_dataset, new_columns], ignore_index=False, axis = 1)\n",
    "    dataset.drop(feature, inplace=True,axis=1)\n",
    "    \n",
    "     \n",
    "    new_test = pd.concat([new_test, new_columns_test], ignore_index=False, axis = 1)\n",
    "    test.drop(feature, inplace=True,axis=1)\n",
    "    \n",
    "    new_columns_kaggle = pd.get_dummies(kaggle[feature], prefix_sep='_', drop_first=False, prefix = feature)\n",
    "    _, new_columns_kaggle = new_columns.align(new_columns_kaggle,join = 'left',\\\n",
    "                                                      axis=1, fill_value=0) \n",
    "    new_kaggle = pd.concat([new_kaggle, new_columns_kaggle], ignore_index=False, axis = 1)\n",
    "    kaggle.drop(feature, inplace=True,axis=1)\n",
    "    \n",
    "    \n",
    "    \n",
    "    \n",
    "    \n",
    "# Add it to the dataset \n",
    "\n",
    "dataset = pd.concat([dataset, new_dataset], axis=1)    \n",
    "test = pd.concat([test, new_test], axis=1)    \n",
    "kaggle = pd.concat([kaggle, new_kaggle], axis=1)\n",
    "\n",
    "    "
   ]
  },
  {
   "cell_type": "markdown",
   "metadata": {},
   "source": [
    "#### 1.4 Split into inputs and labels"
   ]
  },
  {
   "cell_type": "code",
   "execution_count": 680,
   "metadata": {},
   "outputs": [],
   "source": [
    "# Split the data into target and inputs\n",
    "\n",
    "y_train = dataset.SalePrice.values\n",
    "X_train = dataset.drop(['SalePrice'], axis = 1).values\n",
    "\n",
    "y_test = test.SalePrice.values\n",
    "X_test = test.drop(['SalePrice'], axis = 1).values\n",
    "\n",
    "\n"
   ]
  },
  {
   "cell_type": "code",
   "execution_count": 681,
   "metadata": {},
   "outputs": [],
   "source": [
    "kaggle.fillna(0,inplace=True)"
   ]
  },
  {
   "cell_type": "code",
   "execution_count": 682,
   "metadata": {},
   "outputs": [],
   "source": [
    "X_kaggle = kaggle.values"
   ]
  },
  {
   "cell_type": "code",
   "execution_count": 683,
   "metadata": {},
   "outputs": [
    {
     "data": {
      "text/plain": [
       "MSSubClass               0\n",
       "LotFrontage              0\n",
       "LotArea                  0\n",
       "Alley                    0\n",
       "OverallQual              0\n",
       "OverallCond              0\n",
       "YearBuilt                0\n",
       "YearRemodAdd             0\n",
       "MasVnrArea               0\n",
       "ExterQual                0\n",
       "BsmtQual                 0\n",
       "BsmtExposure             0\n",
       "BsmtFinType1             0\n",
       "BsmtFinSF1               0\n",
       "BsmtUnfSF                0\n",
       "TotalBsmtSF              0\n",
       "HeatingQC                0\n",
       "CentralAir               0\n",
       "2ndFlrSF                 0\n",
       "GrLivArea                0\n",
       "BsmtFullBath             0\n",
       "FullBath                 0\n",
       "HalfBath                 0\n",
       "BedroomAbvGr             0\n",
       "KitchenAbvGr             0\n",
       "KitchenQual              0\n",
       "Fireplaces               0\n",
       "FireplaceQu              0\n",
       "GarageFinish             0\n",
       "GarageCars               0\n",
       "                        ..\n",
       "Foundation_Slab          0\n",
       "Foundation_Stone         0\n",
       "Foundation_Wood          0\n",
       "Electrical_FuseA         0\n",
       "Electrical_FuseF         0\n",
       "Electrical_FuseP         0\n",
       "Electrical_Mix           0\n",
       "Electrical_SBrkr         0\n",
       "GarageType_2Types        0\n",
       "GarageType_Attchd        0\n",
       "GarageType_Basment       0\n",
       "GarageType_BuiltIn       0\n",
       "GarageType_CarPort       0\n",
       "GarageType_Detchd        0\n",
       "GarageType_None          0\n",
       "SaleCondition_Abnorml    0\n",
       "SaleCondition_AdjLand    0\n",
       "SaleCondition_Alloca     0\n",
       "SaleCondition_Family     0\n",
       "SaleCondition_Normal     0\n",
       "SaleCondition_Partial    0\n",
       "SaleType_COD             0\n",
       "SaleType_CWD             0\n",
       "SaleType_Con             0\n",
       "SaleType_ConLD           0\n",
       "SaleType_ConLI           0\n",
       "SaleType_ConLw           0\n",
       "SaleType_New             0\n",
       "SaleType_Oth             0\n",
       "SaleType_WD              0\n",
       "Length: 162, dtype: int64"
      ]
     },
     "execution_count": 683,
     "metadata": {},
     "output_type": "execute_result"
    }
   ],
   "source": [
    "kaggle.isnull().sum()"
   ]
  },
  {
   "cell_type": "code",
   "execution_count": 684,
   "metadata": {},
   "outputs": [
    {
     "data": {
      "text/html": [
       "<div>\n",
       "<style scoped>\n",
       "    .dataframe tbody tr th:only-of-type {\n",
       "        vertical-align: middle;\n",
       "    }\n",
       "\n",
       "    .dataframe tbody tr th {\n",
       "        vertical-align: top;\n",
       "    }\n",
       "\n",
       "    .dataframe thead th {\n",
       "        text-align: right;\n",
       "    }\n",
       "</style>\n",
       "<table border=\"1\" class=\"dataframe\">\n",
       "  <thead>\n",
       "    <tr style=\"text-align: right;\">\n",
       "      <th></th>\n",
       "      <th>MSSubClass</th>\n",
       "      <th>LotFrontage</th>\n",
       "      <th>LotArea</th>\n",
       "      <th>Alley</th>\n",
       "      <th>OverallQual</th>\n",
       "      <th>OverallCond</th>\n",
       "      <th>YearBuilt</th>\n",
       "      <th>YearRemodAdd</th>\n",
       "      <th>MasVnrArea</th>\n",
       "      <th>ExterQual</th>\n",
       "      <th>...</th>\n",
       "      <th>SaleCondition_Partial</th>\n",
       "      <th>SaleType_COD</th>\n",
       "      <th>SaleType_CWD</th>\n",
       "      <th>SaleType_Con</th>\n",
       "      <th>SaleType_ConLD</th>\n",
       "      <th>SaleType_ConLI</th>\n",
       "      <th>SaleType_ConLw</th>\n",
       "      <th>SaleType_New</th>\n",
       "      <th>SaleType_Oth</th>\n",
       "      <th>SaleType_WD</th>\n",
       "    </tr>\n",
       "  </thead>\n",
       "  <tbody>\n",
       "    <tr>\n",
       "      <th>0</th>\n",
       "      <td>-1.358140</td>\n",
       "      <td>-3.411049</td>\n",
       "      <td>-1.918733</td>\n",
       "      <td>None</td>\n",
       "      <td>-4.992592</td>\n",
       "      <td>-4.628862</td>\n",
       "      <td>-65.644659</td>\n",
       "      <td>-96.797545</td>\n",
       "      <td>-0.587678</td>\n",
       "      <td>3</td>\n",
       "      <td>...</td>\n",
       "      <td>0</td>\n",
       "      <td>0</td>\n",
       "      <td>0</td>\n",
       "      <td>0</td>\n",
       "      <td>0</td>\n",
       "      <td>0</td>\n",
       "      <td>0</td>\n",
       "      <td>0</td>\n",
       "      <td>0</td>\n",
       "      <td>1</td>\n",
       "    </tr>\n",
       "    <tr>\n",
       "      <th>1</th>\n",
       "      <td>-1.358140</td>\n",
       "      <td>-3.408633</td>\n",
       "      <td>-1.918635</td>\n",
       "      <td>None</td>\n",
       "      <td>-4.469664</td>\n",
       "      <td>-4.628862</td>\n",
       "      <td>-65.647984</td>\n",
       "      <td>-96.804671</td>\n",
       "      <td>-0.584110</td>\n",
       "      <td>3</td>\n",
       "      <td>...</td>\n",
       "      <td>0</td>\n",
       "      <td>0</td>\n",
       "      <td>0</td>\n",
       "      <td>0</td>\n",
       "      <td>0</td>\n",
       "      <td>0</td>\n",
       "      <td>0</td>\n",
       "      <td>0</td>\n",
       "      <td>0</td>\n",
       "      <td>1</td>\n",
       "    </tr>\n",
       "    <tr>\n",
       "      <th>2</th>\n",
       "      <td>-1.336165</td>\n",
       "      <td>-3.425549</td>\n",
       "      <td>-1.918651</td>\n",
       "      <td>None</td>\n",
       "      <td>-4.992592</td>\n",
       "      <td>-5.426523</td>\n",
       "      <td>-65.604754</td>\n",
       "      <td>-96.709663</td>\n",
       "      <td>-0.587678</td>\n",
       "      <td>3</td>\n",
       "      <td>...</td>\n",
       "      <td>0</td>\n",
       "      <td>0</td>\n",
       "      <td>0</td>\n",
       "      <td>0</td>\n",
       "      <td>0</td>\n",
       "      <td>0</td>\n",
       "      <td>0</td>\n",
       "      <td>0</td>\n",
       "      <td>0</td>\n",
       "      <td>1</td>\n",
       "    </tr>\n",
       "    <tr>\n",
       "      <th>3</th>\n",
       "      <td>-1.336165</td>\n",
       "      <td>-3.415883</td>\n",
       "      <td>-1.918793</td>\n",
       "      <td>None</td>\n",
       "      <td>-4.469664</td>\n",
       "      <td>-4.628862</td>\n",
       "      <td>-65.603646</td>\n",
       "      <td>-96.709663</td>\n",
       "      <td>-0.587017</td>\n",
       "      <td>3</td>\n",
       "      <td>...</td>\n",
       "      <td>0</td>\n",
       "      <td>0</td>\n",
       "      <td>0</td>\n",
       "      <td>0</td>\n",
       "      <td>0</td>\n",
       "      <td>0</td>\n",
       "      <td>0</td>\n",
       "      <td>0</td>\n",
       "      <td>0</td>\n",
       "      <td>1</td>\n",
       "    </tr>\n",
       "    <tr>\n",
       "      <th>4</th>\n",
       "      <td>-1.303202</td>\n",
       "      <td>-3.500466</td>\n",
       "      <td>-1.918976</td>\n",
       "      <td>None</td>\n",
       "      <td>-3.423807</td>\n",
       "      <td>-5.426523</td>\n",
       "      <td>-65.610296</td>\n",
       "      <td>-96.723914</td>\n",
       "      <td>-0.587678</td>\n",
       "      <td>4</td>\n",
       "      <td>...</td>\n",
       "      <td>0</td>\n",
       "      <td>0</td>\n",
       "      <td>0</td>\n",
       "      <td>0</td>\n",
       "      <td>0</td>\n",
       "      <td>0</td>\n",
       "      <td>0</td>\n",
       "      <td>0</td>\n",
       "      <td>0</td>\n",
       "      <td>1</td>\n",
       "    </tr>\n",
       "    <tr>\n",
       "      <th>5</th>\n",
       "      <td>-1.336165</td>\n",
       "      <td>-3.423133</td>\n",
       "      <td>-1.918792</td>\n",
       "      <td>None</td>\n",
       "      <td>-4.469664</td>\n",
       "      <td>-5.426523</td>\n",
       "      <td>-65.609188</td>\n",
       "      <td>-96.719164</td>\n",
       "      <td>-0.587678</td>\n",
       "      <td>3</td>\n",
       "      <td>...</td>\n",
       "      <td>0</td>\n",
       "      <td>0</td>\n",
       "      <td>0</td>\n",
       "      <td>0</td>\n",
       "      <td>0</td>\n",
       "      <td>0</td>\n",
       "      <td>0</td>\n",
       "      <td>0</td>\n",
       "      <td>0</td>\n",
       "      <td>1</td>\n",
       "    </tr>\n",
       "    <tr>\n",
       "      <th>6</th>\n",
       "      <td>-1.358140</td>\n",
       "      <td>-3.438647</td>\n",
       "      <td>-1.918867</td>\n",
       "      <td>None</td>\n",
       "      <td>-4.469664</td>\n",
       "      <td>-3.831200</td>\n",
       "      <td>-65.610296</td>\n",
       "      <td>-96.688286</td>\n",
       "      <td>-0.587678</td>\n",
       "      <td>3</td>\n",
       "      <td>...</td>\n",
       "      <td>0</td>\n",
       "      <td>0</td>\n",
       "      <td>0</td>\n",
       "      <td>0</td>\n",
       "      <td>0</td>\n",
       "      <td>0</td>\n",
       "      <td>0</td>\n",
       "      <td>0</td>\n",
       "      <td>0</td>\n",
       "      <td>1</td>\n",
       "    </tr>\n",
       "    <tr>\n",
       "      <th>7</th>\n",
       "      <td>-1.336165</td>\n",
       "      <td>-3.452133</td>\n",
       "      <td>-1.918851</td>\n",
       "      <td>None</td>\n",
       "      <td>-4.469664</td>\n",
       "      <td>-5.426523</td>\n",
       "      <td>-65.603646</td>\n",
       "      <td>-96.709663</td>\n",
       "      <td>-0.587678</td>\n",
       "      <td>3</td>\n",
       "      <td>...</td>\n",
       "      <td>0</td>\n",
       "      <td>0</td>\n",
       "      <td>0</td>\n",
       "      <td>0</td>\n",
       "      <td>0</td>\n",
       "      <td>0</td>\n",
       "      <td>0</td>\n",
       "      <td>0</td>\n",
       "      <td>0</td>\n",
       "      <td>1</td>\n",
       "    </tr>\n",
       "    <tr>\n",
       "      <th>8</th>\n",
       "      <td>-1.358140</td>\n",
       "      <td>-3.398966</td>\n",
       "      <td>-1.918786</td>\n",
       "      <td>None</td>\n",
       "      <td>-3.946735</td>\n",
       "      <td>-5.426523</td>\n",
       "      <td>-65.612513</td>\n",
       "      <td>-96.728664</td>\n",
       "      <td>-0.587678</td>\n",
       "      <td>3</td>\n",
       "      <td>...</td>\n",
       "      <td>0</td>\n",
       "      <td>0</td>\n",
       "      <td>0</td>\n",
       "      <td>0</td>\n",
       "      <td>0</td>\n",
       "      <td>0</td>\n",
       "      <td>0</td>\n",
       "      <td>0</td>\n",
       "      <td>0</td>\n",
       "      <td>1</td>\n",
       "    </tr>\n",
       "    <tr>\n",
       "      <th>9</th>\n",
       "      <td>-1.358140</td>\n",
       "      <td>-3.435216</td>\n",
       "      <td>-1.918851</td>\n",
       "      <td>None</td>\n",
       "      <td>-5.515520</td>\n",
       "      <td>-5.426523</td>\n",
       "      <td>-65.634683</td>\n",
       "      <td>-96.776169</td>\n",
       "      <td>-0.587678</td>\n",
       "      <td>3</td>\n",
       "      <td>...</td>\n",
       "      <td>0</td>\n",
       "      <td>0</td>\n",
       "      <td>0</td>\n",
       "      <td>0</td>\n",
       "      <td>0</td>\n",
       "      <td>0</td>\n",
       "      <td>0</td>\n",
       "      <td>0</td>\n",
       "      <td>0</td>\n",
       "      <td>1</td>\n",
       "    </tr>\n",
       "  </tbody>\n",
       "</table>\n",
       "<p>10 rows × 162 columns</p>\n",
       "</div>"
      ],
      "text/plain": [
       "   MSSubClass  LotFrontage   LotArea Alley  OverallQual  OverallCond  \\\n",
       "0   -1.358140    -3.411049 -1.918733  None    -4.992592    -4.628862   \n",
       "1   -1.358140    -3.408633 -1.918635  None    -4.469664    -4.628862   \n",
       "2   -1.336165    -3.425549 -1.918651  None    -4.992592    -5.426523   \n",
       "3   -1.336165    -3.415883 -1.918793  None    -4.469664    -4.628862   \n",
       "4   -1.303202    -3.500466 -1.918976  None    -3.423807    -5.426523   \n",
       "5   -1.336165    -3.423133 -1.918792  None    -4.469664    -5.426523   \n",
       "6   -1.358140    -3.438647 -1.918867  None    -4.469664    -3.831200   \n",
       "7   -1.336165    -3.452133 -1.918851  None    -4.469664    -5.426523   \n",
       "8   -1.358140    -3.398966 -1.918786  None    -3.946735    -5.426523   \n",
       "9   -1.358140    -3.435216 -1.918851  None    -5.515520    -5.426523   \n",
       "\n",
       "   YearBuilt  YearRemodAdd  MasVnrArea  ExterQual     ...       \\\n",
       "0 -65.644659    -96.797545   -0.587678          3     ...        \n",
       "1 -65.647984    -96.804671   -0.584110          3     ...        \n",
       "2 -65.604754    -96.709663   -0.587678          3     ...        \n",
       "3 -65.603646    -96.709663   -0.587017          3     ...        \n",
       "4 -65.610296    -96.723914   -0.587678          4     ...        \n",
       "5 -65.609188    -96.719164   -0.587678          3     ...        \n",
       "6 -65.610296    -96.688286   -0.587678          3     ...        \n",
       "7 -65.603646    -96.709663   -0.587678          3     ...        \n",
       "8 -65.612513    -96.728664   -0.587678          3     ...        \n",
       "9 -65.634683    -96.776169   -0.587678          3     ...        \n",
       "\n",
       "   SaleCondition_Partial  SaleType_COD  SaleType_CWD  SaleType_Con  \\\n",
       "0                      0             0             0             0   \n",
       "1                      0             0             0             0   \n",
       "2                      0             0             0             0   \n",
       "3                      0             0             0             0   \n",
       "4                      0             0             0             0   \n",
       "5                      0             0             0             0   \n",
       "6                      0             0             0             0   \n",
       "7                      0             0             0             0   \n",
       "8                      0             0             0             0   \n",
       "9                      0             0             0             0   \n",
       "\n",
       "   SaleType_ConLD  SaleType_ConLI  SaleType_ConLw  SaleType_New  SaleType_Oth  \\\n",
       "0               0               0               0             0             0   \n",
       "1               0               0               0             0             0   \n",
       "2               0               0               0             0             0   \n",
       "3               0               0               0             0             0   \n",
       "4               0               0               0             0             0   \n",
       "5               0               0               0             0             0   \n",
       "6               0               0               0             0             0   \n",
       "7               0               0               0             0             0   \n",
       "8               0               0               0             0             0   \n",
       "9               0               0               0             0             0   \n",
       "\n",
       "   SaleType_WD  \n",
       "0            1  \n",
       "1            1  \n",
       "2            1  \n",
       "3            1  \n",
       "4            1  \n",
       "5            1  \n",
       "6            1  \n",
       "7            1  \n",
       "8            1  \n",
       "9            1  \n",
       "\n",
       "[10 rows x 162 columns]"
      ]
     },
     "execution_count": 684,
     "metadata": {},
     "output_type": "execute_result"
    }
   ],
   "source": [
    "kaggle.head(10)"
   ]
  },
  {
   "cell_type": "code",
   "execution_count": 685,
   "metadata": {},
   "outputs": [],
   "source": [
    "X_kaggle = kaggle.values"
   ]
  },
  {
   "cell_type": "code",
   "execution_count": 686,
   "metadata": {},
   "outputs": [
    {
     "data": {
      "text/plain": [
       "(1459, 162)"
      ]
     },
     "execution_count": 686,
     "metadata": {},
     "output_type": "execute_result"
    }
   ],
   "source": [
    "X_kaggle.shape"
   ]
  },
  {
   "cell_type": "code",
   "execution_count": 687,
   "metadata": {},
   "outputs": [
    {
     "data": {
      "text/plain": [
       "(1200, 157)"
      ]
     },
     "execution_count": 687,
     "metadata": {},
     "output_type": "execute_result"
    }
   ],
   "source": [
    "X_train.shape"
   ]
  },
  {
   "cell_type": "code",
   "execution_count": 688,
   "metadata": {},
   "outputs": [],
   "source": [
    "not_in_kaggle = []\n",
    "for x in kaggle.columns : \n",
    "    \n",
    "    if x not in dataset.columns :\n",
    "        not_in_kaggle.append(x)"
   ]
  },
  {
   "cell_type": "code",
   "execution_count": 689,
   "metadata": {},
   "outputs": [
    {
     "data": {
      "text/plain": [
       "['Alley', 'FireplaceQu', 'PoolQC', 'Fence', 'MiscFeature']"
      ]
     },
     "execution_count": 689,
     "metadata": {},
     "output_type": "execute_result"
    }
   ],
   "source": [
    "not_in_kaggle"
   ]
  },
  {
   "cell_type": "code",
   "execution_count": 690,
   "metadata": {},
   "outputs": [],
   "source": [
    "kaggle.drop(not_in_kaggle, inplace=True, axis=1)"
   ]
  },
  {
   "cell_type": "code",
   "execution_count": 691,
   "metadata": {},
   "outputs": [
    {
     "data": {
      "text/plain": [
       "(1459, 157)"
      ]
     },
     "execution_count": 691,
     "metadata": {},
     "output_type": "execute_result"
    }
   ],
   "source": [
    "kaggle.shape"
   ]
  },
  {
   "cell_type": "code",
   "execution_count": 692,
   "metadata": {},
   "outputs": [],
   "source": [
    "X_kaggle = kaggle.values"
   ]
  },
  {
   "cell_type": "code",
   "execution_count": null,
   "metadata": {},
   "outputs": [],
   "source": []
  },
  {
   "cell_type": "code",
   "execution_count": null,
   "metadata": {},
   "outputs": [],
   "source": []
  },
  {
   "cell_type": "code",
   "execution_count": null,
   "metadata": {},
   "outputs": [],
   "source": []
  },
  {
   "cell_type": "markdown",
   "metadata": {},
   "source": [
    "### 2. Model selection"
   ]
  },
  {
   "cell_type": "code",
   "execution_count": 744,
   "metadata": {},
   "outputs": [],
   "source": [
    "def log_rmse(y,y_pred) :\n",
    "    mse = mean_squared_error(  np.log(y*[y>0] + [y<=0]*1), np.log(y_pred*[y_pred>0] + [y_pred<=0]*1)  )\n",
    "    return np.sqrt(mse)"
   ]
  },
  {
   "cell_type": "code",
   "execution_count": 745,
   "metadata": {},
   "outputs": [],
   "source": [
    "def tuned_acc(y,y_pred) :\n",
    "    N = len(y)\n",
    "    r=0\n",
    "    for i in range(0,N-1):\n",
    "       r = r + abs(y[i]-y_pred[i])/y[i]\n",
    "    return 1-r/N"
   ]
  },
  {
   "cell_type": "markdown",
   "metadata": {},
   "source": [
    "<div class='alert alert-block alert-info'>\n",
    "Linear regression\n",
    "</div>"
   ]
  },
  {
   "cell_type": "code",
   "execution_count": 795,
   "metadata": {},
   "outputs": [],
   "source": [
    "def plot_scores(clf,name) :\n",
    "    \n",
    "    \n",
    "    clf_score = cross_validate(clf, X_train, y_train, scoring={'log_rmse': make_scorer(log_rmse), \\\n",
    "                                                           'tuned_acc': make_scorer(tuned_acc),\\\n",
    "                                                          'r2_score':make_scorer(r2_score)}, cv=5)\n",
    "    \n",
    "    y_predict_clf = clf.fit(X_train, y_train).predict(X_train)\n",
    "    \n",
    "    \n",
    "    \n",
    "    data = {'Training set' : [log_rmse(y_predict_clf,y_train), tuned_acc(y_predict_clf,y_train),\\\n",
    "                              r2_score(y_predict_clf,y_train)],\\\n",
    "           'Validation set': [clf_score['test_log_rmse'].mean(),clf_score['test_tuned_acc'].mean(),\\\n",
    "                              reg_score['test_r2_score'].mean()]}\n",
    "    \n",
    "    df = pd.DataFrame(data, columns=['Training set','Validation set'], index=['Log RMSE','Tuned Acc',\\\n",
    "                                                                             'R2 score'])\n",
    "    print('Model used : {}'.format(name))\n",
    "    return df\n",
    "    "
   ]
  },
  {
   "cell_type": "code",
   "execution_count": 747,
   "metadata": {},
   "outputs": [],
   "source": [
    "from sklearn.linear_model import LinearRegression\n",
    "from sklearn.metrics.scorer import make_scorer\n",
    "from sklearn.metrics import r2_score\n",
    "\n",
    "reg = LinearRegression()\n",
    "reg_score = cross_validate(reg, X_train, y_train, scoring={'log_rmse': make_scorer(log_rmse), \\\n",
    "                                                           'tuned_acc': make_scorer(tuned_acc),\\\n",
    "                                                          'r2_score':make_scorer(r2_score)}, cv=5)"
   ]
  },
  {
   "cell_type": "code",
   "execution_count": 748,
   "metadata": {},
   "outputs": [
    {
     "name": "stdout",
     "output_type": "stream",
     "text": [
      "Model used : Linear Regression\n"
     ]
    },
    {
     "data": {
      "text/html": [
       "<div>\n",
       "<style scoped>\n",
       "    .dataframe tbody tr th:only-of-type {\n",
       "        vertical-align: middle;\n",
       "    }\n",
       "\n",
       "    .dataframe tbody tr th {\n",
       "        vertical-align: top;\n",
       "    }\n",
       "\n",
       "    .dataframe thead th {\n",
       "        text-align: right;\n",
       "    }\n",
       "</style>\n",
       "<table border=\"1\" class=\"dataframe\">\n",
       "  <thead>\n",
       "    <tr style=\"text-align: right;\">\n",
       "      <th></th>\n",
       "      <th>Training set</th>\n",
       "      <th>Validation set</th>\n",
       "    </tr>\n",
       "  </thead>\n",
       "  <tbody>\n",
       "    <tr>\n",
       "      <th>Log RMSE</th>\n",
       "      <td>0.136096</td>\n",
       "      <td>0.182465</td>\n",
       "    </tr>\n",
       "    <tr>\n",
       "      <th>Tuned Acc</th>\n",
       "      <td>0.902382</td>\n",
       "      <td>0.880881</td>\n",
       "    </tr>\n",
       "    <tr>\n",
       "      <th>R2 score</th>\n",
       "      <td>0.880150</td>\n",
       "      <td>0.834738</td>\n",
       "    </tr>\n",
       "  </tbody>\n",
       "</table>\n",
       "</div>"
      ],
      "text/plain": [
       "           Training set  Validation set\n",
       "Log RMSE       0.136096        0.182465\n",
       "Tuned Acc      0.902382        0.880881\n",
       "R2 score       0.880150        0.834738"
      ]
     },
     "execution_count": 748,
     "metadata": {},
     "output_type": "execute_result"
    }
   ],
   "source": [
    "plot_scores(reg,'Linear Regression')"
   ]
  },
  {
   "cell_type": "markdown",
   "metadata": {},
   "source": [
    "<div class='alert alert-block alert-info'>\n",
    "SVM\n",
    "</div>"
   ]
  },
  {
   "cell_type": "code",
   "execution_count": 749,
   "metadata": {},
   "outputs": [],
   "source": [
    "from sklearn.svm import SVR\n",
    "svm_reg = SVR(tol=1e-5, max_iter=1000)\n",
    "    \n",
    "svm_score = cross_validate(svm_reg, X_train, y_train, scoring={'log_rmse': make_scorer(log_rmse), 'tuned_acc': make_scorer(tuned_acc),\\\n",
    "                                                              'r2_score':make_scorer(r2_score)}, cv=5)\n"
   ]
  },
  {
   "cell_type": "code",
   "execution_count": 750,
   "metadata": {},
   "outputs": [
    {
     "data": {
      "text/plain": [
       "GridSearchCV(cv=5, error_score=nan,\n",
       "             estimator=SVR(C=1.0, cache_size=200, coef0=0.0, degree=3,\n",
       "                           epsilon=0.1, gamma='scale', kernel='rbf',\n",
       "                           max_iter=-1, shrinking=True, tol=0.001,\n",
       "                           verbose=False),\n",
       "             iid='deprecated', n_jobs=None,\n",
       "             param_grid=[{'C': [1, 10, 100, 1000], 'gamma': [0.001, 0.0001],\n",
       "                          'kernel': ['rbf']},\n",
       "                         {'C': [1, 10, 100, 1000], 'kernel': ['linear']}],\n",
       "             pre_dispatch='2*n_jobs', refit=True, return_train_score=False,\n",
       "             scoring=make_scorer(r2_score), verbose=0)"
      ]
     },
     "execution_count": 750,
     "metadata": {},
     "output_type": "execute_result"
    }
   ],
   "source": [
    "param = [{'kernel': ['rbf'], 'gamma': [1e-3, 1e-4],\n",
    "                     'C': [1, 10, 100, 1000]},\n",
    "                    {'kernel': ['linear'], 'C': [1, 10, 100, 1000]}]\n",
    "\n",
    "grid_svm = GridSearchCV(SVR(), param_grid=param, scoring=make_scorer(r2_score), cv=5)\n",
    "grid_svm.fit(X_train, y_train)"
   ]
  },
  {
   "cell_type": "code",
   "execution_count": 751,
   "metadata": {},
   "outputs": [
    {
     "name": "stdout",
     "output_type": "stream",
     "text": [
      "Model used : SVR\n"
     ]
    },
    {
     "data": {
      "text/html": [
       "<div>\n",
       "<style scoped>\n",
       "    .dataframe tbody tr th:only-of-type {\n",
       "        vertical-align: middle;\n",
       "    }\n",
       "\n",
       "    .dataframe tbody tr th {\n",
       "        vertical-align: top;\n",
       "    }\n",
       "\n",
       "    .dataframe thead th {\n",
       "        text-align: right;\n",
       "    }\n",
       "</style>\n",
       "<table border=\"1\" class=\"dataframe\">\n",
       "  <thead>\n",
       "    <tr style=\"text-align: right;\">\n",
       "      <th></th>\n",
       "      <th>Training set</th>\n",
       "      <th>Validation set</th>\n",
       "    </tr>\n",
       "  </thead>\n",
       "  <tbody>\n",
       "    <tr>\n",
       "      <th>Log RMSE</th>\n",
       "      <td>0.202720</td>\n",
       "      <td>0.288926</td>\n",
       "    </tr>\n",
       "    <tr>\n",
       "      <th>Tuned Acc</th>\n",
       "      <td>0.828537</td>\n",
       "      <td>0.877940</td>\n",
       "    </tr>\n",
       "    <tr>\n",
       "      <th>R2 score</th>\n",
       "      <td>0.703170</td>\n",
       "      <td>0.834738</td>\n",
       "    </tr>\n",
       "  </tbody>\n",
       "</table>\n",
       "</div>"
      ],
      "text/plain": [
       "           Training set  Validation set\n",
       "Log RMSE       0.202720        0.288926\n",
       "Tuned Acc      0.828537        0.877940\n",
       "R2 score       0.703170        0.834738"
      ]
     },
     "execution_count": 751,
     "metadata": {},
     "output_type": "execute_result"
    }
   ],
   "source": [
    "plot_scores(grid_svm,'SVR')"
   ]
  },
  {
   "cell_type": "markdown",
   "metadata": {},
   "source": [
    "<div class='alert alert-block alert-info'>\n",
    "Random forest\n",
    "</div>"
   ]
  },
  {
   "cell_type": "code",
   "execution_count": 752,
   "metadata": {},
   "outputs": [],
   "source": [
    "from sklearn.ensemble import RandomForestRegressor"
   ]
  },
  {
   "cell_type": "code",
   "execution_count": 753,
   "metadata": {},
   "outputs": [
    {
     "data": {
      "text/plain": [
       "GridSearchCV(cv=5, error_score=nan,\n",
       "             estimator=RandomForestRegressor(bootstrap=True, ccp_alpha=0.0,\n",
       "                                             criterion='mse', max_depth=None,\n",
       "                                             max_features='auto',\n",
       "                                             max_leaf_nodes=None,\n",
       "                                             max_samples=None,\n",
       "                                             min_impurity_decrease=0.0,\n",
       "                                             min_impurity_split=None,\n",
       "                                             min_samples_leaf=1,\n",
       "                                             min_samples_split=2,\n",
       "                                             min_weight_fraction_leaf=0.0,\n",
       "                                             n_estimators=100, n_jobs=None,\n",
       "                                             oob_score=False, random_state=None,\n",
       "                                             verbose=0, warm_start=False),\n",
       "             iid='deprecated', n_jobs=None,\n",
       "             param_grid=[{'max_depth': array([10, 20]),\n",
       "                          'n_estimators': [50, 70, 90, 100],\n",
       "                          'random_state': [77]}],\n",
       "             pre_dispatch='2*n_jobs', refit=True, return_train_score=False,\n",
       "             scoring=make_scorer(log_rmse), verbose=0)"
      ]
     },
     "execution_count": 753,
     "metadata": {},
     "output_type": "execute_result"
    }
   ],
   "source": [
    "param_rfr = [{'n_estimators': [50,70,90,100], 'max_depth': np.arange(10,30,10),\\\n",
    "                     'random_state': [SEED]}]\n",
    "\n",
    "grid_rfr = GridSearchCV(RandomForestRegressor(), param_grid=param_rfr, scoring=make_scorer(log_rmse), cv=5)\n",
    "grid_rfr.fit(X_train, y_train)"
   ]
  },
  {
   "cell_type": "code",
   "execution_count": 754,
   "metadata": {},
   "outputs": [
    {
     "name": "stdout",
     "output_type": "stream",
     "text": [
      "Model used : Random Forest Regressor\n"
     ]
    },
    {
     "data": {
      "text/html": [
       "<div>\n",
       "<style scoped>\n",
       "    .dataframe tbody tr th:only-of-type {\n",
       "        vertical-align: middle;\n",
       "    }\n",
       "\n",
       "    .dataframe tbody tr th {\n",
       "        vertical-align: top;\n",
       "    }\n",
       "\n",
       "    .dataframe thead th {\n",
       "        text-align: right;\n",
       "    }\n",
       "</style>\n",
       "<table border=\"1\" class=\"dataframe\">\n",
       "  <thead>\n",
       "    <tr style=\"text-align: right;\">\n",
       "      <th></th>\n",
       "      <th>Training set</th>\n",
       "      <th>Validation set</th>\n",
       "    </tr>\n",
       "  </thead>\n",
       "  <tbody>\n",
       "    <tr>\n",
       "      <th>Log RMSE</th>\n",
       "      <td>0.069951</td>\n",
       "      <td>0.146377</td>\n",
       "    </tr>\n",
       "    <tr>\n",
       "      <th>Tuned Acc</th>\n",
       "      <td>0.953283</td>\n",
       "      <td>0.895311</td>\n",
       "    </tr>\n",
       "    <tr>\n",
       "      <th>R2 score</th>\n",
       "      <td>0.973672</td>\n",
       "      <td>0.834738</td>\n",
       "    </tr>\n",
       "  </tbody>\n",
       "</table>\n",
       "</div>"
      ],
      "text/plain": [
       "           Training set  Validation set\n",
       "Log RMSE       0.069951        0.146377\n",
       "Tuned Acc      0.953283        0.895311\n",
       "R2 score       0.973672        0.834738"
      ]
     },
     "execution_count": 754,
     "metadata": {},
     "output_type": "execute_result"
    }
   ],
   "source": [
    "plot_scores(grid_rfr,'Random Forest Regressor')"
   ]
  },
  {
   "cell_type": "markdown",
   "metadata": {},
   "source": [
    "OVERFITING "
   ]
  },
  {
   "cell_type": "code",
   "execution_count": 755,
   "metadata": {},
   "outputs": [],
   "source": [
    "param_rfr ={'n_estimators': 100, 'max_depth': 5,\\\n",
    "                     'random_state': SEED}"
   ]
  },
  {
   "cell_type": "code",
   "execution_count": 756,
   "metadata": {},
   "outputs": [],
   "source": [
    "rfr = RandomForestRegressor(**param_rfr)"
   ]
  },
  {
   "cell_type": "code",
   "execution_count": 757,
   "metadata": {},
   "outputs": [
    {
     "name": "stdout",
     "output_type": "stream",
     "text": [
      "Model used : Random Forest Regressor\n"
     ]
    },
    {
     "data": {
      "text/html": [
       "<div>\n",
       "<style scoped>\n",
       "    .dataframe tbody tr th:only-of-type {\n",
       "        vertical-align: middle;\n",
       "    }\n",
       "\n",
       "    .dataframe tbody tr th {\n",
       "        vertical-align: top;\n",
       "    }\n",
       "\n",
       "    .dataframe thead th {\n",
       "        text-align: right;\n",
       "    }\n",
       "</style>\n",
       "<table border=\"1\" class=\"dataframe\">\n",
       "  <thead>\n",
       "    <tr style=\"text-align: right;\">\n",
       "      <th></th>\n",
       "      <th>Training set</th>\n",
       "      <th>Validation set</th>\n",
       "    </tr>\n",
       "  </thead>\n",
       "  <tbody>\n",
       "    <tr>\n",
       "      <th>Log RMSE</th>\n",
       "      <td>0.143070</td>\n",
       "      <td>0.168803</td>\n",
       "    </tr>\n",
       "    <tr>\n",
       "      <th>Tuned Acc</th>\n",
       "      <td>0.904687</td>\n",
       "      <td>0.875131</td>\n",
       "    </tr>\n",
       "    <tr>\n",
       "      <th>R2 score</th>\n",
       "      <td>0.894271</td>\n",
       "      <td>0.834738</td>\n",
       "    </tr>\n",
       "  </tbody>\n",
       "</table>\n",
       "</div>"
      ],
      "text/plain": [
       "           Training set  Validation set\n",
       "Log RMSE       0.143070        0.168803\n",
       "Tuned Acc      0.904687        0.875131\n",
       "R2 score       0.894271        0.834738"
      ]
     },
     "execution_count": 757,
     "metadata": {},
     "output_type": "execute_result"
    }
   ],
   "source": [
    "plot_scores(rfr,'Random Forest Regressor')"
   ]
  },
  {
   "cell_type": "markdown",
   "metadata": {},
   "source": [
    "Multi Layer Perceptron Regressor"
   ]
  },
  {
   "cell_type": "code",
   "execution_count": 758,
   "metadata": {},
   "outputs": [],
   "source": [
    "from sklearn.neural_network import MLPRegressor"
   ]
  },
  {
   "cell_type": "code",
   "execution_count": 759,
   "metadata": {},
   "outputs": [],
   "source": [
    "params_mlpr = {\n",
    "    'hidden_layer_sizes' : (100,100,10),\n",
    "    'activation' : 'relu', \n",
    "    'solver':\"adam\", \n",
    "    'alpha':0.001,\n",
    "    'random_state':SEED,\n",
    "    'max_iter' : 5000\n",
    "    \n",
    "}\n",
    "mlpr = MLPRegressor( **params_mlpr   )"
   ]
  },
  {
   "cell_type": "code",
   "execution_count": 760,
   "metadata": {},
   "outputs": [
    {
     "name": "stdout",
     "output_type": "stream",
     "text": [
      "Model used : MultiLayer Perceptron Regressor\n"
     ]
    },
    {
     "data": {
      "text/html": [
       "<div>\n",
       "<style scoped>\n",
       "    .dataframe tbody tr th:only-of-type {\n",
       "        vertical-align: middle;\n",
       "    }\n",
       "\n",
       "    .dataframe tbody tr th {\n",
       "        vertical-align: top;\n",
       "    }\n",
       "\n",
       "    .dataframe thead th {\n",
       "        text-align: right;\n",
       "    }\n",
       "</style>\n",
       "<table border=\"1\" class=\"dataframe\">\n",
       "  <thead>\n",
       "    <tr style=\"text-align: right;\">\n",
       "      <th></th>\n",
       "      <th>Training set</th>\n",
       "      <th>Validation set</th>\n",
       "    </tr>\n",
       "  </thead>\n",
       "  <tbody>\n",
       "    <tr>\n",
       "      <th>Log RMSE</th>\n",
       "      <td>0.128311</td>\n",
       "      <td>0.164152</td>\n",
       "    </tr>\n",
       "    <tr>\n",
       "      <th>Tuned Acc</th>\n",
       "      <td>0.908917</td>\n",
       "      <td>0.885841</td>\n",
       "    </tr>\n",
       "    <tr>\n",
       "      <th>R2 score</th>\n",
       "      <td>0.891707</td>\n",
       "      <td>0.834738</td>\n",
       "    </tr>\n",
       "  </tbody>\n",
       "</table>\n",
       "</div>"
      ],
      "text/plain": [
       "           Training set  Validation set\n",
       "Log RMSE       0.128311        0.164152\n",
       "Tuned Acc      0.908917        0.885841\n",
       "R2 score       0.891707        0.834738"
      ]
     },
     "execution_count": 760,
     "metadata": {},
     "output_type": "execute_result"
    }
   ],
   "source": [
    "plot_scores(mlpr,'MultiLayer Perceptron Regressor')"
   ]
  },
  {
   "cell_type": "markdown",
   "metadata": {},
   "source": [
    "LASSO"
   ]
  },
  {
   "cell_type": "code",
   "execution_count": 761,
   "metadata": {},
   "outputs": [
    {
     "name": "stderr",
     "output_type": "stream",
     "text": [
      "/mnt/workspace/.local/lib/python3.5/site-packages/sklearn/linear_model/_coordinate_descent.py:476: ConvergenceWarning: Objective did not converge. You might want to increase the number of iterations. Duality gap: 7473111400.893066, tolerance: 647733399.0403956\n",
      "  positive)\n",
      "/mnt/workspace/.local/lib/python3.5/site-packages/sklearn/linear_model/_coordinate_descent.py:476: ConvergenceWarning: Objective did not converge. You might want to increase the number of iterations. Duality gap: 44458962641.66937, tolerance: 637756139.7323575\n",
      "  positive)\n",
      "/mnt/workspace/.local/lib/python3.5/site-packages/sklearn/linear_model/_coordinate_descent.py:476: ConvergenceWarning: Objective did not converge. You might want to increase the number of iterations. Duality gap: 13435736003.358582, tolerance: 594755138.0657\n",
      "  positive)\n",
      "/mnt/workspace/.local/lib/python3.5/site-packages/sklearn/linear_model/_coordinate_descent.py:476: ConvergenceWarning: Objective did not converge. You might want to increase the number of iterations. Duality gap: 2293665047.7647705, tolerance: 649883828.0027932\n",
      "  positive)\n",
      "/mnt/workspace/.local/lib/python3.5/site-packages/sklearn/linear_model/_coordinate_descent.py:476: ConvergenceWarning: Objective did not converge. You might want to increase the number of iterations. Duality gap: 1906490067.6462402, tolerance: 621844648.8083982\n",
      "  positive)\n"
     ]
    }
   ],
   "source": [
    "from sklearn.linear_model import Lasso\n",
    "\n",
    "alphas = [0.1, 0.3, 1, 2, 3, 4.5, 6]\n",
    "cv_lasso_acc = []\n",
    "cv_lasso_log_rmse = []\n",
    "for alpha in alphas :\n",
    "    \n",
    "    cv=cross_validate(Lasso(max_iter=10000, alpha=alpha, random_state = SEED), X_train,\\\n",
    "                      y_train, scoring={'tuned_acc': make_scorer(tuned_acc),\\\n",
    "                                        'log_rmse': make_scorer(log_rmse)}, cv=5)\n",
    "    cv_lasso_acc.append(1-cv['test_tuned_acc'].mean())\n",
    "    cv_lasso_log_rmse.append(cv['test_log_rmse'].mean())"
   ]
  },
  {
   "cell_type": "code",
   "execution_count": 762,
   "metadata": {},
   "outputs": [
    {
     "data": {
      "image/png": "[encoded data removed]",
      "text/plain": [
       "<Figure size 432x288 with 1 Axes>"
      ]
     },
     "metadata": {},
     "output_type": "display_data"
    },
    {
     "data": {
      "text/plain": [
       "Text(0,0.5,'log rmse')"
      ]
     },
     "execution_count": 762,
     "metadata": {},
     "output_type": "execute_result"
    },
    {
     "data": {
      "image/png": "[encoded data removed]",
      "text/plain": [
       "<Figure size 432x288 with 1 Axes>"
      ]
     },
     "metadata": {},
     "output_type": "display_data"
    }
   ],
   "source": [
    "cv_lasso_acc_plot = pd.Series(cv_lasso_acc, index = alphas)\n",
    "cv_lasso_acc_plot.plot(title = \"cv_lasso_acc\")\n",
    "plt.xlabel(\"alpha\")\n",
    "plt.ylabel(\"Mean error (in percent)\")\n",
    "plt.show()\n",
    "\n",
    "cv_lasso_log_rmse_plot = pd.Series(cv_lasso_log_rmse, index = alphas)\n",
    "cv_lasso_log_rmse_plot.plot(title = \"cv_lasso_log_rmse\")\n",
    "plt.xlabel(\"alpha\")\n",
    "plt.ylabel(\"log rmse\")"
   ]
  },
  {
   "cell_type": "code",
   "execution_count": 763,
   "metadata": {},
   "outputs": [],
   "source": [
    "lasso_model = Lasso(max_iter=100000, alpha=3)"
   ]
  },
  {
   "cell_type": "code",
   "execution_count": 764,
   "metadata": {},
   "outputs": [
    {
     "name": "stdout",
     "output_type": "stream",
     "text": [
      "Model used : Lasso\n"
     ]
    },
    {
     "data": {
      "text/html": [
       "<div>\n",
       "<style scoped>\n",
       "    .dataframe tbody tr th:only-of-type {\n",
       "        vertical-align: middle;\n",
       "    }\n",
       "\n",
       "    .dataframe tbody tr th {\n",
       "        vertical-align: top;\n",
       "    }\n",
       "\n",
       "    .dataframe thead th {\n",
       "        text-align: right;\n",
       "    }\n",
       "</style>\n",
       "<table border=\"1\" class=\"dataframe\">\n",
       "  <thead>\n",
       "    <tr style=\"text-align: right;\">\n",
       "      <th></th>\n",
       "      <th>Training set</th>\n",
       "      <th>Validation set</th>\n",
       "    </tr>\n",
       "  </thead>\n",
       "  <tbody>\n",
       "    <tr>\n",
       "      <th>Log RMSE</th>\n",
       "      <td>0.137499</td>\n",
       "      <td>0.178407</td>\n",
       "    </tr>\n",
       "    <tr>\n",
       "      <th>Tuned Acc</th>\n",
       "      <td>0.899931</td>\n",
       "      <td>0.879930</td>\n",
       "    </tr>\n",
       "    <tr>\n",
       "      <th>R2 score</th>\n",
       "      <td>0.869909</td>\n",
       "      <td>0.834738</td>\n",
       "    </tr>\n",
       "  </tbody>\n",
       "</table>\n",
       "</div>"
      ],
      "text/plain": [
       "           Training set  Validation set\n",
       "Log RMSE       0.137499        0.178407\n",
       "Tuned Acc      0.899931        0.879930\n",
       "R2 score       0.869909        0.834738"
      ]
     },
     "execution_count": 764,
     "metadata": {},
     "output_type": "execute_result"
    }
   ],
   "source": [
    "plot_scores(lasso_model,'Lasso')"
   ]
  },
  {
   "cell_type": "markdown",
   "metadata": {},
   "source": [
    "LASSO CV\n"
   ]
  },
  {
   "cell_type": "code",
   "execution_count": 765,
   "metadata": {},
   "outputs": [],
   "source": [
    "from sklearn.linear_model import LassoCV, LassoLarsCV\n",
    "\n",
    "model_lassoCV = LassoCV(alphas = [2, 1, 0.1, 0.005], max_iter = 100000).fit(X_train, y_train)"
   ]
  },
  {
   "cell_type": "code",
   "execution_count": 766,
   "metadata": {},
   "outputs": [
    {
     "name": "stderr",
     "output_type": "stream",
     "text": [
      "/mnt/workspace/.local/lib/python3.5/site-packages/sklearn/linear_model/_coordinate_descent.py:472: ConvergenceWarning: Objective did not converge. You might want to increase the number of iterations. Duality gap: 1043978946.7891846, tolerance: 465381786.74877036\n",
      "  tol, rng, random, positive)\n",
      "/mnt/workspace/.local/lib/python3.5/site-packages/sklearn/linear_model/_coordinate_descent.py:472: ConvergenceWarning: Objective did not converge. You might want to increase the number of iterations. Duality gap: 579405652.6966553, tolerance: 497214199.07694983\n",
      "  tol, rng, random, positive)\n",
      "/mnt/workspace/.local/lib/python3.5/site-packages/sklearn/linear_model/_coordinate_descent.py:472: ConvergenceWarning: Objective did not converge. You might want to increase the number of iterations. Duality gap: 8798575516.088135, tolerance: 454203894.2361717\n",
      "  tol, rng, random, positive)\n"
     ]
    },
    {
     "name": "stdout",
     "output_type": "stream",
     "text": [
      "Model used : LassoCV\n"
     ]
    },
    {
     "data": {
      "text/html": [
       "<div>\n",
       "<style scoped>\n",
       "    .dataframe tbody tr th:only-of-type {\n",
       "        vertical-align: middle;\n",
       "    }\n",
       "\n",
       "    .dataframe tbody tr th {\n",
       "        vertical-align: top;\n",
       "    }\n",
       "\n",
       "    .dataframe thead th {\n",
       "        text-align: right;\n",
       "    }\n",
       "</style>\n",
       "<table border=\"1\" class=\"dataframe\">\n",
       "  <thead>\n",
       "    <tr style=\"text-align: right;\">\n",
       "      <th></th>\n",
       "      <th>Training set</th>\n",
       "      <th>Validation set</th>\n",
       "    </tr>\n",
       "  </thead>\n",
       "  <tbody>\n",
       "    <tr>\n",
       "      <th>Log RMSE</th>\n",
       "      <td>0.135873</td>\n",
       "      <td>0.177079</td>\n",
       "    </tr>\n",
       "    <tr>\n",
       "      <th>Tuned Acc</th>\n",
       "      <td>0.901733</td>\n",
       "      <td>0.880875</td>\n",
       "    </tr>\n",
       "    <tr>\n",
       "      <th>R2 score</th>\n",
       "      <td>0.877098</td>\n",
       "      <td>0.834738</td>\n",
       "    </tr>\n",
       "  </tbody>\n",
       "</table>\n",
       "</div>"
      ],
      "text/plain": [
       "           Training set  Validation set\n",
       "Log RMSE       0.135873        0.177079\n",
       "Tuned Acc      0.901733        0.880875\n",
       "R2 score       0.877098        0.834738"
      ]
     },
     "execution_count": 766,
     "metadata": {},
     "output_type": "execute_result"
    }
   ],
   "source": [
    "plot_scores(model_lassoCV,'LassoCV')"
   ]
  },
  {
   "cell_type": "code",
   "execution_count": 767,
   "metadata": {},
   "outputs": [
    {
     "data": {
      "text/plain": [
       "Text(0.5,1,'Coefficients in LassoCV')"
      ]
     },
     "execution_count": 767,
     "metadata": {},
     "output_type": "execute_result"
    },
    {
     "data": {
      "image/png": "[encoded data removed]",
      "text/plain": [
       "<Figure size 432x288 with 1 Axes>"
      ]
     },
     "metadata": {},
     "output_type": "display_data"
    }
   ],
   "source": [
    "coefs = pd.Series(model_lassoCV.coef_, index = dataset.drop('SalePrice', axis=1).columns)\n",
    "imp_coef = pd.concat([coefs.sort_values().head(10), coefs.sort_values().tail(10)])\n",
    "imp_coef.plot(kind = \"barh\")\n",
    "plt.title(\"Coefficients in LassoCV\")"
   ]
  },
  {
   "cell_type": "code",
   "execution_count": 768,
   "metadata": {},
   "outputs": [
    {
     "data": {
      "text/plain": [
       "Text(0.5,1,'Coefficients in Linear Regression')"
      ]
     },
     "execution_count": 768,
     "metadata": {},
     "output_type": "execute_result"
    },
    {
     "data": {
      "image/png": "[encoded data removed]",
      "text/plain": [
       "<Figure size 432x288 with 1 Axes>"
      ]
     },
     "metadata": {},
     "output_type": "display_data"
    }
   ],
   "source": [
    "coefs = pd.Series(reg.coef_, index = dataset.drop('SalePrice', axis=1).columns)\n",
    "imp_coef = pd.concat([coefs.sort_values().head(10), coefs.sort_values().tail(10)])\n",
    "imp_coef.plot(kind = \"barh\")\n",
    "plt.title(\"Coefficients in Linear Regression\")"
   ]
  },
  {
   "cell_type": "code",
   "execution_count": 769,
   "metadata": {},
   "outputs": [],
   "source": [
    "from sklearn.linear_model import ElasticNet\n",
    "\n",
    "enet = ElasticNet(random_state = SEED)\n",
    "\n",
    "\n"
   ]
  },
  {
   "cell_type": "code",
   "execution_count": 770,
   "metadata": {},
   "outputs": [
    {
     "name": "stdout",
     "output_type": "stream",
     "text": [
      "Model used : Elastic Net \n"
     ]
    },
    {
     "data": {
      "text/html": [
       "<div>\n",
       "<style scoped>\n",
       "    .dataframe tbody tr th:only-of-type {\n",
       "        vertical-align: middle;\n",
       "    }\n",
       "\n",
       "    .dataframe tbody tr th {\n",
       "        vertical-align: top;\n",
       "    }\n",
       "\n",
       "    .dataframe thead th {\n",
       "        text-align: right;\n",
       "    }\n",
       "</style>\n",
       "<table border=\"1\" class=\"dataframe\">\n",
       "  <thead>\n",
       "    <tr style=\"text-align: right;\">\n",
       "      <th></th>\n",
       "      <th>Training set</th>\n",
       "      <th>Validation set</th>\n",
       "    </tr>\n",
       "  </thead>\n",
       "  <tbody>\n",
       "    <tr>\n",
       "      <th>Log RMSE</th>\n",
       "      <td>0.189980</td>\n",
       "      <td>0.191060</td>\n",
       "    </tr>\n",
       "    <tr>\n",
       "      <th>Tuned Acc</th>\n",
       "      <td>0.855448</td>\n",
       "      <td>0.855924</td>\n",
       "    </tr>\n",
       "    <tr>\n",
       "      <th>R2 score</th>\n",
       "      <td>0.628555</td>\n",
       "      <td>0.834738</td>\n",
       "    </tr>\n",
       "  </tbody>\n",
       "</table>\n",
       "</div>"
      ],
      "text/plain": [
       "           Training set  Validation set\n",
       "Log RMSE       0.189980        0.191060\n",
       "Tuned Acc      0.855448        0.855924\n",
       "R2 score       0.628555        0.834738"
      ]
     },
     "execution_count": 770,
     "metadata": {},
     "output_type": "execute_result"
    }
   ],
   "source": [
    "plot_scores(enet,'Elastic Net ')"
   ]
  },
  {
   "cell_type": "code",
   "execution_count": 771,
   "metadata": {},
   "outputs": [
    {
     "data": {
      "text/plain": [
       "Text(0.5,1,'Coefficients in Elastic Net')"
      ]
     },
     "execution_count": 771,
     "metadata": {},
     "output_type": "execute_result"
    },
    {
     "data": {
      "image/png": "[encoded data removed]",
      "text/plain": [
       "<Figure size 432x288 with 1 Axes>"
      ]
     },
     "metadata": {},
     "output_type": "display_data"
    }
   ],
   "source": [
    "coefs = pd.Series(enet.coef_, index = dataset.drop('SalePrice', axis=1).columns)\n",
    "imp_coef = pd.concat([coefs.sort_values().head(10), coefs.sort_values().tail(10)])\n",
    "imp_coef.plot(kind = \"barh\")\n",
    "plt.title(\"Coefficients in Elastic Net\")"
   ]
  },
  {
   "cell_type": "code",
   "execution_count": 772,
   "metadata": {},
   "outputs": [],
   "source": [
    "from sklearn import linear_model\n",
    "lasso_lars = linear_model.LassoLars(alpha=10)"
   ]
  },
  {
   "cell_type": "code",
   "execution_count": 773,
   "metadata": {},
   "outputs": [
    {
     "name": "stdout",
     "output_type": "stream",
     "text": [
      "Model used : Lasso Lars \n"
     ]
    },
    {
     "data": {
      "text/html": [
       "<div>\n",
       "<style scoped>\n",
       "    .dataframe tbody tr th:only-of-type {\n",
       "        vertical-align: middle;\n",
       "    }\n",
       "\n",
       "    .dataframe tbody tr th {\n",
       "        vertical-align: top;\n",
       "    }\n",
       "\n",
       "    .dataframe thead th {\n",
       "        text-align: right;\n",
       "    }\n",
       "</style>\n",
       "<table border=\"1\" class=\"dataframe\">\n",
       "  <thead>\n",
       "    <tr style=\"text-align: right;\">\n",
       "      <th></th>\n",
       "      <th>Training set</th>\n",
       "      <th>Validation set</th>\n",
       "    </tr>\n",
       "  </thead>\n",
       "  <tbody>\n",
       "    <tr>\n",
       "      <th>Log RMSE</th>\n",
       "      <td>0.138173</td>\n",
       "      <td>0.169205</td>\n",
       "    </tr>\n",
       "    <tr>\n",
       "      <th>Tuned Acc</th>\n",
       "      <td>0.902406</td>\n",
       "      <td>0.887159</td>\n",
       "    </tr>\n",
       "    <tr>\n",
       "      <th>R2 score</th>\n",
       "      <td>0.871864</td>\n",
       "      <td>0.834738</td>\n",
       "    </tr>\n",
       "  </tbody>\n",
       "</table>\n",
       "</div>"
      ],
      "text/plain": [
       "           Training set  Validation set\n",
       "Log RMSE       0.138173        0.169205\n",
       "Tuned Acc      0.902406        0.887159\n",
       "R2 score       0.871864        0.834738"
      ]
     },
     "execution_count": 773,
     "metadata": {},
     "output_type": "execute_result"
    }
   ],
   "source": [
    "plot_scores(lasso_lars,'Lasso Lars ')"
   ]
  },
  {
   "cell_type": "code",
   "execution_count": 774,
   "metadata": {},
   "outputs": [
    {
     "data": {
      "text/plain": [
       "Text(0.5,1,'Coefficients in Lasso Lars')"
      ]
     },
     "execution_count": 774,
     "metadata": {},
     "output_type": "execute_result"
    },
    {
     "data": {
      "image/png": "[encoded data removed]",
      "text/plain": [
       "<Figure size 432x288 with 1 Axes>"
      ]
     },
     "metadata": {},
     "output_type": "display_data"
    }
   ],
   "source": [
    "coefs = pd.Series(lasso_lars.coef_, index = dataset.drop('SalePrice', axis=1).columns)\n",
    "imp_coef = pd.concat([coefs.sort_values().head(10), coefs.sort_values().tail(10)])\n",
    "imp_coef.plot(kind = \"barh\")\n",
    "plt.title(\"Coefficients in Lasso Lars\")"
   ]
  },
  {
   "cell_type": "code",
   "execution_count": 775,
   "metadata": {},
   "outputs": [],
   "source": [
    "bayes_ridge = linear_model.BayesianRidge()"
   ]
  },
  {
   "cell_type": "code",
   "execution_count": 776,
   "metadata": {},
   "outputs": [
    {
     "name": "stdout",
     "output_type": "stream",
     "text": [
      "Model used : Bayesian Ridge \n"
     ]
    },
    {
     "data": {
      "text/html": [
       "<div>\n",
       "<style scoped>\n",
       "    .dataframe tbody tr th:only-of-type {\n",
       "        vertical-align: middle;\n",
       "    }\n",
       "\n",
       "    .dataframe tbody tr th {\n",
       "        vertical-align: top;\n",
       "    }\n",
       "\n",
       "    .dataframe thead th {\n",
       "        text-align: right;\n",
       "    }\n",
       "</style>\n",
       "<table border=\"1\" class=\"dataframe\">\n",
       "  <thead>\n",
       "    <tr style=\"text-align: right;\">\n",
       "      <th></th>\n",
       "      <th>Training set</th>\n",
       "      <th>Validation set</th>\n",
       "    </tr>\n",
       "  </thead>\n",
       "  <tbody>\n",
       "    <tr>\n",
       "      <th>Log RMSE</th>\n",
       "      <td>0.178435</td>\n",
       "      <td>0.296188</td>\n",
       "    </tr>\n",
       "    <tr>\n",
       "      <th>Tuned Acc</th>\n",
       "      <td>0.870122</td>\n",
       "      <td>0.867680</td>\n",
       "    </tr>\n",
       "    <tr>\n",
       "      <th>R2 score</th>\n",
       "      <td>0.816428</td>\n",
       "      <td>0.834738</td>\n",
       "    </tr>\n",
       "  </tbody>\n",
       "</table>\n",
       "</div>"
      ],
      "text/plain": [
       "           Training set  Validation set\n",
       "Log RMSE       0.178435        0.296188\n",
       "Tuned Acc      0.870122        0.867680\n",
       "R2 score       0.816428        0.834738"
      ]
     },
     "execution_count": 776,
     "metadata": {},
     "output_type": "execute_result"
    }
   ],
   "source": [
    "plot_scores(bayes_ridge,'Bayesian Ridge ')"
   ]
  },
  {
   "cell_type": "markdown",
   "metadata": {},
   "source": [
    "### 3. Performance Evaluation"
   ]
  },
  {
   "cell_type": "code",
   "execution_count": 777,
   "metadata": {},
   "outputs": [],
   "source": [
    "def compute_score_train(name,liste_reg) :\n",
    "    # Returns a list of score with the given regressors\n",
    "    \n",
    "    liste_scores = []\n",
    "    \n",
    "    for clf in liste_reg :\n",
    "        \n",
    "        if name =='r2_score' :\n",
    "            \n",
    "            score = r2_score(clf.predict(X_train) , y_train) \n",
    "        \n",
    "        elif name == 'log_rmse' : \n",
    "        \n",
    "            score = log_rmse(clf.predict(X_train) , y_train)\n",
    "    \n",
    "        elif name=='tuned_acc' : \n",
    "            \n",
    "            score = tuned_acc(clf.predict(X_train) , y_train)\n",
    "        else :\n",
    "            print('Error name')\n",
    "    \n",
    "        liste_scores.append(score)\n",
    "        \n",
    "    return liste_scores\n",
    "    \n",
    "    \n",
    "    \n",
    "    \n",
    "    \n",
    "    "
   ]
  },
  {
   "cell_type": "code",
   "execution_count": 778,
   "metadata": {},
   "outputs": [],
   "source": [
    "def compute_score_test(name,liste_reg) :\n",
    "    # Returns a list of score with the given regressors\n",
    "    \n",
    "    liste_scores = []\n",
    "    \n",
    "    for clf in liste_reg :\n",
    "        \n",
    "        if name =='r2_score' :\n",
    "            \n",
    "            score = r2_score(clf.predict(X_test) , y_test) \n",
    "        \n",
    "        elif name == 'log_rmse' : \n",
    "        \n",
    "            score = log_rmse(clf.predict(X_test) , y_test)\n",
    "    \n",
    "        elif name=='tuned_acc' : \n",
    "            \n",
    "            score = tuned_acc(clf.predict(X_test) , y_test)\n",
    "        else :\n",
    "            print('Error name')\n",
    "    \n",
    "        liste_scores.append(score)\n",
    "        \n",
    "    return liste_scores\n",
    "    \n",
    "    \n",
    "    \n",
    "    \n",
    "    \n",
    "    "
   ]
  },
  {
   "cell_type": "code",
   "execution_count": null,
   "metadata": {},
   "outputs": [],
   "source": []
  },
  {
   "cell_type": "code",
   "execution_count": 779,
   "metadata": {},
   "outputs": [],
   "source": [
    "liste_reg = [reg,grid_svm,rfr, mlpr, lasso_model, model_lassoCV,enet,lasso_lars,\\\n",
    "           bayes_ridge]"
   ]
  },
  {
   "cell_type": "code",
   "execution_count": 780,
   "metadata": {},
   "outputs": [],
   "source": [
    "liste_scores_log_msre = compute_score_test('log_rmse',liste_reg)"
   ]
  },
  {
   "cell_type": "code",
   "execution_count": 781,
   "metadata": {},
   "outputs": [],
   "source": [
    "liste_scores_log_msre_train = compute_score_train('log_rmse',liste_reg)"
   ]
  },
  {
   "cell_type": "code",
   "execution_count": 782,
   "metadata": {},
   "outputs": [],
   "source": [
    "liste_scores_r2 = compute_score_test('r2_score',liste_reg)"
   ]
  },
  {
   "cell_type": "code",
   "execution_count": 783,
   "metadata": {},
   "outputs": [],
   "source": [
    "liste_scores_r2_train = compute_score_train('r2_score',liste_reg)"
   ]
  },
  {
   "cell_type": "code",
   "execution_count": 784,
   "metadata": {},
   "outputs": [],
   "source": [
    "liste_scores_tuned_acc = compute_score_test('tuned_acc',liste_reg)"
   ]
  },
  {
   "cell_type": "code",
   "execution_count": 785,
   "metadata": {},
   "outputs": [],
   "source": [
    "liste_scores_tuned_acc_train = compute_score_train('tuned_acc',liste_reg)"
   ]
  },
  {
   "cell_type": "code",
   "execution_count": 786,
   "metadata": {},
   "outputs": [],
   "source": [
    "liste_name = ['Linear Regression','SVM','Random Forest','MLPR','Lasso',\\\n",
    "             'Lasso CV','Elastic Net','Lasso Lars','Bayes Ridge']"
   ]
  },
  {
   "cell_type": "code",
   "execution_count": 787,
   "metadata": {},
   "outputs": [],
   "source": [
    "import seaborn as sns\n",
    "def plot_scores_all(  liste_score, liste_name, score_name) :\n",
    "    \n",
    "    score_dic = {}\n",
    "    score_dic['Score'] = liste_score\n",
    "    score_class_df = pd.DataFrame(score_dic, index =liste_name)        \n",
    "    score_class_df['Regressors'] = liste_name\n",
    "    #sns.set_color_codes(\"muted\")\n",
    "    #score_class_df['Regressors'] = self.regressors_name\n",
    "    sns.barplot(x='Score', y='Regressors', data=score_class_df, color=\"b\")\n",
    "    \n",
    "    plt.xlabel(score_name)\n",
    "    \n",
    "    plt.title('Regression Score')\n",
    "    plt.show()"
   ]
  },
  {
   "cell_type": "code",
   "execution_count": 788,
   "metadata": {},
   "outputs": [],
   "source": [
    "def plot_scores_both(  liste_score,liste_score_train, liste_name, score_name) :\n",
    "    \n",
    "    score_dic = {}\n",
    "    score_dic['Score'] = liste_score\n",
    "    score_class_df = pd.DataFrame(score_dic, index =liste_name)        \n",
    "    score_class_df['Regressors'] = liste_name\n",
    "    \n",
    "    score_dic_train = {}\n",
    "    score_dic_train['Score'] = liste_score_train\n",
    "    score_class_df_train = pd.DataFrame(score_dic_train, index =liste_name)        \n",
    "    score_class_df_train['Regressors'] = liste_name\n",
    "    \n",
    "    \n",
    "    fig, axs = plt.subplots(ncols=2,figsize=(18,8))\n",
    "    \n",
    "    sns.barplot(x='Score', y='Regressors', data=score_class_df, color=\"b\",ax=axs[0])\n",
    "    sns.barplot(x='Score', y='Regressors', data=score_class_df_train, color=\"r\",ax=axs[1])\n",
    "    plt.xlabel(score_name)\n",
    "    \n",
    "    plt.title('Regression Score')\n",
    "    plt.show()"
   ]
  },
  {
   "cell_type": "code",
   "execution_count": 789,
   "metadata": {},
   "outputs": [
    {
     "data": {
      "image/png": "[encoded data removed]",
      "text/plain": [
       "<Figure size 1296x576 with 2 Axes>"
      ]
     },
     "metadata": {},
     "output_type": "display_data"
    }
   ],
   "source": [
    "plot_scores_both(  liste_scores_tuned_acc,liste_scores_tuned_acc_train,\\\n",
    "                 liste_name, 'Tuned Accuracy') "
   ]
  },
  {
   "cell_type": "code",
   "execution_count": 790,
   "metadata": {},
   "outputs": [
    {
     "data": {
      "image/png": "[encoded data removed]",
      "text/plain": [
       "<Figure size 1296x576 with 2 Axes>"
      ]
     },
     "metadata": {},
     "output_type": "display_data"
    }
   ],
   "source": [
    "plot_scores_both(  liste_scores_r2,liste_scores_r2_train,\\\n",
    "                 liste_name, 'R2 score') "
   ]
  },
  {
   "cell_type": "code",
   "execution_count": 791,
   "metadata": {},
   "outputs": [
    {
     "data": {
      "image/png": "[encoded data removed]",
      "text/plain": [
       "<Figure size 1296x576 with 2 Axes>"
      ]
     },
     "metadata": {},
     "output_type": "display_data"
    }
   ],
   "source": [
    "plot_scores_both(  liste_scores_log_msre,liste_scores_log_msre_train,\\\n",
    "                 liste_name, 'Log MSRE') "
   ]
  },
  {
   "cell_type": "code",
   "execution_count": 633,
   "metadata": {},
   "outputs": [],
   "source": [
    "y_kaggle = lasso_lars.fit(X_train,y_train).predict(X_kaggle)"
   ]
  },
  {
   "cell_type": "code",
   "execution_count": 638,
   "metadata": {},
   "outputs": [],
   "source": [
    "y_kaggle1 = rfr.fit(X_train,y_train).predict(X_kaggle)"
   ]
  },
  {
   "cell_type": "code",
   "execution_count": 640,
   "metadata": {},
   "outputs": [],
   "source": [
    "y_kaggle2 = lasso_model.fit(X_train,y_train).predict(X_kaggle)"
   ]
  },
  {
   "cell_type": "code",
   "execution_count": 641,
   "metadata": {},
   "outputs": [],
   "source": [
    "\n",
    "outcome = pd.DataFrame(y_kaggle2)\n",
    "pass_id = pd.read_csv('test1.csv')[['Id']]\n",
    "result = pd.concat([pass_id,outcome], axis=1)\n",
    "result.columns = ['Id','SalePrice']\n",
    "result.to_csv('result2.csv',encoding='utf-8', columns=['Id','SalePrice'], index=False)\n",
    "\n"
   ]
  },
  {
   "cell_type": "code",
   "execution_count": null,
   "metadata": {},
   "outputs": [],
   "source": []
  }
 ],
 "metadata": {
  "kernelspec": {
   "display_name": "Python 3",
   "language": "python",
   "name": "python3"
  },
  "language_info": {
   "codemirror_mode": {
    "name": "ipython",
    "version": 3
   },
   "file_extension": ".py",
   "mimetype": "text/x-python",
   "name": "python",
   "nbconvert_exporter": "python",
   "pygments_lexer": "ipython3",
   "version": "3.5.2"
  }
 },
 "nbformat": 4,
 "nbformat_minor": 2
}
