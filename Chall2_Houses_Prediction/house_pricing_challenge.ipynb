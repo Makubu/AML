{
 "cells": [
  {
   "cell_type": "markdown",
   "metadata": {},
   "source": [
    "---\n",
    "# House Pricing Prediction\n",
    "---"
   ]
  },
  {
   "cell_type": "markdown",
   "metadata": {},
   "source": [
    "This challenge is adapted from the well-known '<i>Zillow's Home Value Prediction</i>' competition on Kaggle.\n",
    "In particular, given a dataset containing descriptions of homes on the US property market, your task is to make predictions on the selling price of as-yet unlisted properties. \n",
    "Developing a model which accurately fits the available training data while also generalising to unseen data-points is a multi-faceted challenge that involves a mixture of data exploration, pre-processing, model selection, and performance evaluation.\n",
    "\n",
    "**IMPORTANT**: please refer to the AML course guidelines concerning grading rules. Pay especially attention to the **presentation quality** item, which boils down to: don't dump a zillion of lines of code and plots in this notebook. Produce a concise summary of your findings: this notebook can exist in two versions, a \"scratch\" version that you will use to work and debug, a \"presentation\" version that you will submit. The \"presentation\" notebook should go to the point, and convay the main findings of your work."
   ]
  },
  {
   "cell_type": "markdown",
   "metadata": {},
   "source": [
    "---\n",
    "## Overview\n",
    "Beyond simply producing a well-performing model for making predictions, in this challenge we would like you to start developing your skills as a machine learning scientist.\n",
    "In this regard, your notebook should be structured in such a way as to explore the following tasks that are expected to be carried out whenever undertaking such a project.\n",
    "The description below each aspect should serve as a guide for your work, but you are strongly encouraged to also explore alternative options and directions. \n",
    "Thinking outside the box will always be rewarded in these challenges.\n",
    "\n",
    "\n",
    "### 1. Data preparation:\n",
    "   \n",
    "_Data exploration_: The first broad component of your work should enable you to familiarise yourselves with the given data, an outline of which is given at the end of this challenge specification. Among others, you can work on:\n",
    "   \n",
    "* Data cleaning, e.g. treatment of categorial variables;\n",
    "* Data visualisation; Computing descriptive statistics, e.g. correlation.\n",
    "\n",
    "_Data Pre-processing_: The previous step should give you a better understanding of which pre-processing is required for the data. This may include:\n",
    "\n",
    "* Normalising and standardising the given data;\n",
    "* Removing outliers;\n",
    "* Carrying out feature selection, possibly using metrics derived from information theory;\n",
    "* Handling missing information in the dataset;\n",
    "* Augmenting the dataset with external information;\n",
    "* Combining existing features.\n",
    "\n",
    "### 2. Model selection\n",
    "An important part of the work involves the selection of a model that can successfully handle the given data and yield sensible predictions. Instead of focusing exclusively on your final chosen model, it is also important to share your thought process in this notebook by additionally describing alternative candidate models. There is a wealth of models to choose from, such as decision trees, random forests, (Bayesian) neural networks, Gaussian processes, LASSO regression, and so on. \n",
    "\n",
    "Irrespective of your choice, it is highly likely that your model will have one or more parameters that require tuning. There are several techniques for carrying out such a procedure, such as cross-validation.\n",
    "\n",
    "### 3. Performance Evaluation\n",
    "The evaluation method for this challenge is the root mean squared error between the logarithm of the predicted value and the logarithm of the observed sales price. Taking logs ensures that errors in predicting expensive houses and cheap houses will have a similar impact on the overall result."
   ]
  },
  {
   "cell_type": "markdown",
   "metadata": {},
   "source": [
    "---\n",
    "## Dataset Description"
   ]
  },
  {
   "cell_type": "markdown",
   "metadata": {},
   "source": [
    "#### Files\n",
    "You will be working on two data files, which will be available in ```/mnt/datasets/house/```:\n",
    "\n",
    "* train.csv - The training dataset;\n",
    "* test.csv - The test dataset;\n",
    "* data_description.txt - Full description of each column.\n",
    "\n",
    "#### Attributes\n",
    "\n",
    "A brief outline of the available attributes is given below:\n",
    "\n",
    "* <i>SalePrice</i>: The property's sale price in dollars. This is the target variable that your model is intended to predict;\n",
    "\n",
    "* <i>MSSubClass</i>: The building class;\n",
    "* <i>MSZoning</i>: The general zoning classification;\n",
    "* <i>LotFrontage</i>: Linear feet of street connected to property;\n",
    "* <i>LotArea</i>: Lot size in square feet;\n",
    "* <i>Street</i>: Type of road access;\n",
    "* <i>Alley</i>: Type of alley access;\n",
    "* <i>LotShape</i>: General shape of property;\n",
    "* <i>LandContour</i>: Flatness of the property;\n",
    "* <i>Utilities</i>: Type of utilities available;\n",
    "* <i>LotConfig</i>: Lot configuration;\n",
    "* <i>LandSlope</i>: Slope of property;\n",
    "* <i>Neighborhood</i>: Physical locations within Ames city limits;\n",
    "* <i>Condition1</i>: Proximity to main road or railroad;\n",
    "* <i>Condition2</i>: Proximity to main road or railroad (if a second is present);\n",
    "* <i>BldgType</i>: Type of dwelling;\n",
    "* <i>HouseStyle</i>: Style of dwelling;\n",
    "* <i>OverallQual</i>: Overall material and finish quality;\n",
    "* <i>OverallCond</i>: Overall condition rating;\n",
    "* <i>YearBuilt</i>: Original construction date;\n",
    "* <i>YearRemodAdd</i>: Remodel date;\n",
    "* <i>RoofStyle</i>: Type of roof;\n",
    "* <i>RoofMatl</i>: Roof material;\n",
    "* <i>Exterior1st</i>: Exterior covering on house;\n",
    "* <i>Exterior2nd</i>: Exterior covering on house (if more than one material);\n",
    "* <i>MasVnrType</i>: Masonry veneer type;\n",
    "* <i>MasVnrArea</i>: Masonry veneer area in square feet;\n",
    "* <i>ExterQualv</i>: Exterior material quality;\n",
    "* <i>ExterCond</i>: Present condition of the material on the exterior;\n",
    "* <i>Foundation</i>: Type of foundation;\n",
    "* <i>BsmtQual</i>: Height of the basement;\n",
    "* <i>BsmtCond</i>: General condition of the basement;\n",
    "* <i>BsmtExposure</i>: Walkout or garden level basement walls;\n",
    "* <i>BsmtFinType1</i>: Quality of basement finished area;\n",
    "* <i>BsmtFinSF1</i>: Type 1 finished square feet;\n",
    "* <i>BsmtFinType2</i>: Quality of second finished area (if present);\n",
    "* <i>BsmtFinSF2</i>: Type 2 finished square feet;\n",
    "* <i>BsmtUnfSF</i>: Unfinished square feet of basement area;\n",
    "* <i>TotalBsmtSF</i>: Total square feet of basement area;\n",
    "* <i>Heating</i>: Type of heating;\n",
    "* <i>HeatingQC</i>: Heating quality and condition;\n",
    "* <i>CentralAir</i>: Central air conditioning;\n",
    "* <i>Electrical</i>: Electrical system;\n",
    "* <i>1stFlrSF</i>: First Floor square feet;\n",
    "* <i>2ndFlrSF</i>: Second floor square feet;\n",
    "* <i>LowQualFinSF</i>: Low quality finished square feet (all floors);\n",
    "* <i>GrLivArea</i>: Above grade (ground) living area square feet;\n",
    "* <i>BsmtFullBath</i>: Basement full bathrooms;\n",
    "* <i>BsmtHalfBath</i>: Basement half bathrooms;\n",
    "* <i>FullBath</i>: Full bathrooms above grade;\n",
    "* <i>HalfBath</i>: Half baths above grade;\n",
    "* <i>Bedroom</i>: Number of bedrooms above basement level;\n",
    "* <i>Kitchen</i>: Number of kitchens;\n",
    "* <i>KitchenQual</i>: Kitchen quality;\n",
    "* <i>TotRmsAbvGrd</i>: Total rooms above grade (does not include bathrooms);\n",
    "* <i>Functional</i>: Home functionality rating;\n",
    "* <i>Fireplaces</i>: Number of fireplaces;\n",
    "* <i>FireplaceQu</i>: Fireplace quality;\n",
    "* <i>GarageType</i>: Garage location;\n",
    "* <i>GarageYrBlt</i>: Year garage was built;\n",
    "* <i>GarageFinish</i>: Interior finish of the garage;\n",
    "* <i>GarageCars</i>: Size of garage in car capacity;\n",
    "* <i>GarageArea</i>: Size of garage in square feet;\n",
    "* <i>GarageQual</i>: Garage quality;\n",
    "* <i>GarageCond</i>: Garage condition;\n",
    "* <i>PavedDrive</i>: Paved driveway;\n",
    "* <i>WoodDeckSF</i>: Wood deck area in square feet;\n",
    "* <i>OpenPorchSF</i>: Open porch area in square feet;\n",
    "* <i>EnclosedPorch</i>: Enclosed porch area in square feet;\n",
    "* <i>3SsnPorch</i>: Three season porch area in square feet;\n",
    "* <i>ScreenPorch</i>: Screen porch area in square feet;\n",
    "* <i>PoolArea</i>: Pool area in square feet;\n",
    "* <i>PoolQC</i>: Pool quality;\n",
    "* <i>Fence</i>: Fence quality;\n",
    "* <i>MiscFeature</i>: Miscellaneous feature not covered in other categories;\n",
    "* <i>MiscVal</i>: Value (in dollars) of miscellaneous feature;\n",
    "* <i>MoSold</i>: Month sold;\n",
    "* <i>YrSold</i>: Year sold;\n",
    "* <i>SaleType</i>: Type of sale;\n",
    "* <i>SaleCondition</i>: Condition of sale.\n"
   ]
  },
  {
   "cell_type": "markdown",
   "metadata": {},
   "source": [
    "# Group 20 : Solution\n",
    "## by Clément Bernard,Brugeres Maxence and Guyard Martin \n"
   ]
  },
  {
   "cell_type": "code",
   "execution_count": 116,
   "metadata": {},
   "outputs": [
    {
     "name": "stdout",
     "output_type": "stream",
     "text": [
      "WARNING: pip is being invoked by an old script wrapper. This will fail in a future version of pip.\n",
      "Please see https://github.com/pypa/pip/issues/5599 for advice on fixing the underlying issue.\n",
      "To avoid this problem you can invoke Python with '-m pip' instead of running pip directly.\n",
      "Defaulting to user installation because normal site-packages is not writeable\n",
      "Requirement already satisfied: sklearn in /mnt/workspace/.local/lib/python3.5/site-packages (0.0)\n",
      "Requirement already satisfied: scikit-learn in /mnt/workspace/.local/lib/python3.5/site-packages (from sklearn) (0.22.2.post1)\n",
      "Requirement already satisfied: joblib>=0.11 in /mnt/workspace/.local/lib/python3.5/site-packages (from scikit-learn->sklearn) (0.14.1)\n",
      "Requirement already satisfied: scipy>=0.17.0 in /usr/local/lib/python3.5/dist-packages (from scikit-learn->sklearn) (1.1.0)\n",
      "Requirement already satisfied: numpy>=1.11.0 in /usr/local/lib/python3.5/dist-packages (from scikit-learn->sklearn) (1.14.5)\n"
     ]
    }
   ],
   "source": [
    "!pip3 install sklearn"
   ]
  },
  {
   "cell_type": "code",
   "execution_count": 117,
   "metadata": {},
   "outputs": [],
   "source": [
    "# Importations \n",
    "%matplotlib inline\n",
    "import numpy as np\n",
    "import matplotlib.pyplot as plt\n",
    "import pandas as pd\n",
    "import seaborn as sn\n",
    "from sklearn.impute import KNNImputer"
   ]
  },
  {
   "cell_type": "markdown",
   "metadata": {},
   "source": [
    "### 1. Data preparation"
   ]
  },
  {
   "cell_type": "code",
   "execution_count": 118,
   "metadata": {},
   "outputs": [],
   "source": [
    "dataset = pd.read_csv('train.csv')"
   ]
  },
  {
   "cell_type": "code",
   "execution_count": 119,
   "metadata": {},
   "outputs": [
    {
     "data": {
      "text/html": [
       "<div>\n",
       "<style scoped>\n",
       "    .dataframe tbody tr th:only-of-type {\n",
       "        vertical-align: middle;\n",
       "    }\n",
       "\n",
       "    .dataframe tbody tr th {\n",
       "        vertical-align: top;\n",
       "    }\n",
       "\n",
       "    .dataframe thead th {\n",
       "        text-align: right;\n",
       "    }\n",
       "</style>\n",
       "<table border=\"1\" class=\"dataframe\">\n",
       "  <thead>\n",
       "    <tr style=\"text-align: right;\">\n",
       "      <th></th>\n",
       "      <th>Id</th>\n",
       "      <th>MSSubClass</th>\n",
       "      <th>MSZoning</th>\n",
       "      <th>LotFrontage</th>\n",
       "      <th>LotArea</th>\n",
       "      <th>Street</th>\n",
       "      <th>Alley</th>\n",
       "      <th>LotShape</th>\n",
       "      <th>LandContour</th>\n",
       "      <th>Utilities</th>\n",
       "      <th>...</th>\n",
       "      <th>PoolArea</th>\n",
       "      <th>PoolQC</th>\n",
       "      <th>Fence</th>\n",
       "      <th>MiscFeature</th>\n",
       "      <th>MiscVal</th>\n",
       "      <th>MoSold</th>\n",
       "      <th>YrSold</th>\n",
       "      <th>SaleType</th>\n",
       "      <th>SaleCondition</th>\n",
       "      <th>SalePrice</th>\n",
       "    </tr>\n",
       "  </thead>\n",
       "  <tbody>\n",
       "    <tr>\n",
       "      <th>0</th>\n",
       "      <td>1</td>\n",
       "      <td>60</td>\n",
       "      <td>RL</td>\n",
       "      <td>65.0</td>\n",
       "      <td>8450</td>\n",
       "      <td>Pave</td>\n",
       "      <td>NaN</td>\n",
       "      <td>Reg</td>\n",
       "      <td>Lvl</td>\n",
       "      <td>AllPub</td>\n",
       "      <td>...</td>\n",
       "      <td>0</td>\n",
       "      <td>NaN</td>\n",
       "      <td>NaN</td>\n",
       "      <td>NaN</td>\n",
       "      <td>0</td>\n",
       "      <td>2</td>\n",
       "      <td>2008</td>\n",
       "      <td>WD</td>\n",
       "      <td>Normal</td>\n",
       "      <td>208500</td>\n",
       "    </tr>\n",
       "    <tr>\n",
       "      <th>1</th>\n",
       "      <td>2</td>\n",
       "      <td>20</td>\n",
       "      <td>RL</td>\n",
       "      <td>80.0</td>\n",
       "      <td>9600</td>\n",
       "      <td>Pave</td>\n",
       "      <td>NaN</td>\n",
       "      <td>Reg</td>\n",
       "      <td>Lvl</td>\n",
       "      <td>AllPub</td>\n",
       "      <td>...</td>\n",
       "      <td>0</td>\n",
       "      <td>NaN</td>\n",
       "      <td>NaN</td>\n",
       "      <td>NaN</td>\n",
       "      <td>0</td>\n",
       "      <td>5</td>\n",
       "      <td>2007</td>\n",
       "      <td>WD</td>\n",
       "      <td>Normal</td>\n",
       "      <td>181500</td>\n",
       "    </tr>\n",
       "    <tr>\n",
       "      <th>2</th>\n",
       "      <td>3</td>\n",
       "      <td>60</td>\n",
       "      <td>RL</td>\n",
       "      <td>68.0</td>\n",
       "      <td>11250</td>\n",
       "      <td>Pave</td>\n",
       "      <td>NaN</td>\n",
       "      <td>IR1</td>\n",
       "      <td>Lvl</td>\n",
       "      <td>AllPub</td>\n",
       "      <td>...</td>\n",
       "      <td>0</td>\n",
       "      <td>NaN</td>\n",
       "      <td>NaN</td>\n",
       "      <td>NaN</td>\n",
       "      <td>0</td>\n",
       "      <td>9</td>\n",
       "      <td>2008</td>\n",
       "      <td>WD</td>\n",
       "      <td>Normal</td>\n",
       "      <td>223500</td>\n",
       "    </tr>\n",
       "    <tr>\n",
       "      <th>3</th>\n",
       "      <td>4</td>\n",
       "      <td>70</td>\n",
       "      <td>RL</td>\n",
       "      <td>60.0</td>\n",
       "      <td>9550</td>\n",
       "      <td>Pave</td>\n",
       "      <td>NaN</td>\n",
       "      <td>IR1</td>\n",
       "      <td>Lvl</td>\n",
       "      <td>AllPub</td>\n",
       "      <td>...</td>\n",
       "      <td>0</td>\n",
       "      <td>NaN</td>\n",
       "      <td>NaN</td>\n",
       "      <td>NaN</td>\n",
       "      <td>0</td>\n",
       "      <td>2</td>\n",
       "      <td>2006</td>\n",
       "      <td>WD</td>\n",
       "      <td>Abnorml</td>\n",
       "      <td>140000</td>\n",
       "    </tr>\n",
       "    <tr>\n",
       "      <th>4</th>\n",
       "      <td>5</td>\n",
       "      <td>60</td>\n",
       "      <td>RL</td>\n",
       "      <td>84.0</td>\n",
       "      <td>14260</td>\n",
       "      <td>Pave</td>\n",
       "      <td>NaN</td>\n",
       "      <td>IR1</td>\n",
       "      <td>Lvl</td>\n",
       "      <td>AllPub</td>\n",
       "      <td>...</td>\n",
       "      <td>0</td>\n",
       "      <td>NaN</td>\n",
       "      <td>NaN</td>\n",
       "      <td>NaN</td>\n",
       "      <td>0</td>\n",
       "      <td>12</td>\n",
       "      <td>2008</td>\n",
       "      <td>WD</td>\n",
       "      <td>Normal</td>\n",
       "      <td>250000</td>\n",
       "    </tr>\n",
       "    <tr>\n",
       "      <th>5</th>\n",
       "      <td>6</td>\n",
       "      <td>50</td>\n",
       "      <td>RL</td>\n",
       "      <td>85.0</td>\n",
       "      <td>14115</td>\n",
       "      <td>Pave</td>\n",
       "      <td>NaN</td>\n",
       "      <td>IR1</td>\n",
       "      <td>Lvl</td>\n",
       "      <td>AllPub</td>\n",
       "      <td>...</td>\n",
       "      <td>0</td>\n",
       "      <td>NaN</td>\n",
       "      <td>MnPrv</td>\n",
       "      <td>Shed</td>\n",
       "      <td>700</td>\n",
       "      <td>10</td>\n",
       "      <td>2009</td>\n",
       "      <td>WD</td>\n",
       "      <td>Normal</td>\n",
       "      <td>143000</td>\n",
       "    </tr>\n",
       "    <tr>\n",
       "      <th>6</th>\n",
       "      <td>7</td>\n",
       "      <td>20</td>\n",
       "      <td>RL</td>\n",
       "      <td>75.0</td>\n",
       "      <td>10084</td>\n",
       "      <td>Pave</td>\n",
       "      <td>NaN</td>\n",
       "      <td>Reg</td>\n",
       "      <td>Lvl</td>\n",
       "      <td>AllPub</td>\n",
       "      <td>...</td>\n",
       "      <td>0</td>\n",
       "      <td>NaN</td>\n",
       "      <td>NaN</td>\n",
       "      <td>NaN</td>\n",
       "      <td>0</td>\n",
       "      <td>8</td>\n",
       "      <td>2007</td>\n",
       "      <td>WD</td>\n",
       "      <td>Normal</td>\n",
       "      <td>307000</td>\n",
       "    </tr>\n",
       "    <tr>\n",
       "      <th>7</th>\n",
       "      <td>8</td>\n",
       "      <td>60</td>\n",
       "      <td>RL</td>\n",
       "      <td>NaN</td>\n",
       "      <td>10382</td>\n",
       "      <td>Pave</td>\n",
       "      <td>NaN</td>\n",
       "      <td>IR1</td>\n",
       "      <td>Lvl</td>\n",
       "      <td>AllPub</td>\n",
       "      <td>...</td>\n",
       "      <td>0</td>\n",
       "      <td>NaN</td>\n",
       "      <td>NaN</td>\n",
       "      <td>Shed</td>\n",
       "      <td>350</td>\n",
       "      <td>11</td>\n",
       "      <td>2009</td>\n",
       "      <td>WD</td>\n",
       "      <td>Normal</td>\n",
       "      <td>200000</td>\n",
       "    </tr>\n",
       "    <tr>\n",
       "      <th>8</th>\n",
       "      <td>9</td>\n",
       "      <td>50</td>\n",
       "      <td>RM</td>\n",
       "      <td>51.0</td>\n",
       "      <td>6120</td>\n",
       "      <td>Pave</td>\n",
       "      <td>NaN</td>\n",
       "      <td>Reg</td>\n",
       "      <td>Lvl</td>\n",
       "      <td>AllPub</td>\n",
       "      <td>...</td>\n",
       "      <td>0</td>\n",
       "      <td>NaN</td>\n",
       "      <td>NaN</td>\n",
       "      <td>NaN</td>\n",
       "      <td>0</td>\n",
       "      <td>4</td>\n",
       "      <td>2008</td>\n",
       "      <td>WD</td>\n",
       "      <td>Abnorml</td>\n",
       "      <td>129900</td>\n",
       "    </tr>\n",
       "    <tr>\n",
       "      <th>9</th>\n",
       "      <td>10</td>\n",
       "      <td>190</td>\n",
       "      <td>RL</td>\n",
       "      <td>50.0</td>\n",
       "      <td>7420</td>\n",
       "      <td>Pave</td>\n",
       "      <td>NaN</td>\n",
       "      <td>Reg</td>\n",
       "      <td>Lvl</td>\n",
       "      <td>AllPub</td>\n",
       "      <td>...</td>\n",
       "      <td>0</td>\n",
       "      <td>NaN</td>\n",
       "      <td>NaN</td>\n",
       "      <td>NaN</td>\n",
       "      <td>0</td>\n",
       "      <td>1</td>\n",
       "      <td>2008</td>\n",
       "      <td>WD</td>\n",
       "      <td>Normal</td>\n",
       "      <td>118000</td>\n",
       "    </tr>\n",
       "  </tbody>\n",
       "</table>\n",
       "<p>10 rows × 81 columns</p>\n",
       "</div>"
      ],
      "text/plain": [
       "   Id  MSSubClass MSZoning  LotFrontage  LotArea Street Alley LotShape  \\\n",
       "0   1          60       RL         65.0     8450   Pave   NaN      Reg   \n",
       "1   2          20       RL         80.0     9600   Pave   NaN      Reg   \n",
       "2   3          60       RL         68.0    11250   Pave   NaN      IR1   \n",
       "3   4          70       RL         60.0     9550   Pave   NaN      IR1   \n",
       "4   5          60       RL         84.0    14260   Pave   NaN      IR1   \n",
       "5   6          50       RL         85.0    14115   Pave   NaN      IR1   \n",
       "6   7          20       RL         75.0    10084   Pave   NaN      Reg   \n",
       "7   8          60       RL          NaN    10382   Pave   NaN      IR1   \n",
       "8   9          50       RM         51.0     6120   Pave   NaN      Reg   \n",
       "9  10         190       RL         50.0     7420   Pave   NaN      Reg   \n",
       "\n",
       "  LandContour Utilities    ...     PoolArea PoolQC  Fence MiscFeature MiscVal  \\\n",
       "0         Lvl    AllPub    ...            0    NaN    NaN         NaN       0   \n",
       "1         Lvl    AllPub    ...            0    NaN    NaN         NaN       0   \n",
       "2         Lvl    AllPub    ...            0    NaN    NaN         NaN       0   \n",
       "3         Lvl    AllPub    ...            0    NaN    NaN         NaN       0   \n",
       "4         Lvl    AllPub    ...            0    NaN    NaN         NaN       0   \n",
       "5         Lvl    AllPub    ...            0    NaN  MnPrv        Shed     700   \n",
       "6         Lvl    AllPub    ...            0    NaN    NaN         NaN       0   \n",
       "7         Lvl    AllPub    ...            0    NaN    NaN        Shed     350   \n",
       "8         Lvl    AllPub    ...            0    NaN    NaN         NaN       0   \n",
       "9         Lvl    AllPub    ...            0    NaN    NaN         NaN       0   \n",
       "\n",
       "  MoSold YrSold  SaleType  SaleCondition  SalePrice  \n",
       "0      2   2008        WD         Normal     208500  \n",
       "1      5   2007        WD         Normal     181500  \n",
       "2      9   2008        WD         Normal     223500  \n",
       "3      2   2006        WD        Abnorml     140000  \n",
       "4     12   2008        WD         Normal     250000  \n",
       "5     10   2009        WD         Normal     143000  \n",
       "6      8   2007        WD         Normal     307000  \n",
       "7     11   2009        WD         Normal     200000  \n",
       "8      4   2008        WD        Abnorml     129900  \n",
       "9      1   2008        WD         Normal     118000  \n",
       "\n",
       "[10 rows x 81 columns]"
      ]
     },
     "execution_count": 119,
     "metadata": {},
     "output_type": "execute_result"
    }
   ],
   "source": [
    "dataset.head(10)"
   ]
  },
  {
   "cell_type": "code",
   "execution_count": 120,
   "metadata": {},
   "outputs": [
    {
     "data": {
      "text/plain": [
       "Index(['Id', 'MSSubClass', 'MSZoning', 'LotFrontage', 'LotArea', 'Street',\n",
       "       'Alley', 'LotShape', 'LandContour', 'Utilities', 'LotConfig',\n",
       "       'LandSlope', 'Neighborhood', 'Condition1', 'Condition2', 'BldgType',\n",
       "       'HouseStyle', 'OverallQual', 'OverallCond', 'YearBuilt', 'YearRemodAdd',\n",
       "       'RoofStyle', 'RoofMatl', 'Exterior1st', 'Exterior2nd', 'MasVnrType',\n",
       "       'MasVnrArea', 'ExterQual', 'ExterCond', 'Foundation', 'BsmtQual',\n",
       "       'BsmtCond', 'BsmtExposure', 'BsmtFinType1', 'BsmtFinSF1',\n",
       "       'BsmtFinType2', 'BsmtFinSF2', 'BsmtUnfSF', 'TotalBsmtSF', 'Heating',\n",
       "       'HeatingQC', 'CentralAir', 'Electrical', '1stFlrSF', '2ndFlrSF',\n",
       "       'LowQualFinSF', 'GrLivArea', 'BsmtFullBath', 'BsmtHalfBath', 'FullBath',\n",
       "       'HalfBath', 'BedroomAbvGr', 'KitchenAbvGr', 'KitchenQual',\n",
       "       'TotRmsAbvGrd', 'Functional', 'Fireplaces', 'FireplaceQu', 'GarageType',\n",
       "       'GarageYrBlt', 'GarageFinish', 'GarageCars', 'GarageArea', 'GarageQual',\n",
       "       'GarageCond', 'PavedDrive', 'WoodDeckSF', 'OpenPorchSF',\n",
       "       'EnclosedPorch', '3SsnPorch', 'ScreenPorch', 'PoolArea', 'PoolQC',\n",
       "       'Fence', 'MiscFeature', 'MiscVal', 'MoSold', 'YrSold', 'SaleType',\n",
       "       'SaleCondition', 'SalePrice'],\n",
       "      dtype='object')"
      ]
     },
     "execution_count": 120,
     "metadata": {},
     "output_type": "execute_result"
    }
   ],
   "source": [
    "dataset.columns"
   ]
  },
  {
   "cell_type": "markdown",
   "metadata": {},
   "source": [
    "#### 1.1 Data visualisation"
   ]
  },
  {
   "cell_type": "markdown",
   "metadata": {},
   "source": [
    "<div class='alert alert-block alert-info'>\n",
    "\n",
    "First see the <b> missing values </b> for each feature\n",
    "    \n",
    "</div>"
   ]
  },
  {
   "cell_type": "code",
   "execution_count": 121,
   "metadata": {},
   "outputs": [
    {
     "data": {
      "text/plain": [
       "array([nan, 'Shed', 'Gar2', 'Othr'], dtype=object)"
      ]
     },
     "execution_count": 121,
     "metadata": {},
     "output_type": "execute_result"
    }
   ],
   "source": [
    "dataset.MiscFeature.unique()"
   ]
  },
  {
   "cell_type": "code",
   "execution_count": 122,
   "metadata": {},
   "outputs": [
    {
     "data": {
      "text/plain": [
       "Id                0.000000\n",
       "MSSubClass        0.000000\n",
       "MSZoning          0.000000\n",
       "LotFrontage      17.500000\n",
       "LotArea           0.000000\n",
       "Street            0.000000\n",
       "Alley            93.750000\n",
       "LotShape          0.000000\n",
       "LandContour       0.000000\n",
       "Utilities         0.000000\n",
       "LotConfig         0.000000\n",
       "LandSlope         0.000000\n",
       "Neighborhood      0.000000\n",
       "Condition1        0.000000\n",
       "Condition2        0.000000\n",
       "BldgType          0.000000\n",
       "HouseStyle        0.000000\n",
       "OverallQual       0.000000\n",
       "OverallCond       0.000000\n",
       "YearBuilt         0.000000\n",
       "YearRemodAdd      0.000000\n",
       "RoofStyle         0.000000\n",
       "RoofMatl          0.000000\n",
       "Exterior1st       0.000000\n",
       "Exterior2nd       0.000000\n",
       "MasVnrType        0.500000\n",
       "MasVnrArea        0.500000\n",
       "ExterQual         0.000000\n",
       "ExterCond         0.000000\n",
       "Foundation        0.000000\n",
       "                   ...    \n",
       "BedroomAbvGr      0.000000\n",
       "KitchenAbvGr      0.000000\n",
       "KitchenQual       0.000000\n",
       "TotRmsAbvGrd      0.000000\n",
       "Functional        0.000000\n",
       "Fireplaces        0.000000\n",
       "FireplaceQu      47.000000\n",
       "GarageType        5.583333\n",
       "GarageYrBlt       5.583333\n",
       "GarageFinish      5.583333\n",
       "GarageCars        0.000000\n",
       "GarageArea        0.000000\n",
       "GarageQual        5.583333\n",
       "GarageCond        5.583333\n",
       "PavedDrive        0.000000\n",
       "WoodDeckSF        0.000000\n",
       "OpenPorchSF       0.000000\n",
       "EnclosedPorch     0.000000\n",
       "3SsnPorch         0.000000\n",
       "ScreenPorch       0.000000\n",
       "PoolArea          0.000000\n",
       "PoolQC           99.666667\n",
       "Fence            81.083333\n",
       "MiscFeature      96.083333\n",
       "MiscVal           0.000000\n",
       "MoSold            0.000000\n",
       "YrSold            0.000000\n",
       "SaleType          0.000000\n",
       "SaleCondition     0.000000\n",
       "SalePrice         0.000000\n",
       "Length: 81, dtype: float64"
      ]
     },
     "execution_count": 122,
     "metadata": {},
     "output_type": "execute_result"
    }
   ],
   "source": [
    "dataset.isnull().sum()/dataset.shape[0]*100"
   ]
  },
  {
   "cell_type": "markdown",
   "metadata": {},
   "source": [
    "<hr>\n",
    "<div class='alert alert-block alert-info'>\n",
    "\n",
    "We decide to remove the features that have more than 50 % missing values. Indeed, this choice is arbitrary and aims to have data that is correct and not fulfilled by false ones.\n",
    "</div>\n",
    "    <hr>"
   ]
  },
  {
   "cell_type": "code",
   "execution_count": 123,
   "metadata": {},
   "outputs": [
    {
     "name": "stdout",
     "output_type": "stream",
     "text": [
      "Columns : Alley\n",
      "Columns : PoolQC\n",
      "Columns : Fence\n",
      "Columns : MiscFeature\n"
     ]
    }
   ],
   "source": [
    "# Finds the columns that have more than 50% NaN values\n",
    "drop_columns = np.where(dataset.isnull().sum() / dataset.shape[0]*100 > 50)[0]\n",
    "# Prints these columns \n",
    "for x in drop_columns :\n",
    "    print('Columns : {}'.format(dataset.columns.values[x]))"
   ]
  },
  {
   "cell_type": "markdown",
   "metadata": {},
   "source": [
    "<hr>\n",
    "<ul>\n",
    "      <li> <b> Alley </b> is the type of alley access to property. This doesn't seem for us to be a fundamental feature.  </li>\n",
    "    <li> <b> PoolQC </b> is the quality of the pool. It could have been a way to improve the price of the house. Nevertheless, we will keep the fact that there is a pool or not.  </li>\n",
    "    <li> <b> Fence </b> tells about the quality of the fence. It doesn't seem to much important too to have a general idea of the price of a house.</li>\n",
    "    <li> <b>MiscFeature  </b> it tells about the the miscellaneous feature of the house. Actually, this feature is usefull and we should exploit it. We'll just change the NaN values by 0 and the other values by 1 (whenever there is a feature to the house).  </li>\n",
    "\n",
    "</ul>\n",
    "\n",
    "\n",
    "\n",
    "<hr>"
   ]
  },
  {
   "cell_type": "code",
   "execution_count": 124,
   "metadata": {},
   "outputs": [
    {
     "name": "stdout",
     "output_type": "stream",
     "text": [
      "Size of dataset : (1200, 78)\n"
     ]
    }
   ],
   "source": [
    "# Drops these features\n",
    "dataset.drop(dataset.columns[drop_columns[:-1]], axis = 1, inplace= True)\n",
    "print('Size of dataset : {}'.format(dataset.shape))"
   ]
  },
  {
   "cell_type": "code",
   "execution_count": 125,
   "metadata": {},
   "outputs": [],
   "source": [
    "# MiscFeature vectorization \n",
    "# Fill the NaN values by 0\n",
    "dataset.MiscFeature.fillna(0   , inplace= True)\n",
    "# Fill the rest by 1 \n",
    "dataset.loc[ dataset.MiscFeature != 0 , 'MiscFeature'] = 1\n",
    "\n"
   ]
  },
  {
   "cell_type": "markdown",
   "metadata": {},
   "source": [
    "<hr>\n",
    "\n",
    "The next step is to remove the features that are not enough correlated to the final price.\n",
    "\n",
    "\n",
    "<hr>"
   ]
  },
  {
   "cell_type": "code",
   "execution_count": 126,
   "metadata": {},
   "outputs": [
    {
     "name": "stdout",
     "output_type": "stream",
     "text": [
      "Id              -0.019222\n",
      "MSSubClass      -0.075817\n",
      "LotFrontage      0.378387\n",
      "LotArea          0.266811\n",
      "OverallQual      0.789142\n",
      "OverallCond     -0.082580\n",
      "YearBuilt        0.523194\n",
      "YearRemodAdd     0.509916\n",
      "MasVnrArea       0.481406\n",
      "BsmtFinSF1       0.407568\n",
      "BsmtFinSF2      -0.002920\n",
      "BsmtUnfSF        0.206050\n",
      "TotalBsmtSF      0.641917\n",
      "1stFlrSF         0.618556\n",
      "2ndFlrSF         0.348623\n",
      "LowQualFinSF    -0.027071\n",
      "GrLivArea        0.740379\n",
      "BsmtFullBath     0.221209\n",
      "BsmtHalfBath    -0.017281\n",
      "FullBath         0.571867\n",
      "HalfBath         0.299779\n",
      "BedroomAbvGr     0.183829\n",
      "KitchenAbvGr    -0.133544\n",
      "TotRmsAbvGrd     0.559435\n",
      "Fireplaces       0.458528\n",
      "GarageYrBlt      0.489794\n",
      "GarageCars       0.640961\n",
      "GarageArea       0.623329\n",
      "WoodDeckSF       0.315379\n",
      "OpenPorchSF      0.315548\n",
      "EnclosedPorch   -0.119790\n",
      "3SsnPorch        0.020826\n",
      "ScreenPorch      0.119891\n",
      "PoolArea         0.103644\n",
      "MiscFeature     -0.092042\n",
      "MiscVal         -0.036877\n",
      "MoSold           0.047015\n",
      "YrSold          -0.039841\n",
      "Name: SalePrice, dtype: float64\n"
     ]
    }
   ],
   "source": [
    "# Vizualisation of the correlation for the price\n",
    "correlation = dataset.corr().SalePrice.drop('SalePrice')\n",
    "print(correlation)"
   ]
  },
  {
   "cell_type": "code",
   "execution_count": 127,
   "metadata": {},
   "outputs": [],
   "source": [
    "# Get the best features\n",
    "\n",
    "\n",
    "def get_features_useless(correlation , threshold) :\n",
    "    # Get the features that are less correlated than the threshold\n",
    "    high_features = correlation.abs()\n",
    "    indexes = np.where(high_features < threshold)[0]\n",
    "    return indexes\n"
   ]
  },
  {
   "cell_type": "code",
   "execution_count": 128,
   "metadata": {},
   "outputs": [
    {
     "name": "stdout",
     "output_type": "stream",
     "text": [
      "Column : Id\n",
      "Column : LandSlope\n",
      "Column : HouseStyle\n",
      "Column : YearBuilt\n",
      "Column : BsmtExposure\n",
      "Column : BsmtFinSF2\n",
      "Column : BsmtUnfSF\n",
      "Column : TotalBsmtSF\n"
     ]
    }
   ],
   "source": [
    "# Print the useless features \n",
    "features_useless = get_features_useless(correlation, 0.05)\n",
    "for column in features_useless : \n",
    "    print('Column : {}'.format(dataset.columns[column]))\n"
   ]
  },
  {
   "cell_type": "markdown",
   "metadata": {},
   "source": [
    "<hr>\n",
    "<ul>\n",
    "      <li> <b> Id </b> : Just the idea for the database. It seems logical that it doesn't affect the price   </li>\n",
    "    <li> <b> LandSlope </b> : The slope over the house. It makes sense that there are not a lot of impact on the price </li>\n",
    "    <li> <b> HouseStyle </b>: The style of dwelling doesn't seem to be what will really improve the price.  </li>\n",
    "    <li> <b> YearBuilt </b>: The year when it was built doesn't seem to be a key feature. Indeed, we see it at just an information, not a relevant feature.   </li>\n",
    "    <li> <b> BsmtExposure </b>: Refers to walkout or garden level walls. We decid to drop it as well as the others. </li>\n",
    "    <li> <b> BsmtFinSF2 </b>: Type 2 finished square feet. It refers to the basement. We aim to only take the relevant features for the basement. </li>\n",
    "    <li> <b> BsmtUnfSF </b>: Unfinished square feet of basement area. We consider it  as not being part of a key characteristic of the basement.</li>\n",
    "    <li> <b> TotalBsmtSF </b>: Total square feet of basement area. As the ones above, we won't keep it as it doesn't seem enought correlated to the final price.</li>\n",
    "    \n",
    "\n",
    "</ul>\n",
    "\n",
    "\n",
    "\n",
    "<hr>"
   ]
  },
  {
   "cell_type": "code",
   "execution_count": 129,
   "metadata": {},
   "outputs": [],
   "source": [
    "# Drop these features \n",
    "\n",
    "dataset.drop(dataset.columns[features_useless], axis= 1 , inplace= True)\n"
   ]
  },
  {
   "cell_type": "markdown",
   "metadata": {},
   "source": [
    "<hr>\n",
    "Now we'll fill the <b> Nan values </b> \n",
    "\n",
    "<hr>"
   ]
  },
  {
   "cell_type": "code",
   "execution_count": 130,
   "metadata": {},
   "outputs": [],
   "source": [
    "# Get the columns that have NaN values\n",
    "indexes_nan = np.where(dataset.isnull().sum().values !=0 )[0]"
   ]
  },
  {
   "cell_type": "code",
   "execution_count": 131,
   "metadata": {},
   "outputs": [
    {
     "name": "stdout",
     "output_type": "stream",
     "text": [
      "Feature : LotFrontage and got values : [ 65.  80.  68.  60.  84.  85.  75.  nan  51.  50.  70.  91.  72.  66.\n",
      " 101.  57.  44. 110.  98.  47. 108. 112.  74. 115.  61.  48.  33.  52.\n",
      " 100.  24.  89.  63.  76.  81.  95.  69.  21.  32.  78. 121. 122.  40.\n",
      " 105.  73.  77.  64.  94.  34.  90.  55.  88.  82.  71. 120. 107.  92.\n",
      " 134.  62.  86. 141.  97.  54.  41.  79. 174.  99.  67.  83.  43. 103.\n",
      "  93.  30. 129. 140.  35.  37. 118.  87. 116. 150. 111.  49.  96.  59.\n",
      "  36.  56. 102.  58.  38. 109. 130.  53. 137.  45. 106. 104.  42.  39.\n",
      " 144. 114. 128. 149. 313. 168. 182. 138. 160.]\n",
      "Feature : MasVnrType and got values : ['BrkFace' 'None' 'Stone' 'BrkCmn' nan]\n",
      "Feature : MasVnrArea and got values : [1.960e+02 0.000e+00 1.620e+02 3.500e+02 1.860e+02 2.400e+02 2.860e+02\n",
      " 3.060e+02 2.120e+02 1.800e+02 3.800e+02 2.810e+02 6.400e+02 2.000e+02\n",
      " 2.460e+02 1.320e+02 6.500e+02 1.010e+02 4.120e+02 2.720e+02 4.560e+02\n",
      " 1.031e+03 1.780e+02 5.730e+02 3.440e+02 2.870e+02 1.670e+02 1.115e+03\n",
      " 4.000e+01 1.040e+02 5.760e+02 4.430e+02 4.680e+02 6.600e+01 2.200e+01\n",
      " 2.840e+02 7.600e+01 2.030e+02 6.800e+01 1.830e+02 4.800e+01 2.800e+01\n",
      " 3.360e+02 6.000e+02 7.680e+02 4.800e+02 2.200e+02 1.840e+02 1.129e+03\n",
      " 1.160e+02 1.350e+02 2.660e+02 8.500e+01 3.090e+02 1.360e+02 2.880e+02\n",
      " 7.000e+01 3.200e+02 5.000e+01 1.200e+02 4.360e+02 2.520e+02 8.400e+01\n",
      " 6.640e+02 2.260e+02 3.000e+02 6.530e+02 1.120e+02 4.910e+02 2.680e+02\n",
      " 7.480e+02 9.800e+01 2.750e+02 1.380e+02 2.050e+02 2.620e+02 1.280e+02\n",
      " 2.600e+02 1.530e+02 6.400e+01 3.120e+02 1.600e+01 9.220e+02 1.420e+02\n",
      " 2.900e+02 1.270e+02 5.060e+02 2.970e+02       nan 6.040e+02 2.540e+02\n",
      " 3.600e+01 1.020e+02 4.720e+02 4.810e+02 1.080e+02 3.020e+02 1.720e+02\n",
      " 3.990e+02 2.700e+02 4.600e+01 2.100e+02 1.740e+02 3.480e+02 3.150e+02\n",
      " 2.990e+02 3.400e+02 1.660e+02 7.200e+01 3.100e+01 3.400e+01 2.380e+02\n",
      " 1.600e+03 3.650e+02 5.600e+01 1.500e+02 2.780e+02 2.560e+02 2.250e+02\n",
      " 3.700e+02 3.880e+02 1.750e+02 2.960e+02 1.460e+02 1.130e+02 1.760e+02\n",
      " 6.160e+02 3.000e+01 1.060e+02 8.700e+02 3.620e+02 5.300e+02 5.000e+02\n",
      " 5.100e+02 2.470e+02 3.050e+02 2.550e+02 1.250e+02 1.000e+02 4.320e+02\n",
      " 1.260e+02 4.730e+02 7.400e+01 1.450e+02 2.320e+02 3.760e+02 4.200e+01\n",
      " 1.610e+02 1.100e+02 1.800e+01 2.240e+02 2.480e+02 8.000e+01 3.040e+02\n",
      " 2.150e+02 7.720e+02 4.350e+02 3.780e+02 5.620e+02 1.680e+02 8.900e+01\n",
      " 2.850e+02 3.600e+02 9.400e+01 3.330e+02 9.210e+02 7.620e+02 5.940e+02\n",
      " 2.190e+02 1.880e+02 4.790e+02 5.840e+02 1.820e+02 2.500e+02 2.920e+02\n",
      " 2.450e+02 2.070e+02 8.200e+01 9.700e+01 3.350e+02 2.080e+02 4.200e+02\n",
      " 1.700e+02 4.590e+02 2.800e+02 9.900e+01 1.920e+02 2.040e+02 2.330e+02\n",
      " 1.560e+02 4.520e+02 5.130e+02 2.610e+02 1.640e+02 2.590e+02 2.090e+02\n",
      " 2.630e+02 2.160e+02 3.510e+02 6.600e+02 3.810e+02 5.400e+01 5.280e+02\n",
      " 2.580e+02 4.640e+02 5.700e+01 1.470e+02 1.170e+03 2.930e+02 6.300e+02\n",
      " 4.660e+02 1.090e+02 4.100e+01 1.600e+02 2.890e+02 6.510e+02 1.690e+02\n",
      " 9.500e+01 4.420e+02 2.020e+02 3.380e+02 8.940e+02 3.280e+02 6.730e+02\n",
      " 6.030e+02 1.000e+00 3.750e+02 9.000e+01 3.800e+01 1.570e+02 1.100e+01\n",
      " 1.400e+02 1.300e+02 1.480e+02 8.600e+02 4.240e+02 1.047e+03 2.430e+02\n",
      " 8.160e+02 3.870e+02 2.230e+02 1.580e+02 1.370e+02 1.150e+02 1.890e+02\n",
      " 2.740e+02 1.170e+02 6.000e+01 1.220e+02 9.200e+01 4.150e+02 7.600e+02\n",
      " 2.700e+01 7.500e+01 3.610e+02 1.050e+02 3.420e+02 2.980e+02 5.410e+02\n",
      " 2.360e+02 1.440e+02 4.230e+02 4.400e+01 1.510e+02 9.750e+02 4.500e+02\n",
      " 2.300e+02 5.710e+02 2.400e+01 5.300e+01 2.060e+02 1.400e+01 3.240e+02\n",
      " 2.950e+02 3.960e+02 6.700e+01 1.540e+02 4.250e+02 4.500e+01 1.378e+03\n",
      " 3.370e+02 1.490e+02 1.430e+02 5.100e+01]\n",
      "Feature : BsmtQual and got values : ['Gd' 'TA' 'Ex' nan 'Fa']\n",
      "Feature : BsmtCond and got values : ['TA' 'Gd' nan 'Fa' 'Po']\n",
      "Feature : BsmtFinType1 and got values : ['GLQ' 'ALQ' 'Unf' 'Rec' 'BLQ' nan 'LwQ']\n",
      "Feature : BsmtFinType2 and got values : ['Unf' 'BLQ' nan 'ALQ' 'Rec' 'LwQ' 'GLQ']\n",
      "Feature : FireplaceQu and got values : [nan 'TA' 'Gd' 'Fa' 'Ex' 'Po']\n",
      "Feature : GarageType and got values : ['Attchd' 'Detchd' 'BuiltIn' 'CarPort' nan 'Basment' '2Types']\n",
      "Feature : GarageYrBlt and got values : [2003. 1976. 2001. 1998. 2000. 1993. 2004. 1973. 1931. 1939. 1965. 2005.\n",
      " 1962. 2006. 1960. 1991. 1970. 1967. 1958. 1930. 2002. 1968. 2007. 2008.\n",
      " 1957. 1920. 1966. 1959. 1995. 1954. 1953.   nan 1983. 1977. 1997. 1985.\n",
      " 1963. 1981. 1964. 1999. 1935. 1990. 1945. 1987. 1989. 1915. 1956. 1948.\n",
      " 1974. 2009. 1950. 1961. 1921. 1900. 1979. 1951. 1969. 1936. 1975. 1971.\n",
      " 1923. 1984. 1926. 1955. 1986. 1988. 1916. 1932. 1972. 1918. 1980. 1924.\n",
      " 1996. 1940. 1949. 1994. 1910. 1978. 1982. 1992. 1925. 1941. 2010. 1927.\n",
      " 1947. 1937. 1942. 1938. 1952. 1928. 1922. 1934. 1906. 1914. 1946. 1908.]\n",
      "Feature : GarageFinish and got values : ['RFn' 'Unf' 'Fin' nan]\n",
      "Feature : GarageQual and got values : ['TA' 'Fa' 'Gd' nan 'Ex' 'Po']\n",
      "Feature : GarageCond and got values : ['TA' 'Fa' nan 'Gd' 'Po' 'Ex']\n"
     ]
    }
   ],
   "source": [
    "# Print the feature with NaN values and the values it have \n",
    "for column in indexes_nan :\n",
    "    print('Feature : {} and got values : {}'.format(dataset.columns[column],\\\n",
    "                                                   dataset[dataset.columns[column]].unique()))"
   ]
  },
  {
   "cell_type": "markdown",
   "metadata": {},
   "source": [
    "<hr>\n",
    "These features have numerical values, and we can therefore fulfill the NaN values by the mean for instance : \n",
    "<ul>\n",
    "     <li> <b> LotFrontage </b> </li>\n",
    "    <li> <b> MasVnrArea </b> </li>\n",
    "    <li> <b> GarageYrBlt </b> </li>\n",
    "    \n",
    "    \n",
    "</ul>\n",
    "These feature have string values, and therefore it will be harder to fulfill it : \n",
    "<ul>\n",
    "    <li> <b> MasVnrType </b>   </li>\n",
    "    <li> <b> BsmtQual </b> </li>\n",
    "    <li> <b> BsmtCond </b> </li>\n",
    "    <li> <b> BsmtFinType1 </b></li>\n",
    "    <li> <b> BsmtFinType2 </b></li>\n",
    "    <li> <b> FireplaceQu </b></li>\n",
    "    <li> <b> GarageType </b></li>\n",
    "    <li> <b> GarageFinish </b></li>\n",
    "    <li> <b> GarageQual </b></li>\n",
    "    <li> <b> GarageCond </b></li>\n",
    "    \n",
    "   \n",
    "</ul>\n",
    "\n",
    "\n",
    "\n",
    "<hr>"
   ]
  },
  {
   "cell_type": "code",
   "execution_count": 132,
   "metadata": {},
   "outputs": [],
   "source": [
    "# Fill the features with numerical values by the mean. \n",
    "features_nan_num = ['LotFrontage', 'MasVnrArea','GarageYrBlt']\n",
    "for column in features_nan_num :\n",
    "    # Compute the mean\n",
    "    feature_mean = dataset[column].mean() \n",
    "    # Fulfill the NaN values by the mean\n",
    "    dataset[column].fillna(feature_mean , inplace=True)"
   ]
  },
  {
   "cell_type": "markdown",
   "metadata": {},
   "source": [
    "<hr>\n",
    "To deal with NaN values, there are different methods. We can either fill with random values or with mean. Another method would be to just delete the row (but we'll miss too much data here). Then, we can also replace it with an 'unknown' value. And finally we can predict the NaN values thanks to the other data we have. <br>\n",
    "We'll try here with <b> replacing by a None value </b>, which will basically add a feature when we'll do K-encoding. \n",
    "<hr>"
   ]
  },
  {
   "cell_type": "code",
   "execution_count": 133,
   "metadata": {},
   "outputs": [],
   "source": [
    "features_nan_string = ['MasVnrType', 'BsmtQual','BsmtCond', 'BsmtFinType1', 'BsmtFinType2', \\\n",
    "                     'FireplaceQu','GarageType','GarageFinish','GarageQual','GarageCond' ]"
   ]
  },
  {
   "cell_type": "code",
   "execution_count": 134,
   "metadata": {},
   "outputs": [],
   "source": [
    "# Replace NaN values by a None category\n",
    "for feature in features_nan_string :\n",
    "    dataset[feature].fillna('None', inplace = True)"
   ]
  },
  {
   "cell_type": "markdown",
   "metadata": {},
   "source": [
    "<hr>\n",
    "We then want to vectorize our data. We need to convert all the strings into numerical values. <br>\n",
    "We have two choices : either convert strings to integers (like 'bad' becomes 0, 'good' becomes 1, etc) or to do K-encoding by creating a new binary feature for each value of a given feature. <br>\n",
    "Here is the list of features that need <b> conversion </b> (where there is an order) : \n",
    "<ul>\n",
    "     <li> <b>Street  </b> </li>\n",
    "    <li> <b> Utilities </b> </li>\n",
    "    <li> <b> ExterQual </b> </li>\n",
    "    <li> <b> ExterCond </b> </li>\n",
    "    <li> <b> BsmtQual </b> </li>\n",
    "    <li> <b> BsmtCond </b> </li>\n",
    "    <li> <b> BsmtFinType1 </b> </li>\n",
    "    <li> <b> BsmtFinType2 </b> </li>\n",
    "    <li> <b> HeatingQC  </b> </li>\n",
    "    <li> <b> CentralAir </b> </li>\n",
    "    <li> <b> KitchenQual </b> </li>\n",
    "    <li> <b> Functional </b> </li>\n",
    "    <li> <b> FireplaceQu </b> </li>\n",
    "    <li> <b> GarageFinish </b> </li>\n",
    "    <li> <b> GarageQual </b> </li>\n",
    "    <li> <b> GarageCond </b> </li>\n",
    "    <li> <b> SaleType </b> </li>\n",
    "   \n",
    "</ul>\n",
    "Here is the list of contents that require K encoding : \n",
    "<ul>\n",
    "     <li> <b> MSZoning </b> </li>\n",
    "    <li> <b> LotShape </b> </li>\n",
    "    <li> <b> LandContour </b> </li>\n",
    "    <li> <b> LotConfig </b> </li>\n",
    "    <li> <b> Neighborhood </b> </li>\n",
    "    <li> <b> Condition1 </b> </li>\n",
    "    <li> <b> Condition2  </b> </li>\n",
    "    <li> <b> BldgType </b> </li>\n",
    "    <li> <b> RoofStyle </b> </li>\n",
    "    <li> <b> RoofMatl </b> </li>\n",
    "    <li> <b> Exterior1st </b> </li>\n",
    "    <li> <b> Exterior2nd </b> </li>\n",
    "    <li> <b> MasVnrType </b> </li>\n",
    "    <li> <b> Foundation </b> </li>\n",
    "    <li> <b> Heating </b> </li>\n",
    "    <li> <b> Electrical </b> </li>\n",
    "    <li> <b> GarageType </b> </li>\n",
    "    <li> <b> PavedDrive </b> </li>\n",
    "    <li> <b> SaleCondition </b> </li>\n",
    "    \n",
    "   \n",
    "</ul>\n",
    "\n"
   ]
  },
  {
   "cell_type": "code",
   "execution_count": 135,
   "metadata": {},
   "outputs": [
    {
     "name": "stdout",
     "output_type": "stream",
     "text": [
      "MSZoning\n",
      "['RL' 'RM' 'C (all)' 'FV' 'RH']\n",
      "Street\n",
      "['Pave' 'Grvl']\n",
      "LotShape\n",
      "['Reg' 'IR1' 'IR2' 'IR3']\n",
      "LandContour\n",
      "['Lvl' 'Bnk' 'Low' 'HLS']\n",
      "Utilities\n",
      "['AllPub' 'NoSeWa']\n",
      "LotConfig\n",
      "['Inside' 'FR2' 'Corner' 'CulDSac' 'FR3']\n",
      "Neighborhood\n",
      "['CollgCr' 'Veenker' 'Crawfor' 'NoRidge' 'Mitchel' 'Somerst' 'NWAmes'\n",
      " 'OldTown' 'BrkSide' 'Sawyer' 'NridgHt' 'NAmes' 'SawyerW' 'IDOTRR'\n",
      " 'MeadowV' 'Edwards' 'Timber' 'Gilbert' 'StoneBr' 'ClearCr' 'NPkVill'\n",
      " 'Blmngtn' 'BrDale' 'SWISU' 'Blueste']\n",
      "Condition1\n",
      "['Norm' 'Feedr' 'PosN' 'Artery' 'RRAe' 'RRNn' 'RRAn' 'PosA' 'RRNe']\n",
      "Condition2\n",
      "['Norm' 'Artery' 'RRNn' 'Feedr' 'PosN' 'PosA' 'RRAn']\n",
      "BldgType\n",
      "['1Fam' '2fmCon' 'Duplex' 'TwnhsE' 'Twnhs']\n",
      "RoofStyle\n",
      "['Gable' 'Hip' 'Gambrel' 'Mansard' 'Flat']\n",
      "RoofMatl\n",
      "['CompShg' 'WdShngl' 'Metal' 'WdShake' 'Membran' 'Tar&Grv']\n",
      "Exterior1st\n",
      "['VinylSd' 'MetalSd' 'Wd Sdng' 'HdBoard' 'BrkFace' 'WdShing' 'CemntBd'\n",
      " 'Plywood' 'AsbShng' 'Stucco' 'BrkComm' 'AsphShn' 'Stone' 'ImStucc']\n",
      "Exterior2nd\n",
      "['VinylSd' 'MetalSd' 'Wd Shng' 'HdBoard' 'Plywood' 'Wd Sdng' 'CmentBd'\n",
      " 'BrkFace' 'Stucco' 'AsbShng' 'Brk Cmn' 'ImStucc' 'AsphShn' 'Stone'\n",
      " 'Other']\n",
      "MasVnrType\n",
      "['BrkFace' 'None' 'Stone' 'BrkCmn']\n",
      "ExterQual\n",
      "['Gd' 'TA' 'Ex' 'Fa']\n",
      "ExterCond\n",
      "['TA' 'Gd' 'Fa' 'Po' 'Ex']\n",
      "Foundation\n",
      "['PConc' 'CBlock' 'BrkTil' 'Wood' 'Slab' 'Stone']\n",
      "BsmtQual\n",
      "['Gd' 'TA' 'Ex' 'None' 'Fa']\n",
      "BsmtCond\n",
      "['TA' 'Gd' 'None' 'Fa' 'Po']\n",
      "BsmtFinType1\n",
      "['GLQ' 'ALQ' 'Unf' 'Rec' 'BLQ' 'None' 'LwQ']\n",
      "BsmtFinType2\n",
      "['Unf' 'BLQ' 'None' 'ALQ' 'Rec' 'LwQ' 'GLQ']\n",
      "Heating\n",
      "['GasA' 'GasW' 'Grav' 'Wall']\n",
      "HeatingQC\n",
      "['Ex' 'Gd' 'TA' 'Fa' 'Po']\n",
      "CentralAir\n",
      "['Y' 'N']\n",
      "Electrical\n",
      "['SBrkr' 'FuseF' 'FuseA' 'FuseP' 'Mix']\n",
      "KitchenQual\n",
      "['Gd' 'TA' 'Ex' 'Fa']\n",
      "Functional\n",
      "['Typ' 'Min1' 'Maj1' 'Min2' 'Mod' 'Maj2' 'Sev']\n",
      "FireplaceQu\n",
      "['None' 'TA' 'Gd' 'Fa' 'Ex' 'Po']\n",
      "GarageType\n",
      "['Attchd' 'Detchd' 'BuiltIn' 'CarPort' 'None' 'Basment' '2Types']\n",
      "GarageFinish\n",
      "['RFn' 'Unf' 'Fin' 'None']\n",
      "GarageQual\n",
      "['TA' 'Fa' 'Gd' 'None' 'Ex' 'Po']\n",
      "GarageCond\n",
      "['TA' 'Fa' 'None' 'Gd' 'Po' 'Ex']\n",
      "PavedDrive\n",
      "['Y' 'N' 'P']\n",
      "SaleType\n",
      "['WD' 'New' 'COD' 'ConLD' 'ConLI' 'CWD' 'ConLw' 'Con' 'Oth']\n",
      "SaleCondition\n",
      "['Normal' 'Abnorml' 'Partial' 'AdjLand' 'Alloca' 'Family']\n"
     ]
    }
   ],
   "source": [
    "for x in dataset.columns : \n",
    "    if dataset[x].dtypes==object :\n",
    "        print(x)\n",
    "        print(dataset[x].unique())\n",
    "    "
   ]
  },
  {
   "cell_type": "code",
   "execution_count": 136,
   "metadata": {},
   "outputs": [],
   "source": [
    "features_to_convert = ['Street','Utilities','ExterQual','ExterCond','BsmtQual','BsmtCond',\\\n",
    "                  'BsmtFinType1','BsmtFinType2','HeatingQC','CentralAir','KitchenQual',\\\n",
    "                     'Functional','FireplaceQu','GarageFinish','GarageQual','GarageCond','SaleType']"
   ]
  },
  {
   "cell_type": "code",
   "execution_count": 137,
   "metadata": {},
   "outputs": [],
   "source": [
    "features_to_encode = ['MSZoning','LotShape','LandContour','LotConfig','Neighborhood','Condition1',\\\n",
    "                     'Condition2','BldgType','RoofStyle','RoofMatl','Exterior1st','Exterior2nd',\\\n",
    "                     'MasVnrType','Foundation','Heating','Electrical','GarageType','PavedDrive','SaleCondition']"
   ]
  },
  {
   "cell_type": "code",
   "execution_count": 138,
   "metadata": {},
   "outputs": [],
   "source": [
    "def convert_num_order(df,features) :\n",
    "    # Convert into numeric values the features\n",
    "    for feature in features : \n",
    "        i = 0\n",
    "        for value in df[feature].unique() :\n",
    "            \n",
    "            if value == 'None' :\n",
    "             # It corresponds to a NaN value\n",
    "             # We replace with the mean\n",
    "                df.loc[df[feature] == value, feature] = int(len(df[feature].unique())/2)\n",
    "            else :\n",
    "                df.loc[df[feature] == value, feature] = i\n",
    "            i+=1\n",
    "        "
   ]
  },
  {
   "cell_type": "code",
   "execution_count": 139,
   "metadata": {},
   "outputs": [],
   "source": [
    "# Convert the features into numerical values (add an order)\n",
    "convert_num_order(dataset, features_to_convert)"
   ]
  },
  {
   "cell_type": "code",
   "execution_count": 142,
   "metadata": {},
   "outputs": [],
   "source": [
    "from sklearn.preprocessing import OneHotEncoder"
   ]
  },
  {
   "cell_type": "code",
   "execution_count": 147,
   "metadata": {},
   "outputs": [],
   "source": [
    "enc = OneHotEncoder()"
   ]
  },
  {
   "cell_type": "code",
   "execution_count": 151,
   "metadata": {},
   "outputs": [
    {
     "data": {
      "text/plain": [
       "array([[0],\n",
       "       [0],\n",
       "       [0],\n",
       "       ...,\n",
       "       [0],\n",
       "       [0],\n",
       "       [0]])"
      ]
     },
     "execution_count": 151,
     "metadata": {},
     "output_type": "execute_result"
    }
   ],
   "source": [
    "dataset[features_to_convert[0]].values.reshape(-1,1)"
   ]
  },
  {
   "cell_type": "code",
   "execution_count": null,
   "metadata": {},
   "outputs": [],
   "source": [
    "def k_encoding(df, features) :\n",
    "    enc = OneHotEncoder()\n",
    "    for feature in features : \n",
    "        enc.fit(df[feature].values.reshape(-1,1))\n",
    "        \n",
    "    \n",
    "    \n",
    "    "
   ]
  },
  {
   "cell_type": "code",
   "execution_count": 155,
   "metadata": {},
   "outputs": [
    {
     "data": {
      "text/plain": [
       "OneHotEncoder(categories='auto', drop=None, dtype=<class 'numpy.float64'>,\n",
       "              handle_unknown='error', sparse=True)"
      ]
     },
     "execution_count": 155,
     "metadata": {},
     "output_type": "execute_result"
    }
   ],
   "source": [
    "enc.fit(dataset[features_to_convert[0]].values.reshape(-1,1))"
   ]
  },
  {
   "cell_type": "code",
   "execution_count": 157,
   "metadata": {},
   "outputs": [
    {
     "data": {
      "text/plain": [
       "array([[1., 0.],\n",
       "       [1., 0.],\n",
       "       [1., 0.],\n",
       "       ...,\n",
       "       [1., 0.],\n",
       "       [1., 0.],\n",
       "       [1., 0.]])"
      ]
     },
     "execution_count": 157,
     "metadata": {},
     "output_type": "execute_result"
    }
   ],
   "source": [
    "enc.transform(dataset[features_to_convert[0]].values.reshape(-1,1)).toarray()"
   ]
  },
  {
   "cell_type": "code",
   "execution_count": null,
   "metadata": {},
   "outputs": [],
   "source": []
  },
  {
   "cell_type": "code",
   "execution_count": null,
   "metadata": {},
   "outputs": [],
   "source": []
  },
  {
   "cell_type": "code",
   "execution_count": null,
   "metadata": {},
   "outputs": [],
   "source": []
  },
  {
   "cell_type": "code",
   "execution_count": null,
   "metadata": {},
   "outputs": [],
   "source": []
  },
  {
   "cell_type": "code",
   "execution_count": null,
   "metadata": {},
   "outputs": [],
   "source": []
  },
  {
   "cell_type": "markdown",
   "metadata": {},
   "source": [
    "#### 1.2 Data cleaning"
   ]
  },
  {
   "cell_type": "markdown",
   "metadata": {},
   "source": [
    "#### 1.3 Normalising and standardising the given data\n"
   ]
  },
  {
   "cell_type": "markdown",
   "metadata": {},
   "source": [
    "#### 1.4 Removing outliers\n"
   ]
  },
  {
   "cell_type": "markdown",
   "metadata": {},
   "source": [
    "#### 1.5 Carrying out feature selection\n"
   ]
  },
  {
   "cell_type": "markdown",
   "metadata": {},
   "source": [
    "#### 1.6 Handling missing information in the dataset\n"
   ]
  },
  {
   "cell_type": "markdown",
   "metadata": {},
   "source": [
    "#### 1.7 Augmenting the dataset with external information\n"
   ]
  },
  {
   "cell_type": "markdown",
   "metadata": {},
   "source": [
    "#### 1.8 Combining existing features\n"
   ]
  },
  {
   "cell_type": "code",
   "execution_count": null,
   "metadata": {},
   "outputs": [],
   "source": []
  },
  {
   "cell_type": "code",
   "execution_count": null,
   "metadata": {},
   "outputs": [],
   "source": []
  },
  {
   "cell_type": "code",
   "execution_count": null,
   "metadata": {},
   "outputs": [],
   "source": []
  },
  {
   "cell_type": "markdown",
   "metadata": {},
   "source": [
    "### 2. Model selection"
   ]
  },
  {
   "cell_type": "markdown",
   "metadata": {},
   "source": [
    "### 3. Performance Evaluation"
   ]
  },
  {
   "cell_type": "code",
   "execution_count": null,
   "metadata": {},
   "outputs": [],
   "source": []
  },
  {
   "cell_type": "code",
   "execution_count": null,
   "metadata": {},
   "outputs": [],
   "source": []
  },
  {
   "cell_type": "code",
   "execution_count": null,
   "metadata": {},
   "outputs": [],
   "source": []
  },
  {
   "cell_type": "code",
   "execution_count": null,
   "metadata": {},
   "outputs": [],
   "source": []
  },
  {
   "cell_type": "code",
   "execution_count": null,
   "metadata": {},
   "outputs": [],
   "source": []
  },
  {
   "cell_type": "code",
   "execution_count": null,
   "metadata": {},
   "outputs": [],
   "source": []
  },
  {
   "cell_type": "code",
   "execution_count": null,
   "metadata": {},
   "outputs": [],
   "source": []
  },
  {
   "cell_type": "code",
   "execution_count": null,
   "metadata": {},
   "outputs": [],
   "source": []
  },
  {
   "cell_type": "code",
   "execution_count": null,
   "metadata": {},
   "outputs": [],
   "source": []
  },
  {
   "cell_type": "code",
   "execution_count": null,
   "metadata": {},
   "outputs": [],
   "source": []
  },
  {
   "cell_type": "code",
   "execution_count": null,
   "metadata": {},
   "outputs": [],
   "source": []
  },
  {
   "cell_type": "code",
   "execution_count": null,
   "metadata": {},
   "outputs": [],
   "source": []
  },
  {
   "cell_type": "code",
   "execution_count": null,
   "metadata": {},
   "outputs": [],
   "source": []
  },
  {
   "cell_type": "code",
   "execution_count": null,
   "metadata": {},
   "outputs": [],
   "source": []
  },
  {
   "cell_type": "code",
   "execution_count": null,
   "metadata": {},
   "outputs": [],
   "source": []
  },
  {
   "cell_type": "code",
   "execution_count": null,
   "metadata": {},
   "outputs": [],
   "source": []
  },
  {
   "cell_type": "code",
   "execution_count": null,
   "metadata": {},
   "outputs": [],
   "source": []
  },
  {
   "cell_type": "code",
   "execution_count": null,
   "metadata": {},
   "outputs": [],
   "source": []
  },
  {
   "cell_type": "code",
   "execution_count": null,
   "metadata": {},
   "outputs": [],
   "source": []
  }
 ],
 "metadata": {
  "kernelspec": {
   "display_name": "Python 3",
   "language": "python",
   "name": "python3"
  },
  "language_info": {
   "codemirror_mode": {
    "name": "ipython",
    "version": 3
   },
   "file_extension": ".py",
   "mimetype": "text/x-python",
   "name": "python",
   "nbconvert_exporter": "python",
   "pygments_lexer": "ipython3",
   "version": "3.5.2"
  }
 },
 "nbformat": 4,
 "nbformat_minor": 2
}
