{
 "cells": [
  {
   "cell_type": "markdown",
   "metadata": {},
   "source": [
    "---\n",
    "# Plankton Recognition Challenge\n",
    "---\n",
    "\n",
    "Plankton comprises all the organisms freely drifting with ocean currents. These life forms are a critically important piece of oceanic ecosystems, accounting for more than half the primary production on earth and nearly half the total carbon fixed in the global carbon cycle. They also form the foundation of aquatic food webs, including those of large, commercially important fisheries. Loss of plankton populations could result in ecological upheaval as well as negative societal impacts, particularly in indigenous cultures and the developing world. Plankton’s global significance makes their population levels an ideal measure of the health of the world’s oceans and ecosystems.\n",
    "\n",
    "Traditional methods for measuring and monitoring plankton populations are time consuming and cannot scale to the granularity or scope necessary for large-scale studies. Improved approaches are needed. One such approach is through the use of underwater imagery sensors. \n",
    "\n",
    "In this challenge, which was prepared in cooperation with the Laboratoire d’Océanographie de Villefranche, jointly run by Sorbonne Université and CNRS, plankton images were acquired in the bay of Villefranche, weekly since 2013 and manually engineered features were computed on each imaged object. \n",
    "\n",
    "This challenge aims at developing solid approaches to plankton image classification. As an alternative, it is possible to use methods based on carefully (but manually) engineered features. This is in sharp contrast with “Deep Learning” methods in which features will be learned from image data alone.\n",
    "\n",
    "The purpose of this challenge is for you to learn about the commonly used paradigms when working with real-life problems. This means you can choose one of the following paths:\n",
    "\n",
    "- Work directly with the provided images, e.g. using a (convolutional) neural network\n",
    "- Work with the supplied features extracted from the images (*native* or *skimage* or both of them)\n",
    "- Extract your own features from the provided images using a technique of your choice\n",
    "\n",
    "You will find a detailed description about the image data and the features at the end of this text.\n",
    "In any case, the choice of the classifier that you decide to work with strongly depends on the choice of features.\n",
    "\n",
    "Please bear in mind that the purpose of this challenge is not to find the best-performing model (e.g. on Kaggle there are competitions to do just that, with similar data as for this challenge). You should rather make sure to understand the dificulties that come with computer vision task, should you take this modeling approach. Moreover, you should be able to justify your choice of features/model and be able to explain its advantages and disadvantages for the task.\n",
    "\n",
    "**IMPORTANT**: please refer to the AML course guidelines concerning grading rules. Pay especially attention to the **presentation quality** item, which boils down to: don't dump a zillion of lines of code and plots in this notebook. Produce a concise summary of your findings: this notebook can exist in two versions, a \"scratch\" version that you will use to work and debug, a \"presentation\" version that you will submit. The \"presentation\" notebook should go to the point, and convay the main findings of your work."
   ]
  },
  {
   "cell_type": "markdown",
   "metadata": {},
   "source": [
    "---\n",
    "## Overview\n",
    "\n",
    "Beyond simply producing a well-performing model for making predictions, in this challenge we would like you to start developing your skills as a machine learning scientist.\n",
    "In this regard, your notebook should be structured in such a way as to explore the following tasks that are expected to be carried out whenever undertaking such a project.\n",
    "The description below each aspect should serve as a guide for your work, but you are strongly encouraged to also explore alternative options and directions. \n",
    "Thinking outside the box will always be rewarded in these challenges.\n",
    "\n",
    "\n",
    "### 1. Data preparation:\n",
    "   \n",
    "_Data exploration_: The first broad component of your work should enable you to familiarise yourselves with the given data, an outline of which is given at the end of this challenge specification. Among others, you can work on:\n",
    "   \n",
    "* Data cleaning, e.g. treatment of categorial variables;\n",
    "* Data visualisation; Computing descriptive statistics, e.g. correlation.\n",
    "\n",
    "What is new in this challenge is that you will be working with image data. Therefore, you should have a look at example images located in the *imgs.zip* file (see description below). If you decide to work with the native or the skimage features, make sure to understand them!\n",
    "\n",
    "Among others, this section should investigate:\n",
    "\n",
    "- Distribution of the different image dimensions (including the number of channels)\n",
    "- Distribution of the different labels that the images are assigned to\n",
    "\n",
    "The image labels are organized in a taxonomy. We will measure the final model performance for the classification into the *level2* categories. Make sure to understand the meaning of this label inside the taxonomy.\n",
    "\n",
    "_Data Pre-processing_: The previous step should give you a better understanding of which pre-processing is required for the data. This may include:\n",
    "\n",
    "* Normalising and standardising the given data;\n",
    "* Removing outliers;\n",
    "* Carrying out feature selection, possibly using metrics derived from information theory;\n",
    "* Handling missing information in the dataset;\n",
    "* Augmenting the dataset with external information;\n",
    "* Combining existing features.\n",
    "\n",
    "Please take also note of the following aspects, that are related to this particular challente:\n",
    "\n",
    "- If you decide to work with the provided features, some data cleaning may be required to make full use of all the data.\n",
    "- If you decide to extract your own features from the images, you should explain your approach in this section.\n",
    "- If you decide to work directly with the images themselves, preprocessing the images may improve your classification results. In particular, if you work with a neural network the following should be of interest to you:\n",
    "\n",
    "  - Due to the fully-connected layers (that usually come after the convolutional ones), the input needs to have a fixed dimension.\n",
    "  - Data augmentation (image rotation, scaling, cropping, etc. of the existing images) can be used to increase the size of the training data set. This may improve performance especially when little data is available for a particular class.\n",
    "  - Be aware of the computational cost! It might be worth rescaling the images to a smaller size!\n",
    "\n",
    "  All of the operations above are usually realized using a dataloader. This means that you do not need to create a modified version of the dataset and save it to disk. Instead, the dataloader processes the data \"on the fly\" and in-memory before passing it to the network.\n",
    "  \n",
    "    NB: Although aligning image sizes is necessary to train CNNs, this will prevent your classifier from learning about different object sizes as a feature. Additional gains may be achieved when also taking object sizes into account.\n",
    "\n",
    "### 2. Model selection\n",
    "An important part of the work involves the selection of a model that can successfully handle the given data and yield sensible predictions. Instead of focusing exclusively on your final chosen model, it is also important to share your thought process in this notebook by additionally describing alternative candidate models. There is a wealth of models to choose from, such as decision trees, random forests, (Bayesian) neural networks, Gaussian processes, LASSO regression, and so on. \n",
    "\n",
    "Irrespective of your choice, it is highly likely that your model will have one or more parameters that require tuning. There are several techniques for carrying out such a procedure, such as cross-validation.\n",
    "\n",
    "### 3. Performance Evaluation\n",
    "For the evaluation of the classification results in this challenge, you should use the F1 measure. Here the focus should be on level2 classification.\n",
    "\n",
    "You should indicate your final evaluation score on a held-out test set. As an evaluation metric you should use the F1 score with the *average=macro* option as it is provided by the scikit-learn library. See the following link for more information:\n",
    "        \n",
    "https://scikit-learn.org/stable/modules/generated/sklearn.metrics.f1_score.html\n",
    "\n",
    "Please note that you are responsible for creating a sensible train/validation/test split. There is no predefined held-out test data."
   ]
  },
  {
   "cell_type": "markdown",
   "metadata": {},
   "source": [
    "---\n",
    "## Dataset Description\n",
    "\n",
    "#### * Location of the Dataset on the cloud platform\n",
    "The data for this challenge is located at: `/mnt/datasets/plankton/flowcam`\n",
    "\n",
    "#### * Hierachical Taxonomy Tree for Labels \n",
    "\n",
    "Each object is represented by a single image and is identified by a unique integer number. It has a name associated to it which is integrated in a hierarchical taxonomic tree. The identifications are gathered from different projects, classified by different people in different contexts, so they often target different taxonomic levels. For example, let us say we classify items of clothing along the following tree\n",
    "\n",
    "    top\n",
    "        shirt\n",
    "            long sleeves\n",
    "            short sleeves\n",
    "        sweater\n",
    "            hooded\n",
    "            no hood\n",
    "    bottom\n",
    "        pants\n",
    "            jeans\n",
    "            other\n",
    "        shorts\n",
    "        \n",
    "In a first project, images are classified to the finest level possible, but it may be the case that, on some pictures, it is impossible to determine whether a sweater has a hood or not, in which case it is simply classified as `sweater`. In the second project, the operator classified tops as `shirt` or `sweater` only, and bottoms to the finest level. In a third project, the operator only separated tops from bottoms. In such a context, the original names in the database cannot be used directly because, for example `sweater` will contain images that are impossible to determine as `hooded` or `no hood` *as well as* `hooded` and `no hood` images that were simply not classified further. If all three classes (`sweater`, `hooded`, and `no hood`) are included in the training set, it will likely confuse the classifier. For this reason, we define different target taxonomic levels:\n",
    "\n",
    "-   `level1` is the finest taxonomic level possible. In the example above, we would include `hooded` and `no hood` but discard all images in `sweater` to avoid confusion; and proceed in the same manner for other classes.\n",
    "\n",
    "-   `level2` is a grouping of underlying levels. In the example above, it would include `shirt` (which contains all images in `shirt`, `long sleeves`, and `short sleeves`), `sweater` (which, similarly would include this class and all its children), `pants` (including children), and `shorts`. So typically, `level2` contains more images (less discarding), sorted within fewer classes than `level1`, and may therefore be an easier classification problem.\n",
    "\n",
    "-   `level3` is an even broader grouping. Here it would be `top` vs `bottom`\n",
    "\n",
    "-   etc.\n",
    "\n",
    "In the Plankton Image dataset, the objects will be categorised based on a pre-defined 'level1' and 'level2'. You can opt to work on one of them, but we recommend you to work on `level2` because it is an easier classification problem.  \n",
    "\n",
    "#### * Data Structure\n",
    "\n",
    "    /mnt/datasets/plankton/flowcam/\n",
    "        meta.csv\n",
    "        taxo.csv\n",
    "        features_native.csv.gz\n",
    "        features_skimage.csv.gz\n",
    "        imgs.zip\n",
    "\n",
    "* `meta.csv` contains the index of images and their corresponding labels\n",
    "* `taxo.csv` defines the taxonomic tree and its potential groupings at various level. Note that, the information is also available in `meta.csv`. Therefore, the information in `taxo.csv` is probably useless, but at least it gives you a global view about taxonomy tree\n",
    "* `features_native.csv.gz` contain the morphological handcrafted features computed by ZooProcess. In fact, ZooProcess generates the region of interests (ROI) around each individual object from a original image of Plankton. In addition, it also computes a set of associated features measured on the object. These features are the ones contained in `features_native.csv.gz`\n",
    "* `features_skimage.csv.gz` contains the morphological features recomputed with skimage.measure.regionprops on the ROIs produced by ZooProcess.\n",
    "* `imgs.zip` contains a post-processed version of the original images. Images are named by `objid`.jpg\n",
    "\n",
    "#### * Attributes in meta.csv\n",
    "\n",
    "The file contains the image identifiers (objid) as well as the labels assigned to the images by human operators. Those are defined with various levels of precision:\n",
    "\n",
    "* <i>unique_name</i>: raw labels from operators\n",
    "* <i>level1</i>: cleaned, most detailed labels\n",
    "* <i>level2</i>: regrouped (coarser) labels\n",
    "* <i>lineage</i>: full taxonomic lineage of the class\n",
    "\n",
    "Some labels may be missing (coded ‘NA’) at a given level, meaning that the corresponding objects should be discarded for the classification at this level.\n",
    "\n",
    "#### * imgs.zip\n",
    "\n",
    "This zip archive contains an *imgs* folder that contains all the images in .jpg format. Do not extract this folder to disk! Instead you will be loading the images to memory. See the code below for a quick how-to:"
   ]
  },
  {
   "cell_type": "markdown",
   "metadata": {},
   "source": [
    "#### * Attributes in features_native.csv.gz\n",
    "A brief outline of the availabel attributes in `features_native.csv.gz` which you can use is given below:\n",
    "\n",
    "* <i>objid</i>: same as in `meta.csv`\n",
    "* <i>area</i>: area of ROI\n",
    "* <i>meanimagegrey</i>:\n",
    "* <i>mean</i>: mean grey\n",
    "* <i>stddev</i>: standard deviation of greys\n",
    "* <i>min</i>: minimum grey\n",
    "* <i>perim.</i>: perimeter of ROI\n",
    "* <i>width, height</i>: dimensions of ROI\n",
    "* <i>major, minor</i>: length of major,minor axis of the best fitting ellipse\n",
    "* <i>angle</i>: \n",
    "* <i>circ.</i>: circularity or shape factor which can be computed by 4pi(area/perim.^2)\n",
    "* <i>feret</i>:  maximal feret diameter\n",
    "* <i>intden</i>: integrated density: mean*area\n",
    "* <i>median</i>: median grey\n",
    "* <i>skew, kurt</i>: skewness,kurtosis of the histogram of greys\n",
    "* <i>%area</i>: proportion of the image corresponding to the object\n",
    "* <i>area_exc</i>: area excluding holes\n",
    "* <i>fractal</i>: fractal dimension of the perimeter\n",
    "* <i>skelarea</i>: area of the one-pixel wide skeleton of the image ???\n",
    "* <i>slope</i>: slope of the cumulated histogram of greys\n",
    "* <i>histcum1, 2, 3</i>:  grey level at quantiles 0.25, 0.5, 0.75 of the histogram of greys\n",
    "* <i>nb1, 2, 3</i>: number of objects after thresholding at the grey levels above\n",
    "* <i>symetrieh, symetriev</i>: index of horizontal,vertical symmetry\n",
    "* <i>symetriehc, symetrievc</i>: same but after thresholding at level histcum1\n",
    "* <i>convperim, convarea</i>: perimeter,area of the convex hull of the object\n",
    "* <i>fcons</i>: contrast\n",
    "* <i>thickr</i>: thickness ratio: maximum thickness/mean thickness\n",
    "* <i>esd</i>:\n",
    "* <i>elongation</i>: elongation index: major/minor\n",
    "* <i>range</i>: range of greys: max-min\n",
    "* <i>meanpos</i>:  relative position of the mean grey: (max-mean)/range\n",
    "* <i>centroids</i>:\n",
    "* <i>cv</i>: coefficient of variation of greys: 100*(stddev/mean)\n",
    "* <i>sr</i>: index of variation of greys: 100*(stddev/range)\n",
    "* <i>perimareaexc</i>:\n",
    "* <i>feretareaexc</i>:\n",
    "* <i>perimferet</i>: index of the relative complexity of the perimeter: perim/feret\n",
    "* <i>perimmajor</i>: index of the relative complexity of the perimeter: perim/major\n",
    "* <i>circex</i>:\n",
    "* <i>cdexc</i>:\n",
    "* <i>kurt_mean</i>:\n",
    "* <i>skew_mean</i>:\n",
    "* <i>convperim_perim</i>:\n",
    "* <i>convarea_area</i>:\n",
    "* <i>symetrieh_area</i>:\n",
    "* <i>symetriev_area</i>:\n",
    "* <i>nb1_area</i>:\n",
    "* <i>nb2_area</i>:\n",
    "* <i>nb3_area</i>:\n",
    "* <i>nb1_range</i>:\n",
    "* <i>nb2_range</i>:\n",
    "* <i>nb3_range</i>:\n",
    "* <i>median_mean</i>:\n",
    "* <i>median_mean_range</i>:\n",
    "* <i>skeleton_area</i>:\n",
    "\n",
    "#### * Attributes in features_skimage.csv.gz\n",
    "Table of morphological features recomputed with skimage.measure.regionprops on the ROIs produced by ZooProcess. See http://scikit-image.org/docs/dev/api/skimage.measure.html#skimage.measure.regionprops for documentation."
   ]
  },
  {
   "cell_type": "markdown",
   "metadata": {},
   "source": [
    "# Data preparation "
   ]
  },
  {
   "cell_type": "code",
   "execution_count": 152,
   "metadata": {},
   "outputs": [],
   "source": [
    "# Importations\n",
    "\n",
    "\n",
    "import pandas as pd\n",
    "import numpy as np\n",
    "import matplotlib.pyplot as plt \n",
    "import tensorflow as tf\n",
    "import zipfile\n",
    "from io import BytesIO\n",
    "from PIL import Image\n",
    "import numpy as np\n",
    "\n",
    "\n",
    "\n",
    "SEED = 77\n"
   ]
  },
  {
   "cell_type": "code",
   "execution_count": 153,
   "metadata": {},
   "outputs": [],
   "source": [
    "# Load all the csv data \n",
    "\n",
    "\n",
    "meta = pd.read_csv('meta.csv')\n",
    "taxo = pd.read_csv('taxo.csv')"
   ]
  },
  {
   "cell_type": "code",
   "execution_count": 154,
   "metadata": {},
   "outputs": [
    {
     "data": {
      "text/plain": [
       "(243610, 14)"
      ]
     },
     "execution_count": 154,
     "metadata": {},
     "output_type": "execute_result"
    }
   ],
   "source": [
    "meta.shape"
   ]
  },
  {
   "cell_type": "code",
   "execution_count": 155,
   "metadata": {},
   "outputs": [
    {
     "data": {
      "text/plain": [
       "Index(['objid', 'projid', 'id', 'status', 'latitude', 'longitude', 'objdate',\n",
       "       'objtime', 'depth_min', 'depth_max', 'unique_name', 'lineage', 'level1',\n",
       "       'level2'],\n",
       "      dtype='object')"
      ]
     },
     "execution_count": 155,
     "metadata": {},
     "output_type": "execute_result"
    }
   ],
   "source": [
    "meta.columns"
   ]
  },
  {
   "cell_type": "markdown",
   "metadata": {},
   "source": [
    "## 1. Data Preparation"
   ]
  },
  {
   "cell_type": "code",
   "execution_count": 156,
   "metadata": {},
   "outputs": [],
   "source": [
    "indexes_nan_level2 = meta.level2[meta.level2.isnull()].index\n",
    "\n",
    "meta.drop(indexes_nan_level2 , axis = 0, inplace = True)"
   ]
  },
  {
   "cell_type": "code",
   "execution_count": 157,
   "metadata": {},
   "outputs": [
    {
     "data": {
      "text/plain": [
       "<matplotlib.axes._subplots.AxesSubplot at 0x7fcdde57c278>"
      ]
     },
     "execution_count": 157,
     "metadata": {},
     "output_type": "execute_result"
    },
    {
     "data": {
      "image/png": "[encoded data removed]",
      "text/plain": [
       "<Figure size 720x360 with 1 Axes>"
      ]
     },
     "metadata": {},
     "output_type": "display_data"
    }
   ],
   "source": [
    "# Plot the repartition of the labels\n",
    "meta.level2.value_counts().plot(kind='bar', color = 'b',figsize=(10,5))"
   ]
  },
  {
   "cell_type": "code",
   "execution_count": 158,
   "metadata": {},
   "outputs": [],
   "source": [
    "# Convert the label into classes\n",
    "from sklearn import preprocessing\n",
    "\n",
    "le = preprocessing.LabelEncoder()\n",
    "meta.level2 = le.fit(meta.level2).transform(meta.level2)\n"
   ]
  },
  {
   "cell_type": "code",
   "execution_count": 159,
   "metadata": {},
   "outputs": [
    {
     "data": {
      "text/plain": [
       "<matplotlib.axes._subplots.AxesSubplot at 0x7fcddcad0e10>"
      ]
     },
     "execution_count": 159,
     "metadata": {},
     "output_type": "execute_result"
    },
    {
     "data": {
      "image/png": "[encoded data removed]",
      "text/plain": [
       "<Figure size 720x360 with 1 Axes>"
      ]
     },
     "metadata": {},
     "output_type": "display_data"
    }
   ],
   "source": [
    "# Plot the repartition of the labels\n",
    "meta.level2.value_counts().plot(kind='bar', color = 'b',figsize=(10,5))"
   ]
  },
  {
   "cell_type": "markdown",
   "metadata": {},
   "source": [
    "# Data augmentation : \n"
   ]
  },
  {
   "cell_type": "code",
   "execution_count": 396,
   "metadata": {},
   "outputs": [],
   "source": [
    "# Global variable to balance the classes\n",
    "\n",
    "SAMPLES_PER_CLASSES = 10000\n",
    "SHAPE = (28,28)"
   ]
  },
  {
   "cell_type": "code",
   "execution_count": 161,
   "metadata": {},
   "outputs": [],
   "source": [
    "import zipfile\n",
    "from io import BytesIO\n",
    "from PIL import Image\n",
    "import numpy as np\n",
    "\n",
    "def extract_zip_to_memory(input_zip):\n",
    "    '''\n",
    "    This function extracts the images stored inside the given zip file.\n",
    "    It stores the result in a python dictionary.\n",
    "    \n",
    "    input_zip (string): path to the zip file\n",
    "    \n",
    "    returns (dict): {filename (string): image_file (bytes)}\n",
    "    '''\n",
    "    input_zip=zipfile.ZipFile(input_zip)\n",
    "    return {name: BytesIO(input_zip.read(name)) for name in input_zip.namelist() if name.endswith('.jpg')}\n",
    "\n",
    "\n",
    "img_files = extract_zip_to_memory(\"imgs.zip\")\n",
    "\n",
    "# Display an example image \n",
    "#Image.open(img_files['imgs/32738710.jpg'])\n",
    "\n",
    "# Load the image as a numpy array:\n",
    "#np_arr = np.array(Image.open(img_files['imgs/32738710.jpg']))\n",
    "\n",
    "# Be aware that the dictionary will occupy roughly 2GB of computer memory!\n",
    "# To free this memory again, run:\n",
    "# del img_files"
   ]
  },
  {
   "cell_type": "markdown",
   "metadata": {},
   "source": [
    "### drop over represented classes"
   ]
  },
  {
   "cell_type": "code",
   "execution_count": 195,
   "metadata": {},
   "outputs": [],
   "source": [
    "# First we cut out the classes with number of samples > SAMPLES_PER_CLASSES\n",
    "import random\n",
    "samples_count = meta.level2.value_counts()\n",
    "\n",
    "augmentation_dict = {} # key: class, value: number of augmentation\n",
    "\n",
    "for cls, count in zip(samples_count.index, samples_count):\n",
    "    # In this case, we cut out the number of samples\n",
    "    if count > SAMPLES_PER_CLASSES:\n",
    "        idx_to_drop = random.sample(np.array(meta[meta.level2==cls].index).tolist(),count-SAMPLES_PER_CLASSES)\n",
    "        meta.drop(index=idx_to_drop, inplace=True)\n",
    "    \n",
    "    augmentation_dict[cls] = max([SAMPLES_PER_CLASSES-count, 0])"
   ]
  },
  {
   "cell_type": "code",
   "execution_count": 194,
   "metadata": {},
   "outputs": [
    {
     "data": {
      "text/plain": [
       "<matplotlib.axes._subplots.AxesSubplot at 0x7fcddc12a978>"
      ]
     },
     "execution_count": 194,
     "metadata": {},
     "output_type": "execute_result"
    },
    {
     "data": {
      "image/png": "[encoded data removed]",
      "text/plain": [
       "<Figure size 720x360 with 1 Axes>"
      ]
     },
     "metadata": {},
     "output_type": "display_data"
    }
   ],
   "source": [
    "meta.level2.value_counts().plot(kind='bar', color = 'b',figsize=(10,5))"
   ]
  },
  {
   "cell_type": "markdown",
   "metadata": {},
   "source": [
    "### fill other classes"
   ]
  },
  {
   "cell_type": "code",
   "execution_count": 436,
   "metadata": {},
   "outputs": [],
   "source": [
    "from tensorflow.keras.preprocessing.image import ImageDataGenerator\n",
    "def data_augmentation(objid_list, cls):\n",
    "    \"\"\"\n",
    "    :param objid_list: list of a class objid\n",
    "    :param cls: class name (eg: 31, 21...)\n",
    "    \n",
    "    :return :list of np.array of augmented data\n",
    "    \"\"\"\n",
    "    \n",
    "    def reshape_plankton_image(ima):\n",
    "        width, height = ima.size\n",
    "        if width == height:\n",
    "            new_ima = ima\n",
    "        elif width > height:\n",
    "            new_ima = Image.new(ima.mode, (width, width), 255)\n",
    "            new_ima.paste(ima, (0, (width - height) // 2))\n",
    "        else:\n",
    "            new_ima = Image.new(ima.mode, (height, height), 255)\n",
    "            new_ima.paste(ima, ((height - width) // 2, 0))\n",
    "        \n",
    "        return new_ima.resize(SHAPE, Image.ANTIALIAS )\n",
    "        \n",
    "        \n",
    "    \n",
    "    \n",
    "    samples = []\n",
    "    res = []\n",
    "    \n",
    "    print(\"Sample create \" + str(cls) )\n",
    "    for objid in objid_list:\n",
    "        \n",
    "        ima = Image.open(img_files['imgs/'+str(objid)+'.jpg'])\n",
    "        reshaped_ima = reshape_plankton_image(ima)\n",
    "        reshaped_ima_gray = np.expand_dims(np.array(reshaped_ima), 2)\n",
    "        samples.append(reshaped_ima_gray)\n",
    "    \n",
    "    print(\"Datagen \" + str(cls))\n",
    "    datagen = ImageDataGenerator(width_shift_range=[-4, 4], \n",
    "                             height_shift_range=0.5,\n",
    "                             horizontal_flip=True, \n",
    "                             rotation_range=20,\n",
    "                             vertical_flip=True,\n",
    "                             brightness_range=[0.2,1.0])\n",
    "    \n",
    "    it = datagen.flow(np.array(samples))\n",
    "    augmentation = augmentation_dict[cls]\n",
    "    \n",
    "    print(\"Flow \" + str(cls))\n",
    "    for i in range(augmentation):\n",
    "        batch = it.next()\n",
    "        image = np.squeeze(batch[0], axis=2)\n",
    "        res.append(image)\n",
    "        \n",
    "    return res"
   ]
  },
  {
   "cell_type": "code",
   "execution_count": 438,
   "metadata": {},
   "outputs": [
    {
     "name": "stdout",
     "output_type": "stream",
     "text": [
      "Sample create 0\n",
      "Datagen 0\n",
      "Flow 0\n"
     ]
    },
    {
     "ename": "KeyboardInterrupt",
     "evalue": "",
     "output_type": "error",
     "traceback": [
      "\u001b[0;31m---------------------------------------------------------------------------\u001b[0m",
      "\u001b[0;31mKeyboardInterrupt\u001b[0m                         Traceback (most recent call last)",
      "\u001b[0;32m<ipython-input-438-c8dd1436e046>\u001b[0m in \u001b[0;36m<module>\u001b[0;34m()\u001b[0m\n\u001b[1;32m      5\u001b[0m     \u001b[0maugmentation\u001b[0m \u001b[0;34m=\u001b[0m \u001b[0maugmentation_dict\u001b[0m\u001b[0;34m[\u001b[0m\u001b[0mcls\u001b[0m\u001b[0;34m]\u001b[0m\u001b[0;34m\u001b[0m\u001b[0m\n\u001b[1;32m      6\u001b[0m     \u001b[0mimage_id_of_cls\u001b[0m \u001b[0;34m=\u001b[0m \u001b[0mmeta\u001b[0m\u001b[0;34m.\u001b[0m\u001b[0mobjid\u001b[0m\u001b[0;34m[\u001b[0m\u001b[0mmeta\u001b[0m\u001b[0;34m.\u001b[0m\u001b[0mlevel2\u001b[0m \u001b[0;34m==\u001b[0m \u001b[0mcls\u001b[0m\u001b[0;34m]\u001b[0m\u001b[0;34m.\u001b[0m\u001b[0mvalues\u001b[0m\u001b[0;34m.\u001b[0m\u001b[0mastype\u001b[0m\u001b[0;34m(\u001b[0m\u001b[0mint\u001b[0m\u001b[0;34m)\u001b[0m\u001b[0;34m\u001b[0m\u001b[0m\n\u001b[0;32m----> 7\u001b[0;31m     \u001b[0mnew_images\u001b[0m \u001b[0;34m=\u001b[0m \u001b[0mdata_augmentation\u001b[0m\u001b[0;34m(\u001b[0m\u001b[0mimage_id_of_cls\u001b[0m\u001b[0;34m,\u001b[0m \u001b[0mcls\u001b[0m\u001b[0;34m)\u001b[0m\u001b[0;34m\u001b[0m\u001b[0m\n\u001b[0m\u001b[1;32m      8\u001b[0m     \u001b[0;32mfor\u001b[0m \u001b[0mindex\u001b[0m\u001b[0;34m,\u001b[0m \u001b[0mimg\u001b[0m \u001b[0;32min\u001b[0m \u001b[0menumerate\u001b[0m\u001b[0;34m(\u001b[0m\u001b[0mnew_images\u001b[0m\u001b[0;34m)\u001b[0m\u001b[0;34m:\u001b[0m\u001b[0;34m\u001b[0m\u001b[0m\n\u001b[1;32m      9\u001b[0m         \u001b[0mprint\u001b[0m\u001b[0;34m(\u001b[0m\u001b[0mindex\u001b[0m\u001b[0;34m)\u001b[0m\u001b[0;34m\u001b[0m\u001b[0m\n",
      "\u001b[0;32m<ipython-input-436-e3e5af53990b>\u001b[0m in \u001b[0;36mdata_augmentation\u001b[0;34m(objid_list, cls)\u001b[0m\n\u001b[1;32m     48\u001b[0m     \u001b[0mprint\u001b[0m\u001b[0;34m(\u001b[0m\u001b[0;34m\"Flow \"\u001b[0m \u001b[0;34m+\u001b[0m \u001b[0mstr\u001b[0m\u001b[0;34m(\u001b[0m\u001b[0mcls\u001b[0m\u001b[0;34m)\u001b[0m\u001b[0;34m)\u001b[0m\u001b[0;34m\u001b[0m\u001b[0m\n\u001b[1;32m     49\u001b[0m     \u001b[0;32mfor\u001b[0m \u001b[0mi\u001b[0m \u001b[0;32min\u001b[0m \u001b[0mrange\u001b[0m\u001b[0;34m(\u001b[0m\u001b[0maugmentation\u001b[0m\u001b[0;34m)\u001b[0m\u001b[0;34m:\u001b[0m\u001b[0;34m\u001b[0m\u001b[0m\n\u001b[0;32m---> 50\u001b[0;31m         \u001b[0mbatch\u001b[0m \u001b[0;34m=\u001b[0m \u001b[0mit\u001b[0m\u001b[0;34m.\u001b[0m\u001b[0mnext\u001b[0m\u001b[0;34m(\u001b[0m\u001b[0;34m)\u001b[0m\u001b[0;34m\u001b[0m\u001b[0m\n\u001b[0m\u001b[1;32m     51\u001b[0m         \u001b[0mimage\u001b[0m \u001b[0;34m=\u001b[0m \u001b[0mnp\u001b[0m\u001b[0;34m.\u001b[0m\u001b[0msqueeze\u001b[0m\u001b[0;34m(\u001b[0m\u001b[0mbatch\u001b[0m\u001b[0;34m[\u001b[0m\u001b[0;36m0\u001b[0m\u001b[0;34m]\u001b[0m\u001b[0;34m,\u001b[0m \u001b[0maxis\u001b[0m\u001b[0;34m=\u001b[0m\u001b[0;36m2\u001b[0m\u001b[0;34m)\u001b[0m\u001b[0;34m\u001b[0m\u001b[0m\n\u001b[1;32m     52\u001b[0m         \u001b[0mres\u001b[0m\u001b[0;34m.\u001b[0m\u001b[0mappend\u001b[0m\u001b[0;34m(\u001b[0m\u001b[0mimage\u001b[0m\u001b[0;34m)\u001b[0m\u001b[0;34m\u001b[0m\u001b[0m\n",
      "\u001b[0;32m/usr/local/lib/python3.5/dist-packages/tensorflow/python/keras/preprocessing/image.py\u001b[0m in \u001b[0;36mnext\u001b[0;34m(self)\u001b[0m\n\u001b[1;32m   1285\u001b[0m     \u001b[0;31m# The transformation of images is not under thread lock\u001b[0m\u001b[0;34m\u001b[0m\u001b[0;34m\u001b[0m\u001b[0m\n\u001b[1;32m   1286\u001b[0m     \u001b[0;31m# so it can be done in parallel\u001b[0m\u001b[0;34m\u001b[0m\u001b[0;34m\u001b[0m\u001b[0m\n\u001b[0;32m-> 1287\u001b[0;31m     \u001b[0;32mreturn\u001b[0m \u001b[0mself\u001b[0m\u001b[0;34m.\u001b[0m\u001b[0m_get_batches_of_transformed_samples\u001b[0m\u001b[0;34m(\u001b[0m\u001b[0mindex_array\u001b[0m\u001b[0;34m)\u001b[0m\u001b[0;34m\u001b[0m\u001b[0m\n\u001b[0m\u001b[1;32m   1288\u001b[0m \u001b[0;34m\u001b[0m\u001b[0m\n\u001b[1;32m   1289\u001b[0m \u001b[0;34m\u001b[0m\u001b[0m\n",
      "\u001b[0;32m/usr/local/lib/python3.5/dist-packages/tensorflow/python/keras/preprocessing/image.py\u001b[0m in \u001b[0;36m_get_batches_of_transformed_samples\u001b[0;34m(self, index_array)\u001b[0m\n\u001b[1;32m   1258\u001b[0m       \u001b[0mx\u001b[0m \u001b[0;34m=\u001b[0m \u001b[0mself\u001b[0m\u001b[0;34m.\u001b[0m\u001b[0mimage_data_generator\u001b[0m\u001b[0;34m.\u001b[0m\u001b[0mrandom_transform\u001b[0m\u001b[0;34m(\u001b[0m\u001b[0mx\u001b[0m\u001b[0;34m.\u001b[0m\u001b[0mastype\u001b[0m\u001b[0;34m(\u001b[0m\u001b[0mK\u001b[0m\u001b[0;34m.\u001b[0m\u001b[0mfloatx\u001b[0m\u001b[0;34m(\u001b[0m\u001b[0;34m)\u001b[0m\u001b[0;34m)\u001b[0m\u001b[0;34m)\u001b[0m\u001b[0;34m\u001b[0m\u001b[0m\n\u001b[1;32m   1259\u001b[0m       \u001b[0mx\u001b[0m \u001b[0;34m=\u001b[0m \u001b[0mself\u001b[0m\u001b[0;34m.\u001b[0m\u001b[0mimage_data_generator\u001b[0m\u001b[0;34m.\u001b[0m\u001b[0mstandardize\u001b[0m\u001b[0;34m(\u001b[0m\u001b[0mx\u001b[0m\u001b[0;34m)\u001b[0m\u001b[0;34m\u001b[0m\u001b[0m\n\u001b[0;32m-> 1260\u001b[0;31m       \u001b[0mbatch_x\u001b[0m\u001b[0;34m[\u001b[0m\u001b[0mi\u001b[0m\u001b[0;34m]\u001b[0m \u001b[0;34m=\u001b[0m \u001b[0mx\u001b[0m\u001b[0;34m\u001b[0m\u001b[0m\n\u001b[0m\u001b[1;32m   1261\u001b[0m     \u001b[0;32mif\u001b[0m \u001b[0mself\u001b[0m\u001b[0;34m.\u001b[0m\u001b[0msave_to_dir\u001b[0m\u001b[0;34m:\u001b[0m\u001b[0;34m\u001b[0m\u001b[0m\n\u001b[1;32m   1262\u001b[0m       \u001b[0;32mfor\u001b[0m \u001b[0mi\u001b[0m\u001b[0;34m,\u001b[0m \u001b[0mj\u001b[0m \u001b[0;32min\u001b[0m \u001b[0menumerate\u001b[0m\u001b[0;34m(\u001b[0m\u001b[0mindex_array\u001b[0m\u001b[0;34m)\u001b[0m\u001b[0;34m:\u001b[0m\u001b[0;34m\u001b[0m\u001b[0m\n",
      "\u001b[0;31mKeyboardInterrupt\u001b[0m: "
     ]
    }
   ],
   "source": [
    "X = np.zeros((39*SAMPLES_PER_CLASSES, SHAPE[0]*SHAPE[1]))\n",
    "y = np.zeros((39*SAMPLES_PER_CLASSES, 39))\n",
    "\n",
    "for cls in augmentation_dict:\n",
    "    augmentation = augmentation_dict[cls]\n",
    "    image_id_of_cls = meta.objid[meta.level2 == cls].values.astype(int)\n",
    "    new_images = data_augmentation(image_id_of_cls, cls)\n",
    "    for index, img in enumerate(new_images):\n",
    "        print(index)\n",
    "        label = np.zeros(40)\n",
    "        label[cls] = 1\n",
    "        X[cls*SAMPLES_PER_CLASSES+index] = img.flatten()\n",
    "        y[cls*SAMPLES_PER_CLASSES+index] = label\n",
    "    "
   ]
  },
  {
   "cell_type": "code",
   "execution_count": null,
   "metadata": {},
   "outputs": [],
   "source": []
  },
  {
   "cell_type": "code",
   "execution_count": null,
   "metadata": {},
   "outputs": [],
   "source": []
  },
  {
   "cell_type": "code",
   "execution_count": null,
   "metadata": {},
   "outputs": [],
   "source": []
  },
  {
   "cell_type": "code",
   "execution_count": null,
   "metadata": {},
   "outputs": [],
   "source": []
  },
  {
   "cell_type": "code",
   "execution_count": null,
   "metadata": {},
   "outputs": [],
   "source": []
  },
  {
   "cell_type": "code",
   "execution_count": null,
   "metadata": {},
   "outputs": [],
   "source": []
  },
  {
   "cell_type": "code",
   "execution_count": null,
   "metadata": {},
   "outputs": [],
   "source": []
  },
  {
   "cell_type": "code",
   "execution_count": null,
   "metadata": {},
   "outputs": [],
   "source": []
  },
  {
   "cell_type": "code",
   "execution_count": null,
   "metadata": {},
   "outputs": [],
   "source": []
  },
  {
   "cell_type": "code",
   "execution_count": null,
   "metadata": {},
   "outputs": [],
   "source": []
  },
  {
   "cell_type": "code",
   "execution_count": null,
   "metadata": {},
   "outputs": [],
   "source": []
  },
  {
   "cell_type": "code",
   "execution_count": null,
   "metadata": {},
   "outputs": [],
   "source": []
  },
  {
   "cell_type": "code",
   "execution_count": null,
   "metadata": {},
   "outputs": [],
   "source": []
  },
  {
   "cell_type": "code",
   "execution_count": 427,
   "metadata": {},
   "outputs": [
    {
     "data": {
      "text/plain": [
       "481"
      ]
     },
     "execution_count": 427,
     "metadata": {},
     "output_type": "execute_result"
    }
   ],
   "source": [
    "augmentation = augmentation_dict[cls]\n",
    "image_id_of_cls = meta.objid[meta.level2 == cls].values.astype(int)\n",
    "new_images = data_augmentation(image_id_of_cls, cls)"
   ]
  },
  {
   "cell_type": "code",
   "execution_count": null,
   "metadata": {},
   "outputs": [],
   "source": []
  },
  {
   "cell_type": "code",
   "execution_count": 431,
   "metadata": {},
   "outputs": [],
   "source": [
    "aug = data_augmentation([32738720], cls)"
   ]
  },
  {
   "cell_type": "code",
   "execution_count": null,
   "metadata": {},
   "outputs": [],
   "source": []
  },
  {
   "cell_type": "code",
   "execution_count": 130,
   "metadata": {},
   "outputs": [
    {
     "name": "stderr",
     "output_type": "stream",
     "text": [
      "/usr/local/lib/python3.5/dist-packages/ipykernel_launcher.py:12: DeprecationWarning: The truth value of an empty array is ambiguous. Returning False, but in future this will result in an error. Use `array.size > 0` to check that an array is not empty.\n",
      "  if sys.path[0] == '':\n"
     ]
    }
   ],
   "source": [
    "X_name, y_name = get_augmented_name(img_files) "
   ]
  },
  {
   "cell_type": "code",
   "execution_count": 131,
   "metadata": {},
   "outputs": [
    {
     "data": {
      "text/plain": [
       "['32752712',\n",
       " '32609836',\n",
       " '32739375',\n",
       " '32532885',\n",
       " '32737879',\n",
       " '32739356/Few_transformation/0',\n",
       " '32739356/Few_transformation/1',\n",
       " '32739356/Few_transformation/2',\n",
       " '32739356/Few_transformation/3',\n",
       " '32757382']"
      ]
     },
     "execution_count": 131,
     "metadata": {},
     "output_type": "execute_result"
    }
   ],
   "source": [
    "X_name[:10]"
   ]
  },
  {
   "cell_type": "code",
   "execution_count": 132,
   "metadata": {},
   "outputs": [],
   "source": [
    "dict_function_to_transform = {'All_transformation' : all_transformation_2,\\\n",
    "                             'Half_transformation' :half_transformation_2 , \\\n",
    "                             'Few_transformation' : few_transformation_2}"
   ]
  },
  {
   "cell_type": "code",
   "execution_count": 185,
   "metadata": {},
   "outputs": [],
   "source": [
    "def get_x_array(X_name,y_name) : \n",
    "    '''   \n",
    "    INPUTS : List of names of the images\n",
    "    OUTPUT : ARRAY OF THE IMAGES AFTER DATA AUGMENTATION\n",
    "    \n",
    "    '''\n",
    "    \n",
    "    X = np.zeros((len(X_name),784))\n",
    "    Y = np.zeros((len(y_name), 39))\n",
    "    \n",
    "    for index, x in enumerate(X_name) : \n",
    "        \n",
    "        functions = x.split('/')\n",
    "        if len(functions) != 1  : \n",
    "            \n",
    "            img = Image.open(img_files['imgs/'+str(functions[0])+'.jpg']).resize((28,28), Image.ANTIALIAS)\n",
    "            new_img = dict_function_to_transform[functions[1]] (img, int(functions[2]))\n",
    "            new_img = (1/255) * np.array(new_img).flatten()\n",
    "            X[index,:] = new_img\n",
    "            Y[index, y_name[index]] = 1\n",
    "            \n",
    "            \n",
    "            \n",
    "        else : \n",
    "            \n",
    "            X[index,:] = (1/255) * np.array(Image.open(img_files['imgs/'+str(functions[0])+'.jpg'])\\\n",
    "                                            .resize((28,28), Image.ANTIALIAS)).flatten()\n",
    "            \n",
    "            Y[index,y_name[index]] = 1\n",
    "        \n",
    "        \n",
    "    return X,Y\n",
    "    \n",
    "    \n",
    "    "
   ]
  },
  {
   "cell_type": "code",
   "execution_count": null,
   "metadata": {},
   "outputs": [],
   "source": [
    "X,Y = get_x_array(X_name,y_name)"
   ]
  },
  {
   "cell_type": "markdown",
   "metadata": {},
   "source": [
    "X_resized = []\n",
    "y_img = []\n",
    "\n",
    "for img in img_files : \n",
    "    value = int(img[5:].split('.')[0])\n",
    "    # The position of the image in the database\n",
    "    index_img = np.where(meta.objid == value)\n",
    "\n",
    "    is_augmented = False\n",
    "    \n",
    "    if index_img[0] :\n",
    "        # Check if the label is not NaN\n",
    "        \n",
    "        lvl2 = meta.level2.iloc[index_img[0][0]]\n",
    "        \n",
    "        # Loop over the dictionnary of data augmentation \n",
    "        for key_da in dict_data_augm : \n",
    "            \n",
    "            if meta[key_da].iloc[index_img[0][0]] :\n",
    "                is_augmented = True\n",
    "                current_img = Image.open(img_files[img]).resize((28,28), Image.ANTIALIAS)\n",
    "                new_imgs = dict_data_augm[key_da](current_img)\n",
    "                \n",
    "                for x in new_imgs :\n",
    "                    X_resized.append( (1/255) * np.array(x).flatten()  )\n",
    "                    y_img.append(lvl2)\n",
    "    \n",
    "        if not is_augmented : \n",
    "            \n",
    "            x = Image.open(img_files[img]).resize((28,28), Image.ANTIALIAS) \n",
    "            X_resized.append( (1/255) * np.array(x).flatten()  )\n",
    "            y_img.append(lvl2)\n",
    "    \n",
    "       "
   ]
  },
  {
   "cell_type": "code",
   "execution_count": 42,
   "metadata": {},
   "outputs": [],
   "source": [
    "label_augm = pd.DataFrame({'level2' : y_img})\n"
   ]
  },
  {
   "cell_type": "code",
   "execution_count": 51,
   "metadata": {},
   "outputs": [
    {
     "data": {
      "text/plain": [
       "5     27040\n",
       "32    26936\n",
       "30    26936\n",
       "29    24032\n",
       "24    22720\n",
       "31    21920\n",
       "11    16800\n",
       "36    16176\n",
       "0     15392\n",
       "14    14014\n",
       "33    13044\n",
       "19    11744\n",
       "6     11552\n",
       "21    11424\n",
       "8     10688\n",
       "34     9293\n",
       "17     9024\n",
       "23     8908\n",
       "20     8636\n",
       "4      8420\n",
       "18     8224\n",
       "27     7848\n",
       "26     7396\n",
       "35     7284\n",
       "16     6112\n",
       "3      5952\n",
       "37     5629\n",
       "7      5141\n",
       "22     5117\n",
       "28     4640\n",
       "15     4192\n",
       "13     4080\n",
       "1      3744\n",
       "38     3660\n",
       "9      3200\n",
       "25     2220\n",
       "12      670\n",
       "10      549\n",
       "2        12\n",
       "Name: level2, dtype: int64"
      ]
     },
     "execution_count": 51,
     "metadata": {},
     "output_type": "execute_result"
    }
   ],
   "source": [
    "label_augm.level2.value_counts()"
   ]
  },
  {
   "cell_type": "code",
   "execution_count": 440,
   "metadata": {},
   "outputs": [
    {
     "data": {
      "text/plain": [
       "<matplotlib.axes._subplots.AxesSubplot at 0x7fcddcd92ba8>"
      ]
     },
     "execution_count": 440,
     "metadata": {},
     "output_type": "execute_result"
    },
    {
     "data": {
      "image/png": "[encoded data removed]",
      "text/plain": [
       "<Figure size 720x360 with 1 Axes>"
      ]
     },
     "metadata": {},
     "output_type": "display_data"
    }
   ],
   "source": [
    "# Data augmented \n",
    "meta.level2.value_counts().plot(kind='bar', color = 'b',figsize=(10,5))"
   ]
  },
  {
   "cell_type": "code",
   "execution_count": 56,
   "metadata": {},
   "outputs": [],
   "source": [
    "def hot_encode(y) : \n",
    "    \n",
    "    new_y = np.zeros((len(y),39))\n",
    "    \n",
    "    for index, y in enumerate(y) : \n",
    "        \n",
    "        new_y[index,y] = 1\n",
    "        \n",
    "    return new_y"
   ]
  },
  {
   "cell_type": "code",
   "execution_count": null,
   "metadata": {},
   "outputs": [],
   "source": []
  },
  {
   "cell_type": "code",
   "execution_count": 57,
   "metadata": {},
   "outputs": [],
   "source": [
    "new_y = hot_encode(y_img)"
   ]
  },
  {
   "cell_type": "code",
   "execution_count": 58,
   "metadata": {},
   "outputs": [
    {
     "data": {
      "text/plain": [
       "(400369, 39)"
      ]
     },
     "execution_count": 58,
     "metadata": {},
     "output_type": "execute_result"
    }
   ],
   "source": [
    "new_y.shape"
   ]
  },
  {
   "cell_type": "code",
   "execution_count": 61,
   "metadata": {},
   "outputs": [
    {
     "data": {
      "text/plain": [
       "array([0., 0., 0., 0., 0., 0., 0., 0., 0., 0., 0., 0., 0., 0., 0., 0., 0.,\n",
       "       0., 0., 0., 0., 0., 0., 0., 0., 0., 0., 0., 0., 0., 1., 0., 0., 0.,\n",
       "       0., 0., 0., 0., 0.])"
      ]
     },
     "execution_count": 61,
     "metadata": {},
     "output_type": "execute_result"
    }
   ],
   "source": [
    "new_y[10]"
   ]
  },
  {
   "cell_type": "markdown",
   "metadata": {},
   "source": [
    "# Split into training set and testing set"
   ]
  },
  {
   "cell_type": "markdown",
   "metadata": {},
   "source": [
    "### TO DO : Make every label into the testing and the training "
   ]
  },
  {
   "cell_type": "code",
   "execution_count": 97,
   "metadata": {},
   "outputs": [],
   "source": [
    "import numpy as np"
   ]
  },
  {
   "cell_type": "markdown",
   "metadata": {},
   "source": [
    "# THE REST DOESN T WORK ANYMORE "
   ]
  },
  {
   "cell_type": "code",
   "execution_count": 98,
   "metadata": {},
   "outputs": [],
   "source": [
    "idx_test = np.random.choice(np.arange(X_resized.shape[0]) , int(X_resized.shape[0] * 0.1))"
   ]
  },
  {
   "cell_type": "code",
   "execution_count": 99,
   "metadata": {},
   "outputs": [],
   "source": [
    "idx_train = np.ones( X_resized.shape[0] , bool)\n",
    "idx_train[idx_test] = False\n"
   ]
  },
  {
   "cell_type": "code",
   "execution_count": 100,
   "metadata": {},
   "outputs": [
    {
     "data": {
      "text/plain": [
       "(646034,)"
      ]
     },
     "execution_count": 100,
     "metadata": {},
     "output_type": "execute_result"
    }
   ],
   "source": [
    "idx_train.shape"
   ]
  },
  {
   "cell_type": "code",
   "execution_count": 101,
   "metadata": {},
   "outputs": [
    {
     "data": {
      "text/plain": [
       "(646034, 784)"
      ]
     },
     "execution_count": 101,
     "metadata": {},
     "output_type": "execute_result"
    }
   ],
   "source": [
    "X_resized.shape"
   ]
  },
  {
   "cell_type": "code",
   "execution_count": 102,
   "metadata": {},
   "outputs": [
    {
     "ename": "IndexError",
     "evalue": "too many indices for array",
     "output_type": "error",
     "traceback": [
      "\u001b[0;31m---------------------------------------------------------------------------\u001b[0m",
      "\u001b[0;31mIndexError\u001b[0m                                Traceback (most recent call last)",
      "\u001b[0;32m<ipython-input-102-fe383352ba85>\u001b[0m in \u001b[0;36m<module>\u001b[0;34m()\u001b[0m\n\u001b[0;32m----> 1\u001b[0;31m \u001b[0mX_train\u001b[0m\u001b[0;34m,\u001b[0m \u001b[0mX_test\u001b[0m\u001b[0;34m,\u001b[0m \u001b[0my_train\u001b[0m\u001b[0;34m,\u001b[0m \u001b[0my_test\u001b[0m \u001b[0;34m=\u001b[0m \u001b[0mX_resized\u001b[0m\u001b[0;34m[\u001b[0m\u001b[0midx_train\u001b[0m\u001b[0;34m,\u001b[0m\u001b[0;34m:\u001b[0m\u001b[0;34m]\u001b[0m \u001b[0;34m,\u001b[0m \u001b[0mX_resized\u001b[0m\u001b[0;34m[\u001b[0m\u001b[0midx_test\u001b[0m\u001b[0;34m,\u001b[0m\u001b[0;34m:\u001b[0m\u001b[0;34m]\u001b[0m \u001b[0;34m,\u001b[0m \u001b[0my_img\u001b[0m\u001b[0;34m[\u001b[0m\u001b[0midx_train\u001b[0m\u001b[0;34m,\u001b[0m\u001b[0;34m:\u001b[0m\u001b[0;34m]\u001b[0m\u001b[0;34m,\u001b[0m\u001b[0my_img\u001b[0m\u001b[0;34m[\u001b[0m\u001b[0midx_test\u001b[0m\u001b[0;34m,\u001b[0m\u001b[0;34m:\u001b[0m\u001b[0;34m]\u001b[0m\u001b[0;34m\u001b[0m\u001b[0m\n\u001b[0m",
      "\u001b[0;31mIndexError\u001b[0m: too many indices for array"
     ]
    }
   ],
   "source": [
    "X_train, X_test, y_train, y_test = X_resized[idx_train,:] , X_resized[idx_test,:] , y_img[idx_train,:],y_img[idx_test,:]"
   ]
  },
  {
   "cell_type": "code",
   "execution_count": null,
   "metadata": {},
   "outputs": [],
   "source": [
    "print(X_train.shape, X_test.shape, y_train.shape, y_test.shape)"
   ]
  },
  {
   "cell_type": "code",
   "execution_count": null,
   "metadata": {},
   "outputs": [],
   "source": [
    "def f1_score(y,y_predict) : \n",
    "    \n",
    "    \n",
    "    \n",
    "    \n",
    "    "
   ]
  },
  {
   "cell_type": "markdown",
   "metadata": {},
   "source": [
    "## Simple Neural Network"
   ]
  },
  {
   "cell_type": "code",
   "execution_count": null,
   "metadata": {},
   "outputs": [],
   "source": [
    "# Creation of the model \n",
    "\n",
    "def simple_neural_network(input_shape) : \n",
    "    \n",
    "    X_input = Input(input_shape)\n",
    "    \n",
    "    X = Dense(40, activation='sigmoid', name ='fc')(X_input)\n",
    "    \n",
    "    \n",
    "    model = Model(inputs = X_input , outputs=X , name = 'HappyModel')\n",
    "    \n",
    "    return model\n",
    "        "
   ]
  },
  {
   "cell_type": "code",
   "execution_count": null,
   "metadata": {},
   "outputs": [],
   "source": [
    "simpleNN = simple_neural_network(X_train.shape[1:])"
   ]
  },
  {
   "cell_type": "code",
   "execution_count": 1,
   "metadata": {},
   "outputs": [
    {
     "ename": "ImportError",
     "evalue": "No module named 'metrics'",
     "output_type": "error",
     "traceback": [
      "\u001b[0;31m---------------------------------------------------------------------------\u001b[0m",
      "\u001b[0;31mImportError\u001b[0m                               Traceback (most recent call last)",
      "\u001b[0;32m<ipython-input-1-52623e2031ae>\u001b[0m in \u001b[0;36m<module>\u001b[0;34m()\u001b[0m\n\u001b[0;32m----> 1\u001b[0;31m \u001b[0;32mfrom\u001b[0m \u001b[0mmetrics\u001b[0m \u001b[0;32mimport\u001b[0m \u001b[0mf_score\u001b[0m\u001b[0;34m\u001b[0m\u001b[0m\n\u001b[0m",
      "\u001b[0;31mImportError\u001b[0m: No module named 'metrics'"
     ]
    }
   ],
   "source": [
    "from metrics import f_score"
   ]
  },
  {
   "cell_type": "code",
   "execution_count": null,
   "metadata": {},
   "outputs": [],
   "source": [
    "# NEED TO CHANGE THE LOSS \n",
    "simpleNN.compile(optimizer='adam', loss='binary_crossentropy', metrics = [f_score])"
   ]
  },
  {
   "cell_type": "code",
   "execution_count": null,
   "metadata": {},
   "outputs": [],
   "source": [
    "simpleNN.fit(x=X_train, y = y_train, epochs = 1 , batch_size = 100)"
   ]
  },
  {
   "cell_type": "markdown",
   "metadata": {},
   "source": [
    "## Custom Neural Network\n"
   ]
  },
  {
   "cell_type": "code",
   "execution_count": null,
   "metadata": {},
   "outputs": [],
   "source": [
    "def custom_model(input_shape) : \n",
    "    \n",
    "    X_input = Input(input_shape)\n",
    "    \n",
    "    X = ZeroPadding2D((3,3))(X_input)\n",
    "    X = Conv2D(32, (7,7), strides = (1,1), name='conv0')(X)\n",
    "    X = BatchNormalization(axis = 3, name = 'bn0')(X)\n",
    "    X = Activation('relu')(X)\n",
    "    \n",
    "    X = MaxPooling2D((2,2), name = 'maxpool')(X)\n",
    "    X = Flatten()(X)\n",
    "\n",
    "    X = Dense(1, activation='sigmoid', name ='fc')(X)\n",
    "    \n",
    "    model = Model(inputs = X_input , outputs=X , name = 'CustomModel')\n",
    "    \n",
    "    return model\n",
    "    \n",
    "    "
   ]
  },
  {
   "cell_type": "code",
   "execution_count": null,
   "metadata": {},
   "outputs": [],
   "source": [
    "customNN = custom_model(X_train.shape[1:])"
   ]
  },
  {
   "cell_type": "code",
   "execution_count": null,
   "metadata": {},
   "outputs": [],
   "source": [
    "customNN.compile(optimizer='adam', loss='binary_crossentropy', metrics = [f_score])"
   ]
  },
  {
   "cell_type": "code",
   "execution_count": null,
   "metadata": {},
   "outputs": [],
   "source": [
    "customNN.fit(x=X_train, y = y_train, epochs = 1 , batch_size = 100)"
   ]
  },
  {
   "cell_type": "markdown",
   "metadata": {},
   "source": [
    "## Transfer Learning "
   ]
  },
  {
   "cell_type": "code",
   "execution_count": null,
   "metadata": {},
   "outputs": [],
   "source": []
  },
  {
   "cell_type": "code",
   "execution_count": null,
   "metadata": {},
   "outputs": [],
   "source": []
  },
  {
   "cell_type": "code",
   "execution_count": null,
   "metadata": {},
   "outputs": [],
   "source": []
  },
  {
   "cell_type": "code",
   "execution_count": null,
   "metadata": {},
   "outputs": [],
   "source": []
  },
  {
   "cell_type": "code",
   "execution_count": null,
   "metadata": {},
   "outputs": [],
   "source": []
  }
 ],
 "metadata": {
  "kernelspec": {
   "display_name": "Python 3",
   "language": "python",
   "name": "python3"
  },
  "language_info": {
   "codemirror_mode": {
    "name": "ipython",
    "version": 3
   },
   "file_extension": ".py",
   "mimetype": "text/x-python",
   "name": "python",
   "nbconvert_exporter": "python",
   "pygments_lexer": "ipython3",
   "version": "3.5.2"
  }
 },
 "nbformat": 4,
 "nbformat_minor": 2
}
