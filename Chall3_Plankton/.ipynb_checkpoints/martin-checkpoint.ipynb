{
 "cells": [
  {
   "cell_type": "markdown",
   "metadata": {},
   "source": [
    "---\n",
    "# Plankton Recognition Challenge\n",
    "---\n"
   ]
  },
  {
   "cell_type": "markdown",
   "metadata": {},
   "source": [
    "# Group 20 : Solution\n",
    "## by Maxence Brugeres, Clément Bernard  and Martin Guyard \n"
   ]
  },
  {
   "cell_type": "markdown",
   "metadata": {},
   "source": [
    "The goal of this notebook is to classify Plankton population. Indeed, plankton populations have a key role to play in the world's ocean health. Our goal is therefore to use the data available in order to accurately predict and classify plankton populations. "
   ]
  },
  {
   "cell_type": "markdown",
   "metadata": {},
   "source": [
    "We had three different approaches to deal with this problem. \n",
    "\n",
    "\n",
    "    \n",
    "- The first was to use the provided features (extracted manually from images by experts)\n",
    "- The second one, to extract more features from images and use a classic approach\n",
    "- The last one, to use images and DeepLearning \n",
    "\n",
    "    \n",
    "We had to make a choice and we decided, for the sake of learning different things through the challenges, to opt for the **DeepLearning** approach. \n",
    "\n",
    "As adviced, we'll use the **level2** hierarchy, which is in other words a **multi classification problem with 39 different labels.**\n"
   ]
  },
  {
   "cell_type": "markdown",
   "metadata": {},
   "source": [
    "# 1. Data pre-processing"
   ]
  },
  {
   "cell_type": "markdown",
   "metadata": {},
   "source": [
    "This section explains how we dealt the images in order to use them as inputs for our models."
   ]
  },
  {
   "cell_type": "markdown",
   "metadata": {},
   "source": [
    "## 1.1 Labels unbalanced"
   ]
  },
  {
   "cell_type": "markdown",
   "metadata": {},
   "source": [
    "The data is very unbalanced. There is one class, the **detritus** class, which contains more than 139 000 images \n",
    "(56% of the whole dataset)\n",
    "\n",
    "We can't afford this, our models will have too much issues to deal with these unbalanced classes."
   ]
  },
  {
   "cell_type": "markdown",
   "metadata": {},
   "source": [
    "<img src='./ilustr/unbalanced.png'>"
   ]
  },
  {
   "cell_type": "markdown",
   "metadata": {},
   "source": [
    "Furthermore, there are around 240 000 images. This will induce high computation cost, which should be taken into account.\n",
    "\n",
    "In order to fix these 2 problems:\n",
    "- Data cleaning (to remove overrepresented populations such as 'Detritus')\n",
    "- Data augmentation (to rebalance the populations)"
   ]
  },
  {
   "cell_type": "markdown",
   "metadata": {},
   "source": [
    "## 1.2 Data cleaning "
   ]
  },
  {
   "cell_type": "markdown",
   "metadata": {},
   "source": [
    "First, NaN values should be treated. There are few samples that have NaN values as label (level2 column).\n",
    "\n",
    "They are dropped for sake of time (they only represent 0.5% of the dataset)\n"
   ]
  },
  {
   "cell_type": "markdown",
   "metadata": {},
   "source": [
    "## 1.3 Resizing"
   ]
  },
  {
   "cell_type": "markdown",
   "metadata": {},
   "source": [
    "The images do not all have the same shape and size. They are padded and then resized to 32x32 pixels.\n",
    "\n",
    "The **padding is necessary** to keep some information about the **overall shape of the plankton.** Indeed, wihtout padding elongated plankton images would be squeezed, thus loosing the information about the shape.\n",
    "\n",
    "\n",
    "This 32x32 resizing might appear brutale, yet it is motivated by two main reasons:\n",
    "- Such a resizing will reduce the space in memory required for the data\n",
    "- It will also reduce the amount of computational ressources required, which is the main problem we are facing in this challenge.\n",
    "\n",
    "The main problem caused by such a resize is the loss of information, for instance down below it is clear that the smoothness of the plankton's skin can't be determined after the resize.\n"
   ]
  },
  {
   "cell_type": "markdown",
   "metadata": {},
   "source": [
    "<table><tr><td><img src='./ilustr/non_pixeled.png' width=200></td><td><img src='ilustr/pixeled_img.png' width=200></td></tr></table>"
   ]
  },
  {
   "cell_type": "markdown",
   "metadata": {},
   "source": [
    "## 1.4 Split into training, validation and testing set"
   ]
  },
  {
   "cell_type": "markdown",
   "metadata": {},
   "source": [
    "Since there is hundred of thousands samples, splitting the set in a 20%, 20% and 60% samples for testing, validation and training set is not necessarily relevant.\n",
    "\n",
    "Indeed, taking 90%-5%-5% for the train, validation and test sets will lead to significative amount of samples in testing and validation set. Yet, since this split is done before the data augmentation, the classes are still really imbalanced. To make sure each classes will be correctly represented in the testing and validation set, we performed a 80%-10%-10% split. Then data augmentation is done to solve the imbalance problem.\n",
    "\n",
    "\n"
   ]
  },
  {
   "cell_type": "markdown",
   "metadata": {},
   "source": [
    "## 1.5 Data augmentation"
   ]
  },
  {
   "cell_type": "markdown",
   "metadata": {},
   "source": [
    "The unbalanced class should be treated first. \n",
    "\n",
    "To do this, there are two main possibilities : \n",
    "\n",
    "- Augment the number of samples of low represented populations\n",
    "- Diminush the number of samples of highly represented populations\n",
    "\n",
    "Both are done : reduce the number of data with this unbalanced labels and then improve the data for other labels.\n",
    "\n",
    "A number of sample per classes is fixed. On one hand, if a class has more sample than this number, some are randomly dropped to get to the right amount, here 8000 samples per classes. After this step, the distribution looks like that:"
   ]
  },
  {
   "cell_type": "markdown",
   "metadata": {},
   "source": [
    "<img src='./ilustr/drop_unbalanced.png'>"
   ]
  },
  {
   "cell_type": "markdown",
   "metadata": {},
   "source": [
    "On the other hand, if a classes has less samples, augmentation is performed to get each classes to the same cardinality.\n",
    "\n",
    "The augmentation relies on keras ImageDataGenerator and work as follow:\n",
    "- Parameters to randomise and range are passed (rotation, translation, horizontal/vertical flip, brightness)\n",
    "- Samples of the class are passed to the data generator\n",
    "- Each iteration on the data generator yield a new sample with randomized parameters.\n",
    "\n",
    "This is call on the fly data augmentation, the augmentation only relies in memory, nothing is written on disk.\n",
    "\n",
    "\n",
    "For instance, bellow are the original image and some examples of its transformatoins"
   ]
  },
  {
   "cell_type": "markdown",
   "metadata": {},
   "source": [
    "<table><tr><td><img src='ilustr/oversampled.png' width=300></td><td><img src='./ilustr/origin.png' width=200></td></tr></table>"
   ]
  },
  {
   "cell_type": "markdown",
   "metadata": {},
   "source": [
    "In the end the training set is composed of 250000 samples"
   ]
  },
  {
   "cell_type": "markdown",
   "metadata": {},
   "source": [
    "Here is the balanced dataset with \n",
    "\n",
    "\n",
    "<img src='./ilustr/balanced.png'>"
   ]
  },
  {
   "cell_type": "markdown",
   "metadata": {},
   "source": [
    "## 2. Model selection"
   ]
  },
  {
   "cell_type": "markdown",
   "metadata": {},
   "source": [
    "### 2.1 Metric "
   ]
  },
  {
   "cell_type": "markdown",
   "metadata": {},
   "source": [
    "For this challenge, one can't only rely on the **accuracy**. Accuracy is a rather limited metric for classification problems as it does not indicates the rate of false negatives and true positives.\n",
    "\n",
    "To understand why accuracy is limited let's take an example. If we wanted to predict wether or not a patient has a disease, we would like to avoid at all cost classifying someone with a disease as healthy. In this case we would like to minimize the rate of false negatives (disease classified as healthy) and we would therefore use recall instead of accuracy.\n",
    "\n",
    "\n",
    "A metric that takes into account the disparity between classes while penalizing the wrongy classified samples is required. \n",
    "\n",
    "One metric can be the **recall** which is : \n",
    "\n",
    "$$ Recall = \\frac{TP}{TP + FN}$$\n",
    "\n",
    "It can be summarized as a measure of the correctly identified postive cases from all the predicted positive cases. \n",
    "\n",
    "Another metric could be the **Precision** : \n",
    "\n",
    "$$ Precision = \\frac{TP}{TP + FP}  $$\n",
    "\n",
    "It can be explained as a measure of correctly identified positive cases from all the positive cases. \n",
    "\n",
    "Finally, the metrics to use will be a mix of both these metrics, called **f1 score** : \n",
    "\n",
    "$$  f1 = (\\frac{Recall^{-1} + Precision^{-1}}{2})^{-1} =  2 \\frac{Precision \\times Recall}{Precision + Recall}        $$\n",
    "\n",
    "It gives a better measure of the incorrectly classified classes than the accuracy.\n",
    "\n",
    "**Note**: f1 score can be tweaked with a beta parameter (between 0 and 1) to indicate which of recall or precision is more important in the f1 score. There is obviously a trade off between recall and precision.\n"
   ]
  },
  {
   "cell_type": "markdown",
   "metadata": {},
   "source": [
    "<hr>\n"
   ]
  },
  {
   "cell_type": "markdown",
   "metadata": {},
   "source": [
    "A way to deal with image classification is with DeepLearning.\n",
    "\n",
    "Indeed, as there are a lot of data, Neural Networks can learn much more than with fewer data. \n",
    "\n",
    "Our approach is thus the following : \n",
    "\n",
    "- Use a simple Neural Network to see how a very basic do on this data. \n",
    "- Try to create a custom architecture with CNNs, some regularization (with dropout) and optimizer selection (Adam, Stochastic,...)\n",
    "- Use Transfer Learning \n",
    "\n"
   ]
  },
  {
   "cell_type": "markdown",
   "metadata": {},
   "source": [
    "### 2.2 Simple Neural Network"
   ]
  },
  {
   "cell_type": "markdown",
   "metadata": {},
   "source": [
    "The first architecture used is a simple fully connected neural network.\n",
    "After 500 epochs and a batch-size of 500 (for the gradient optimization), the f1 score, even if it has improved, is not improving enough.\n",
    "\n",
    "As expected the results are not good since a simple neural network can't really gather the information about each pixels and its environment in the same time. This pushes toward the use of a convolutional neural network.\n",
    "\n",
    "Here is a plot of the Loss and F1 score through the epochs : "
   ]
  },
  {
   "cell_type": "code",
   "execution_count": 100,
   "metadata": {},
   "outputs": [
    {
     "data": {
      "image/png": "[encoded data removed]",
      "text/plain": [
       "<Figure size 432x288 with 2 Axes>"
      ]
     },
     "metadata": {},
     "output_type": "display_data"
    }
   ],
   "source": []
  },
  {
   "cell_type": "markdown",
   "metadata": {},
   "source": [
    "### 2.3 Custom Convolutional Neural Network\n"
   ]
  },
  {
   "cell_type": "markdown",
   "metadata": {},
   "source": [
    "A CNN might a more suited solution for this problem since it involves images. Getting inspiration from a LeNet5 neural network and testing some changes in it, we came out with the following structure.\n",
    "\n",
    "There are seven layers:\n",
    "- Convolution with five 5x5 filters. The output uses a rectified linear unit activation since it takes non linearities into account\n",
    "- Maxpooling returning 15x15 output\n",
    "- Convolution with ten 4x4 filters. Also ReLU activation\n",
    "- Maxpooling returning 8x8 output\n",
    "- A BatchNormalization to limit covariate shift\n",
    "- Flattening layer\n",
    "- Fully connected layer with 39 outputs as there are 39 classes. A softmax activation function is used as it is performing well on non-binary classification (sigmoid should be used in binary classification)"
   ]
  },
  {
   "cell_type": "markdown",
   "metadata": {},
   "source": [
    "<img src='./ilustr/CNN.png' width=300>"
   ]
  },
  {
   "cell_type": "markdown",
   "metadata": {},
   "source": [
    "The chosen loss is the categorical_crossentropy as it is recommended for multi classes classification. The optimizer is adam, a stochastic gradient based method. \n",
    "<br>Several passes of training were done, increasing the batch_size (for the optimizer then) each time to make the convergence more accurate (but slower).\n",
    "\n",
    "The first passes leads to this graph:"
   ]
  },
  {
   "cell_type": "markdown",
   "metadata": {},
   "source": [
    "<img src='./ilustr/cnn_train.png' width=400>"
   ]
  },
  {
   "cell_type": "markdown",
   "metadata": {},
   "source": [
    "For instance, during one of the passes the result can be summarized as displayed above. After only ten epochs, yet with a small batch_size, the f1 score and loss start to reach a plateau. This might be the sign that the accuracy delivered by the gradient computation in the optimizer is no high enough to this point. Thus another pass can be done increasing the batch_size (then the gradient is computed over a larger amount of samples, it is thus more accurate).\n",
    "\n",
    "This process is repeated adapting the number of epoch to the batch_size since a large batch_size often requires a large number of epochs to converge."
   ]
  },
  {
   "cell_type": "markdown",
   "metadata": {},
   "source": [
    "In the end, the training f1_score hits 0.40. Yet the validation score only reaches 0.31. This might be the sign of overfitting, some methods could be use to limit overfitting such as dropout for instance."
   ]
  },
  {
   "cell_type": "markdown",
   "metadata": {},
   "source": [
    "```\n",
    "31200/31200 [==============================] - 13s 410us/step\n",
    "Loss on the validation set : 1.835644955635071\n",
    "F1 score for validation set : 0.30861295515910175\n",
    "```"
   ]
  },
  {
   "cell_type": "markdown",
   "metadata": {},
   "source": [
    "Dropout is added as follows:\n",
    "- Convolution with five 5x5 filters. Drop connections with 10% chances\n",
    "- Maxpooling returning 15x15 output\n",
    "- Convolution with ten 4x4 filters Drop connections with 10% chances\n",
    "- Maxpooling returning 8x8 output\n",
    "- A BatchNormalization to limit covariate shift\n",
    "- Flattening layer and drop connections with 15% chances\n",
    "- Fully connected layer with 39 outputs as there are 39 classes. A softmax activation function is used as it is performing well on non-binary classification (sigmoid should be used in binary classification)"
   ]
  },
  {
   "cell_type": "markdown",
   "metadata": {},
   "source": [
    "In the end the training f1 score hits 0.39 but the validation is indead improved and hits 35."
   ]
  },
  {
   "cell_type": "markdown",
   "metadata": {},
   "source": [
    "```\n",
    "31200/31200 [==============================] - 10s 323us/step\n",
    "Loss on the validation set : 1.7538850847727214\n",
    "F1 score for validation set : 0.3544450066257746\n",
    "```"
   ]
  },
  {
   "cell_type": "markdown",
   "metadata": {},
   "source": [
    "### 2.4 Transfer Learning "
   ]
  },
  {
   "cell_type": "markdown",
   "metadata": {},
   "source": [
    "As the creation of custom neural network for this kind of problem may take too much time, we decided to use works from others. Some researchers have already trained Deep Neural Network to identify, classify, detect specific objects in images. \n",
    "\n",
    "Our idea is therefore to use one of this architecture and its parameters to be able to detect some specific shapes in our images. Then, we aim to add few layers to :\n",
    "- change the output to be adequate to our targets \n",
    "- fit well with our problems. \n",
    "\n",
    "This is what we call **Transfer Learning**"
   ]
  },
  {
   "cell_type": "markdown",
   "metadata": {},
   "source": [
    "**VGG16**  is a convolutional neural network model that achieved 92.7% on top-5 test accuracy in ImageNet, which is a dataset of over 14 million images belonging to 1000 classes. \n",
    "\n",
    "Here is the architecture : "
   ]
  },
  {
   "cell_type": "markdown",
   "metadata": {},
   "source": [
    "<img src='./ilustr/vgg16.png' width=500>"
   ]
  },
  {
   "cell_type": "markdown",
   "metadata": {},
   "source": [
    "\n",
    "It could therefore be usefull to use the first layers of this model to extract information from our data, and then add a fully connected layer to create relation to our problem. Then, another output is load to be adequate to our 39 labels. "
   ]
  },
  {
   "cell_type": "markdown",
   "metadata": {},
   "source": [
    "There are few ways to use transfer learning. We could, for instance : \n",
    "- Load the layers and the weights as an initialization and then train with our data\n",
    "- Load the layers of the VGG16 and freeze all the weights in order to fine-tune the rest to fit well our data.\n",
    "\n",
    "We decided to use the second one. Indeed, it will require less time and be less cost computing to train.\n"
   ]
  },
  {
   "cell_type": "markdown",
   "metadata": {},
   "source": [
    "Here is a summary of our final network : "
   ]
  },
  {
   "cell_type": "markdown",
   "metadata": {},
   "source": [
    "```\n",
    "Model: \"sequential\"\n",
    "_________________________________________________________________\n",
    "Layer (type)                 Output Shape              Param #   \n",
    "=================================================================\n",
    "mobilenetv2_1.00_224 (Model) (None, 1, 1, 1280)        2257984   \n",
    "_________________________________________________________________\n",
    "flatten (Flatten)            (None, 1280)              0         \n",
    "_________________________________________________________________\n",
    "dense (Dense)                (None, 39)                49959     \n",
    "=================================================================\n",
    "Total params: 2,307,943\n",
    "Trainable params: 49,959\n",
    "Non-trainable params: 2,257,984\n",
    "_________________________________________________________________\n",
    "\n",
    "```"
   ]
  },
  {
   "cell_type": "markdown",
   "metadata": {},
   "source": [
    "We first tried to run through 50 epochs. It ended by overfitting the training set too much.\n",
    "\n",
    "Therefore, we reduced the number of epochs to 20. "
   ]
  },
  {
   "cell_type": "code",
   "execution_count": 28,
   "metadata": {},
   "outputs": [
    {
     "data": {
      "image/png": "[encoded data removed]",
      "text/plain": [
       "<Figure size 432x288 with 2 Axes>"
      ]
     },
     "metadata": {},
     "output_type": "display_data"
    }
   ],
   "source": [
    "# Plot of the loss and epoch for the transfered model"
   ]
  },
  {
   "cell_type": "markdown",
   "metadata": {},
   "source": [
    "It ended by a f1 score of **0.66** on the training set. Nevertheless, the score on the validation set is **0.54** which is an overfitting case too. "
   ]
  },
  {
   "cell_type": "markdown",
   "metadata": {},
   "source": [
    "## 3. Final Prediction"
   ]
  },
  {
   "cell_type": "markdown",
   "metadata": {},
   "source": [
    "### 3.1 Final score "
   ]
  },
  {
   "cell_type": "markdown",
   "metadata": {},
   "source": [
    "Let's summarise the results we got so far "
   ]
  },
  {
   "cell_type": "code",
   "execution_count": 103,
   "metadata": {},
   "outputs": [
    {
     "data": {
      "text/html": [
       "<div>\n",
       "<style scoped>\n",
       "    .dataframe tbody tr th:only-of-type {\n",
       "        vertical-align: middle;\n",
       "    }\n",
       "\n",
       "    .dataframe tbody tr th {\n",
       "        vertical-align: top;\n",
       "    }\n",
       "\n",
       "    .dataframe thead th {\n",
       "        text-align: right;\n",
       "    }\n",
       "</style>\n",
       "<table border=\"1\" class=\"dataframe\">\n",
       "  <thead>\n",
       "    <tr style=\"text-align: right;\">\n",
       "      <th></th>\n",
       "      <th>Simple Neural Network</th>\n",
       "      <th>Custom CNN</th>\n",
       "      <th>Custom CNN Dropout</th>\n",
       "      <th>Transfer Learning fine-tuned</th>\n",
       "    </tr>\n",
       "  </thead>\n",
       "  <tbody>\n",
       "    <tr>\n",
       "      <th>Loss</th>\n",
       "      <td>2.32</td>\n",
       "      <td>1.83</td>\n",
       "      <td>1.75</td>\n",
       "      <td>1.71</td>\n",
       "    </tr>\n",
       "    <tr>\n",
       "      <th>F1 score</th>\n",
       "      <td>0.11</td>\n",
       "      <td>0.31</td>\n",
       "      <td>0.35</td>\n",
       "      <td>0.54</td>\n",
       "    </tr>\n",
       "  </tbody>\n",
       "</table>\n",
       "</div>"
      ],
      "text/plain": [
       "          Simple Neural Network  Custom CNN  Custom CNN Dropout  \\\n",
       "Loss                       2.32        1.83                1.75   \n",
       "F1 score                   0.11        0.31                0.35   \n",
       "\n",
       "          Transfer Learning fine-tuned  \n",
       "Loss                              1.71  \n",
       "F1 score                          0.54  "
      ]
     },
     "execution_count": 103,
     "metadata": {},
     "output_type": "execute_result"
    }
   ],
   "source": [
    "# Summary of our previous results "
   ]
  },
  {
   "cell_type": "markdown",
   "metadata": {},
   "source": [
    "We can see that the best results in the validation set are obtained with, as we could have thought, the fine-tuned model.\n",
    "\n",
    "It means the the layers from the VGG16 succeeded quite well to extract some basic features from the images.\n",
    "\n",
    "We can therefore choose this model to predict on the test set : "
   ]
  },
  {
   "cell_type": "markdown",
   "metadata": {},
   "source": [
    "```\n",
    "Prediction on the test :\n",
    "Loss : 1.6875102722491973\n",
    "F1 score :0.5667461156845093\n",
    "```"
   ]
  },
  {
   "cell_type": "markdown",
   "metadata": {},
   "source": [
    "We see that the final f1 score is still lower than the train f1 score, certainly due to overfitting. \n",
    "\n",
    "Nevertheless, it remains quite good compared to the previous models we got. \n",
    "\n",
    "The final test score is therefore **0.57**"
   ]
  },
  {
   "cell_type": "markdown",
   "metadata": {},
   "source": [
    "### 3.2 Comparison with simple featured approach"
   ]
  },
  {
   "cell_type": "markdown",
   "metadata": {},
   "source": [
    "In order to have an idea of our results, one can think of a very basic approach with features that were given.\n",
    "\n",
    "To do so, the unbalanced data is dropped such as the number of data in this label is equal to the second top label. \n",
    "\n",
    "Then, the NaN values are filled by 0 and the categorical values are either converted or dropped. \n",
    "\n",
    "For instance, one can convert the date by taking the starting point as the minimum data available, and then count the number of days from this start. It allows to convert the time we had.\n",
    "\n",
    "Finally, a **Random Forest Classifier** has been applied. Here is the result on the validation set : "
   ]
  },
  {
   "cell_type": "code",
   "execution_count": 138,
   "metadata": {},
   "outputs": [
    {
     "name": "stdout",
     "output_type": "stream",
     "text": [
      "Model used : Random Forest\n"
     ]
    },
    {
     "data": {
      "text/html": [
       "<div>\n",
       "<style scoped>\n",
       "    .dataframe tbody tr th:only-of-type {\n",
       "        vertical-align: middle;\n",
       "    }\n",
       "\n",
       "    .dataframe tbody tr th {\n",
       "        vertical-align: top;\n",
       "    }\n",
       "\n",
       "    .dataframe thead th {\n",
       "        text-align: right;\n",
       "    }\n",
       "</style>\n",
       "<table border=\"1\" class=\"dataframe\">\n",
       "  <thead>\n",
       "    <tr style=\"text-align: right;\">\n",
       "      <th></th>\n",
       "      <th>Training set</th>\n",
       "      <th>Validation set</th>\n",
       "    </tr>\n",
       "  </thead>\n",
       "  <tbody>\n",
       "    <tr>\n",
       "      <th>F1 score</th>\n",
       "      <td>0.999747</td>\n",
       "      <td>0.762654</td>\n",
       "    </tr>\n",
       "  </tbody>\n",
       "</table>\n",
       "</div>"
      ],
      "text/plain": [
       "          Training set  Validation set\n",
       "F1 score      0.999747        0.762654"
      ]
     },
     "execution_count": 138,
     "metadata": {},
     "output_type": "execute_result"
    }
   ],
   "source": []
  },
  {
   "cell_type": "markdown",
   "metadata": {},
   "source": [
    "The final f1 score on the test set is : **0.76**\n",
    "\n",
    "Obviously there are overfitting here. Nonetheless, the results are better than our image based approach."
   ]
  },
  {
   "cell_type": "markdown",
   "metadata": {},
   "source": [
    "## Conclusion\n",
    "\n"
   ]
  },
  {
   "cell_type": "markdown",
   "metadata": {},
   "source": [
    "Our DeepLearning approach seems to be quite limited. Indeed, a features-based approach had better results, which can be explained by the fact the the experts who have generated these features have summarized the most relevant features. \n",
    "\n",
    "Nevertheless, the DeepLearning approach is limited by the restriction we had. The choices we made were all oriented to keep the computation cost acceptable, and we didn't have time to run too much epoch for the training. \n",
    "\n",
    "\n"
   ]
  },
  {
   "cell_type": "markdown",
   "metadata": {},
   "source": [
    "## 4. Critics "
   ]
  },
  {
   "cell_type": "markdown",
   "metadata": {},
   "source": [
    "The scores we got can be explained by few limitations. Indeed, these are the problems we encountered :  \n",
    "\n",
    "\n",
    "- Computation cost prevented us to perform well\n",
    "- Time issue : we didn't have time to run for few days our models\n",
    "- Memory issues : we didn't have the capacity to store large images and so to have better resolution and results\n",
    "\n",
    "Thus, we had to make some choices than could have lowered our models, such as : \n",
    "\n",
    "- Size of the images : we lost a lot of information by doing a resize (32x32 and 48x48)\n",
    "- Unbalanced labels : we dropped a lot of data. We could have found another way not to waste this information\n",
    "- Regularisation and validation : we didn't try all the methods to avoid overfitting. We mainly used dropout.\n",
    "- We had issues with the running time and therefore had to reduce the size of the dataset, which led to results from different number of images. \n",
    "\n",
    "\n",
    "\n"
   ]
  }
 ],
 "metadata": {
  "kernelspec": {
   "display_name": "Python 3",
   "language": "python",
   "name": "python3"
  },
  "language_info": {
   "codemirror_mode": {
    "name": "ipython",
    "version": 3
   },
   "file_extension": ".py",
   "mimetype": "text/x-python",
   "name": "python",
   "nbconvert_exporter": "python",
   "pygments_lexer": "ipython3",
   "version": "3.7.7"
  }
 },
 "nbformat": 4,
 "nbformat_minor": 2
}
