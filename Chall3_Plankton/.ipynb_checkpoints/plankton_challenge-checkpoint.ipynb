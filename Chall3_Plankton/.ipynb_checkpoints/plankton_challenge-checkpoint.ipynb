{
 "cells": [
  {
   "cell_type": "markdown",
   "metadata": {},
   "source": [
    "---\n",
    "# Plankton Recognition Challenge\n",
    "---\n",
    "\n",
    "Plankton comprises all the organisms freely drifting with ocean currents. These life forms are a critically important piece of oceanic ecosystems, accounting for more than half the primary production on earth and nearly half the total carbon fixed in the global carbon cycle. They also form the foundation of aquatic food webs, including those of large, commercially important fisheries. Loss of plankton populations could result in ecological upheaval as well as negative societal impacts, particularly in indigenous cultures and the developing world. Plankton’s global significance makes their population levels an ideal measure of the health of the world’s oceans and ecosystems.\n",
    "\n",
    "Traditional methods for measuring and monitoring plankton populations are time consuming and cannot scale to the granularity or scope necessary for large-scale studies. Improved approaches are needed. One such approach is through the use of underwater imagery sensors. \n",
    "\n",
    "In this challenge, which was prepared in cooperation with the Laboratoire d’Océanographie de Villefranche, jointly run by Sorbonne Université and CNRS, plankton images were acquired in the bay of Villefranche, weekly since 2013 and manually engineered features were computed on each imaged object. \n",
    "\n",
    "This challenge aims at developing solid approaches to plankton image classification. As an alternative, it is possible to use methods based on carefully (but manually) engineered features. This is in sharp contrast with “Deep Learning” methods in which features will be learned from image data alone.\n",
    "\n",
    "The purpose of this challenge is for you to learn about the commonly used paradigms when working with real-life problems. This means you can choose one of the following paths:\n",
    "\n",
    "- Work directly with the provided images, e.g. using a (convolutional) neural network\n",
    "- Work with the supplied features extracted from the images (*native* or *skimage* or both of them)\n",
    "- Extract your own features from the provided images using a technique of your choice\n",
    "\n",
    "You will find a detailed description about the image data and the features at the end of this text.\n",
    "In any case, the choice of the classifier that you decide to work with strongly depends on the choice of features.\n",
    "\n",
    "Please bear in mind that the purpose of this challenge is not to find the best-performing model (e.g. on Kaggle there are competitions to do just that, with similar data as for this challenge). You should rather make sure to understand the dificulties that come with computer vision task, should you take this modeling approach. Moreover, you should be able to justify your choice of features/model and be able to explain its advantages and disadvantages for the task.\n",
    "\n",
    "**IMPORTANT**: please refer to the AML course guidelines concerning grading rules. Pay especially attention to the **presentation quality** item, which boils down to: don't dump a zillion of lines of code and plots in this notebook. Produce a concise summary of your findings: this notebook can exist in two versions, a \"scratch\" version that you will use to work and debug, a \"presentation\" version that you will submit. The \"presentation\" notebook should go to the point, and convay the main findings of your work."
   ]
  },
  {
   "cell_type": "markdown",
   "metadata": {},
   "source": [
    "---\n",
    "## Overview\n",
    "\n",
    "Beyond simply producing a well-performing model for making predictions, in this challenge we would like you to start developing your skills as a machine learning scientist.\n",
    "In this regard, your notebook should be structured in such a way as to explore the following tasks that are expected to be carried out whenever undertaking such a project.\n",
    "The description below each aspect should serve as a guide for your work, but you are strongly encouraged to also explore alternative options and directions. \n",
    "Thinking outside the box will always be rewarded in these challenges.\n",
    "\n",
    "\n",
    "### 1. Data preparation:\n",
    "   \n",
    "_Data exploration_: The first broad component of your work should enable you to familiarise yourselves with the given data, an outline of which is given at the end of this challenge specification. Among others, you can work on:\n",
    "   \n",
    "* Data cleaning, e.g. treatment of categorial variables;\n",
    "* Data visualisation; Computing descriptive statistics, e.g. correlation.\n",
    "\n",
    "What is new in this challenge is that you will be working with image data. Therefore, you should have a look at example images located in the *imgs.zip* file (see description below). If you decide to work with the native or the skimage features, make sure to understand them!\n",
    "\n",
    "Among others, this section should investigate:\n",
    "\n",
    "- Distribution of the different image dimensions (including the number of channels)\n",
    "- Distribution of the different labels that the images are assigned to\n",
    "\n",
    "The image labels are organized in a taxonomy. We will measure the final model performance for the classification into the *level2* categories. Make sure to understand the meaning of this label inside the taxonomy.\n",
    "\n",
    "_Data Pre-processing_: The previous step should give you a better understanding of which pre-processing is required for the data. This may include:\n",
    "\n",
    "* Normalising and standardising the given data;\n",
    "* Removing outliers;\n",
    "* Carrying out feature selection, possibly using metrics derived from information theory;\n",
    "* Handling missing information in the dataset;\n",
    "* Augmenting the dataset with external information;\n",
    "* Combining existing features.\n",
    "\n",
    "Please take also note of the following aspects, that are related to this particular challente:\n",
    "\n",
    "- If you decide to work with the provided features, some data cleaning may be required to make full use of all the data.\n",
    "- If you decide to extract your own features from the images, you should explain your approach in this section.\n",
    "- If you decide to work directly with the images themselves, preprocessing the images may improve your classification results. In particular, if you work with a neural network the following should be of interest to you:\n",
    "\n",
    "  - Due to the fully-connected layers (that usually come after the convolutional ones), the input needs to have a fixed dimension.\n",
    "  - Data augmentation (image rotation, scaling, cropping, etc. of the existing images) can be used to increase the size of the training data set. This may improve performance especially when little data is available for a particular class.\n",
    "  - Be aware of the computational cost! It might be worth rescaling the images to a smaller size!\n",
    "\n",
    "  All of the operations above are usually realized using a dataloader. This means that you do not need to create a modified version of the dataset and save it to disk. Instead, the dataloader processes the data \"on the fly\" and in-memory before passing it to the network.\n",
    "  \n",
    "    NB: Although aligning image sizes is necessary to train CNNs, this will prevent your classifier from learning about different object sizes as a feature. Additional gains may be achieved when also taking object sizes into account.\n",
    "\n",
    "### 2. Model selection\n",
    "An important part of the work involves the selection of a model that can successfully handle the given data and yield sensible predictions. Instead of focusing exclusively on your final chosen model, it is also important to share your thought process in this notebook by additionally describing alternative candidate models. There is a wealth of models to choose from, such as decision trees, random forests, (Bayesian) neural networks, Gaussian processes, LASSO regression, and so on. \n",
    "\n",
    "Irrespective of your choice, it is highly likely that your model will have one or more parameters that require tuning. There are several techniques for carrying out such a procedure, such as cross-validation.\n",
    "\n",
    "### 3. Performance Evaluation\n",
    "For the evaluation of the classification results in this challenge, you should use the F1 measure. Here the focus should be on level2 classification.\n",
    "\n",
    "You should indicate your final evaluation score on a held-out test set. As an evaluation metric you should use the F1 score with the *average=macro* option as it is provided by the scikit-learn library. See the following link for more information:\n",
    "        \n",
    "https://scikit-learn.org/stable/modules/generated/sklearn.metrics.f1_score.html\n",
    "\n",
    "Please note that you are responsible for creating a sensible train/validation/test split. There is no predefined held-out test data."
   ]
  },
  {
   "cell_type": "markdown",
   "metadata": {},
   "source": [
    "---\n",
    "## Dataset Description\n",
    "\n",
    "#### * Location of the Dataset on the cloud platform\n",
    "The data for this challenge is located at: `/mnt/datasets/plankton/flowcam`\n",
    "\n",
    "#### * Hierachical Taxonomy Tree for Labels \n",
    "\n",
    "Each object is represented by a single image and is identified by a unique integer number. It has a name associated to it which is integrated in a hierarchical taxonomic tree. The identifications are gathered from different projects, classified by different people in different contexts, so they often target different taxonomic levels. For example, let us say we classify items of clothing along the following tree\n",
    "\n",
    "    top\n",
    "        shirt\n",
    "            long sleeves\n",
    "            short sleeves\n",
    "        sweater\n",
    "            hooded\n",
    "            no hood\n",
    "    bottom\n",
    "        pants\n",
    "            jeans\n",
    "            other\n",
    "        shorts\n",
    "        \n",
    "In a first project, images are classified to the finest level possible, but it may be the case that, on some pictures, it is impossible to determine whether a sweater has a hood or not, in which case it is simply classified as `sweater`. In the second project, the operator classified tops as `shirt` or `sweater` only, and bottoms to the finest level. In a third project, the operator only separated tops from bottoms. In such a context, the original names in the database cannot be used directly because, for example `sweater` will contain images that are impossible to determine as `hooded` or `no hood` *as well as* `hooded` and `no hood` images that were simply not classified further. If all three classes (`sweater`, `hooded`, and `no hood`) are included in the training set, it will likely confuse the classifier. For this reason, we define different target taxonomic levels:\n",
    "\n",
    "-   `level1` is the finest taxonomic level possible. In the example above, we would include `hooded` and `no hood` but discard all images in `sweater` to avoid confusion; and proceed in the same manner for other classes.\n",
    "\n",
    "-   `level2` is a grouping of underlying levels. In the example above, it would include `shirt` (which contains all images in `shirt`, `long sleeves`, and `short sleeves`), `sweater` (which, similarly would include this class and all its children), `pants` (including children), and `shorts`. So typically, `level2` contains more images (less discarding), sorted within fewer classes than `level1`, and may therefore be an easier classification problem.\n",
    "\n",
    "-   `level3` is an even broader grouping. Here it would be `top` vs `bottom`\n",
    "\n",
    "-   etc.\n",
    "\n",
    "In the Plankton Image dataset, the objects will be categorised based on a pre-defined 'level1' and 'level2'. You can opt to work on one of them, but we recommend you to work on `level2` because it is an easier classification problem.  \n",
    "\n",
    "#### * Data Structure\n",
    "\n",
    "    /mnt/datasets/plankton/flowcam/\n",
    "        meta.csv\n",
    "        taxo.csv\n",
    "        features_native.csv.gz\n",
    "        features_skimage.csv.gz\n",
    "        imgs.zip\n",
    "\n",
    "* `meta.csv` contains the index of images and their corresponding labels\n",
    "* `taxo.csv` defines the taxonomic tree and its potential groupings at various level. Note that, the information is also available in `meta.csv`. Therefore, the information in `taxo.csv` is probably useless, but at least it gives you a global view about taxonomy tree\n",
    "* `features_native.csv.gz` contain the morphological handcrafted features computed by ZooProcess. In fact, ZooProcess generates the region of interests (ROI) around each individual object from a original image of Plankton. In addition, it also computes a set of associated features measured on the object. These features are the ones contained in `features_native.csv.gz`\n",
    "* `features_skimage.csv.gz` contains the morphological features recomputed with skimage.measure.regionprops on the ROIs produced by ZooProcess.\n",
    "* `imgs.zip` contains a post-processed version of the original images. Images are named by `objid`.jpg\n",
    "\n",
    "#### * Attributes in meta.csv\n",
    "\n",
    "The file contains the image identifiers (objid) as well as the labels assigned to the images by human operators. Those are defined with various levels of precision:\n",
    "\n",
    "* <i>unique_name</i>: raw labels from operators\n",
    "* <i>level1</i>: cleaned, most detailed labels\n",
    "* <i>level2</i>: regrouped (coarser) labels\n",
    "* <i>lineage</i>: full taxonomic lineage of the class\n",
    "\n",
    "Some labels may be missing (coded ‘NA’) at a given level, meaning that the corresponding objects should be discarded for the classification at this level.\n",
    "\n",
    "#### * imgs.zip\n",
    "\n",
    "This zip archive contains an *imgs* folder that contains all the images in .jpg format. Do not extract this folder to disk! Instead you will be loading the images to memory. See the code below for a quick how-to:"
   ]
  },
  {
   "cell_type": "markdown",
   "metadata": {},
   "source": [
    "#### * Attributes in features_native.csv.gz\n",
    "A brief outline of the availabel attributes in `features_native.csv.gz` which you can use is given below:\n",
    "\n",
    "* <i>objid</i>: same as in `meta.csv`\n",
    "* <i>area</i>: area of ROI\n",
    "* <i>meanimagegrey</i>:\n",
    "* <i>mean</i>: mean grey\n",
    "* <i>stddev</i>: standard deviation of greys\n",
    "* <i>min</i>: minimum grey\n",
    "* <i>perim.</i>: perimeter of ROI\n",
    "* <i>width, height</i>: dimensions of ROI\n",
    "* <i>major, minor</i>: length of major,minor axis of the best fitting ellipse\n",
    "* <i>angle</i>: \n",
    "* <i>circ.</i>: circularity or shape factor which can be computed by 4pi(area/perim.^2)\n",
    "* <i>feret</i>:  maximal feret diameter\n",
    "* <i>intden</i>: integrated density: mean*area\n",
    "* <i>median</i>: median grey\n",
    "* <i>skew, kurt</i>: skewness,kurtosis of the histogram of greys\n",
    "* <i>%area</i>: proportion of the image corresponding to the object\n",
    "* <i>area_exc</i>: area excluding holes\n",
    "* <i>fractal</i>: fractal dimension of the perimeter\n",
    "* <i>skelarea</i>: area of the one-pixel wide skeleton of the image ???\n",
    "* <i>slope</i>: slope of the cumulated histogram of greys\n",
    "* <i>histcum1, 2, 3</i>:  grey level at quantiles 0.25, 0.5, 0.75 of the histogram of greys\n",
    "* <i>nb1, 2, 3</i>: number of objects after thresholding at the grey levels above\n",
    "* <i>symetrieh, symetriev</i>: index of horizontal,vertical symmetry\n",
    "* <i>symetriehc, symetrievc</i>: same but after thresholding at level histcum1\n",
    "* <i>convperim, convarea</i>: perimeter,area of the convex hull of the object\n",
    "* <i>fcons</i>: contrast\n",
    "* <i>thickr</i>: thickness ratio: maximum thickness/mean thickness\n",
    "* <i>esd</i>:\n",
    "* <i>elongation</i>: elongation index: major/minor\n",
    "* <i>range</i>: range of greys: max-min\n",
    "* <i>meanpos</i>:  relative position of the mean grey: (max-mean)/range\n",
    "* <i>centroids</i>:\n",
    "* <i>cv</i>: coefficient of variation of greys: 100*(stddev/mean)\n",
    "* <i>sr</i>: index of variation of greys: 100*(stddev/range)\n",
    "* <i>perimareaexc</i>:\n",
    "* <i>feretareaexc</i>:\n",
    "* <i>perimferet</i>: index of the relative complexity of the perimeter: perim/feret\n",
    "* <i>perimmajor</i>: index of the relative complexity of the perimeter: perim/major\n",
    "* <i>circex</i>:\n",
    "* <i>cdexc</i>:\n",
    "* <i>kurt_mean</i>:\n",
    "* <i>skew_mean</i>:\n",
    "* <i>convperim_perim</i>:\n",
    "* <i>convarea_area</i>:\n",
    "* <i>symetrieh_area</i>:\n",
    "* <i>symetriev_area</i>:\n",
    "* <i>nb1_area</i>:\n",
    "* <i>nb2_area</i>:\n",
    "* <i>nb3_area</i>:\n",
    "* <i>nb1_range</i>:\n",
    "* <i>nb2_range</i>:\n",
    "* <i>nb3_range</i>:\n",
    "* <i>median_mean</i>:\n",
    "* <i>median_mean_range</i>:\n",
    "* <i>skeleton_area</i>:\n",
    "\n",
    "#### * Attributes in features_skimage.csv.gz\n",
    "Table of morphological features recomputed with skimage.measure.regionprops on the ROIs produced by ZooProcess. See http://scikit-image.org/docs/dev/api/skimage.measure.html#skimage.measure.regionprops for documentation."
   ]
  },
  {
   "cell_type": "markdown",
   "metadata": {},
   "source": [
    "# First method : without the images"
   ]
  },
  {
   "cell_type": "code",
   "execution_count": 1,
   "metadata": {},
   "outputs": [],
   "source": [
    "# Importations\n",
    "\n",
    "\n",
    "import pandas as pd\n",
    "import numpy as np\n",
    "import matplotlib.pyplot as plt \n",
    "import tensorflow as tf\n",
    "\n",
    "SEED = 77\n"
   ]
  },
  {
   "cell_type": "code",
   "execution_count": 4,
   "metadata": {},
   "outputs": [],
   "source": [
    "# Load all the csv data \n",
    "\n",
    "\n",
    "meta = pd.read_csv('../../meta.csv')\n",
    "taxo = pd.read_csv('../../taxo.csv')\n",
    "\n",
    "features_nat = pd.read_csv('../../features_native.csv.gz')\n",
    "features_sk = pd.read_csv('../../features_skimage.csv.gz')"
   ]
  },
  {
   "cell_type": "code",
   "execution_count": 5,
   "metadata": {},
   "outputs": [
    {
     "data": {
      "text/plain": [
       "(243610, 14)"
      ]
     },
     "execution_count": 5,
     "metadata": {},
     "output_type": "execute_result"
    }
   ],
   "source": [
    "meta.shape"
   ]
  },
  {
   "cell_type": "code",
   "execution_count": 6,
   "metadata": {},
   "outputs": [
    {
     "data": {
      "text/plain": [
       "Index(['objid', 'projid', 'id', 'status', 'latitude', 'longitude', 'objdate',\n",
       "       'objtime', 'depth_min', 'depth_max', 'unique_name', 'lineage', 'level1',\n",
       "       'level2'],\n",
       "      dtype='object')"
      ]
     },
     "execution_count": 6,
     "metadata": {},
     "output_type": "execute_result"
    }
   ],
   "source": [
    "meta.columns"
   ]
  },
  {
   "cell_type": "code",
   "execution_count": 9,
   "metadata": {},
   "outputs": [
    {
     "data": {
      "text/html": [
       "<div>\n",
       "<style scoped>\n",
       "    .dataframe tbody tr th:only-of-type {\n",
       "        vertical-align: middle;\n",
       "    }\n",
       "\n",
       "    .dataframe tbody tr th {\n",
       "        vertical-align: top;\n",
       "    }\n",
       "\n",
       "    .dataframe thead th {\n",
       "        text-align: right;\n",
       "    }\n",
       "</style>\n",
       "<table border=\"1\" class=\"dataframe\">\n",
       "  <thead>\n",
       "    <tr style=\"text-align: right;\">\n",
       "      <th></th>\n",
       "      <th>levelName</th>\n",
       "      <th>id</th>\n",
       "      <th>unique_name</th>\n",
       "      <th>n</th>\n",
       "      <th>level1</th>\n",
       "      <th>comment1</th>\n",
       "      <th>level2</th>\n",
       "      <th>comment2</th>\n",
       "    </tr>\n",
       "  </thead>\n",
       "  <tbody>\n",
       "    <tr>\n",
       "      <th>0</th>\n",
       "      <td>#</td>\n",
       "      <td>NaN</td>\n",
       "      <td>NaN</td>\n",
       "      <td>NaN</td>\n",
       "      <td>NaN</td>\n",
       "      <td>NaN</td>\n",
       "      <td>NaN</td>\n",
       "      <td>NaN</td>\n",
       "    </tr>\n",
       "    <tr>\n",
       "      <th>1</th>\n",
       "      <td>¦--living</td>\n",
       "      <td>NaN</td>\n",
       "      <td>NaN</td>\n",
       "      <td>NaN</td>\n",
       "      <td>NaN</td>\n",
       "      <td>NaN</td>\n",
       "      <td>NaN</td>\n",
       "      <td>NaN</td>\n",
       "    </tr>\n",
       "    <tr>\n",
       "      <th>2</th>\n",
       "      <td>¦   ¦--Bacteria</td>\n",
       "      <td>NaN</td>\n",
       "      <td>NaN</td>\n",
       "      <td>NaN</td>\n",
       "      <td>NaN</td>\n",
       "      <td>NaN</td>\n",
       "      <td>NaN</td>\n",
       "      <td>NaN</td>\n",
       "    </tr>\n",
       "    <tr>\n",
       "      <th>3</th>\n",
       "      <td>¦   ¦   °--Cyanobacteria</td>\n",
       "      <td>NaN</td>\n",
       "      <td>NaN</td>\n",
       "      <td>NaN</td>\n",
       "      <td>NaN</td>\n",
       "      <td>NaN</td>\n",
       "      <td>NaN</td>\n",
       "      <td>NaN</td>\n",
       "    </tr>\n",
       "    <tr>\n",
       "      <th>4</th>\n",
       "      <td>¦   ¦       °--Cyanophyceae</td>\n",
       "      <td>NaN</td>\n",
       "      <td>NaN</td>\n",
       "      <td>NaN</td>\n",
       "      <td>NaN</td>\n",
       "      <td>NaN</td>\n",
       "      <td>NaN</td>\n",
       "      <td>NaN</td>\n",
       "    </tr>\n",
       "    <tr>\n",
       "      <th>5</th>\n",
       "      <td>¦   ¦           °--Trichodesmium</td>\n",
       "      <td>8976.0</td>\n",
       "      <td>Trichodesmium</td>\n",
       "      <td>2.0</td>\n",
       "      <td>NaN</td>\n",
       "      <td>NaN</td>\n",
       "      <td>NaN</td>\n",
       "      <td>NaN</td>\n",
       "    </tr>\n",
       "    <tr>\n",
       "      <th>6</th>\n",
       "      <td>¦   ¦--Eukaryota</td>\n",
       "      <td>NaN</td>\n",
       "      <td>NaN</td>\n",
       "      <td>NaN</td>\n",
       "      <td>NaN</td>\n",
       "      <td>NaN</td>\n",
       "      <td>NaN</td>\n",
       "      <td>NaN</td>\n",
       "    </tr>\n",
       "    <tr>\n",
       "      <th>7</th>\n",
       "      <td>¦   ¦   ¦--Harosa</td>\n",
       "      <td>NaN</td>\n",
       "      <td>NaN</td>\n",
       "      <td>NaN</td>\n",
       "      <td>NaN</td>\n",
       "      <td>NaN</td>\n",
       "      <td>NaN</td>\n",
       "      <td>NaN</td>\n",
       "    </tr>\n",
       "    <tr>\n",
       "      <th>8</th>\n",
       "      <td>¦   ¦   ¦   ¦--Alveolata</td>\n",
       "      <td>NaN</td>\n",
       "      <td>NaN</td>\n",
       "      <td>NaN</td>\n",
       "      <td>NaN</td>\n",
       "      <td>NaN</td>\n",
       "      <td>NaN</td>\n",
       "      <td>NaN</td>\n",
       "    </tr>\n",
       "    <tr>\n",
       "      <th>9</th>\n",
       "      <td>¦   ¦   ¦   ¦   ¦--Ciliophora</td>\n",
       "      <td>NaN</td>\n",
       "      <td>NaN</td>\n",
       "      <td>NaN</td>\n",
       "      <td>NaN</td>\n",
       "      <td>NaN</td>\n",
       "      <td>NaN</td>\n",
       "      <td>NaN</td>\n",
       "    </tr>\n",
       "  </tbody>\n",
       "</table>\n",
       "</div>"
      ],
      "text/plain": [
       "                          levelName      id    unique_name    n level1  \\\n",
       "0                                 #     NaN            NaN  NaN    NaN   \n",
       "1                         ¦--living     NaN            NaN  NaN    NaN   \n",
       "2                   ¦   ¦--Bacteria     NaN            NaN  NaN    NaN   \n",
       "3          ¦   ¦   °--Cyanobacteria     NaN            NaN  NaN    NaN   \n",
       "4       ¦   ¦       °--Cyanophyceae     NaN            NaN  NaN    NaN   \n",
       "5  ¦   ¦           °--Trichodesmium  8976.0  Trichodesmium  2.0    NaN   \n",
       "6                  ¦   ¦--Eukaryota     NaN            NaN  NaN    NaN   \n",
       "7                 ¦   ¦   ¦--Harosa     NaN            NaN  NaN    NaN   \n",
       "8          ¦   ¦   ¦   ¦--Alveolata     NaN            NaN  NaN    NaN   \n",
       "9     ¦   ¦   ¦   ¦   ¦--Ciliophora     NaN            NaN  NaN    NaN   \n",
       "\n",
       "  comment1 level2  comment2  \n",
       "0      NaN    NaN       NaN  \n",
       "1      NaN    NaN       NaN  \n",
       "2      NaN    NaN       NaN  \n",
       "3      NaN    NaN       NaN  \n",
       "4      NaN    NaN       NaN  \n",
       "5      NaN    NaN       NaN  \n",
       "6      NaN    NaN       NaN  \n",
       "7      NaN    NaN       NaN  \n",
       "8      NaN    NaN       NaN  \n",
       "9      NaN    NaN       NaN  "
      ]
     },
     "execution_count": 9,
     "metadata": {},
     "output_type": "execute_result"
    }
   ],
   "source": [
    "taxo.head(10)"
   ]
  },
  {
   "cell_type": "code",
   "execution_count": null,
   "metadata": {},
   "outputs": [],
   "source": []
  },
  {
   "cell_type": "code",
   "execution_count": 8,
   "metadata": {},
   "outputs": [
    {
     "data": {
      "text/html": [
       "<div>\n",
       "<style scoped>\n",
       "    .dataframe tbody tr th:only-of-type {\n",
       "        vertical-align: middle;\n",
       "    }\n",
       "\n",
       "    .dataframe tbody tr th {\n",
       "        vertical-align: top;\n",
       "    }\n",
       "\n",
       "    .dataframe thead th {\n",
       "        text-align: right;\n",
       "    }\n",
       "</style>\n",
       "<table border=\"1\" class=\"dataframe\">\n",
       "  <thead>\n",
       "    <tr style=\"text-align: right;\">\n",
       "      <th></th>\n",
       "      <th>objid</th>\n",
       "      <th>area</th>\n",
       "      <th>meanimagegrey</th>\n",
       "      <th>mean</th>\n",
       "      <th>stddev</th>\n",
       "      <th>min</th>\n",
       "      <th>perim.</th>\n",
       "      <th>width</th>\n",
       "      <th>height</th>\n",
       "      <th>major</th>\n",
       "      <th>...</th>\n",
       "      <th>symetriev_area</th>\n",
       "      <th>nb1_area</th>\n",
       "      <th>nb2_area</th>\n",
       "      <th>nb3_area</th>\n",
       "      <th>nb1_range</th>\n",
       "      <th>nb2_range</th>\n",
       "      <th>nb3_range</th>\n",
       "      <th>median_mean</th>\n",
       "      <th>median_mean_range</th>\n",
       "      <th>skeleton_area</th>\n",
       "    </tr>\n",
       "  </thead>\n",
       "  <tbody>\n",
       "    <tr>\n",
       "      <th>0</th>\n",
       "      <td>32756761.0</td>\n",
       "      <td>6653.0</td>\n",
       "      <td>167.18</td>\n",
       "      <td>205.76</td>\n",
       "      <td>65.341</td>\n",
       "      <td>85</td>\n",
       "      <td>779.66</td>\n",
       "      <td>109</td>\n",
       "      <td>123</td>\n",
       "      <td>147.8</td>\n",
       "      <td>...</td>\n",
       "      <td>0.005988</td>\n",
       "      <td>0.017964</td>\n",
       "      <td>0.017964</td>\n",
       "      <td>0.059880</td>\n",
       "      <td>0.017647</td>\n",
       "      <td>0.017647</td>\n",
       "      <td>0.058824</td>\n",
       "      <td>47</td>\n",
       "      <td>0.276471</td>\n",
       "      <td>91.778443</td>\n",
       "    </tr>\n",
       "    <tr>\n",
       "      <th>1</th>\n",
       "      <td>32759364.0</td>\n",
       "      <td>1275.0</td>\n",
       "      <td>165.83</td>\n",
       "      <td>234.29</td>\n",
       "      <td>38.562</td>\n",
       "      <td>98</td>\n",
       "      <td>186.99</td>\n",
       "      <td>33</td>\n",
       "      <td>65</td>\n",
       "      <td>82.4</td>\n",
       "      <td>...</td>\n",
       "      <td>0.012048</td>\n",
       "      <td>0.024096</td>\n",
       "      <td>0.012048</td>\n",
       "      <td>0.006024</td>\n",
       "      <td>0.025478</td>\n",
       "      <td>0.012739</td>\n",
       "      <td>0.006369</td>\n",
       "      <td>21</td>\n",
       "      <td>0.133758</td>\n",
       "      <td>18.030120</td>\n",
       "    </tr>\n",
       "    <tr>\n",
       "      <th>2</th>\n",
       "      <td>32758055.0</td>\n",
       "      <td>2416.0</td>\n",
       "      <td>167.92</td>\n",
       "      <td>239.15</td>\n",
       "      <td>25.590</td>\n",
       "      <td>94</td>\n",
       "      <td>276.33</td>\n",
       "      <td>26</td>\n",
       "      <td>115</td>\n",
       "      <td>138.8</td>\n",
       "      <td>...</td>\n",
       "      <td>0.017857</td>\n",
       "      <td>0.011905</td>\n",
       "      <td>0.053571</td>\n",
       "      <td>0.107143</td>\n",
       "      <td>0.012422</td>\n",
       "      <td>0.055901</td>\n",
       "      <td>0.111801</td>\n",
       "      <td>16</td>\n",
       "      <td>0.099379</td>\n",
       "      <td>24.892857</td>\n",
       "    </tr>\n",
       "    <tr>\n",
       "      <th>3</th>\n",
       "      <td>32758988.0</td>\n",
       "      <td>1433.0</td>\n",
       "      <td>167.34</td>\n",
       "      <td>248.79</td>\n",
       "      <td>20.933</td>\n",
       "      <td>107</td>\n",
       "      <td>388.40</td>\n",
       "      <td>126</td>\n",
       "      <td>117</td>\n",
       "      <td>151.2</td>\n",
       "      <td>...</td>\n",
       "      <td>0.005988</td>\n",
       "      <td>0.000000</td>\n",
       "      <td>0.000000</td>\n",
       "      <td>0.023952</td>\n",
       "      <td>0.000000</td>\n",
       "      <td>0.000000</td>\n",
       "      <td>0.027027</td>\n",
       "      <td>6</td>\n",
       "      <td>0.040541</td>\n",
       "      <td>99.365269</td>\n",
       "    </tr>\n",
       "    <tr>\n",
       "      <th>4</th>\n",
       "      <td>32760598.0</td>\n",
       "      <td>1650.0</td>\n",
       "      <td>166.89</td>\n",
       "      <td>250.42</td>\n",
       "      <td>14.603</td>\n",
       "      <td>124</td>\n",
       "      <td>751.96</td>\n",
       "      <td>66</td>\n",
       "      <td>239</td>\n",
       "      <td>278.7</td>\n",
       "      <td>...</td>\n",
       "      <td>0.017964</td>\n",
       "      <td>0.029940</td>\n",
       "      <td>0.083832</td>\n",
       "      <td>0.059880</td>\n",
       "      <td>0.038168</td>\n",
       "      <td>0.106870</td>\n",
       "      <td>0.076336</td>\n",
       "      <td>5</td>\n",
       "      <td>0.038168</td>\n",
       "      <td>109.449102</td>\n",
       "    </tr>\n",
       "  </tbody>\n",
       "</table>\n",
       "<p>5 rows × 65 columns</p>\n",
       "</div>"
      ],
      "text/plain": [
       "        objid    area  meanimagegrey    mean  stddev  min  perim.  width  \\\n",
       "0  32756761.0  6653.0         167.18  205.76  65.341   85  779.66    109   \n",
       "1  32759364.0  1275.0         165.83  234.29  38.562   98  186.99     33   \n",
       "2  32758055.0  2416.0         167.92  239.15  25.590   94  276.33     26   \n",
       "3  32758988.0  1433.0         167.34  248.79  20.933  107  388.40    126   \n",
       "4  32760598.0  1650.0         166.89  250.42  14.603  124  751.96     66   \n",
       "\n",
       "   height  major      ...        symetriev_area  nb1_area  nb2_area  nb3_area  \\\n",
       "0     123  147.8      ...              0.005988  0.017964  0.017964  0.059880   \n",
       "1      65   82.4      ...              0.012048  0.024096  0.012048  0.006024   \n",
       "2     115  138.8      ...              0.017857  0.011905  0.053571  0.107143   \n",
       "3     117  151.2      ...              0.005988  0.000000  0.000000  0.023952   \n",
       "4     239  278.7      ...              0.017964  0.029940  0.083832  0.059880   \n",
       "\n",
       "   nb1_range  nb2_range  nb3_range  median_mean  median_mean_range  \\\n",
       "0   0.017647   0.017647   0.058824           47           0.276471   \n",
       "1   0.025478   0.012739   0.006369           21           0.133758   \n",
       "2   0.012422   0.055901   0.111801           16           0.099379   \n",
       "3   0.000000   0.000000   0.027027            6           0.040541   \n",
       "4   0.038168   0.106870   0.076336            5           0.038168   \n",
       "\n",
       "   skeleton_area  \n",
       "0      91.778443  \n",
       "1      18.030120  \n",
       "2      24.892857  \n",
       "3      99.365269  \n",
       "4     109.449102  \n",
       "\n",
       "[5 rows x 65 columns]"
      ]
     },
     "execution_count": 8,
     "metadata": {},
     "output_type": "execute_result"
    }
   ],
   "source": [
    "features_nat.head(5)"
   ]
  },
  {
   "cell_type": "code",
   "execution_count": 9,
   "metadata": {},
   "outputs": [
    {
     "data": {
      "text/html": [
       "<div>\n",
       "<style scoped>\n",
       "    .dataframe tbody tr th:only-of-type {\n",
       "        vertical-align: middle;\n",
       "    }\n",
       "\n",
       "    .dataframe tbody tr th {\n",
       "        vertical-align: top;\n",
       "    }\n",
       "\n",
       "    .dataframe thead th {\n",
       "        text-align: right;\n",
       "    }\n",
       "</style>\n",
       "<table border=\"1\" class=\"dataframe\">\n",
       "  <thead>\n",
       "    <tr style=\"text-align: right;\">\n",
       "      <th></th>\n",
       "      <th>objid</th>\n",
       "      <th>area</th>\n",
       "      <th>convex_area</th>\n",
       "      <th>eccentricity</th>\n",
       "      <th>equivalent_diameter</th>\n",
       "      <th>euler_number</th>\n",
       "      <th>filled_area</th>\n",
       "      <th>inertia_tensor0</th>\n",
       "      <th>inertia_tensor1</th>\n",
       "      <th>inertia_tensor2</th>\n",
       "      <th>...</th>\n",
       "      <th>weighted_moments_normalized6</th>\n",
       "      <th>weighted_moments_normalized7</th>\n",
       "      <th>weighted_moments_normalized8</th>\n",
       "      <th>weighted_moments_normalized9</th>\n",
       "      <th>weighted_moments_normalized10</th>\n",
       "      <th>weighted_moments_normalized11</th>\n",
       "      <th>weighted_moments_normalized12</th>\n",
       "      <th>weighted_moments_normalized13</th>\n",
       "      <th>weighted_moments_normalized14</th>\n",
       "      <th>weighted_moments_normalized15</th>\n",
       "    </tr>\n",
       "  </thead>\n",
       "  <tbody>\n",
       "    <tr>\n",
       "      <th>0</th>\n",
       "      <td>32588204.0</td>\n",
       "      <td>1280.0</td>\n",
       "      <td>1847.0</td>\n",
       "      <td>0.998732</td>\n",
       "      <td>40.370120</td>\n",
       "      <td>1</td>\n",
       "      <td>1280.0</td>\n",
       "      <td>101.683506</td>\n",
       "      <td>-457.457683</td>\n",
       "      <td>-457.457683</td>\n",
       "      <td>...</td>\n",
       "      <td>122988.160150</td>\n",
       "      <td>59341.570582</td>\n",
       "      <td>5.206276e+05</td>\n",
       "      <td>26602.640746</td>\n",
       "      <td>12729.157425</td>\n",
       "      <td>1547.426179</td>\n",
       "      <td>5.714891e+03</td>\n",
       "      <td>2.803411e+03</td>\n",
       "      <td>328.453206</td>\n",
       "      <td>99.648803</td>\n",
       "    </tr>\n",
       "    <tr>\n",
       "      <th>1</th>\n",
       "      <td>32718824.0</td>\n",
       "      <td>1344.0</td>\n",
       "      <td>2245.0</td>\n",
       "      <td>0.695802</td>\n",
       "      <td>41.367064</td>\n",
       "      <td>-3</td>\n",
       "      <td>1456.0</td>\n",
       "      <td>205.937964</td>\n",
       "      <td>-25.679712</td>\n",
       "      <td>-25.679712</td>\n",
       "      <td>...</td>\n",
       "      <td>-5333.640261</td>\n",
       "      <td>100.818064</td>\n",
       "      <td>9.227797e+05</td>\n",
       "      <td>-460.571019</td>\n",
       "      <td>479.826559</td>\n",
       "      <td>1.421619</td>\n",
       "      <td>7.427521e+03</td>\n",
       "      <td>3.060606e+02</td>\n",
       "      <td>-5.929098</td>\n",
       "      <td>0.174156</td>\n",
       "    </tr>\n",
       "    <tr>\n",
       "      <th>2</th>\n",
       "      <td>32741900.0</td>\n",
       "      <td>7728.0</td>\n",
       "      <td>13024.0</td>\n",
       "      <td>0.909170</td>\n",
       "      <td>99.194734</td>\n",
       "      <td>-14</td>\n",
       "      <td>7867.0</td>\n",
       "      <td>343.887100</td>\n",
       "      <td>-101.515634</td>\n",
       "      <td>-101.515634</td>\n",
       "      <td>...</td>\n",
       "      <td>-413.769431</td>\n",
       "      <td>278.171044</td>\n",
       "      <td>2.002588e+05</td>\n",
       "      <td>386.091691</td>\n",
       "      <td>130.204406</td>\n",
       "      <td>-4.194633</td>\n",
       "      <td>-5.886338e+02</td>\n",
       "      <td>1.774976e+01</td>\n",
       "      <td>-0.462406</td>\n",
       "      <td>0.090115</td>\n",
       "    </tr>\n",
       "    <tr>\n",
       "      <th>3</th>\n",
       "      <td>32646541.0</td>\n",
       "      <td>1062.0</td>\n",
       "      <td>1913.0</td>\n",
       "      <td>0.848934</td>\n",
       "      <td>36.772006</td>\n",
       "      <td>-7</td>\n",
       "      <td>1205.0</td>\n",
       "      <td>148.677328</td>\n",
       "      <td>-97.739826</td>\n",
       "      <td>-97.739826</td>\n",
       "      <td>...</td>\n",
       "      <td>-25850.497383</td>\n",
       "      <td>3378.927523</td>\n",
       "      <td>1.332890e+06</td>\n",
       "      <td>-22336.179894</td>\n",
       "      <td>3371.624781</td>\n",
       "      <td>-126.787468</td>\n",
       "      <td>-1.397839e+04</td>\n",
       "      <td>2.990149e+03</td>\n",
       "      <td>-130.973314</td>\n",
       "      <td>12.434369</td>\n",
       "    </tr>\n",
       "    <tr>\n",
       "      <th>4</th>\n",
       "      <td>32559106.0</td>\n",
       "      <td>2815.0</td>\n",
       "      <td>13045.0</td>\n",
       "      <td>0.997804</td>\n",
       "      <td>59.867932</td>\n",
       "      <td>-9</td>\n",
       "      <td>2857.0</td>\n",
       "      <td>14494.775366</td>\n",
       "      <td>-6980.991977</td>\n",
       "      <td>-6980.991977</td>\n",
       "      <td>...</td>\n",
       "      <td>-227212.175165</td>\n",
       "      <td>353222.917235</td>\n",
       "      <td>4.380302e+07</td>\n",
       "      <td>-681642.066165</td>\n",
       "      <td>738500.898713</td>\n",
       "      <td>-25913.614190</td>\n",
       "      <td>-1.722409e+06</td>\n",
       "      <td>1.565785e+06</td>\n",
       "      <td>-63725.112865</td>\n",
       "      <td>31710.953027</td>\n",
       "    </tr>\n",
       "  </tbody>\n",
       "</table>\n",
       "<p>5 rows × 66 columns</p>\n",
       "</div>"
      ],
      "text/plain": [
       "        objid    area  convex_area  eccentricity  equivalent_diameter  \\\n",
       "0  32588204.0  1280.0       1847.0      0.998732            40.370120   \n",
       "1  32718824.0  1344.0       2245.0      0.695802            41.367064   \n",
       "2  32741900.0  7728.0      13024.0      0.909170            99.194734   \n",
       "3  32646541.0  1062.0       1913.0      0.848934            36.772006   \n",
       "4  32559106.0  2815.0      13045.0      0.997804            59.867932   \n",
       "\n",
       "   euler_number  filled_area  inertia_tensor0  inertia_tensor1  \\\n",
       "0             1       1280.0       101.683506      -457.457683   \n",
       "1            -3       1456.0       205.937964       -25.679712   \n",
       "2           -14       7867.0       343.887100      -101.515634   \n",
       "3            -7       1205.0       148.677328       -97.739826   \n",
       "4            -9       2857.0     14494.775366     -6980.991977   \n",
       "\n",
       "   inertia_tensor2              ...                \\\n",
       "0      -457.457683              ...                 \n",
       "1       -25.679712              ...                 \n",
       "2      -101.515634              ...                 \n",
       "3       -97.739826              ...                 \n",
       "4     -6980.991977              ...                 \n",
       "\n",
       "   weighted_moments_normalized6  weighted_moments_normalized7  \\\n",
       "0                 122988.160150                  59341.570582   \n",
       "1                  -5333.640261                    100.818064   \n",
       "2                   -413.769431                    278.171044   \n",
       "3                 -25850.497383                   3378.927523   \n",
       "4                -227212.175165                 353222.917235   \n",
       "\n",
       "   weighted_moments_normalized8  weighted_moments_normalized9  \\\n",
       "0                  5.206276e+05                  26602.640746   \n",
       "1                  9.227797e+05                   -460.571019   \n",
       "2                  2.002588e+05                    386.091691   \n",
       "3                  1.332890e+06                 -22336.179894   \n",
       "4                  4.380302e+07                -681642.066165   \n",
       "\n",
       "   weighted_moments_normalized10  weighted_moments_normalized11  \\\n",
       "0                   12729.157425                    1547.426179   \n",
       "1                     479.826559                       1.421619   \n",
       "2                     130.204406                      -4.194633   \n",
       "3                    3371.624781                    -126.787468   \n",
       "4                  738500.898713                  -25913.614190   \n",
       "\n",
       "   weighted_moments_normalized12  weighted_moments_normalized13  \\\n",
       "0                   5.714891e+03                   2.803411e+03   \n",
       "1                   7.427521e+03                   3.060606e+02   \n",
       "2                  -5.886338e+02                   1.774976e+01   \n",
       "3                  -1.397839e+04                   2.990149e+03   \n",
       "4                  -1.722409e+06                   1.565785e+06   \n",
       "\n",
       "   weighted_moments_normalized14  weighted_moments_normalized15  \n",
       "0                     328.453206                      99.648803  \n",
       "1                      -5.929098                       0.174156  \n",
       "2                      -0.462406                       0.090115  \n",
       "3                    -130.973314                      12.434369  \n",
       "4                  -63725.112865                   31710.953027  \n",
       "\n",
       "[5 rows x 66 columns]"
      ]
     },
     "execution_count": 9,
     "metadata": {},
     "output_type": "execute_result"
    }
   ],
   "source": [
    "features_sk.head(5)"
   ]
  },
  {
   "cell_type": "code",
   "execution_count": 10,
   "metadata": {},
   "outputs": [
    {
     "data": {
      "text/plain": [
       "Index(['objid', 'area', 'convex_area', 'eccentricity', 'equivalent_diameter',\n",
       "       'euler_number', 'filled_area', 'inertia_tensor0', 'inertia_tensor1',\n",
       "       'inertia_tensor2', 'inertia_tensor3', 'inertia_tensor_eigvals0',\n",
       "       'inertia_tensor_eigvals1', 'major_axis_length', 'max_intensity',\n",
       "       'mean_intensity', 'min_intensity', 'minor_axis_length', 'moments_hu0',\n",
       "       'moments_hu1', 'moments_hu2', 'moments_hu3', 'moments_hu4',\n",
       "       'moments_hu5', 'moments_hu6', 'moments_normalized0',\n",
       "       'moments_normalized1', 'moments_normalized2', 'moments_normalized3',\n",
       "       'moments_normalized4', 'moments_normalized5', 'moments_normalized6',\n",
       "       'moments_normalized7', 'moments_normalized8', 'moments_normalized9',\n",
       "       'moments_normalized10', 'moments_normalized11', 'moments_normalized12',\n",
       "       'moments_normalized13', 'moments_normalized14', 'moments_normalized15',\n",
       "       'perimeter', 'solidity', 'weighted_moments_hu0', 'weighted_moments_hu1',\n",
       "       'weighted_moments_hu2', 'weighted_moments_hu3', 'weighted_moments_hu4',\n",
       "       'weighted_moments_hu5', 'weighted_moments_hu6',\n",
       "       'weighted_moments_normalized0', 'weighted_moments_normalized1',\n",
       "       'weighted_moments_normalized2', 'weighted_moments_normalized3',\n",
       "       'weighted_moments_normalized4', 'weighted_moments_normalized5',\n",
       "       'weighted_moments_normalized6', 'weighted_moments_normalized7',\n",
       "       'weighted_moments_normalized8', 'weighted_moments_normalized9',\n",
       "       'weighted_moments_normalized10', 'weighted_moments_normalized11',\n",
       "       'weighted_moments_normalized12', 'weighted_moments_normalized13',\n",
       "       'weighted_moments_normalized14', 'weighted_moments_normalized15'],\n",
       "      dtype='object')"
      ]
     },
     "execution_count": 10,
     "metadata": {},
     "output_type": "execute_result"
    }
   ],
   "source": [
    "features_sk.columns"
   ]
  },
  {
   "cell_type": "code",
   "execution_count": 11,
   "metadata": {},
   "outputs": [
    {
     "data": {
      "text/plain": [
       "Index(['objid', 'area', 'meanimagegrey', 'mean', 'stddev', 'min', 'perim.',\n",
       "       'width', 'height', 'major', 'minor', 'angle', 'circ.', 'feret',\n",
       "       'intden', 'median', 'skew', 'kurt', '%area', 'area_exc', 'fractal',\n",
       "       'skelarea', 'slope', 'histcum1', 'histcum2', 'histcum3', 'nb1', 'nb2',\n",
       "       'nb3', 'symetrieh', 'symetriev', 'symetriehc', 'symetrievc',\n",
       "       'convperim', 'convarea', 'fcons', 'thickr', 'esd', 'elongation',\n",
       "       'range', 'meanpos', 'centroids', 'cv', 'sr', 'perimareaexc',\n",
       "       'feretareaexc', 'perimferet', 'perimmajor', 'circex', 'cdexc',\n",
       "       'kurt_mean', 'skew_mean', 'convperim_perim', 'convarea_area',\n",
       "       'symetrieh_area', 'symetriev_area', 'nb1_area', 'nb2_area', 'nb3_area',\n",
       "       'nb1_range', 'nb2_range', 'nb3_range', 'median_mean',\n",
       "       'median_mean_range', 'skeleton_area'],\n",
       "      dtype='object')"
      ]
     },
     "execution_count": 11,
     "metadata": {},
     "output_type": "execute_result"
    }
   ],
   "source": [
    "features_nat.columns"
   ]
  },
  {
   "cell_type": "code",
   "execution_count": 12,
   "metadata": {},
   "outputs": [
    {
     "name": "stdout",
     "output_type": "stream",
     "text": [
      "(243610, 65) (243610, 66)\n"
     ]
    }
   ],
   "source": [
    "print(features_nat.shape, features_sk.shape)"
   ]
  },
  {
   "cell_type": "markdown",
   "metadata": {},
   "source": [
    "## 1. Data Preparation"
   ]
  },
  {
   "cell_type": "code",
   "execution_count": 11,
   "metadata": {},
   "outputs": [],
   "source": [
    "df = meta.merge(features_nat, left_on='objid', right_on='objid')\n",
    "df = df.merge(features_sk , left_on='objid', right_on = 'objid')"
   ]
  },
  {
   "cell_type": "code",
   "execution_count": 12,
   "metadata": {},
   "outputs": [
    {
     "data": {
      "text/html": [
       "<div>\n",
       "<style scoped>\n",
       "    .dataframe tbody tr th:only-of-type {\n",
       "        vertical-align: middle;\n",
       "    }\n",
       "\n",
       "    .dataframe tbody tr th {\n",
       "        vertical-align: top;\n",
       "    }\n",
       "\n",
       "    .dataframe thead th {\n",
       "        text-align: right;\n",
       "    }\n",
       "</style>\n",
       "<table border=\"1\" class=\"dataframe\">\n",
       "  <thead>\n",
       "    <tr style=\"text-align: right;\">\n",
       "      <th></th>\n",
       "      <th>objid</th>\n",
       "      <th>projid</th>\n",
       "      <th>id</th>\n",
       "      <th>status</th>\n",
       "      <th>latitude</th>\n",
       "      <th>longitude</th>\n",
       "      <th>objdate</th>\n",
       "      <th>objtime</th>\n",
       "      <th>depth_min</th>\n",
       "      <th>depth_max</th>\n",
       "      <th>...</th>\n",
       "      <th>weighted_moments_normalized6</th>\n",
       "      <th>weighted_moments_normalized7</th>\n",
       "      <th>weighted_moments_normalized8</th>\n",
       "      <th>weighted_moments_normalized9</th>\n",
       "      <th>weighted_moments_normalized10</th>\n",
       "      <th>weighted_moments_normalized11</th>\n",
       "      <th>weighted_moments_normalized12</th>\n",
       "      <th>weighted_moments_normalized13</th>\n",
       "      <th>weighted_moments_normalized14</th>\n",
       "      <th>weighted_moments_normalized15</th>\n",
       "    </tr>\n",
       "  </thead>\n",
       "  <tbody>\n",
       "    <tr>\n",
       "      <th>0</th>\n",
       "      <td>32756761.0</td>\n",
       "      <td>133</td>\n",
       "      <td>84963</td>\n",
       "      <td>V</td>\n",
       "      <td>43.683333</td>\n",
       "      <td>7.3</td>\n",
       "      <td>2013-09-19</td>\n",
       "      <td>00:09:00</td>\n",
       "      <td>0</td>\n",
       "      <td>75</td>\n",
       "      <td>...</td>\n",
       "      <td>-1525.763412</td>\n",
       "      <td>194.164325</td>\n",
       "      <td>4.848153e+05</td>\n",
       "      <td>-2694.631449</td>\n",
       "      <td>241.440457</td>\n",
       "      <td>1.295103</td>\n",
       "      <td>440.053063</td>\n",
       "      <td>129.297892</td>\n",
       "      <td>-2.122403</td>\n",
       "      <td>0.115495</td>\n",
       "    </tr>\n",
       "    <tr>\n",
       "      <th>1</th>\n",
       "      <td>32759364.0</td>\n",
       "      <td>133</td>\n",
       "      <td>84963</td>\n",
       "      <td>V</td>\n",
       "      <td>43.683333</td>\n",
       "      <td>7.3</td>\n",
       "      <td>2013-09-19</td>\n",
       "      <td>00:09:00</td>\n",
       "      <td>0</td>\n",
       "      <td>75</td>\n",
       "      <td>...</td>\n",
       "      <td>-2060.928571</td>\n",
       "      <td>-2790.422168</td>\n",
       "      <td>5.738257e+05</td>\n",
       "      <td>-7088.333306</td>\n",
       "      <td>1420.614154</td>\n",
       "      <td>-17.330565</td>\n",
       "      <td>-8402.726309</td>\n",
       "      <td>-335.688243</td>\n",
       "      <td>-11.030494</td>\n",
       "      <td>-1.784313</td>\n",
       "    </tr>\n",
       "    <tr>\n",
       "      <th>2</th>\n",
       "      <td>32758055.0</td>\n",
       "      <td>133</td>\n",
       "      <td>28299</td>\n",
       "      <td>V</td>\n",
       "      <td>43.683333</td>\n",
       "      <td>7.3</td>\n",
       "      <td>2013-09-19</td>\n",
       "      <td>00:09:00</td>\n",
       "      <td>0</td>\n",
       "      <td>75</td>\n",
       "      <td>...</td>\n",
       "      <td>14954.527800</td>\n",
       "      <td>-6573.884976</td>\n",
       "      <td>5.057891e+05</td>\n",
       "      <td>-4044.999299</td>\n",
       "      <td>5357.163117</td>\n",
       "      <td>-175.738886</td>\n",
       "      <td>1982.197147</td>\n",
       "      <td>-585.246490</td>\n",
       "      <td>36.387240</td>\n",
       "      <td>-11.036476</td>\n",
       "    </tr>\n",
       "    <tr>\n",
       "      <th>3</th>\n",
       "      <td>32758988.0</td>\n",
       "      <td>133</td>\n",
       "      <td>92010</td>\n",
       "      <td>V</td>\n",
       "      <td>43.683333</td>\n",
       "      <td>7.3</td>\n",
       "      <td>2013-09-19</td>\n",
       "      <td>00:09:00</td>\n",
       "      <td>0</td>\n",
       "      <td>75</td>\n",
       "      <td>...</td>\n",
       "      <td>-152593.712044</td>\n",
       "      <td>69665.082779</td>\n",
       "      <td>6.488148e+06</td>\n",
       "      <td>-227827.736082</td>\n",
       "      <td>78598.184534</td>\n",
       "      <td>-4117.231070</td>\n",
       "      <td>-317871.379287</td>\n",
       "      <td>89887.970505</td>\n",
       "      <td>-5606.440604</td>\n",
       "      <td>1325.968409</td>\n",
       "    </tr>\n",
       "    <tr>\n",
       "      <th>4</th>\n",
       "      <td>32760598.0</td>\n",
       "      <td>133</td>\n",
       "      <td>92010</td>\n",
       "      <td>V</td>\n",
       "      <td>43.683333</td>\n",
       "      <td>7.3</td>\n",
       "      <td>2013-09-19</td>\n",
       "      <td>00:09:00</td>\n",
       "      <td>0</td>\n",
       "      <td>75</td>\n",
       "      <td>...</td>\n",
       "      <td>-395939.356430</td>\n",
       "      <td>-350292.983738</td>\n",
       "      <td>1.767707e+06</td>\n",
       "      <td>87800.105557</td>\n",
       "      <td>91011.052925</td>\n",
       "      <td>13798.884373</td>\n",
       "      <td>-16296.563545</td>\n",
       "      <td>-24557.198375</td>\n",
       "      <td>-3379.838856</td>\n",
       "      <td>-1854.215755</td>\n",
       "    </tr>\n",
       "  </tbody>\n",
       "</table>\n",
       "<p>5 rows × 143 columns</p>\n",
       "</div>"
      ],
      "text/plain": [
       "        objid  projid     id status   latitude  longitude     objdate  \\\n",
       "0  32756761.0     133  84963      V  43.683333        7.3  2013-09-19   \n",
       "1  32759364.0     133  84963      V  43.683333        7.3  2013-09-19   \n",
       "2  32758055.0     133  28299      V  43.683333        7.3  2013-09-19   \n",
       "3  32758988.0     133  92010      V  43.683333        7.3  2013-09-19   \n",
       "4  32760598.0     133  92010      V  43.683333        7.3  2013-09-19   \n",
       "\n",
       "    objtime  depth_min  depth_max              ...                \\\n",
       "0  00:09:00          0         75              ...                 \n",
       "1  00:09:00          0         75              ...                 \n",
       "2  00:09:00          0         75              ...                 \n",
       "3  00:09:00          0         75              ...                 \n",
       "4  00:09:00          0         75              ...                 \n",
       "\n",
       "  weighted_moments_normalized6 weighted_moments_normalized7  \\\n",
       "0                 -1525.763412                   194.164325   \n",
       "1                 -2060.928571                 -2790.422168   \n",
       "2                 14954.527800                 -6573.884976   \n",
       "3               -152593.712044                 69665.082779   \n",
       "4               -395939.356430               -350292.983738   \n",
       "\n",
       "  weighted_moments_normalized8 weighted_moments_normalized9  \\\n",
       "0                 4.848153e+05                 -2694.631449   \n",
       "1                 5.738257e+05                 -7088.333306   \n",
       "2                 5.057891e+05                 -4044.999299   \n",
       "3                 6.488148e+06               -227827.736082   \n",
       "4                 1.767707e+06                 87800.105557   \n",
       "\n",
       "   weighted_moments_normalized10  weighted_moments_normalized11  \\\n",
       "0                     241.440457                       1.295103   \n",
       "1                    1420.614154                     -17.330565   \n",
       "2                    5357.163117                    -175.738886   \n",
       "3                   78598.184534                   -4117.231070   \n",
       "4                   91011.052925                   13798.884373   \n",
       "\n",
       "   weighted_moments_normalized12  weighted_moments_normalized13  \\\n",
       "0                     440.053063                     129.297892   \n",
       "1                   -8402.726309                    -335.688243   \n",
       "2                    1982.197147                    -585.246490   \n",
       "3                 -317871.379287                   89887.970505   \n",
       "4                  -16296.563545                  -24557.198375   \n",
       "\n",
       "   weighted_moments_normalized14  weighted_moments_normalized15  \n",
       "0                      -2.122403                       0.115495  \n",
       "1                     -11.030494                      -1.784313  \n",
       "2                      36.387240                     -11.036476  \n",
       "3                   -5606.440604                    1325.968409  \n",
       "4                   -3379.838856                   -1854.215755  \n",
       "\n",
       "[5 rows x 143 columns]"
      ]
     },
     "execution_count": 12,
     "metadata": {},
     "output_type": "execute_result"
    }
   ],
   "source": [
    "df.head(5)"
   ]
  },
  {
   "cell_type": "code",
   "execution_count": 15,
   "metadata": {},
   "outputs": [
    {
     "data": {
      "text/plain": [
       "<matplotlib.axes._subplots.AxesSubplot at 0x7f25c4af8ef0>"
      ]
     },
     "execution_count": 15,
     "metadata": {},
     "output_type": "execute_result"
    },
    {
     "data": {
      "image/png": "[encoded data removed]",
      "text/plain": [
       "<Figure size 432x288 with 1 Axes>"
      ]
     },
     "metadata": {},
     "output_type": "display_data"
    }
   ],
   "source": [
    "# Plot the repartition of the labels\n",
    "df.level2.value_counts().plot(kind='bar', color = 'b')"
   ]
  },
  {
   "cell_type": "code",
   "execution_count": 20,
   "metadata": {},
   "outputs": [
    {
     "data": {
      "text/plain": [
       "detritus                          56.828127\n",
       "feces                             11.057017\n",
       "Neoceratium                        5.752637\n",
       "nauplii (Crustacea)                3.814704\n",
       "badfocus (artefact)                3.221543\n",
       "silks                              2.310660\n",
       "Copepoda                           2.110340\n",
       "Thalassionema                      2.100488\n",
       "rods                               1.660030\n",
       "multiple (other)                   1.338615\n",
       "Codonellopsis (Dictyocystidae)     1.185501\n",
       "Protoperidinium                    0.926070\n",
       "Tintinnidiidae                     0.914166\n",
       "Rhizosolenids                      0.886663\n",
       "Chaetoceros                        0.864086\n",
       "artefact                           0.759000\n",
       "pollen                             0.747506\n",
       "Codonaria                          0.346866\n",
       "chainlarge                         0.308280\n",
       "Undellidae                         0.291449\n",
       "egg (other)                        0.281187\n",
       "Hemiaulus                          0.275030\n",
       "Dictyocysta                        0.225360\n",
       "Dinophysiales                      0.215508\n",
       "Annelida                           0.197447\n",
       "Rhabdonella                        0.150651\n",
       "Stenosemella                       0.146546\n",
       "Coscinodiscids                     0.137104\n",
       "Retaria                            0.105496\n",
       "Pleurosigma                        0.078404\n",
       "Ceratocorys horrida                0.076352\n",
       "centric                            0.059521\n",
       "Odontella (Mediophyceae)           0.053774\n",
       "Asterionellopsis                   0.048028\n",
       "Cyttarocylis                       0.041049\n",
       "Lithodesmioides                    0.027913\n",
       "tempChaetoceros danicus            0.025040\n",
       "Xystonellidae                      0.015188\n",
       "Bacteriastrum                      0.004926\n",
       "Name: level2, dtype: float64"
      ]
     },
     "execution_count": 20,
     "metadata": {},
     "output_type": "execute_result"
    }
   ],
   "source": [
    "(df.level2.value_counts()/df.shape[0])*100"
   ]
  },
  {
   "cell_type": "markdown",
   "metadata": {},
   "source": [
    "<div class=\"alert alert-danger\">\n",
    "The classes are very unbalanced. We have to consider this for our model evaluation and during the processing. With the current data, a baseline model would output 56.8% accuracy.    \n",
    "</div>"
   ]
  },
  {
   "cell_type": "markdown",
   "metadata": {},
   "source": [
    "## 3. Performance Evaluation"
   ]
  },
  {
   "cell_type": "markdown",
   "metadata": {},
   "source": [
    "# Second method : with the images"
   ]
  },
  {
   "cell_type": "markdown",
   "metadata": {},
   "source": [
    "### Data Augmentation"
   ]
  },
  {
   "cell_type": "code",
   "execution_count": 17,
   "metadata": {},
   "outputs": [],
   "source": [
    "# Je travail sur ZoeCloudPlatform, je suis pas sûr d'avoir bien installé Keras...\n",
    "from tensorflow.keras import backend as k"
   ]
  },
  {
   "cell_type": "code",
   "execution_count": 20,
   "metadata": {},
   "outputs": [],
   "source": [
    "# Data science libs\n",
    "from numpy import expand_dims\n",
    "from tensorflow.keras.preprocessing.image import load_img\n",
    "from tensorflow.keras.preprocessing.image import img_to_array\n",
    "from tensorflow.keras.preprocessing.image import ImageDataGenerator\n",
    "from matplotlib import pyplot"
   ]
  },
  {
   "cell_type": "code",
   "execution_count": 27,
   "metadata": {},
   "outputs": [],
   "source": [
    "PATH_TO_DATA = './data/imgs.zip'"
   ]
  },
  {
   "cell_type": "code",
   "execution_count": 26,
   "metadata": {},
   "outputs": [],
   "source": [
    "import zipfile\n",
    "from io import BytesIO\n",
    "from PIL import Image\n",
    "import numpy as np\n",
    "\n",
    "def extract_zip_to_memory(input_zip):\n",
    "    '''\n",
    "    This function extracts the images stored inside the given zip file.\n",
    "    It stores the result in a python dictionary.\n",
    "    \n",
    "    input_zip (string): path to the zip file\n",
    "    \n",
    "    returns (dict): {filename (string): image_file (bytes)}\n",
    "    '''\n",
    "    input_zip=zipfile.ZipFile(input_zip)\n",
    "    return {name: BytesIO(input_zip.read(name)) for name in input_zip.namelist() if name.endswith('.jpg')}\n",
    "\n",
    "\n",
    "img_files = extract_zip_to_memory(PATH_TO_DATA)\n",
    "\n",
    "# Display an example image \n",
    "# Image.open(img_files['imgs/32738710.jpg'])\n",
    "\n",
    "# Load the image as a numpy array:\n",
    "# np_arr = np.array(Image.open(img_files['imgs/32738710.jpg']))\n",
    "\n",
    "# Be aware that the dictionary will occupy roughly 2GB of computer memory!\n",
    "# To free this memory again, run:\n",
    "# del img_files\n",
    "\n",
    "\n"
   ]
  },
  {
   "cell_type": "code",
   "execution_count": 182,
   "metadata": {},
   "outputs": [
    {
     "data": {
      "image/png": "[encoded data removed]",
      "text/plain": [
       "<Figure size 432x288 with 9 Axes>"
      ]
     },
     "metadata": {},
     "output_type": "display_data"
    }
   ],
   "source": [
    "# img as a numpy array\n",
    "data = np.array(Image.open(img_files['imgs/32738715.jpg']))\n",
    "\n",
    "# add number of channels (here 1 because grayscale)\n",
    "data_gray = expand_dims(data, 2)\n",
    "\n",
    "# expand dimension to one sample\n",
    "samples = expand_dims(data_gray, 0)\n",
    "\n",
    "# create image data augmentation generator\n",
    "datagen = ImageDataGenerator(width_shift_range=[-10, 10], \n",
    "                             height_shift_range=0.5,\n",
    "                             horizontal_flip=True, \n",
    "                             rotation_range=90,\n",
    "                             brightness_range=[0.2,1.0])\n",
    "\n",
    "# prepare iterator\n",
    "it = datagen.flow(samples, batch_size=1)\n",
    "\n",
    "# generate samples and plot\n",
    "for i in range(9):\n",
    "    # define subplot\n",
    "    pyplot.subplot(330 + 1 + i)\n",
    "    # generate batch of images\n",
    "    batch = it.next()\n",
    "    # convert to unsigned integers for viewing \n",
    "    image = np.squeeze(batch[0], axis=2).astype('uint8')\n",
    "    pyplot.imshow(image)\n",
    "\n",
    "# show the figure\n",
    "pyplot.show()"
   ]
  },
  {
   "cell_type": "markdown",
   "metadata": {},
   "source": [
    "This generates new data by applying a shift in width/height, rotation of 90°, and brightness, all randomly.\n",
    "\n",
    "https://machinelearningmastery.com/image-augmentation-deep-learning-keras/"
   ]
  },
  {
   "cell_type": "code",
   "execution_count": 183,
   "metadata": {},
   "outputs": [
    {
     "data": {
      "text/plain": [
       "<matplotlib.image.AxesImage at 0x7fa44562f470>"
      ]
     },
     "execution_count": 183,
     "metadata": {},
     "output_type": "execute_result"
    },
    {
     "data": {
      "image/png": "[encoded data removed]",
      "text/plain": [
       "<Figure size 432x288 with 1 Axes>"
      ]
     },
     "metadata": {},
     "output_type": "display_data"
    }
   ],
   "source": [
    "# original image before augmentation\n",
    "pyplot.imshow(data) # cmap='gray' to display in grayscale"
   ]
  },
  {
   "cell_type": "code",
   "execution_count": null,
   "metadata": {},
   "outputs": [],
   "source": []
  },
  {
   "cell_type": "code",
   "execution_count": null,
   "metadata": {},
   "outputs": [],
   "source": []
  },
  {
   "cell_type": "code",
   "execution_count": 32,
   "metadata": {},
   "outputs": [],
   "source": [
    "import zipfile\n",
    "from io import BytesIO\n",
    "from PIL import Image\n",
    "import numpy as np\n",
    "\n",
    "def extract_zip_to_memory(input_zip):\n",
    "    '''\n",
    "    This function extracts the images stored inside the given zip file.\n",
    "    It stores the result in a python dictionary.\n",
    "    \n",
    "    input_zip (string): path to the zip file\n",
    "    \n",
    "    returns (dict): {filename (string): image_file (bytes)}\n",
    "    '''\n",
    "    input_zip=zipfile.ZipFile(input_zip)\n",
    "    return {name: BytesIO(input_zip.read(name)) for name in input_zip.namelist() if name.endswith('.jpg')}\n",
    "\n",
    "\n",
    "img_files = extract_zip_to_memory(\"../../imgs.zip\")\n",
    "\n",
    "# Display an example image \n",
    "Image.open(img_files['imgs/32738710.jpg'])\n",
    "\n",
    "# Load the image as a numpy array:\n",
    "np_arr = np.array(Image.open(img_files['imgs/32738710.jpg']))\n",
    "\n",
    "# Be aware that the dictionary will occupy roughly 2GB of computer memory!\n",
    "# To free this memory again, run:\n",
    "# del img_files"
   ]
  },
  {
   "cell_type": "code",
   "execution_count": 38,
   "metadata": {},
   "outputs": [],
   "source": [
    "# Creation of the array with all the images\n",
    "\n",
    "X = []\n",
    "\n",
    "for index, img in enumerate(img_files) :\n",
    "    \n",
    "     X.append(   np.array(Image.open(img_files[img]))      )\n",
    "\n",
    "\n",
    "    \n"
   ]
  },
  {
   "cell_type": "code",
   "execution_count": 39,
   "metadata": {},
   "outputs": [],
   "source": [
    "def convert_image(array) :\n",
    "    # Plot an image from a numpy array\n",
    "    return Image.fromarray(array)\n",
    "\n"
   ]
  },
  {
   "cell_type": "code",
   "execution_count": 40,
   "metadata": {},
   "outputs": [
    {
     "data": {
      "image/png": "[encoded data removed]",
      "text/plain": [
       "<PIL.Image.Image image mode=L size=28x28 at 0x7F258E1AC518>"
      ]
     },
     "execution_count": 40,
     "metadata": {},
     "output_type": "execute_result"
    }
   ],
   "source": [
    "# Resized image\n",
    "convert_image(X[0]).resize((28,28), Image.ANTIALIAS)"
   ]
  },
  {
   "cell_type": "code",
   "execution_count": 41,
   "metadata": {},
   "outputs": [
    {
     "data": {
      "image/png": "[encoded data removed]",
      "text/plain": [
       "<PIL.Image.Image image mode=L size=53x94 at 0x7F258E1AC0F0>"
      ]
     },
     "execution_count": 41,
     "metadata": {},
     "output_type": "execute_result"
    }
   ],
   "source": [
    "# Original image\n",
    "convert_image(X[0])"
   ]
  },
  {
   "cell_type": "code",
   "execution_count": 42,
   "metadata": {},
   "outputs": [],
   "source": [
    "indexes_nan_level2 = meta.level2[meta.level2.isnull()].index\n",
    "\n",
    "meta.drop(indexes_nan_level2 , axis = 0 , inplace = True)"
   ]
  },
  {
   "cell_type": "code",
   "execution_count": 43,
   "metadata": {},
   "outputs": [],
   "source": [
    "# Convert the label into classes\n",
    "from sklearn import preprocessing\n",
    "\n",
    "le = preprocessing.LabelEncoder()\n",
    "meta.level2 = le.fit(meta.level2).transform(meta.level2)\n",
    "\n",
    "\n",
    "\n",
    "\n",
    "\n"
   ]
  },
  {
   "cell_type": "code",
   "execution_count": 44,
   "metadata": {},
   "outputs": [
    {
     "name": "stderr",
     "output_type": "stream",
     "text": [
      "/usr/local/lib/python3.5/dist-packages/ipykernel_launcher.py:13: DeprecationWarning: The truth value of an empty array is ambiguous. Returning False, but in future this will result in an error. Use `array.size > 0` to check that an array is not empty.\n",
      "  del sys.path[0]\n"
     ]
    }
   ],
   "source": [
    "# Creation of the array with all the images RESIZED\n",
    "\n",
    "y_img = np.zeros((meta.shape[0],1))\n",
    "X_resized = np.zeros((  meta.shape[0] , 784  ))\n",
    "\n",
    "index = 0\n",
    "for img in img_files : \n",
    "    \n",
    "    # Objid\n",
    "    value = int(img[5:].split('.')[0])\n",
    "    # The position of the image in the database\n",
    "    index_img = np.where(meta.objid == value)\n",
    "    if index_img[0] :\n",
    "        # Check if the label is not NaN\n",
    "        \n",
    "        lvl2 = meta.level2.iloc[index_img[0][0]]\n",
    "        y_img[index,:] = lvl2\n",
    "        X_resized[index, ...] = np.array(Image.open(img_files[img]).resize((28,28), Image.ANTIALIAS) ).flatten()\n",
    "        \n",
    "        index+=1\n",
    "        \n",
    "    \n",
    "    \n",
    "    \n"
   ]
  },
  {
   "cell_type": "code",
   "execution_count": 45,
   "metadata": {},
   "outputs": [],
   "source": [
    "idx_test = np.random.choice(np.arange(X_resized.shape[0]) , int(X_resized.shape[0] * 0.1))"
   ]
  },
  {
   "cell_type": "code",
   "execution_count": 46,
   "metadata": {},
   "outputs": [],
   "source": [
    "idx_train = np.ones( X_resized.shape[0] , bool)\n",
    "idx_train[idx_test] =False\n"
   ]
  },
  {
   "cell_type": "code",
   "execution_count": 48,
   "metadata": {},
   "outputs": [
    {
     "data": {
      "text/plain": [
       "(242607,)"
      ]
     },
     "execution_count": 48,
     "metadata": {},
     "output_type": "execute_result"
    }
   ],
   "source": [
    "idx_train.shape"
   ]
  },
  {
   "cell_type": "code",
   "execution_count": 49,
   "metadata": {},
   "outputs": [
    {
     "data": {
      "text/plain": [
       "(242607, 784)"
      ]
     },
     "execution_count": 49,
     "metadata": {},
     "output_type": "execute_result"
    }
   ],
   "source": [
    "X_resized.shape"
   ]
  },
  {
   "cell_type": "code",
   "execution_count": 51,
   "metadata": {},
   "outputs": [],
   "source": [
    "X_train, X_test, y_train, y_test = X_resized[idx_train,:] , X_resized[idx_test,:] , y_img[idx_train,:],y_img[idx_test,:]"
   ]
  },
  {
   "cell_type": "code",
   "execution_count": 52,
   "metadata": {},
   "outputs": [
    {
     "name": "stdout",
     "output_type": "stream",
     "text": [
      "(219558, 784) (24260, 784) (219558, 1) (24260, 1)\n"
     ]
    }
   ],
   "source": [
    "print(X_train.shape, X_test.shape, y_train.shape, y_test.shape)"
   ]
  },
  {
   "cell_type": "markdown",
   "metadata": {},
   "source": [
    "Fully connected Neural Network "
   ]
  },
  {
   "cell_type": "code",
   "execution_count": 53,
   "metadata": {},
   "outputs": [
    {
     "data": {
      "text/plain": [
       "39"
      ]
     },
     "execution_count": 53,
     "metadata": {},
     "output_type": "execute_result"
    }
   ],
   "source": [
    "len(meta.level2.unique())"
   ]
  },
  {
   "cell_type": "code",
   "execution_count": 54,
   "metadata": {},
   "outputs": [
    {
     "name": "stdout",
     "output_type": "stream",
     "text": [
      "WARNING:tensorflow:From /mnt/workspace/.local/lib/python3.5/site-packages/tensorflow_core/python/compat/v2_compat.py:88: disable_resource_variables (from tensorflow.python.ops.variable_scope) is deprecated and will be removed in a future version.\n",
      "Instructions for updating:\n",
      "non-resource variables are not supported in the long term\n"
     ]
    },
    {
     "name": "stderr",
     "output_type": "stream",
     "text": [
      "WARNING:tensorflow:From /mnt/workspace/.local/lib/python3.5/site-packages/tensorflow_core/python/compat/v2_compat.py:88: disable_resource_variables (from tensorflow.python.ops.variable_scope) is deprecated and will be removed in a future version.\n",
      "Instructions for updating:\n",
      "non-resource variables are not supported in the long term\n"
     ]
    }
   ],
   "source": [
    "import tensorflow.compat.v1 as tf\n",
    "tf.disable_v2_behavior() "
   ]
  },
  {
   "cell_type": "code",
   "execution_count": 55,
   "metadata": {},
   "outputs": [
    {
     "data": {
      "text/plain": [
       "(784,)"
      ]
     },
     "execution_count": 55,
     "metadata": {},
     "output_type": "execute_result"
    }
   ],
   "source": [
    "X_train[0].flatten().shape"
   ]
  },
  {
   "cell_type": "code",
   "execution_count": 56,
   "metadata": {},
   "outputs": [],
   "source": [
    "x = tf.placeholder(tf.float32 , [None, 784],name = 'inputs')\n",
    "y_true = tf.placeholder(tf.float32 , [None,40] , name = 'labels')\n",
    "y_true_cls = tf.argmax(y_true,  1)"
   ]
  },
  {
   "cell_type": "code",
   "execution_count": 57,
   "metadata": {},
   "outputs": [],
   "source": [
    "# One fully connected layer \n",
    "\n",
    "weights = tf.Variable(tf.zeros([784, 40]), name = 'weights')\n",
    "biases = tf.Variable(tf.zeros([40]), name = 'bias')\n"
   ]
  },
  {
   "cell_type": "code",
   "execution_count": 58,
   "metadata": {},
   "outputs": [],
   "source": [
    "with tf.name_scope('model') : \n",
    "    logits = tf.matmul(x , weights) + biases\n",
    "    y_pred = tf.nn.softmax(logits)\n",
    "    y_pred_cls = tf.argmax(y_pred , axis = 1)"
   ]
  },
  {
   "cell_type": "code",
   "execution_count": 59,
   "metadata": {},
   "outputs": [],
   "source": [
    "with tf.name_scope('loss') : \n",
    "    cross_entropy = tf.nn.softmax_cross_entropy_with_logits_v2(logits = logits , labels = y_true)\n",
    "    loss = tf.reduce_mean(cross_entropy)"
   ]
  },
  {
   "cell_type": "code",
   "execution_count": 60,
   "metadata": {},
   "outputs": [],
   "source": [
    "learning_rate = 0.01\n",
    "with tf.name_scope('optim') : \n",
    "    optimizer = tf.train.GradientDescentOptimizer(learning_rate)\n",
    "    opt_step = optimizer.minimize(loss)\n"
   ]
  },
  {
   "cell_type": "code",
   "execution_count": 61,
   "metadata": {},
   "outputs": [],
   "source": [
    "with tf.name_scope('accuracy') : \n",
    "    \n",
    "    correct_prediction = tf.equal(y_pred_cls, y_true_cls)\n",
    "    accuracy = tf.reduce_mean(tf.cast(     correct_prediction    , tf.float32    ))\n",
    "    "
   ]
  },
  {
   "cell_type": "code",
   "execution_count": 62,
   "metadata": {},
   "outputs": [],
   "source": [
    "session = tf.Session()\n",
    "init_op = tf.global_variables_initializer()\n",
    "session.run(init_op)\n",
    "\n"
   ]
  },
  {
   "cell_type": "code",
   "execution_count": 63,
   "metadata": {},
   "outputs": [],
   "source": [
    "batch_size = 100\n"
   ]
  },
  {
   "cell_type": "code",
   "execution_count": 64,
   "metadata": {},
   "outputs": [],
   "source": [
    "def reshape_y(y) : \n",
    "    # One hot encoding for the labels\n",
    "\n",
    "    C = tf.constant(40, name = 'C')\n",
    "\n",
    "    one_hot_matrix = tf.reshape(tf.one_hot(y , C , axis=0) , (y.shape[0] , 40))\n",
    "    one_hot = session.run(one_hot_matrix)\n",
    "\n",
    "    return one_hot\n",
    "    \n"
   ]
  },
  {
   "cell_type": "code",
   "execution_count": 65,
   "metadata": {},
   "outputs": [],
   "source": [
    "def optimize(epochs) : \n",
    "    \n",
    "    for e in range(epochs) : \n",
    "        num_of_batches = int(  X_resized.shape[0]   /batch_size )\n",
    "        \n",
    "        avg_loss = 0\n",
    "        \n",
    "        for i in rang(num_of_batches) : \n",
    "            idx = np.random.choice(np.arange(X_train.shape[0]), batch_size, replace= True)\n",
    "            x_batch, y_true_batch = X_train[idx,...] , reshape_y(y_train[idx,...])\n",
    "            \n",
    "            feed_dict_train = {x : x_batch , y_true : y_true_batch}\n",
    "            \n",
    "            session.run(opt_step , feed_dict = feed_dict_train)\n",
    "            \n",
    "            batch_loss, summary = session.run([loss], feed_dict = feed_dict_train)\n",
    "            \n",
    "            avg_loss += batch_loss / num_of_batches\n",
    "        \n",
    "        print(\"Epoch: \", '%02d' % (e + 1), \"  =====> Loss =\", \"{:.6f}\".format(avg_loss))\n",
    "        \n",
    "def print_accuracy() :\n",
    "    feed_dict_test = {x: X_test, y_true : reshape_y(y_test)}\n",
    "    acc = session.run(accuracy, feed_dict = feed_dict_test)\n",
    "    \n",
    "    print(\"Accuracy on test-set: {0:.1%}\".format(acc))\n",
    "            \n",
    "            \n",
    "        \n",
    "        \n",
    "    "
   ]
  },
  {
   "cell_type": "code",
   "execution_count": 66,
   "metadata": {},
   "outputs": [
    {
     "name": "stdout",
     "output_type": "stream",
     "text": [
      "Accuracy on test-set: 76.3%\n"
     ]
    }
   ],
   "source": [
    "print_accuracy()"
   ]
  },
  {
   "cell_type": "code",
   "execution_count": null,
   "metadata": {},
   "outputs": [],
   "source": []
  },
  {
   "cell_type": "code",
   "execution_count": null,
   "metadata": {},
   "outputs": [],
   "source": []
  },
  {
   "cell_type": "code",
   "execution_count": 219,
   "metadata": {},
   "outputs": [],
   "source": [
    "# Let's use the DEEPLEARNING lab to implement the AlexNet network\n",
    "\n",
    "\n",
    "### NOT IMPLEMENTED YET ! THE REST IS NOT DONE \n",
    "\n"
   ]
  },
  {
   "cell_type": "code",
   "execution_count": 252,
   "metadata": {},
   "outputs": [],
   "source": [
    "def weight_variable(shape, name) :\n",
    "    initial = tf.truncated_normal(shape,stddev = 0.1)\n",
    "    return tf.Variable(initial , name = name)\n",
    "\n",
    "\n",
    "\n",
    "def bias_variable(shape, name) : \n",
    "    \n",
    "    initial = tf.constant(0. , shape = shape)\n",
    "    return tf.Variable(initial, name = name)\n",
    "    \n",
    "    \n",
    "    \n",
    "    \n"
   ]
  },
  {
   "cell_type": "code",
   "execution_count": 253,
   "metadata": {},
   "outputs": [],
   "source": [
    "def build_lenet5(x):\n",
    "    with tf.name_scope(\"reshape\"):\n",
    "        image = tf.reshape(x, [-1, 28, 28, 1]) # [None, 28, 28, 1]\n",
    "    \n",
    "    with tf.name_scope(\"lenet5\"):\n",
    "        with tf.name_scope(\"layer1\"):\n",
    "            # The size of the weight is : [ filter_size , number of filters   ]\n",
    "            # Which is here : [ 5 x 5 x 1 , 6]\n",
    "            # Number of parameters : 5x5x1x6+6 = 156 \n",
    "            # Connections : 28 x 28 x 156 = 122304\n",
    "            conv1_w = weight_variable(shape = [5,5,1,6 ],name = \"weights_1\")\n",
    "            # Size of the bias, equal to the number of filters\n",
    "            conv1_b = bias_variable(shape=[6],name = \"bias_1\")\n",
    "            # Convolution\n",
    "            # The size of stride is either 1,2 or 4\n",
    "            # This is the size of the stride for each dimension of the input \n",
    "            # Padding = SAME means padding to fix the size of the output equal to the input \n",
    "            # Input : 28x28x1  Convolution : 28x28x6   \n",
    "            conv1 = tf.nn.conv2d(image,conv1_w,strides = [1,1,1,1], padding = \"SAME\" ) + conv1_b \n",
    "            # Activation : ReLu\n",
    "            conv1 = tf.nn.relu(conv1)\n",
    "            # MaxPooling : Input = 28x28x6     Output = 14x14x6\n",
    "            # The size of the maxpooling is 2x2. Therefore ksize = [1, 2, 2, 1]\n",
    "            pool_1 = tf.nn.max_pool(conv1,ksize = [1,2,2,1],strides = [1,2,2,1], padding = \"VALID\")\n",
    "            \n",
    "\n",
    "        with tf.name_scope(\"layer2\"):\n",
    "            \n",
    "            conv2_w = weight_variable(shape = [5,5,6,16],name = \"weights_2\")\n",
    "            # Input : 14x14x6     Output : 10x10x16   \n",
    "            conv2_b = bias_variable(shape = [16] , name=\"bias_2\")\n",
    "            # Convolution\n",
    "            conv2 = tf.nn.conv2d(pool_1, conv2_w, strides = [1,1,1,1], padding = \"VALID\") + conv2_b\n",
    "            # Activation : ReLu\n",
    "            conv2 = tf.nn.relu(conv2)\n",
    "            # Max Pooling \n",
    "            # Input : 10x10x16  Output : 5x5x16\n",
    "            pool_2 = tf.nn.max_pool(conv2, ksize = [1,2,2,1], strides = [1,2,2,1], padding = \"VALID\" )\n",
    "            \n",
    "        \n",
    "        with tf.name_scope(\"flatten\"):\n",
    "            # Change from 3D to 1D\n",
    "            # Input : 5x5x16   Output : 400\n",
    "            flat = tf.reshape(pool_2,[-1,400], name=\"flatten\")\n",
    "            \n",
    "                                    \n",
    "            \n",
    "        with tf.name_scope(\"layer3\"):\n",
    "            # Fully connected layer\n",
    "            # Input : 400   Output : 120\n",
    "            flat1_w = weight_variable(shape=[400,120], name=\"weights_fully_1\")\n",
    "            flat1_b = bias_variable(shape = [120], name=\"bias_fully_1\" )\n",
    "            # Matrix multiplication between flat and weights\n",
    "            flat1 = tf.matmul(flat, flat1_w) + flat1_b\n",
    "            # Activation : ReLu\n",
    "            flat1 = tf.nn.relu(flat1)\n",
    "            \n",
    "        with tf.name_scope(\"layer4\"):\n",
    "            # Fully connected layer\n",
    "            # Input : 120  Output : 84\n",
    "            flat2_w = weight_variable(shape=[120,84], name=\"weights_fully_2\")\n",
    "            flat2_b = bias_variable(shape = [84], name=\"bias_fully_2\" )\n",
    "            flat2 = tf.matmul(flat1, flat2_w) + flat2_b\n",
    "            # Activation : ReLu\n",
    "            flat2 = tf.nn.relu(flat2)\n",
    "\n",
    "        with tf.name_scope(\"layer5\"):\n",
    "            # Fully connected layer\n",
    "            # Input : 84     Output : 10\n",
    "            flat3_w = weight_variable(shape=[84,10], name=\"weights_fully_output\")\n",
    "            flat3_b = bias_variable(shape = [10], name=\"bias_fully_output\" )\n",
    "            \n",
    "            logits = tf.matmul(flat2, flat3_w) + flat3_b\n",
    "            # Activation : SoftMax\n",
    "            #logits = tf.nn.softmax(logits)\n",
    "                \n",
    "            \n",
    "    return logits"
   ]
  },
  {
   "cell_type": "code",
   "execution_count": 254,
   "metadata": {},
   "outputs": [
    {
     "ename": "AttributeError",
     "evalue": "module 'tensorflow' has no attribute 'reset_default_graph'",
     "output_type": "error",
     "traceback": [
      "\u001b[0;31m---------------------------------------------------------------------------\u001b[0m",
      "\u001b[0;31mAttributeError\u001b[0m                            Traceback (most recent call last)",
      "\u001b[0;32m<ipython-input-254-60e494f248e5>\u001b[0m in \u001b[0;36m<module>\u001b[0;34m()\u001b[0m\n\u001b[0;32m----> 1\u001b[0;31m \u001b[0mtf\u001b[0m\u001b[0;34m.\u001b[0m\u001b[0mreset_default_graph\u001b[0m\u001b[0;34m(\u001b[0m\u001b[0;34m)\u001b[0m \u001b[0;31m# reset the default graph before defining a new model\u001b[0m\u001b[0;34m\u001b[0m\u001b[0m\n\u001b[0m\u001b[1;32m      2\u001b[0m \u001b[0;34m\u001b[0m\u001b[0m\n\u001b[1;32m      3\u001b[0m \u001b[0;31m# Parameters\u001b[0m\u001b[0;34m\u001b[0m\u001b[0;34m\u001b[0m\u001b[0m\n\u001b[1;32m      4\u001b[0m \u001b[0mlearning_rate\u001b[0m \u001b[0;34m=\u001b[0m \u001b[0;36m0.001\u001b[0m\u001b[0;34m\u001b[0m\u001b[0m\n\u001b[1;32m      5\u001b[0m \u001b[0mbatch_size\u001b[0m \u001b[0;34m=\u001b[0m \u001b[0;36m128\u001b[0m\u001b[0;34m\u001b[0m\u001b[0m\n",
      "\u001b[0;31mAttributeError\u001b[0m: module 'tensorflow' has no attribute 'reset_default_graph'"
     ]
    }
   ],
   "source": [
    "tf.reset_default_graph() # reset the default graph before defining a new model\n",
    "\n",
    "# Parameters\n",
    "learning_rate = 0.001\n",
    "batch_size = 128\n",
    "\n",
    "# Model, loss function and accuracy\n",
    "x = tf.placeholder(tf.float32, [None, 784], name='inputs')\n",
    "y_true = tf.placeholder(tf.float32, [None, 10], name='labels')\n",
    "y_true_cls = tf.argmax(y_true, 1) \n",
    "\n",
    "with tf.name_scope('model'):\n",
    "    logits = build_lenet5(x)\n",
    "    y_pred = tf.nn.softmax(logits)\n",
    "    y_pred_cls = tf.argmax(y_pred, axis=1)\n",
    "\n",
    "with tf.name_scope('loss'):\n",
    "    cross_entropy = tf.nn.softmax_cross_entropy_with_logits_v2(logits=logits,labels=y_true)\n",
    "    loss = tf.reduce_mean(cross_entropy)\n",
    "    \n",
    "with tf.name_scope('optim'):\n",
    "    optimizer = tf.train.GradientDescentOptimizer(learning_rate)\n",
    "    opt_step = optimizer.minimize(loss)\n",
    "    \n",
    "with tf.name_scope('accuracy'):\n",
    "    correct_prediction = tf.equal(y_pred_cls, y_true_cls)\n",
    "    accuracy = tf.reduce_mean(tf.cast(correct_prediction, tf.float32))\n",
    "\n",
    "    \n",
    "session =  tf.Session()\n",
    "init_op = tf.global_variables_initializer()\n",
    "session.run(init_op)\n",
    "\n",
    "writer = tf.summary.FileWriter(next_path('logs/lenet5/run_%02d'))\n",
    "tf.summary.scalar(\"Loss\", loss)\n",
    "tf.summary.scalar(\"Accuracy\", accuracy)\n",
    "merged_summary_op = tf.summary.merge_all()\n",
    "\n",
    "writer.add_graph(tf.get_default_graph())"
   ]
  },
  {
   "cell_type": "code",
   "execution_count": null,
   "metadata": {},
   "outputs": [],
   "source": [
    "def optimize(epochs):\n",
    "    # Go through the traning dataset `epochs` times\n",
    "    for e in range(epochs):\n",
    "        \n",
    "        num_of_batches = int(mnist.train.num_examples/batch_size)\n",
    "        \n",
    "        # We save also the loss across all the batches of data for \n",
    "        # presentation purpose\n",
    "        avg_loss = 0.\n",
    "        \n",
    "        \n",
    "        # Loop over all batches\n",
    "        for i in range(num_of_batches):\n",
    "            # Get a batch of training examples (shuffle every epoch).\n",
    "            # x_batch now holds a batch of images and\n",
    "            # y_true_batch are the true labels for those images.\n",
    "            x_batch, y_true_batch = mnist.train.next_batch(batch_size, shuffle=(i==0))\n",
    "            \n",
    "            # Put the batch into a dict with the proper names\n",
    "            # for placeholder variables in the TensorFlow graph.\n",
    "            # Note that the placeholder for y_true_cls is not set\n",
    "            # because it is not used during training.\n",
    "            feed_dict_train = {x: x_batch,\n",
    "                               y_true: y_true_batch}\n",
    "            \n",
    "            # Run the optimizer using this batch of training data.\n",
    "            # TensorFlow assigns the variables in feed_dict_train\n",
    "            # to the placeholder variables and then runs the optimizer.\n",
    "            session.run(opt_step, feed_dict=feed_dict_train)\n",
    "            \n",
    "            # Similarly, get the loss and accuracy metrics on the batch of data\n",
    "            batch_loss, summary = session.run([loss, merged_summary_op], feed_dict=feed_dict_train)\n",
    "            \n",
    "            # Write logs at every iteration\n",
    "            writer.add_summary(summary, e * num_of_batches + i)\n",
    "            \n",
    "            # Compute average loss\n",
    "            avg_loss += batch_loss / num_of_batches\n",
    "            \n",
    "           \n",
    "                \n",
    "                \n",
    "                \n",
    "        run_options = tf.RunOptions(trace_level=tf.RunOptions.FULL_TRACE)\n",
    "        run_metadata = tf.RunMetadata()    \n",
    "        acc = session.run(accuracy, feed_dict=feed_dict_train, options=run_options, run_metadata=run_metadata)\n",
    "        print(\"Epoch: \", '%02d' % (e + 1), \"  =====> Loss =\", \"{:.6f}\".format(avg_loss))\n",
    "        print(\"Epoch: \", '%02d' % (e + 1), \"  =====> Accuracy =\", \"{:.6f}\".format(acc))\n",
    "        \n",
    "        \n",
    "def print_accuracy():\n",
    "    feed_dict_test = {x: mnist.test.images,\n",
    "                  y_true: mnist.test.labels}\n",
    "    \n",
    "    # Use TensorFlow to compute the accuracy.\n",
    "    # We are also going to save some metric like memory usage and computation time\n",
    "    run_options = tf.RunOptions(trace_level=tf.RunOptions.FULL_TRACE)\n",
    "    run_metadata = tf.RunMetadata()\n",
    "    acc = session.run(accuracy, feed_dict=feed_dict_test, options=run_options, run_metadata=run_metadata)\n",
    "    try:\n",
    "        writer.add_run_metadata(run_metadata, 'inference')\n",
    "    except ValueError:\n",
    "        pass\n",
    "    writer.flush()\n",
    "    # Print the accuracy.\n",
    "    print(\"Accuracy on test-set: {0:.1%}\".format(acc))"
   ]
  },
  {
   "cell_type": "code",
   "execution_count": null,
   "metadata": {},
   "outputs": [],
   "source": []
  },
  {
   "cell_type": "code",
   "execution_count": null,
   "metadata": {},
   "outputs": [],
   "source": []
  },
  {
   "cell_type": "code",
   "execution_count": null,
   "metadata": {},
   "outputs": [],
   "source": []
  },
  {
   "cell_type": "code",
   "execution_count": null,
   "metadata": {},
   "outputs": [],
   "source": []
  },
  {
   "cell_type": "code",
   "execution_count": null,
   "metadata": {},
   "outputs": [],
   "source": []
  }
 ],
 "metadata": {
  "kernelspec": {
   "display_name": "Python 3",
   "language": "python",
   "name": "python3"
  },
  "language_info": {
   "codemirror_mode": {
    "name": "ipython",
    "version": 3
   },
   "file_extension": ".py",
   "mimetype": "text/x-python",
   "name": "python",
   "nbconvert_exporter": "python",
   "pygments_lexer": "ipython3",
   "version": "3.5.2"
  }
 },
 "nbformat": 4,
 "nbformat_minor": 2
}
