{
 "cells": [
  {
   "cell_type": "markdown",
   "metadata": {},
   "source": [
    "---\n",
    "# Brain-Computer Interface data classification\n",
    "---\n",
    "# Group 20 : Solution\n",
    "## by Clément Bernard, Brugeres Maxence and Martin Guyard \n"
   ]
  },
  {
   "cell_type": "markdown",
   "metadata": {},
   "source": [
    "# Introduction of the problem \n"
   ]
  },
  {
   "cell_type": "markdown",
   "metadata": {},
   "source": [
    "The main idea of this challenge is to deal with the interaction of a brain user. \n",
    "\n",
    "To do so, a way is to work with the stimulus of the brain signals. \n",
    "\n",
    "What is focused here is the method called the gaze-base interaction, which consists of reacting after an eye contact of a user to a screen. The first method used was introducing a threshold of time : whenever a user stays on a given button more than the threshold, it would trigger it. Such method wasn't relevant as the user experience wasn't pleasant. \n",
    "\n",
    "Then, it has been experienced a confirmation setup, which required too much attention to the user. \n",
    "Afterthat, it has been explored the mental click. The use of motor imagery or mental concentration wasn't efficient.\n",
    "\n",
    "Moreover, another approach has been the use of EEG patterns that suits the gaze based control. This approach is a passive one, where the user doesn't need to explicitly do something. It takes into account the brain signals that accompany the brain activity.  \n",
    "\n",
    "Our problem here is a specific paradigm : the **EBCI paradigm**. The computer mouse is replaced by an eye tracker. Then, the classifier should take a decision : click or not. \n",
    "\n",
    "\n",
    "\n",
    "\n"
   ]
  },
  {
   "cell_type": "markdown",
   "metadata": {},
   "source": [
    "## Data collecting procedure "
   ]
  },
  {
   "cell_type": "markdown",
   "metadata": {},
   "source": [
    "What was done is a study on 8 different individuals (1 female and people from 21 to 48 yo) whom 2 of those didn't have experiences in gaze based control. \n",
    "\n",
    "They used Electroencephalogram (EEG) at 500 Hz and 24 bit voltage resolution. A pre-process was executed to synchronize them with the eye gaze data with custom programs.\n",
    "\n",
    "For the online detections, the gaze position range shouldn't exceed 2° for 500 - 1000 ms on X and Y. With this criteria and two others (no dwell detected in a 3x3 squared region centered in the previous click for the previous 3000 ms and no dwell detection in any position for 500 ms or 1000 ns depending on the convention), a click was simulated in the game. \n",
    "\n",
    "\n"
   ]
  },
  {
   "cell_type": "markdown",
   "metadata": {},
   "source": [
    "### Gaze controlled game\n",
    "\n",
    "\n",
    "\n"
   ]
  },
  {
   "cell_type": "markdown",
   "metadata": {},
   "source": [
    "In order to collect EEG, the experience was realised within a game. The goal is to align color balls in lines. \n",
    "\n",
    "To simulate the gaze dwells, a button was added to prevent unwanted actions. To start the gaze detection, a user should gaze dwell this button.\n",
    "\n",
    "The participants had three different options : fixation on a **button**, a **ball** and a **free cell**. The threshold was 500 or 1000 ms and lead, after each action, to a reaction according what was decided.\n",
    "\n",
    "To prevent the participants to be too fast, after 4-8 moves, there was a break of 10 seconds.\n",
    "\n"
   ]
  },
  {
   "cell_type": "markdown",
   "metadata": {},
   "source": [
    "### User participation"
   ]
  },
  {
   "cell_type": "markdown",
   "metadata": {},
   "source": [
    "The participants were seated in a chair in front of the computer. For those who have never experienced this game, they had the opportunity to play 2 games of 2 minutes before. "
   ]
  },
  {
   "cell_type": "markdown",
   "metadata": {},
   "source": [
    "There were different classes used for the classification : one for the non-controlling fixations, another one for the button fixations (for the training set 1) and the last one for all controlling fixations (training set 2).\n",
    "The aim of creating two training sets is to use different model because the use of the button differs from the other uses. "
   ]
  },
  {
   "cell_type": "markdown",
   "metadata": {},
   "source": [
    "## Data exploration"
   ]
  },
  {
   "cell_type": "markdown",
   "metadata": {},
   "source": [
    "We have small fragments of EEG. There are 19 channels (which is basically the sensors placed on the user's head).\n"
   ]
  },
  {
   "cell_type": "markdown",
   "metadata": {},
   "source": [
    "We have this data in polar coordinates, which can be converted easily to cartesian coordinates : "
   ]
  },
  {
   "cell_type": "code",
   "execution_count": 23,
   "metadata": {},
   "outputs": [
    {
     "data": {
      "image/png": "[encoded data removed]",
      "text/plain": [
       "<Figure size 576x432 with 1 Axes>"
      ]
     },
     "metadata": {},
     "output_type": "display_data"
    }
   ],
   "source": [
    "# Cartesian coordinates of the channels"
   ]
  },
  {
   "cell_type": "markdown",
   "metadata": {},
   "source": [
    "To understand the cartesian coordinates, we can plot the brain channels : "
   ]
  },
  {
   "cell_type": "markdown",
   "metadata": {},
   "source": [
    "<img src = 'https://raw.githubusercontent.com/9OP/AML/master/Chall4_ebci/img/brain.png'>"
   ]
  },
  {
   "cell_type": "markdown",
   "metadata": {},
   "source": [
    "### Data description"
   ]
  },
  {
   "cell_type": "markdown",
   "metadata": {},
   "source": [
    "The data is composed of epochs of 13 patients : between 25 to 38. For each user, we have a three-dimensional array of shape **(Epochs x Time x Channels)**. "
   ]
  },
  {
   "cell_type": "markdown",
   "metadata": {},
   "source": [
    "The sampling frequency of EEG is equal to 500 Hz. The processing use a band-pass filter between 0.1 Hz and 40 Hz.\n",
    "\n",
    "In order to take into account the moment when the user starts, we should consider the signal between 200 ms to 500 ms. "
   ]
  },
  {
   "cell_type": "markdown",
   "metadata": {},
   "source": [
    "Here is an exemple of a specific data from the patient 25, channel 0 and epoch 0 : "
   ]
  },
  {
   "cell_type": "code",
   "execution_count": 28,
   "metadata": {},
   "outputs": [
    {
     "data": {
      "image/png": "[encoded data removed]",
      "text/plain": [
       "<Figure size 432x288 with 1 Axes>"
      ]
     },
     "metadata": {},
     "output_type": "display_data"
    }
   ],
   "source": [
    "# Channel 0 of epoch 0 of the patient 25"
   ]
  },
  {
   "cell_type": "markdown",
   "metadata": {},
   "source": [
    "For each patient, we have different number of experiences. \n",
    "\n",
    "Here is the size of the data for each patient : "
   ]
  },
  {
   "cell_type": "code",
   "execution_count": 31,
   "metadata": {},
   "outputs": [
    {
     "name": "stdout",
     "output_type": "stream",
     "text": [
      "Patient : 32\n",
      "Size of the dataset : (488, 111, 19)\n",
      "Patient : 33\n",
      "Size of the dataset : (581, 111, 19)\n",
      "Patient : 34\n",
      "Size of the dataset : (619, 111, 19)\n",
      "Patient : 35\n",
      "Size of the dataset : (614, 111, 19)\n",
      "Patient : 36\n",
      "Size of the dataset : (567, 111, 19)\n",
      "Patient : 37\n",
      "Size of the dataset : (668, 111, 19)\n",
      "Patient : 38\n",
      "Size of the dataset : (631, 111, 19)\n",
      "Patient : 25\n",
      "Size of the dataset : (329, 111, 19)\n",
      "Patient : 26\n",
      "Size of the dataset : (415, 111, 19)\n",
      "Patient : 27\n",
      "Size of the dataset : (502, 111, 19)\n",
      "Patient : 28\n",
      "Size of the dataset : (481, 111, 19)\n",
      "Patient : 29\n",
      "Size of the dataset : (552, 111, 19)\n",
      "Patient : 30\n",
      "Size of the dataset : (451, 111, 19)\n"
     ]
    }
   ],
   "source": [
    "# Size of the dataset for each patient "
   ]
  },
  {
   "cell_type": "markdown",
   "metadata": {},
   "source": [
    "Therefore it requires to build a classifier for each patient, within the same hyperparameters."
   ]
  },
  {
   "cell_type": "markdown",
   "metadata": {},
   "source": [
    "Moreover, as the features are quite close of the number of epochs, this is an issue of **regularisation**."
   ]
  },
  {
   "cell_type": "markdown",
   "metadata": {},
   "source": [
    "# Model selection"
   ]
  },
  {
   "cell_type": "markdown",
   "metadata": {},
   "source": [
    "We started with a baseline model : the **EEGNET_v4** classifier with tuned hyperparameters. \n"
   ]
  },
  {
   "cell_type": "markdown",
   "metadata": {},
   "source": [
    "<img src = 'https://raw.githubusercontent.com/9OP/AML/master/Chall4_ebci/img/architecture.png' width=\"800\">"
   ]
  },
  {
   "cell_type": "markdown",
   "metadata": {},
   "source": [
    "The first convolution part is in fact a filter bank to split the signal into signals of different frequencies. Indeed, the brain activities have oscillations of different frequencies, and each frequency corresponds to a different brain activity. \n",
    "\n",
    "For instance, frequencies greather than 40 Hz are more likely to come from muscle activties."
   ]
  },
  {
   "cell_type": "markdown",
   "metadata": {},
   "source": [
    "# TODO ? SPATIAL FILTER EXPLANATION "
   ]
  },
  {
   "cell_type": "markdown",
   "metadata": {},
   "source": [
    "# TODO ? TEMPORAL FILTER EXPLANATION "
   ]
  },
  {
   "cell_type": "markdown",
   "metadata": {},
   "source": [
    "# Parameter Optimisation"
   ]
  },
  {
   "cell_type": "markdown",
   "metadata": {},
   "source": [
    "As the problem is more a regularisation issue, tuning the hyperparameters was our main goal.\n",
    "\n",
    "To do so, we tuned the hyperparameters for the **patient 25** with a number of **epochs** equal to **50** (for sake of time)."
   ]
  },
  {
   "cell_type": "markdown",
   "metadata": {},
   "source": [
    "## Padding kernel 1 and 2  "
   ]
  },
  {
   "cell_type": "markdown",
   "metadata": {},
   "source": [
    "To tune the padding of the first kernels, we used a basic loop. \n",
    "\n",
    "Here is the summary of the validation score for different padding (x-axis is kernel 1, y-axis is kernel 2)"
   ]
  },
  {
   "cell_type": "code",
   "execution_count": 193,
   "metadata": {},
   "outputs": [
    {
     "name": "stdout",
     "output_type": "stream",
     "text": [
      "Max : 0.6052631578947368 for : 8 and : 16\n"
     ]
    },
    {
     "data": {
      "text/html": [
       "<div>\n",
       "<style scoped>\n",
       "    .dataframe tbody tr th:only-of-type {\n",
       "        vertical-align: middle;\n",
       "    }\n",
       "\n",
       "    .dataframe tbody tr th {\n",
       "        vertical-align: top;\n",
       "    }\n",
       "\n",
       "    .dataframe thead th {\n",
       "        text-align: right;\n",
       "    }\n",
       "</style>\n",
       "<table border=\"1\" class=\"dataframe\">\n",
       "  <thead>\n",
       "    <tr style=\"text-align: right;\">\n",
       "      <th></th>\n",
       "      <th>8</th>\n",
       "      <th>16</th>\n",
       "      <th>32</th>\n",
       "      <th>64</th>\n",
       "      <th>128</th>\n",
       "    </tr>\n",
       "  </thead>\n",
       "  <tbody>\n",
       "    <tr>\n",
       "      <th>8</th>\n",
       "      <td>0.539474</td>\n",
       "      <td>0.555921</td>\n",
       "      <td>0.444079</td>\n",
       "      <td>0.557018</td>\n",
       "      <td>0.492325</td>\n",
       "    </tr>\n",
       "    <tr>\n",
       "      <th>16</th>\n",
       "      <td>0.605263</td>\n",
       "      <td>0.496711</td>\n",
       "      <td>0.521930</td>\n",
       "      <td>0.547149</td>\n",
       "      <td>0.576754</td>\n",
       "    </tr>\n",
       "    <tr>\n",
       "      <th>32</th>\n",
       "      <td>0.502193</td>\n",
       "      <td>0.549342</td>\n",
       "      <td>0.574561</td>\n",
       "      <td>0.555921</td>\n",
       "      <td>0.507675</td>\n",
       "    </tr>\n",
       "    <tr>\n",
       "      <th>64</th>\n",
       "      <td>0.528509</td>\n",
       "      <td>0.467105</td>\n",
       "      <td>0.472588</td>\n",
       "      <td>0.571272</td>\n",
       "      <td>0.532895</td>\n",
       "    </tr>\n",
       "    <tr>\n",
       "      <th>128</th>\n",
       "      <td>0.504386</td>\n",
       "      <td>0.510965</td>\n",
       "      <td>0.571272</td>\n",
       "      <td>0.572368</td>\n",
       "      <td>0.571272</td>\n",
       "    </tr>\n",
       "  </tbody>\n",
       "</table>\n",
       "</div>"
      ],
      "text/plain": [
       "          8         16        32        64        128\n",
       "8    0.539474  0.555921  0.444079  0.557018  0.492325\n",
       "16   0.605263  0.496711  0.521930  0.547149  0.576754\n",
       "32   0.502193  0.549342  0.574561  0.555921  0.507675\n",
       "64   0.528509  0.467105  0.472588  0.571272  0.532895\n",
       "128  0.504386  0.510965  0.571272  0.572368  0.571272"
      ]
     },
     "execution_count": 193,
     "metadata": {},
     "output_type": "execute_result"
    }
   ],
   "source": [
    "# Summary of the validation score for different values of padding"
   ]
  },
  {
   "cell_type": "markdown",
   "metadata": {},
   "source": [
    "So we can deduce the size of the padding : \n",
    "- **Kernel 1 padding : 8**\n",
    "- **Kernel 2 padding : 16**"
   ]
  },
  {
   "cell_type": "markdown",
   "metadata": {},
   "source": [
    "## Pooling kernel 1 and 2 "
   ]
  },
  {
   "cell_type": "markdown",
   "metadata": {},
   "source": [
    "Then, we tuned the pooling for the first kernels, just like before. \n",
    "\n",
    "Here is the summary of our results : "
   ]
  },
  {
   "cell_type": "code",
   "execution_count": 195,
   "metadata": {},
   "outputs": [
    {
     "name": "stdout",
     "output_type": "stream",
     "text": [
      "Max : 0.643640350877193 for : 9 and : 1\n"
     ]
    },
    {
     "data": {
      "text/html": [
       "<div>\n",
       "<style scoped>\n",
       "    .dataframe tbody tr th:only-of-type {\n",
       "        vertical-align: middle;\n",
       "    }\n",
       "\n",
       "    .dataframe tbody tr th {\n",
       "        vertical-align: top;\n",
       "    }\n",
       "\n",
       "    .dataframe thead th {\n",
       "        text-align: right;\n",
       "    }\n",
       "</style>\n",
       "<table border=\"1\" class=\"dataframe\">\n",
       "  <thead>\n",
       "    <tr style=\"text-align: right;\">\n",
       "      <th></th>\n",
       "      <th>1</th>\n",
       "      <th>2</th>\n",
       "      <th>3</th>\n",
       "      <th>4</th>\n",
       "      <th>5</th>\n",
       "      <th>6</th>\n",
       "      <th>7</th>\n",
       "      <th>8</th>\n",
       "      <th>9</th>\n",
       "    </tr>\n",
       "  </thead>\n",
       "  <tbody>\n",
       "    <tr>\n",
       "      <th>1</th>\n",
       "      <td>0.551535</td>\n",
       "      <td>0.625000</td>\n",
       "      <td>0.550439</td>\n",
       "      <td>0.510965</td>\n",
       "      <td>0.529605</td>\n",
       "      <td>0.572368</td>\n",
       "      <td>0.479167</td>\n",
       "      <td>0.548246</td>\n",
       "      <td>0.643640</td>\n",
       "    </tr>\n",
       "    <tr>\n",
       "      <th>2</th>\n",
       "      <td>0.571272</td>\n",
       "      <td>0.529605</td>\n",
       "      <td>0.542763</td>\n",
       "      <td>0.623904</td>\n",
       "      <td>0.485746</td>\n",
       "      <td>0.547149</td>\n",
       "      <td>0.608553</td>\n",
       "      <td>0.591009</td>\n",
       "      <td>0.578947</td>\n",
       "    </tr>\n",
       "    <tr>\n",
       "      <th>3</th>\n",
       "      <td>0.583333</td>\n",
       "      <td>0.464912</td>\n",
       "      <td>0.527412</td>\n",
       "      <td>0.481360</td>\n",
       "      <td>0.516447</td>\n",
       "      <td>0.593202</td>\n",
       "      <td>0.493421</td>\n",
       "      <td>0.455044</td>\n",
       "      <td>0.516447</td>\n",
       "    </tr>\n",
       "    <tr>\n",
       "      <th>4</th>\n",
       "      <td>0.506579</td>\n",
       "      <td>0.549342</td>\n",
       "      <td>0.598684</td>\n",
       "      <td>0.525219</td>\n",
       "      <td>0.589912</td>\n",
       "      <td>0.551535</td>\n",
       "      <td>0.519737</td>\n",
       "      <td>0.581140</td>\n",
       "      <td>0.525219</td>\n",
       "    </tr>\n",
       "    <tr>\n",
       "      <th>5</th>\n",
       "      <td>0.508772</td>\n",
       "      <td>0.526316</td>\n",
       "      <td>0.587719</td>\n",
       "      <td>0.502193</td>\n",
       "      <td>0.564693</td>\n",
       "      <td>0.611842</td>\n",
       "      <td>0.582237</td>\n",
       "      <td>0.562500</td>\n",
       "      <td>0.538377</td>\n",
       "    </tr>\n",
       "    <tr>\n",
       "      <th>6</th>\n",
       "      <td>0.553728</td>\n",
       "      <td>0.537281</td>\n",
       "      <td>0.543860</td>\n",
       "      <td>0.512061</td>\n",
       "      <td>0.549342</td>\n",
       "      <td>0.581140</td>\n",
       "      <td>0.533991</td>\n",
       "      <td>0.551535</td>\n",
       "      <td>0.523026</td>\n",
       "    </tr>\n",
       "    <tr>\n",
       "      <th>7</th>\n",
       "      <td>0.382675</td>\n",
       "      <td>0.585526</td>\n",
       "      <td>0.530702</td>\n",
       "      <td>0.495614</td>\n",
       "      <td>0.627193</td>\n",
       "      <td>0.570175</td>\n",
       "      <td>0.553728</td>\n",
       "      <td>0.584430</td>\n",
       "      <td>0.591009</td>\n",
       "    </tr>\n",
       "    <tr>\n",
       "      <th>8</th>\n",
       "      <td>0.498904</td>\n",
       "      <td>0.598684</td>\n",
       "      <td>0.494518</td>\n",
       "      <td>0.486842</td>\n",
       "      <td>0.526316</td>\n",
       "      <td>0.423246</td>\n",
       "      <td>0.577851</td>\n",
       "      <td>0.527412</td>\n",
       "      <td>0.544956</td>\n",
       "    </tr>\n",
       "    <tr>\n",
       "      <th>9</th>\n",
       "      <td>0.500000</td>\n",
       "      <td>0.507675</td>\n",
       "      <td>0.494518</td>\n",
       "      <td>0.530702</td>\n",
       "      <td>0.548246</td>\n",
       "      <td>0.460526</td>\n",
       "      <td>0.435307</td>\n",
       "      <td>0.410088</td>\n",
       "      <td>0.491228</td>\n",
       "    </tr>\n",
       "  </tbody>\n",
       "</table>\n",
       "</div>"
      ],
      "text/plain": [
       "          1         2         3         4         5         6         7  \\\n",
       "1  0.551535  0.625000  0.550439  0.510965  0.529605  0.572368  0.479167   \n",
       "2  0.571272  0.529605  0.542763  0.623904  0.485746  0.547149  0.608553   \n",
       "3  0.583333  0.464912  0.527412  0.481360  0.516447  0.593202  0.493421   \n",
       "4  0.506579  0.549342  0.598684  0.525219  0.589912  0.551535  0.519737   \n",
       "5  0.508772  0.526316  0.587719  0.502193  0.564693  0.611842  0.582237   \n",
       "6  0.553728  0.537281  0.543860  0.512061  0.549342  0.581140  0.533991   \n",
       "7  0.382675  0.585526  0.530702  0.495614  0.627193  0.570175  0.553728   \n",
       "8  0.498904  0.598684  0.494518  0.486842  0.526316  0.423246  0.577851   \n",
       "9  0.500000  0.507675  0.494518  0.530702  0.548246  0.460526  0.435307   \n",
       "\n",
       "          8         9  \n",
       "1  0.548246  0.643640  \n",
       "2  0.591009  0.578947  \n",
       "3  0.455044  0.516447  \n",
       "4  0.581140  0.525219  \n",
       "5  0.562500  0.538377  \n",
       "6  0.551535  0.523026  \n",
       "7  0.584430  0.591009  \n",
       "8  0.527412  0.544956  \n",
       "9  0.410088  0.491228  "
      ]
     },
     "execution_count": 195,
     "metadata": {},
     "output_type": "execute_result"
    }
   ],
   "source": [
    "# Summary of the validation score for different values of padding"
   ]
  },
  {
   "cell_type": "markdown",
   "metadata": {},
   "source": [
    "So we can deduce the size of the pooling : \n",
    "- **Kernel 1 pooling : 9**\n",
    "- **Kernel 2 pooling : 1**"
   ]
  },
  {
   "cell_type": "markdown",
   "metadata": {},
   "source": [
    "# Filter size"
   ]
  },
  {
   "cell_type": "markdown",
   "metadata": {},
   "source": [
    "Then, we modified the size of the filter used for both kernel 1 and kernel 2."
   ]
  },
  {
   "cell_type": "markdown",
   "metadata": {},
   "source": [
    "Here is a summary of our results : "
   ]
  },
  {
   "cell_type": "code",
   "execution_count": 39,
   "metadata": {},
   "outputs": [
    {
     "name": "stdout",
     "output_type": "stream",
     "text": [
      "Max : 0.7554824561403509 for : 2 and : 3\n"
     ]
    },
    {
     "data": {
      "text/html": [
       "<div>\n",
       "<style scoped>\n",
       "    .dataframe tbody tr th:only-of-type {\n",
       "        vertical-align: middle;\n",
       "    }\n",
       "\n",
       "    .dataframe tbody tr th {\n",
       "        vertical-align: top;\n",
       "    }\n",
       "\n",
       "    .dataframe thead th {\n",
       "        text-align: right;\n",
       "    }\n",
       "</style>\n",
       "<table border=\"1\" class=\"dataframe\">\n",
       "  <thead>\n",
       "    <tr style=\"text-align: right;\">\n",
       "      <th></th>\n",
       "      <th>1</th>\n",
       "      <th>3</th>\n",
       "      <th>5</th>\n",
       "      <th>7</th>\n",
       "      <th>9</th>\n",
       "      <th>11</th>\n",
       "      <th>13</th>\n",
       "      <th>15</th>\n",
       "      <th>17</th>\n",
       "    </tr>\n",
       "  </thead>\n",
       "  <tbody>\n",
       "    <tr>\n",
       "      <th>1</th>\n",
       "      <td>0.422149</td>\n",
       "      <td>0.621711</td>\n",
       "      <td>0.560307</td>\n",
       "      <td>0.489035</td>\n",
       "      <td>0.540570</td>\n",
       "      <td>0.527412</td>\n",
       "      <td>0.570175</td>\n",
       "      <td>0.478070</td>\n",
       "      <td>0.516447</td>\n",
       "    </tr>\n",
       "    <tr>\n",
       "      <th>2</th>\n",
       "      <td>0.637061</td>\n",
       "      <td>0.755482</td>\n",
       "      <td>0.615132</td>\n",
       "      <td>0.515351</td>\n",
       "      <td>0.495614</td>\n",
       "      <td>0.421053</td>\n",
       "      <td>0.559211</td>\n",
       "      <td>0.564693</td>\n",
       "      <td>0.541667</td>\n",
       "    </tr>\n",
       "    <tr>\n",
       "      <th>3</th>\n",
       "      <td>0.461623</td>\n",
       "      <td>0.661184</td>\n",
       "      <td>0.723684</td>\n",
       "      <td>0.413377</td>\n",
       "      <td>0.484649</td>\n",
       "      <td>0.543860</td>\n",
       "      <td>0.487939</td>\n",
       "      <td>0.426535</td>\n",
       "      <td>0.442982</td>\n",
       "    </tr>\n",
       "    <tr>\n",
       "      <th>4</th>\n",
       "      <td>0.725877</td>\n",
       "      <td>0.611842</td>\n",
       "      <td>0.581140</td>\n",
       "      <td>0.638158</td>\n",
       "      <td>0.570175</td>\n",
       "      <td>0.424342</td>\n",
       "      <td>0.514254</td>\n",
       "      <td>0.438596</td>\n",
       "      <td>0.495614</td>\n",
       "    </tr>\n",
       "    <tr>\n",
       "      <th>5</th>\n",
       "      <td>0.580044</td>\n",
       "      <td>0.553728</td>\n",
       "      <td>0.508772</td>\n",
       "      <td>0.578947</td>\n",
       "      <td>0.616228</td>\n",
       "      <td>0.494518</td>\n",
       "      <td>0.513158</td>\n",
       "      <td>0.581140</td>\n",
       "      <td>0.486842</td>\n",
       "    </tr>\n",
       "    <tr>\n",
       "      <th>6</th>\n",
       "      <td>0.631579</td>\n",
       "      <td>0.617325</td>\n",
       "      <td>0.606360</td>\n",
       "      <td>0.512061</td>\n",
       "      <td>0.634868</td>\n",
       "      <td>0.698465</td>\n",
       "      <td>0.557018</td>\n",
       "      <td>0.537281</td>\n",
       "      <td>0.453947</td>\n",
       "    </tr>\n",
       "    <tr>\n",
       "      <th>7</th>\n",
       "      <td>0.581140</td>\n",
       "      <td>0.614035</td>\n",
       "      <td>0.541667</td>\n",
       "      <td>0.535088</td>\n",
       "      <td>0.520833</td>\n",
       "      <td>0.557018</td>\n",
       "      <td>0.691886</td>\n",
       "      <td>0.571272</td>\n",
       "      <td>0.570175</td>\n",
       "    </tr>\n",
       "    <tr>\n",
       "      <th>8</th>\n",
       "      <td>0.609649</td>\n",
       "      <td>0.593202</td>\n",
       "      <td>0.484649</td>\n",
       "      <td>0.539474</td>\n",
       "      <td>0.547149</td>\n",
       "      <td>0.557018</td>\n",
       "      <td>0.538377</td>\n",
       "      <td>0.530702</td>\n",
       "      <td>0.343202</td>\n",
       "    </tr>\n",
       "    <tr>\n",
       "      <th>9</th>\n",
       "      <td>0.682018</td>\n",
       "      <td>0.598684</td>\n",
       "      <td>0.553728</td>\n",
       "      <td>0.532895</td>\n",
       "      <td>0.529605</td>\n",
       "      <td>0.512061</td>\n",
       "      <td>0.496711</td>\n",
       "      <td>0.501096</td>\n",
       "      <td>0.573465</td>\n",
       "    </tr>\n",
       "  </tbody>\n",
       "</table>\n",
       "</div>"
      ],
      "text/plain": [
       "         1         3         5         7         9         11        13  \\\n",
       "1  0.422149  0.621711  0.560307  0.489035  0.540570  0.527412  0.570175   \n",
       "2  0.637061  0.755482  0.615132  0.515351  0.495614  0.421053  0.559211   \n",
       "3  0.461623  0.661184  0.723684  0.413377  0.484649  0.543860  0.487939   \n",
       "4  0.725877  0.611842  0.581140  0.638158  0.570175  0.424342  0.514254   \n",
       "5  0.580044  0.553728  0.508772  0.578947  0.616228  0.494518  0.513158   \n",
       "6  0.631579  0.617325  0.606360  0.512061  0.634868  0.698465  0.557018   \n",
       "7  0.581140  0.614035  0.541667  0.535088  0.520833  0.557018  0.691886   \n",
       "8  0.609649  0.593202  0.484649  0.539474  0.547149  0.557018  0.538377   \n",
       "9  0.682018  0.598684  0.553728  0.532895  0.529605  0.512061  0.496711   \n",
       "\n",
       "         15        17  \n",
       "1  0.478070  0.516447  \n",
       "2  0.564693  0.541667  \n",
       "3  0.426535  0.442982  \n",
       "4  0.438596  0.495614  \n",
       "5  0.581140  0.486842  \n",
       "6  0.537281  0.453947  \n",
       "7  0.571272  0.570175  \n",
       "8  0.530702  0.343202  \n",
       "9  0.501096  0.573465  "
      ]
     },
     "execution_count": 39,
     "metadata": {},
     "output_type": "execute_result"
    }
   ],
   "source": [
    "# Summary of the validation score for different values of filter size"
   ]
  },
  {
   "cell_type": "markdown",
   "metadata": {},
   "source": [
    "So we can deduce the filter size : \n",
    "- **Filter 1 size : 3x3**\n",
    "- **Filter 2 size : 2x2**"
   ]
  },
  {
   "cell_type": "markdown",
   "metadata": {},
   "source": [
    "So finally the hyperparameters used are the following : \n"
   ]
  },
  {
   "cell_type": "code",
   "execution_count": 41,
   "metadata": {},
   "outputs": [],
   "source": [
    "params = {'resample_to': 369,\n",
    "                 'D': 2,\n",
    "                 'F1': 3,\n",
    "                 'dropoutRate1': 0.52,\n",
    "                 'dropoutRate2': 0.36,\n",
    "                 'lr': 0.00066,\n",
    "                 'norm_rate': 0.275,\n",
    "                 'kernLength1' : 8,\n",
    "                  'kernLength2' : 16,\n",
    "              'poolKern1' : 9,  \n",
    "              'poolKern2' : 1  \n",
    "                 }"
   ]
  },
  {
   "cell_type": "markdown",
   "metadata": {},
   "source": [
    "Note the the other hyperparameters were already tuned. We trusted this tune work and decided not to dig into new tuning."
   ]
  },
  {
   "cell_type": "markdown",
   "metadata": {},
   "source": [
    "# VARIATIONAL DROPOUT ???????????????????????"
   ]
  },
  {
   "cell_type": "markdown",
   "metadata": {},
   "source": [
    "# Model evaluation"
   ]
  },
  {
   "cell_type": "markdown",
   "metadata": {},
   "source": [
    "To evaluate the performance of the classifier, the performance metric is the AUC (Area Under the Curve) of the ROC. "
   ]
  },
  {
   "cell_type": "markdown",
   "metadata": {},
   "source": [
    "The testing set is made from 20% EEG epochs of each class for each subject. "
   ]
  },
  {
   "cell_type": "markdown",
   "metadata": {},
   "source": [
    "As each subject is different, it would be wrong to consider the same classifier for every patient. \n",
    "\n",
    "Therefore, the classifier architecture and hyperparameters are the same for each patient but the training process is made separately for each patient."
   ]
  },
  {
   "cell_type": "markdown",
   "metadata": {},
   "source": [
    "For the validation, a baseline splited the data into training and testing subsets for each patient. For the training part, a cross validation has been implemented with 4 folds. To then test the model, the number of epochs used was the mean for the optimal epoch for each fold of the cross-validation."
   ]
  },
  {
   "cell_type": "markdown",
   "metadata": {},
   "source": [
    "<img src = 'https://raw.githubusercontent.com/9OP/AML/master/Chall4_ebci/img/validation.png ' width=\"400\">"
   ]
  },
  {
   "cell_type": "markdown",
   "metadata": {},
   "source": [
    "# Results "
   ]
  },
  {
   "cell_type": "markdown",
   "metadata": {},
   "source": [
    "After the tuning of the hyperparameters, we then use the obtained model to test the score on the testing set.\n",
    "\n",
    "Here are our results for each patient : "
   ]
  },
  {
   "cell_type": "code",
   "execution_count": 22,
   "metadata": {},
   "outputs": [
    {
     "data": {
      "image/png": "[encoded data removed]",
      "text/plain": [
       "<Figure size 432x288 with 1 Axes>"
      ]
     },
     "metadata": {},
     "output_type": "display_data"
    }
   ],
   "source": [
    "# Plot of the AUC score with the testing set"
   ]
  },
  {
   "cell_type": "markdown",
   "metadata": {},
   "source": [
    "And then the average of AUC for all the patients (to have an idea how well is the architecture of our model and the hyperparameters)"
   ]
  },
  {
   "cell_type": "code",
   "execution_count": 23,
   "metadata": {},
   "outputs": [
    {
     "name": "stdout",
     "output_type": "stream",
     "text": [
      "Average AUC score : 0.6623912462174913\n"
     ]
    }
   ],
   "source": []
  },
  {
   "cell_type": "markdown",
   "metadata": {},
   "source": [
    "# Critics "
   ]
  },
  {
   "cell_type": "markdown",
   "metadata": {},
   "source": [
    "There are few things we could have done differently.\n",
    "Here are some thoughts of what we did wrong or we could have done better : \n",
    "\n",
    "- During the tuning of hyperparameters, we only used the patient 25 and 50 epochs. Indeed, 50 epochs doesn't seem to be enough if we want a precise result, but it seems to have worked well for our purpose.\n",
    "- It remains some overfitting which means the regularisation work could have been better. A basic way to decrease the overfitting would have been to increase the number of data we have. Neverhteless, this is impossible to do it efficiently. Indeed, the data was created for each patient by a series of experiences. Running too much BCI could lead to decrease the effiency of the data : the fatigue of the patient could decrease the reliability of the epochs.\n",
    "- Some critics about the experience on itself. As sais previoulsy, it is hard to have a lot of data to decrease the phenonenon of overfitting. A way to deal with this would be to create a generic BCI model that could generalizes to each subject. This is **transfer learning**, and this is not what was required from us. \n",
    "\n",
    "\n",
    "\n",
    "\n"
   ]
  }
 ],
 "metadata": {
  "kernelspec": {
   "display_name": "Python 3",
   "language": "python",
   "name": "python3"
  },
  "language_info": {
   "codemirror_mode": {
    "name": "ipython",
    "version": 3
   },
   "file_extension": ".py",
   "mimetype": "text/x-python",
   "name": "python",
   "nbconvert_exporter": "python",
   "pygments_lexer": "ipython3",
   "version": "3.5.2"
  }
 },
 "nbformat": 4,
 "nbformat_minor": 2
}
